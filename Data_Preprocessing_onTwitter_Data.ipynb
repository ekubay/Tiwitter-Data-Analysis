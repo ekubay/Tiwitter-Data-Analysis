{
 "cells": [
  {
   "cell_type": "markdown",
   "id": "57b3372e",
   "metadata": {},
   "source": [
    "## Data exploration and pre-processing\n",
    "Basically, for any data analysis or machine learning project the following has to be conducted\n",
    "- Data gtahering \n",
    "- Data assessing \n",
    "- Data ceaning "
   ]
  },
  {
   "cell_type": "markdown",
   "id": "c0b05ca8",
   "metadata": {},
   "source": [
    "## Data gathering has been allready done"
   ]
  },
  {
   "cell_type": "markdown",
   "id": "af3b01b3",
   "metadata": {},
   "source": [
    "## Data assessing \n",
    "- Assessing is the second and it is assessed to inspect data for two things:\n",
    " - **Data quality issues**: Data that has quality issues have issues with content like missing, duplicate, or incorrect data. \n",
    " - **Lack of tidiness**: Data that has specific structural issues\n",
    "\n",
    "You can search for these issues in two ways:\n",
    "- Visually by scrolling\n",
    "- Programmatically using code"
   ]
  },
  {
   "cell_type": "markdown",
   "id": "7afee765",
   "metadata": {},
   "source": [
    "for this project I used programmatic Assessment using the following methods \n",
    "- .head (DataFrame and Series)\n",
    "- .tail (DataFrame and Series)\n",
    "- .sample (DataFrame and Series)\n",
    "- .info (DataFrame only)\n",
    "- .describe (DataFrame and Series)\n",
    "- and other\n",
    "\n",
    "### some methods associated with quality issue\n",
    "- .value_counts \n",
    "- .duplicates \n",
    "- .sort_values \n",
    "- sum of .isnull "
   ]
  },
  {
   "cell_type": "code",
   "execution_count": 9,
   "id": "b7f6bfb2",
   "metadata": {},
   "outputs": [],
   "source": [
    "# loding liberaries\n",
    "import matplotlib.pyplot as plt\n",
    "import pandas as pd\n",
    "%matplotlib inline"
   ]
  },
  {
   "cell_type": "code",
   "execution_count": 36,
   "id": "624208a3",
   "metadata": {},
   "outputs": [],
   "source": [
    "df = pd.read_csv('cleaned_twitterData_data.csv')"
   ]
  },
  {
   "cell_type": "code",
   "execution_count": 21,
   "id": "4b74044c",
   "metadata": {
    "scrolled": true
   },
   "outputs": [
    {
     "data": {
      "text/html": [
       "<div>\n",
       "<style scoped>\n",
       "    .dataframe tbody tr th:only-of-type {\n",
       "        vertical-align: middle;\n",
       "    }\n",
       "\n",
       "    .dataframe tbody tr th {\n",
       "        vertical-align: top;\n",
       "    }\n",
       "\n",
       "    .dataframe thead th {\n",
       "        text-align: right;\n",
       "    }\n",
       "</style>\n",
       "<table border=\"1\" class=\"dataframe\">\n",
       "  <thead>\n",
       "    <tr style=\"text-align: right;\">\n",
       "      <th></th>\n",
       "      <th>created_at</th>\n",
       "      <th>source</th>\n",
       "      <th>original_text</th>\n",
       "      <th>subjectivity</th>\n",
       "      <th>polarity</th>\n",
       "      <th>lang</th>\n",
       "      <th>favorite_count</th>\n",
       "      <th>retweet_count</th>\n",
       "      <th>original_author</th>\n",
       "      <th>followers_count</th>\n",
       "      <th>friends_count</th>\n",
       "      <th>possibly_sensitive</th>\n",
       "      <th>hashtags</th>\n",
       "      <th>user_mentions</th>\n",
       "      <th>place</th>\n",
       "    </tr>\n",
       "  </thead>\n",
       "  <tbody>\n",
       "    <tr>\n",
       "      <th>0</th>\n",
       "      <td>Sun Aug 07 22:31:20 +0000 2022</td>\n",
       "      <td>&lt;a href=\"http://twitter.com/download/android\" ...</td>\n",
       "      <td>RT @i_ameztoy: Extra random image (I):\\n\\nLets...</td>\n",
       "      <td>0.190625</td>\n",
       "      <td>-0.125</td>\n",
       "      <td>en</td>\n",
       "      <td>4</td>\n",
       "      <td>2</td>\n",
       "      <td>i_ameztoy</td>\n",
       "      <td>20497</td>\n",
       "      <td>2621</td>\n",
       "      <td>NaN</td>\n",
       "      <td>City</td>\n",
       "      <td>i_ameztoy</td>\n",
       "      <td>NaN</td>\n",
       "    </tr>\n",
       "    <tr>\n",
       "      <th>1</th>\n",
       "      <td>Sun Aug 07 22:31:16 +0000 2022</td>\n",
       "      <td>&lt;a href=\"http://twitter.com/download/android\" ...</td>\n",
       "      <td>RT @IndoPac_Info: #China's media explains the ...</td>\n",
       "      <td>0.100000</td>\n",
       "      <td>-0.100</td>\n",
       "      <td>en</td>\n",
       "      <td>691</td>\n",
       "      <td>201</td>\n",
       "      <td>ZIisq</td>\n",
       "      <td>65</td>\n",
       "      <td>272</td>\n",
       "      <td>NaN</td>\n",
       "      <td>China, Taiwan</td>\n",
       "      <td>IndoPac_Info</td>\n",
       "      <td>NaN</td>\n",
       "    </tr>\n",
       "  </tbody>\n",
       "</table>\n",
       "</div>"
      ],
      "text/plain": [
       "                       created_at  \\\n",
       "0  Sun Aug 07 22:31:20 +0000 2022   \n",
       "1  Sun Aug 07 22:31:16 +0000 2022   \n",
       "\n",
       "                                              source  \\\n",
       "0  <a href=\"http://twitter.com/download/android\" ...   \n",
       "1  <a href=\"http://twitter.com/download/android\" ...   \n",
       "\n",
       "                                       original_text  subjectivity  polarity  \\\n",
       "0  RT @i_ameztoy: Extra random image (I):\\n\\nLets...      0.190625    -0.125   \n",
       "1  RT @IndoPac_Info: #China's media explains the ...      0.100000    -0.100   \n",
       "\n",
       "  lang  favorite_count  retweet_count original_author  followers_count  \\\n",
       "0   en               4              2       i_ameztoy            20497   \n",
       "1   en             691            201           ZIisq               65   \n",
       "\n",
       "   friends_count possibly_sensitive       hashtags user_mentions place  \n",
       "0           2621                NaN           City     i_ameztoy   NaN  \n",
       "1            272                NaN  China, Taiwan  IndoPac_Info   NaN  "
      ]
     },
     "execution_count": 21,
     "metadata": {},
     "output_type": "execute_result"
    }
   ],
   "source": [
    "df.head(2)"
   ]
  },
  {
   "cell_type": "code",
   "execution_count": 22,
   "id": "6cb04eba",
   "metadata": {},
   "outputs": [
    {
     "data": {
      "text/plain": [
       "(21997, 15)"
      ]
     },
     "execution_count": 22,
     "metadata": {},
     "output_type": "execute_result"
    }
   ],
   "source": [
    "# shape info\n",
    "df.shape"
   ]
  },
  {
   "cell_type": "code",
   "execution_count": 5,
   "id": "1c1b3902",
   "metadata": {
    "scrolled": true
   },
   "outputs": [
    {
     "name": "stdout",
     "output_type": "stream",
     "text": [
      "<class 'pandas.core.frame.DataFrame'>\n",
      "RangeIndex: 21997 entries, 0 to 21996\n",
      "Data columns (total 15 columns):\n",
      " #   Column              Non-Null Count  Dtype  \n",
      "---  ------              --------------  -----  \n",
      " 0   created_at          21997 non-null  object \n",
      " 1   source              21997 non-null  object \n",
      " 2   original_text       21997 non-null  object \n",
      " 3   subjectivity        21997 non-null  float64\n",
      " 4   polarity            21997 non-null  float64\n",
      " 5   lang                21997 non-null  object \n",
      " 6   favorite_count      21997 non-null  int64  \n",
      " 7   retweet_count       21997 non-null  int64  \n",
      " 8   original_author     21997 non-null  object \n",
      " 9   followers_count     21997 non-null  int64  \n",
      " 10  friends_count       21997 non-null  int64  \n",
      " 11  possibly_sensitive  6190 non-null   object \n",
      " 12  hashtags            19138 non-null  object \n",
      " 13  user_mentions       18695 non-null  object \n",
      " 14  place               12106 non-null  object \n",
      "dtypes: float64(2), int64(4), object(9)\n",
      "memory usage: 2.5+ MB\n"
     ]
    }
   ],
   "source": [
    "# checking against null value\n",
    "df.info()"
   ]
  },
  {
   "cell_type": "code",
   "execution_count": 23,
   "id": "ba345366",
   "metadata": {
    "scrolled": true
   },
   "outputs": [
    {
     "data": {
      "text/html": [
       "<div>\n",
       "<style scoped>\n",
       "    .dataframe tbody tr th:only-of-type {\n",
       "        vertical-align: middle;\n",
       "    }\n",
       "\n",
       "    .dataframe tbody tr th {\n",
       "        vertical-align: top;\n",
       "    }\n",
       "\n",
       "    .dataframe thead th {\n",
       "        text-align: right;\n",
       "    }\n",
       "</style>\n",
       "<table border=\"1\" class=\"dataframe\">\n",
       "  <thead>\n",
       "    <tr style=\"text-align: right;\">\n",
       "      <th></th>\n",
       "      <th>subjectivity</th>\n",
       "      <th>polarity</th>\n",
       "      <th>favorite_count</th>\n",
       "      <th>retweet_count</th>\n",
       "      <th>followers_count</th>\n",
       "      <th>friends_count</th>\n",
       "    </tr>\n",
       "  </thead>\n",
       "  <tbody>\n",
       "    <tr>\n",
       "      <th>count</th>\n",
       "      <td>21997.000000</td>\n",
       "      <td>21997.000000</td>\n",
       "      <td>21997.000000</td>\n",
       "      <td>21997.000000</td>\n",
       "      <td>2.199700e+04</td>\n",
       "      <td>21997.000000</td>\n",
       "    </tr>\n",
       "    <tr>\n",
       "      <th>mean</th>\n",
       "      <td>0.283878</td>\n",
       "      <td>0.061334</td>\n",
       "      <td>852.241033</td>\n",
       "      <td>176.768241</td>\n",
       "      <td>1.796985e+04</td>\n",
       "      <td>1563.237305</td>\n",
       "    </tr>\n",
       "    <tr>\n",
       "      <th>std</th>\n",
       "      <td>0.290964</td>\n",
       "      <td>0.223716</td>\n",
       "      <td>3106.276392</td>\n",
       "      <td>498.466921</td>\n",
       "      <td>3.030684e+05</td>\n",
       "      <td>4358.923487</td>\n",
       "    </tr>\n",
       "    <tr>\n",
       "      <th>min</th>\n",
       "      <td>0.000000</td>\n",
       "      <td>-1.000000</td>\n",
       "      <td>0.000000</td>\n",
       "      <td>0.000000</td>\n",
       "      <td>0.000000e+00</td>\n",
       "      <td>0.000000</td>\n",
       "    </tr>\n",
       "    <tr>\n",
       "      <th>25%</th>\n",
       "      <td>0.000000</td>\n",
       "      <td>0.000000</td>\n",
       "      <td>2.000000</td>\n",
       "      <td>2.000000</td>\n",
       "      <td>5.700000e+01</td>\n",
       "      <td>137.000000</td>\n",
       "    </tr>\n",
       "    <tr>\n",
       "      <th>50%</th>\n",
       "      <td>0.200000</td>\n",
       "      <td>0.000000</td>\n",
       "      <td>115.000000</td>\n",
       "      <td>38.000000</td>\n",
       "      <td>2.840000e+02</td>\n",
       "      <td>487.000000</td>\n",
       "    </tr>\n",
       "    <tr>\n",
       "      <th>75%</th>\n",
       "      <td>0.469048</td>\n",
       "      <td>0.133333</td>\n",
       "      <td>655.000000</td>\n",
       "      <td>187.000000</td>\n",
       "      <td>1.324000e+03</td>\n",
       "      <td>1599.000000</td>\n",
       "    </tr>\n",
       "    <tr>\n",
       "      <th>max</th>\n",
       "      <td>1.000000</td>\n",
       "      <td>1.000000</td>\n",
       "      <td>65170.000000</td>\n",
       "      <td>17409.000000</td>\n",
       "      <td>1.449852e+07</td>\n",
       "      <td>208360.000000</td>\n",
       "    </tr>\n",
       "  </tbody>\n",
       "</table>\n",
       "</div>"
      ],
      "text/plain": [
       "       subjectivity      polarity  favorite_count  retweet_count  \\\n",
       "count  21997.000000  21997.000000    21997.000000   21997.000000   \n",
       "mean       0.283878      0.061334      852.241033     176.768241   \n",
       "std        0.290964      0.223716     3106.276392     498.466921   \n",
       "min        0.000000     -1.000000        0.000000       0.000000   \n",
       "25%        0.000000      0.000000        2.000000       2.000000   \n",
       "50%        0.200000      0.000000      115.000000      38.000000   \n",
       "75%        0.469048      0.133333      655.000000     187.000000   \n",
       "max        1.000000      1.000000    65170.000000   17409.000000   \n",
       "\n",
       "       followers_count  friends_count  \n",
       "count     2.199700e+04   21997.000000  \n",
       "mean      1.796985e+04    1563.237305  \n",
       "std       3.030684e+05    4358.923487  \n",
       "min       0.000000e+00       0.000000  \n",
       "25%       5.700000e+01     137.000000  \n",
       "50%       2.840000e+02     487.000000  \n",
       "75%       1.324000e+03    1599.000000  \n",
       "max       1.449852e+07  208360.000000  "
      ]
     },
     "execution_count": 23,
     "metadata": {},
     "output_type": "execute_result"
    }
   ],
   "source": [
    "# satitstical information \n",
    "df.describe()"
   ]
  },
  {
   "cell_type": "code",
   "execution_count": 37,
   "id": "e951ec90",
   "metadata": {},
   "outputs": [
    {
     "data": {
      "text/plain": [
       "4"
      ]
     },
     "execution_count": 37,
     "metadata": {},
     "output_type": "execute_result"
    }
   ],
   "source": [
    "# checking null\n",
    "df.isnull().any().sum()"
   ]
  },
  {
   "cell_type": "code",
   "execution_count": 38,
   "id": "f5fac818",
   "metadata": {},
   "outputs": [
    {
     "data": {
      "text/plain": [
       "0"
      ]
     },
     "execution_count": 38,
     "metadata": {},
     "output_type": "execute_result"
    }
   ],
   "source": [
    "#checking against duplicated observation\n",
    "df.duplicated().any().sum()"
   ]
  },
  {
   "cell_type": "code",
   "execution_count": 39,
   "id": "bb6ea457",
   "metadata": {
    "scrolled": true
   },
   "outputs": [
    {
     "data": {
      "text/plain": [
       " 0.000000    8982\n",
       "-0.100000     973\n",
       " 0.133333     782\n",
       " 0.050000     502\n",
       " 0.500000     502\n",
       "             ... \n",
       "-0.014773       1\n",
       " 0.478788       1\n",
       " 0.059375       1\n",
       " 0.010000       1\n",
       " 0.207143       1\n",
       "Name: polarity, Length: 829, dtype: int64"
      ]
     },
     "execution_count": 39,
     "metadata": {},
     "output_type": "execute_result"
    }
   ],
   "source": [
    "## unique value and ther number of appearance in decending orde\n",
    "df['polarity'].value_counts()"
   ]
  },
  {
   "cell_type": "code",
   "execution_count": 40,
   "id": "bc2e20af",
   "metadata": {},
   "outputs": [
    {
     "data": {
      "text/plain": [
       "829"
      ]
     },
     "execution_count": 40,
     "metadata": {},
     "output_type": "execute_result"
    }
   ],
   "source": [
    "# number of unique values\n",
    "df['polarity'].nunique()"
   ]
  },
  {
   "cell_type": "code",
   "execution_count": 28,
   "id": "1be80934",
   "metadata": {},
   "outputs": [
    {
     "data": {
      "text/plain": [
       "15122   -1.0\n",
       "2909    -1.0\n",
       "7448    -1.0\n",
       "15248   -1.0\n",
       "7920    -1.0\n",
       "        ... \n",
       "21693    1.0\n",
       "13630    1.0\n",
       "20442    1.0\n",
       "20140    1.0\n",
       "9778     1.0\n",
       "Name: polarity, Length: 21997, dtype: float64"
      ]
     },
     "execution_count": 28,
     "metadata": {},
     "output_type": "execute_result"
    }
   ],
   "source": [
    "df['polarity'].sort_values()"
   ]
  },
  {
   "cell_type": "code",
   "execution_count": 29,
   "id": "62ad0692",
   "metadata": {
    "scrolled": true
   },
   "outputs": [
    {
     "data": {
      "text/html": [
       "<div>\n",
       "<style scoped>\n",
       "    .dataframe tbody tr th:only-of-type {\n",
       "        vertical-align: middle;\n",
       "    }\n",
       "\n",
       "    .dataframe tbody tr th {\n",
       "        vertical-align: top;\n",
       "    }\n",
       "\n",
       "    .dataframe thead th {\n",
       "        text-align: right;\n",
       "    }\n",
       "</style>\n",
       "<table border=\"1\" class=\"dataframe\">\n",
       "  <thead>\n",
       "    <tr style=\"text-align: right;\">\n",
       "      <th></th>\n",
       "      <th>source</th>\n",
       "      <th>original_text</th>\n",
       "    </tr>\n",
       "  </thead>\n",
       "  <tbody>\n",
       "    <tr>\n",
       "      <th>0</th>\n",
       "      <td>&lt;a href=\"http://twitter.com/download/android\" ...</td>\n",
       "      <td>RT @i_ameztoy: Extra random image (I):\\n\\nLets...</td>\n",
       "    </tr>\n",
       "    <tr>\n",
       "      <th>1</th>\n",
       "      <td>&lt;a href=\"http://twitter.com/download/android\" ...</td>\n",
       "      <td>RT @IndoPac_Info: #China's media explains the ...</td>\n",
       "    </tr>\n",
       "    <tr>\n",
       "      <th>2</th>\n",
       "      <td>&lt;a href=\"http://twitter.com/download/android\" ...</td>\n",
       "      <td>China even cut off communication, they don't a...</td>\n",
       "    </tr>\n",
       "  </tbody>\n",
       "</table>\n",
       "</div>"
      ],
      "text/plain": [
       "                                              source  \\\n",
       "0  <a href=\"http://twitter.com/download/android\" ...   \n",
       "1  <a href=\"http://twitter.com/download/android\" ...   \n",
       "2  <a href=\"http://twitter.com/download/android\" ...   \n",
       "\n",
       "                                       original_text  \n",
       "0  RT @i_ameztoy: Extra random image (I):\\n\\nLets...  \n",
       "1  RT @IndoPac_Info: #China's media explains the ...  \n",
       "2  China even cut off communication, they don't a...  "
      ]
     },
     "execution_count": 29,
     "metadata": {},
     "output_type": "execute_result"
    }
   ],
   "source": [
    "#cheking source and orginal_text columns\n",
    "df[['source','original_text']].head(3)"
   ]
  },
  {
   "cell_type": "markdown",
   "id": "114468e8",
   "metadata": {},
   "source": [
    "### Result of the assesmement\n",
    "- Created_at datatype issue\n",
    "- missing vaues are there\n",
    "- the source and original text needs to be cleaned"
   ]
  },
  {
   "cell_type": "markdown",
   "id": "24b079b4",
   "metadata": {},
   "source": [
    "### Cleaning  \n",
    "it helps as to solve the following \n",
    "- duplicate data\n",
    "- missing data\n",
    "- inaccurate data\n",
    "- incomplete data"
   ]
  },
  {
   "cell_type": "code",
   "execution_count": 31,
   "id": "1fc19ae8",
   "metadata": {},
   "outputs": [],
   "source": [
    "#df.head(1)"
   ]
  },
  {
   "cell_type": "code",
   "execution_count": 41,
   "id": "7edcd929",
   "metadata": {},
   "outputs": [],
   "source": [
    "# handling with missing values with drop method\n",
    "df.dropna(inplace = True)"
   ]
  },
  {
   "cell_type": "code",
   "execution_count": null,
   "id": "06660914",
   "metadata": {},
   "outputs": [],
   "source": [
    "#df.head"
   ]
  },
  {
   "cell_type": "code",
   "execution_count": 42,
   "id": "65b2950b",
   "metadata": {},
   "outputs": [
    {
     "data": {
      "text/plain": [
       "0"
      ]
     },
     "execution_count": 42,
     "metadata": {},
     "output_type": "execute_result"
    }
   ],
   "source": [
    "# checking against missing value\n",
    "df.isnull().any().sum()"
   ]
  },
  {
   "cell_type": "code",
   "execution_count": 43,
   "id": "afcc2c1a",
   "metadata": {},
   "outputs": [],
   "source": [
    "# habdling created_at datatype\n",
    "df['created_at'] =pd.to_datetime(df['created_at'])"
   ]
  },
  {
   "cell_type": "code",
   "execution_count": 16,
   "id": "e7489a08",
   "metadata": {},
   "outputs": [
    {
     "data": {
      "text/plain": [
       "datetime64[ns, UTC]"
      ]
     },
     "execution_count": 16,
     "metadata": {},
     "output_type": "execute_result"
    }
   ],
   "source": [
    "#checking datatype\n",
    "df['created_at'].dtype"
   ]
  },
  {
   "cell_type": "code",
   "execution_count": 17,
   "id": "049bbedc",
   "metadata": {
    "scrolled": false
   },
   "outputs": [],
   "source": [
    "# handling the source and original text needs to be cleaned and creating new column\n"
   ]
  },
  {
   "cell_type": "code",
   "execution_count": 18,
   "id": "81e4d6ab",
   "metadata": {},
   "outputs": [],
   "source": [
    "#Method to find hashtags from tweets\n"
   ]
  },
  {
   "cell_type": "markdown",
   "id": "386215c2",
   "metadata": {},
   "source": [
    "### Visualization "
   ]
  },
  {
   "cell_type": "code",
   "execution_count": 19,
   "id": "b9037713",
   "metadata": {
    "scrolled": false
   },
   "outputs": [
    {
     "data": {
      "image/png": "[encoded data removed]",
      "text/plain": [
       "<Figure size 432x288 with 1 Axes>"
      ]
     },
     "metadata": {
      "needs_background": "light"
     },
     "output_type": "display_data"
    }
   ],
   "source": [
    "# the plority distribution\n",
    "df.polarity.hist();\n",
    "plt.title(\"Distribution of the polarity using histogram\", fontsize = 13, fontweight = 'bold');"
   ]
  },
  {
   "cell_type": "code",
   "execution_count": null,
   "id": "09ce40f5",
   "metadata": {},
   "outputs": [],
   "source": []
  },
  {
   "cell_type": "code",
   "execution_count": 20,
   "id": "5f15e921",
   "metadata": {
    "scrolled": false
   },
   "outputs": [
    {
     "data": {
      "image/png": "[encoded data removed]",
      "text/plain": [
       "<Figure size 432x288 with 1 Axes>"
      ]
     },
     "metadata": {
      "needs_background": "light"
     },
     "output_type": "display_data"
    }
   ],
   "source": [
    "# polarity vs favorite_count using scatter plot\n",
    "df.plot(x = 'polarity', y = 'favorite_count', kind = 'scatter')\n",
    "plt.title(\"Relationship between polarity and favorite count\", fontsize = 13, fontweight = 'bold');"
   ]
  },
  {
   "cell_type": "code",
   "execution_count": 21,
   "id": "fefc0267",
   "metadata": {
    "scrolled": true
   },
   "outputs": [
    {
     "data": {
      "image/png": "[encoded data removed]",
      "text/plain": [
       "<Figure size 432x288 with 1 Axes>"
      ]
     },
     "metadata": {
      "needs_background": "light"
     },
     "output_type": "display_data"
    }
   ],
   "source": [
    "# the distribution of subjectivity\n",
    "df.subjectivity.hist();\n",
    "plt.title(\"Distribution of the subjectivity using histogram\", fontsize = 8, fontweight = 'bold');"
   ]
  },
  {
   "cell_type": "code",
   "execution_count": null,
   "id": "34348c40",
   "metadata": {},
   "outputs": [],
   "source": []
  },
  {
   "cell_type": "markdown",
   "id": "b053a264",
   "metadata": {},
   "source": [
    "## Topic Modeling "
   ]
  },
  {
   "cell_type": "code",
   "execution_count": 1,
   "id": "8bb44b5c",
   "metadata": {},
   "outputs": [],
   "source": [
    "# inporting packages \n",
    "import warnings\n",
    "warnings.filterwarnings('ignore')\n",
    "import matplotlib.pyplot as plt\n",
    "import seaborn as sns\n",
    "import gensim\n",
    "from gensim.models import CoherenceModel\n",
    "from gensim import corpora\n",
    "import pandas as pd\n",
    "from pprint import pprint\n",
    "import string\n",
    "import os\n",
    "import re\n",
    "import emoji\n",
    "import nltk"
   ]
  },
  {
   "cell_type": "code",
   "execution_count": 23,
   "id": "1380a5e0",
   "metadata": {},
   "outputs": [],
   "source": [
    "#data loader class\n",
    "# class DataLoader:\n",
    "#   def __init__(self,dir_name,file_name):\n",
    "#     self.dir_name=dir_name\n",
    "#     self.file_name = file_name\n",
    "    \n",
    " \n",
    "#   def read_csv(self):\n",
    "#     os.chdir(self.dir_name)\n",
    "#     tweets_df=pd.read_csv(self.file_name)\n",
    "#     return tweets_df"
   ]
  },
  {
   "cell_type": "code",
   "execution_count": 24,
   "id": "3d9a5158",
   "metadata": {},
   "outputs": [],
   "source": [
    "#object creation\n",
    "#DataLoader_obj= df"
   ]
  },
  {
   "cell_type": "code",
   "execution_count": 44,
   "id": "3bb6e100",
   "metadata": {
    "scrolled": true
   },
   "outputs": [
    {
     "data": {
      "text/html": [
       "<div>\n",
       "<style scoped>\n",
       "    .dataframe tbody tr th:only-of-type {\n",
       "        vertical-align: middle;\n",
       "    }\n",
       "\n",
       "    .dataframe tbody tr th {\n",
       "        vertical-align: top;\n",
       "    }\n",
       "\n",
       "    .dataframe thead th {\n",
       "        text-align: right;\n",
       "    }\n",
       "</style>\n",
       "<table border=\"1\" class=\"dataframe\">\n",
       "  <thead>\n",
       "    <tr style=\"text-align: right;\">\n",
       "      <th></th>\n",
       "      <th>created_at</th>\n",
       "      <th>source</th>\n",
       "      <th>original_text</th>\n",
       "      <th>subjectivity</th>\n",
       "      <th>polarity</th>\n",
       "      <th>lang</th>\n",
       "      <th>favorite_count</th>\n",
       "      <th>retweet_count</th>\n",
       "      <th>original_author</th>\n",
       "      <th>followers_count</th>\n",
       "      <th>friends_count</th>\n",
       "      <th>possibly_sensitive</th>\n",
       "      <th>hashtags</th>\n",
       "      <th>user_mentions</th>\n",
       "      <th>place</th>\n",
       "    </tr>\n",
       "  </thead>\n",
       "  <tbody>\n",
       "    <tr>\n",
       "      <th>5</th>\n",
       "      <td>2022-08-07 22:31:02+00:00</td>\n",
       "      <td>&lt;a href=\"http://twitter.com/download/android\" ...</td>\n",
       "      <td>RT @benedictrogers: We must not let this happe...</td>\n",
       "      <td>0.5</td>\n",
       "      <td>0.2</td>\n",
       "      <td>en</td>\n",
       "      <td>116</td>\n",
       "      <td>36</td>\n",
       "      <td>GraceCh15554845</td>\n",
       "      <td>207</td>\n",
       "      <td>54</td>\n",
       "      <td>False</td>\n",
       "      <td>Taiwan</td>\n",
       "      <td>benedictrogers</td>\n",
       "      <td>Melbourne, Victoria</td>\n",
       "    </tr>\n",
       "  </tbody>\n",
       "</table>\n",
       "</div>"
      ],
      "text/plain": [
       "                 created_at  \\\n",
       "5 2022-08-07 22:31:02+00:00   \n",
       "\n",
       "                                              source  \\\n",
       "5  <a href=\"http://twitter.com/download/android\" ...   \n",
       "\n",
       "                                       original_text  subjectivity  polarity  \\\n",
       "5  RT @benedictrogers: We must not let this happe...           0.5       0.2   \n",
       "\n",
       "  lang  favorite_count  retweet_count  original_author  followers_count  \\\n",
       "5   en             116             36  GraceCh15554845              207   \n",
       "\n",
       "   friends_count possibly_sensitive hashtags   user_mentions  \\\n",
       "5             54              False   Taiwan  benedictrogers   \n",
       "\n",
       "                 place  \n",
       "5  Melbourne, Victoria  "
      ]
     },
     "execution_count": 44,
     "metadata": {},
     "output_type": "execute_result"
    }
   ],
   "source": [
    "df.head(1)"
   ]
  },
  {
   "cell_type": "code",
   "execution_count": 47,
   "id": "aa70082d",
   "metadata": {
    "scrolled": true
   },
   "outputs": [],
   "source": [
    "df['clean_text'] = df['original_text']"
   ]
  },
  {
   "cell_type": "code",
   "execution_count": 48,
   "id": "ce027a75",
   "metadata": {},
   "outputs": [
    {
     "data": {
      "text/html": [
       "<div>\n",
       "<style scoped>\n",
       "    .dataframe tbody tr th:only-of-type {\n",
       "        vertical-align: middle;\n",
       "    }\n",
       "\n",
       "    .dataframe tbody tr th {\n",
       "        vertical-align: top;\n",
       "    }\n",
       "\n",
       "    .dataframe thead th {\n",
       "        text-align: right;\n",
       "    }\n",
       "</style>\n",
       "<table border=\"1\" class=\"dataframe\">\n",
       "  <thead>\n",
       "    <tr style=\"text-align: right;\">\n",
       "      <th></th>\n",
       "      <th>created_at</th>\n",
       "      <th>source</th>\n",
       "      <th>original_text</th>\n",
       "      <th>subjectivity</th>\n",
       "      <th>polarity</th>\n",
       "      <th>lang</th>\n",
       "      <th>favorite_count</th>\n",
       "      <th>retweet_count</th>\n",
       "      <th>original_author</th>\n",
       "      <th>followers_count</th>\n",
       "      <th>friends_count</th>\n",
       "      <th>possibly_sensitive</th>\n",
       "      <th>hashtags</th>\n",
       "      <th>user_mentions</th>\n",
       "      <th>place</th>\n",
       "      <th>clean_text</th>\n",
       "    </tr>\n",
       "  </thead>\n",
       "  <tbody>\n",
       "    <tr>\n",
       "      <th>5</th>\n",
       "      <td>2022-08-07 22:31:02+00:00</td>\n",
       "      <td>&lt;a href=\"http://twitter.com/download/android\" ...</td>\n",
       "      <td>RT @benedictrogers: We must not let this happe...</td>\n",
       "      <td>0.5</td>\n",
       "      <td>0.2</td>\n",
       "      <td>en</td>\n",
       "      <td>116</td>\n",
       "      <td>36</td>\n",
       "      <td>GraceCh15554845</td>\n",
       "      <td>207</td>\n",
       "      <td>54</td>\n",
       "      <td>False</td>\n",
       "      <td>Taiwan</td>\n",
       "      <td>benedictrogers</td>\n",
       "      <td>Melbourne, Victoria</td>\n",
       "      <td>RT @benedictrogers: We must not let this happe...</td>\n",
       "    </tr>\n",
       "  </tbody>\n",
       "</table>\n",
       "</div>"
      ],
      "text/plain": [
       "                 created_at  \\\n",
       "5 2022-08-07 22:31:02+00:00   \n",
       "\n",
       "                                              source  \\\n",
       "5  <a href=\"http://twitter.com/download/android\" ...   \n",
       "\n",
       "                                       original_text  subjectivity  polarity  \\\n",
       "5  RT @benedictrogers: We must not let this happe...           0.5       0.2   \n",
       "\n",
       "  lang  favorite_count  retweet_count  original_author  followers_count  \\\n",
       "5   en             116             36  GraceCh15554845              207   \n",
       "\n",
       "   friends_count possibly_sensitive hashtags   user_mentions  \\\n",
       "5             54              False   Taiwan  benedictrogers   \n",
       "\n",
       "                 place                                         clean_text  \n",
       "5  Melbourne, Victoria  RT @benedictrogers: We must not let this happe...  "
      ]
     },
     "execution_count": 48,
     "metadata": {},
     "output_type": "execute_result"
    }
   ],
   "source": [
    "df.head(1)"
   ]
  },
  {
   "cell_type": "code",
   "execution_count": 49,
   "id": "8a2d398a",
   "metadata": {
    "scrolled": true
   },
   "outputs": [],
   "source": [
    "tweets_df = df\n",
    "#tweets_df"
   ]
  },
  {
   "cell_type": "code",
   "execution_count": 61,
   "id": "9d4dcb16",
   "metadata": {},
   "outputs": [],
   "source": [
    "nltk.download('words')\n",
    "words = set(nltk.corpus.words.words())"
   ]
  },
  {
   "cell_type": "code",
   "execution_count": 52,
   "id": "5c98d834",
   "metadata": {},
   "outputs": [
    {
     "data": {
      "text/plain": [
       "5        : We must not let this happen . We must be rea...\n",
       "36              : Roger it as it is . is a part of China !\n",
       "39       : \" For too long , been , and isolated from th...\n",
       "43       : 🇬🇷 Summer Travel Excursion 👉 check availabil...\n",
       "48       : We must not let this happen . We must be rea...\n",
       "                               ...                        \n",
       "21978    : Head of ' s missile is found dead in hotel ....\n",
       "21986    Minister is crystal clear in his interview . '...\n",
       "21987                 : Live - fire military in the with .\n",
       "21989    : Head of ' s missile is found dead in hotel ....\n",
       "21993     : A good of China ' s missile on on August 4th .\n",
       "Name: clean_text, Length: 1976, dtype: object"
      ]
     },
     "execution_count": 52,
     "metadata": {},
     "output_type": "execute_result"
    }
   ],
   "source": [
    "def cleaner(tweet):\n",
    "    tweet = re.sub(\"@[A-Za-z0-9]+\",\"\",tweet) #Remove @ sign\n",
    "    tweet = re.sub(r\"(?:\\@|http?\\://|https?\\://|www)\\S+\", \"\", tweet) #Remove http links\n",
    "    tweet = \" \".join(tweet.split())\n",
    "    #tweet = ''.join(c for c in tweet if c not in emoji.UNICODE_EMOJI) #Remove Emojis\n",
    "    tweet = tweet.replace(\"#\", \"\").replace(\"_\", \" \") #Remove hashtag sign but keep the text\n",
    "\n",
    "    tweet = \" \".join(w for w in nltk.wordpunct_tokenize(tweet) \\\n",
    "         if w.lower() in words or not w.isalpha())\n",
    "    return tweet\n",
    "\n",
    "\n",
    "tweets_df['clean_text'] = tweets_df['original_text'].map(lambda x: cleaner(x))\n",
    "tweets_df['clean_text']"
   ]
  },
  {
   "cell_type": "code",
   "execution_count": 53,
   "id": "1cf2e0af",
   "metadata": {},
   "outputs": [],
   "source": [
    "class PrepareData:\n",
    "  def __init__(self,df):\n",
    "    self.df=df\n",
    "  def preprocess_data(self):\n",
    "    \n",
    "    #tweets_df = self.df.loc[self.df['lang'] ==\"en\"]\n",
    "\n",
    "    \n",
    "    #text Preprocessing\n",
    "    tweets_df['clean_text']=tweets_df['clean_text'].astype(str)\n",
    "    tweets_df['clean_text'] = tweets_df['clean_text'].apply(lambda x: x.lower())\n",
    "    tweets_df['clean_text']= tweets_df['clean_text'].apply(lambda x: x.translate(str.maketrans(' ', ' ', string.punctuation)))\n",
    "    \n",
    "    #Converting tweets to list of words For feature engineering\n",
    "    sentence_list = [tweet for tweet in tweets_df['clean_text']]\n",
    "    word_list = [sent.split() for sent in sentence_list]\n",
    "    # print(word_list)\n",
    "\n",
    "    #Create dictionary which contains Id and word \n",
    "    word_to_id = corpora.Dictionary(word_list) #generate unique tokens\n",
    "    #  we can see the word to unique integer mapping\n",
    "    # print(word_to_id.token2id)\n",
    "    # using bag of words(bow), we create a corpus that contains the word id and its frequency in each document.\n",
    "    corpus_1= [word_to_id.doc2bow(tweet) for tweet in word_list]\n",
    "\n",
    "\n",
    "    return word_list, word_to_id, corpus_1"
   ]
  },
  {
   "cell_type": "code",
   "execution_count": 54,
   "id": "2bc822d8",
   "metadata": {},
   "outputs": [],
   "source": [
    "PrepareData_obj=PrepareData(tweets_df)\n",
    "#tweets_df['clean_text']\n",
    "word_list ,id2word,corpus=PrepareData_obj.preprocess_data()"
   ]
  },
  {
   "cell_type": "code",
   "execution_count": 55,
   "id": "cffe9edb",
   "metadata": {},
   "outputs": [],
   "source": [
    "id_words = [[(id2word[id], count) for id, count in line] for line in corpus]"
   ]
  },
  {
   "cell_type": "code",
   "execution_count": 60,
   "id": "fce1facc",
   "metadata": {
    "scrolled": false
   },
   "outputs": [],
   "source": [
    "#print(id_words)"
   ]
  },
  {
   "cell_type": "markdown",
   "id": "ee20628a",
   "metadata": {},
   "source": [
    "## Topic Modeling using Latent Dirichlet Allocation\n",
    "based on the distributional hypothesis, (i.e. similar topics make use of similar words) and the statistical mixture hypothesis (i.e. documents talk about several topics) for which a statistical distribution can be determined.\n",
    "\n",
    "The purpose of LDA is mapping each teweets in our corpus to a set of topics which covers a good deal of the words in the tweet"
   ]
  },
  {
   "cell_type": "code",
   "execution_count": 57,
   "id": "add79909",
   "metadata": {},
   "outputs": [],
   "source": [
    "# Build LDA model\n",
    "lda_model = gensim.models.ldamodel.LdaModel(corpus,\n",
    "                                           id2word=id2word,\n",
    "                                           num_topics=5, \n",
    "                                           random_state=100,\n",
    "                                           update_every=1,\n",
    "                                           chunksize=100,\n",
    "                                           passes=10,\n",
    "                                           alpha='auto',\n",
    "                                           per_word_topics=True)"
   ]
  },
  {
   "cell_type": "code",
   "execution_count": 35,
   "id": "7ad01c73",
   "metadata": {
    "scrolled": true
   },
   "outputs": [
    {
     "name": "stdout",
     "output_type": "stream",
     "text": [
      "[(0,\n",
      "  '0.049*\"china\" + 0.049*\"the\" + 0.041*\"to\" + 0.030*\"s\" + 0.024*\"and\" + '\n",
      "  '0.023*\"a\" + 0.022*\"of\" + 0.020*\"with\" + 0.019*\"’\" + 0.016*\"is\"'),\n",
      " (1,\n",
      "  '0.072*\"the\" + 0.051*\"in\" + 0.046*\"and\" + 0.041*\"of\" + 0.026*\"…\" + '\n",
      "  '0.023*\"from\" + 0.021*\"democracy\" + 0.019*\"to\" + 0.019*\"for\" + 0.019*\"live\"'),\n",
      " (2,\n",
      "  '0.042*\"no\" + 0.037*\"how\" + 0.036*\"matter\" + 0.035*\"small\" + 0.034*\"we\" + '\n",
      "  '0.032*\"🤗\" + 0.025*\"china\" + 0.020*\"must\" + 0.019*\"…\" + 0.018*\"have\"'),\n",
      " (3,\n",
      "  '0.144*\"on\" + 0.096*\"china\" + 0.089*\"missile\" + 0.082*\"a\" + 0.074*\"s\" + '\n",
      "  '0.071*\"of\" + 0.070*\"good\" + 0.066*\"august\" + 0.065*\"4th\" + 0.013*\"king\"'),\n",
      " (4,\n",
      "  '0.062*\"is\" + 0.057*\"of\" + 0.055*\"this\" + 0.050*\"s\" + 0.043*\"the\" + '\n",
      "  '0.036*\"by\" + 0.032*\"president\" + 0.031*\"to\" + 0.029*\"li\" + 0.028*\"speech\"')]\n"
     ]
    }
   ],
   "source": [
    "pprint(lda_model.print_topics())"
   ]
  },
  {
   "cell_type": "code",
   "execution_count": 58,
   "id": "f399de0b",
   "metadata": {
    "scrolled": true
   },
   "outputs": [
    {
     "name": "stdout",
     "output_type": "stream",
     "text": [
      "[(0,\n",
      "  [('china', 0.048994213),\n",
      "   ('the', 0.048686046),\n",
      "   ('to', 0.040940057),\n",
      "   ('s', 0.029502012),\n",
      "   ('and', 0.024196256),\n",
      "   ('a', 0.02307162),\n",
      "   ('of', 0.022102553),\n",
      "   ('with', 0.019853821),\n",
      "   ('’', 0.018957663),\n",
      "   ('is', 0.016211418)]),\n",
      " (1,\n",
      "  [('the', 0.0717921),\n",
      "   ('in', 0.051017694),\n",
      "   ('and', 0.045822248),\n",
      "   ('of', 0.04100643),\n",
      "   ('…', 0.02594714),\n",
      "   ('from', 0.02292727),\n",
      "   ('democracy', 0.020625459),\n",
      "   ('to', 0.019478232),\n",
      "   ('for', 0.019285522),\n",
      "   ('live', 0.018910024)]),\n",
      " (2,\n",
      "  [('no', 0.041972574),\n",
      "   ('how', 0.036675114),\n",
      "   ('matter', 0.035771493),\n",
      "   ('small', 0.035182156),\n",
      "   ('we', 0.03383281),\n",
      "   ('🤗', 0.032189496),\n",
      "   ('china', 0.025360893),\n",
      "   ('must', 0.019831799),\n",
      "   ('…', 0.018560445),\n",
      "   ('have', 0.018284483)]),\n",
      " (3,\n",
      "  [('on', 0.14354847),\n",
      "   ('china', 0.09582541),\n",
      "   ('missile', 0.08935236),\n",
      "   ('a', 0.08169537),\n",
      "   ('s', 0.07378818),\n",
      "   ('of', 0.071426354),\n",
      "   ('good', 0.069583744),\n",
      "   ('august', 0.06578158),\n",
      "   ('4th', 0.06507041),\n",
      "   ('king', 0.0132447565)]),\n",
      " (4,\n",
      "  [('is', 0.06221295),\n",
      "   ('of', 0.056980982),\n",
      "   ('this', 0.055214174),\n",
      "   ('s', 0.049615525),\n",
      "   ('the', 0.042672757),\n",
      "   ('by', 0.036398962),\n",
      "   ('president', 0.032055635),\n",
      "   ('to', 0.030910848),\n",
      "   ('li', 0.028903812),\n",
      "   ('speech', 0.027817138)])]\n"
     ]
    }
   ],
   "source": [
    "pprint(lda_model.show_topics(formatted=False))"
   ]
  },
  {
   "cell_type": "markdown",
   "id": "ec4d21aa",
   "metadata": {},
   "source": [
    "#### Model Analysis\n",
    "- Perplexity is also a measure of model quality and in natural language processing is often used as “perplexity per number of words”. It describes how well a model predicts a sample, i.e. how much it is “perplexed” by a sample from the observed data. The lower the score, the better the model for the given data.\n",
    "\n",
    "- A coherence matrix is used to test the model for accuracy. Topic coherence is a measure that compares different topic models based on their human-interpretability. The coherence score ‘C_V’ provides a numerical value to the interpretability of the topics"
   ]
  },
  {
   "cell_type": "code",
   "execution_count": 37,
   "id": "d8c4e0a0",
   "metadata": {
    "scrolled": true
   },
   "outputs": [],
   "source": [
    "# # Compute Perplexity\n",
    "\n",
    "# #It's a measure of how good the model is. The lower the better. Perplexity is a negative value\n",
    "# print('\\nPerplexity: ', lda_model.log_perplexity(corpus))  \n",
    "# doc_lda = lda_model[corpus]\n",
    "\n",
    "# # Compute Coherence Score\n",
    "# coherence_model_lda = CoherenceModel(model=lda_model, texts=word_list, dictionary=id2word, coherence='c_v')\n",
    "# coherence_lda = coherence_model_lda.get_coherence()\n",
    "# print('\\n Ldamodel Coherence Score/Accuracy on Tweets: ', coherence_lda)"
   ]
  },
  {
   "cell_type": "code",
   "execution_count": 2,
   "id": "13cbff99",
   "metadata": {},
   "outputs": [],
   "source": [
    "#!pip install pyLDAvis "
   ]
  },
  {
   "cell_type": "markdown",
   "id": "430aa871",
   "metadata": {},
   "source": [
    "Anlayizing results Exploring the Intertopic Distance Plot can help you learn about how topics relate to each other, including potential higher-level structure between groups of topics"
   ]
  },
  {
   "cell_type": "code",
   "execution_count": 71,
   "id": "3f021216",
   "metadata": {},
   "outputs": [
    {
     "data": {
      "text/html": [
       "\n",
       "<link rel=\"stylesheet\" type=\"text/css\" href=\"https://cdn.jsdelivr.net/gh/bmabey/pyLDAvis@3.3.1/pyLDAvis/js/ldavis.v1.0.0.css\">\n",
       "\n",
       "\n",
       "<div id=\"ldavis_el394422095960213281632965564\"></div>\n",
       "<script type=\"text/javascript\">\n",
       "\n",
       "var ldavis_el394422095960213281632965564_data = {\"mdsDat\": {\"x\": [-0.036328148603356945, -0.19640961825918998, -0.16899152771254203, 0.2595258772323615, 0.14220341734272757], \"y\": [0.05013530732636118, -0.0689838462926467, 0.1166253679262701, 0.18653828354747926, -0.2843151125074639], \"topics\": [1, 2, 3, 4, 5], \"cluster\": [1, 1, 1, 1, 1], \"Freq\": [40.59042231007312, 17.024520924900795, 16.32998790381847, 14.03881551672837, 12.016253344479242]}, \"tinfo\": {\"Term\": [\"on\", \"china\", \"a\", \"missile\", \"s\", \"good\", \"is\", \"august\", \"4th\", \"the\", \"of\", \"this\", \"and\", \"no\", \"by\", \"in\", \"how\", \"president\", \"we\", \"matter\", \"small\", \"li\", \"to\", \"\\ud83e\\udd17\", \"speech\", \"based\", \"\\u2019\", \"with\", \"from\", \"for\", \"with\", \"part\", \"military\", \"your\", \"visit\", \"do\", \"you\", \"an\", \"\\u201d\", \"\\u201c\", \"what\", \"as\", \"war\", \"about\", \"air\", \"there\", \"if\", \"around\", \"all\", \"speaker\", \"just\", \"island\", \"out\", \"so\", \"nancy\", \"was\", \"can\", \"3\", \"people\", \"here\", \"not\", \"t\", \"to\", \"us\", \"china\", \"\\u2019\", \"the\", \"for\", \"and\", \"a\", \"s\", \"is\", \"of\", \"in\", \"that\", \"on\", \"via\", \"are\", \"democracy\", \"live\", \"disaster\", \"name\", \"chaos\", \"more\", \"story\", \"\\ud83c\\udde8\\ud83c\\uddf3\", \"week\", \"long\", \"too\", \"\\ud83c\\uddf9\\ud83c\\uddfc\", \"fire\", \"radio\", \"commercial\", \"p\", \"communication\", \"yell\", \"show\", \"great\", \"isolated\", \"2022\", \"leader\", \"morning\", \"follow\", \"province\", \"wise\", \"crisis\", \"massage\", \"off\", \"been\", \"from\", \"in\", \"and\", \"\\u2026\", \"the\", \"day\", \"international\", \"of\", \"for\", \"are\", \"to\", \"maybe\", \"world\", \"president\", \"li\", \"speech\", \"based\", \"again\", \"dead\", \"video\", \"found\", \"hotel\", \"head\", \"trip\", \"u\", \"why\", \"best\", \"news\", \"hypocrisy\", \"near\", \"conflict\", \"supporting\", \"open\", \"letter\", \"rally\", \"solidarity\", \"said\", \"act\", \"ww3\", \"latest\", \"these\", \"strait\", \"watch\", \"time\", \"this\", \"against\", \"by\", \"is\", \"maybe\", \"it\", \"of\", \"s\", \"\\u2019\", \"the\", \"to\", \"in\", \"its\", \"at\", \"via\", \"missile\", \"good\", \"august\", \"4th\", \"king\", \"x\", \"true\", \"attack\", \"new\", \"today\", \"amid\", \"4\", \"research\", \"heart\", \"aircraft\", \"during\", \"peace\", \"billion\", \"joint\", \"got\", \"ballistic\", \"word\", \"firing\", \"pink\", \"production\", \"eastern\", \"panda\", \"command\", \"theater\", \"times\", \"on\", \"a\", \"china\", \"s\", \"of\", \"that\", \"1\", \"matter\", \"small\", \"\\ud83e\\udd17\", \"must\", \"have\", \"defend\", \"travel\", \"need\", \"japan\", \"check\", \"\\ud83d\\udc49\", \"should\", \"summer\", \"caption\", \"could\", \"availability\", \"excursion\", \"\\ud83c\\uddec\\ud83c\\uddf7\", \"or\", \"regional\", \"due\", \"advice\", \"my\", \"want\", \"\\u27a1\\ufe0f\", \"ready\", \"me\", \"\\u2066\\u2069\", \"win\", \"f\", \"no\", \"how\", \"we\", \"think\", \"i\", \"\\u2026\", \"china\", \"after\", \"on\", \"in\"], \"Freq\": [675.0, 926.0, 530.0, 320.0, 775.0, 249.0, 426.0, 235.0, 233.0, 991.0, 898.0, 271.0, 449.0, 152.0, 205.0, 504.0, 131.0, 134.0, 134.0, 110.0, 108.0, 120.0, 636.0, 99.0, 116.0, 115.0, 291.0, 205.0, 157.0, 244.0, 205.11935937326427, 139.92895949025194, 122.92420941581128, 128.42866193565126, 109.97789773707066, 132.3023013369991, 84.29942991521875, 76.42608925557705, 75.92275591216573, 71.36952845645457, 68.97099992812313, 66.73303753632467, 65.4772106933659, 49.61132314993227, 49.47984895130535, 47.54124438061934, 44.76654126706992, 43.46655452696549, 43.51167661818774, 41.96574345016305, 41.176830904816214, 38.707172179371966, 38.29495139855928, 37.98579363077664, 37.42307126347224, 37.208562121519755, 35.71196064380245, 32.74443383730197, 31.388724032736317, 31.421686396315515, 94.22625149635199, 64.70231250474477, 422.9713944744412, 109.7011707206399, 506.182746462016, 195.8607238466866, 502.99892323806574, 160.59636867086388, 249.9831399737156, 238.36399220677305, 304.799451981027, 167.48794903735578, 228.35209342538664, 149.14122688427815, 69.51370144217864, 118.31963928417265, 54.14199196551747, 57.73430506274838, 89.37529771145574, 81.94188795576287, 69.71406381958744, 68.86967569818725, 68.68410014868016, 56.72127324812654, 50.903106069446615, 50.03680837823358, 48.02920733632572, 41.35950489162624, 39.916451597207626, 39.630420528860725, 38.41080529711629, 37.14433207769513, 35.885195678668104, 36.17621885198066, 35.56380823877389, 35.56380823877389, 36.451434365511126, 33.91979547881825, 30.40253266031071, 23.05300600709433, 22.549459199466206, 20.94332509529679, 20.555769059592766, 20.696179578604273, 19.920203877072826, 20.373750939776237, 18.777427512382477, 17.899166122567454, 39.31372655547827, 99.34962028853111, 221.07249098177095, 198.559316354452, 112.43548113058031, 311.0932271051714, 29.86254388999885, 34.09890187370939, 177.69117147209377, 83.56901553610955, 51.84758246510144, 84.40407322365317, 36.85652935689882, 35.990970190510936, 133.23834409796325, 120.137881250026, 115.62114875240587, 114.96516637223131, 91.6137730125665, 87.70522358891063, 87.57212257297813, 86.43894456000741, 86.43894456000741, 80.43461156172613, 30.231245671478607, 31.407817774392413, 28.44483369973027, 19.750914877492544, 18.189983784250035, 14.47433773576024, 15.069304193168911, 14.157571524469798, 13.321300442688674, 12.003296897298428, 11.917410664152358, 11.917410664152358, 11.917410664152358, 10.992780737721944, 9.833760789341987, 8.916254500201292, 8.566394004928155, 7.878316062912329, 7.299245932921261, 87.54923712607861, 88.66973369046292, 229.49615958406858, 22.96637436109924, 151.2912610103355, 258.586380693039, 80.25810097178632, 89.26926117253488, 236.83984865228302, 206.22553110331302, 95.03513183997991, 177.36811289971078, 128.48006794072944, 101.49549375528494, 26.627819410582727, 20.95074404484686, 20.67417930301061, 319.2827701975598, 248.64357273417443, 235.0572961889679, 232.51608917193832, 47.327484771150196, 46.98219572852764, 40.96837385337823, 27.580995590781136, 20.896113732809432, 17.659148762432245, 12.237321915819239, 10.811166785152446, 9.815809287509389, 8.263189166353168, 8.207986881022563, 7.367427237381672, 6.7491335209686705, 5.8892138499032765, 5.67124340276102, 4.8407194415785755, 5.149632099195475, 5.294054409492829, 4.923069859908275, 4.671268035233145, 3.973121485463729, 3.7844082245874833, 3.7170657793867306, 3.680596629316281, 3.680596629316281, 3.6365640065635727, 512.941721881959, 291.9220446291595, 342.41291628278964, 263.66728680505867, 255.22777246585463, 43.59425249529165, 7.390348944110184, 109.40700273015362, 107.6045166869219, 98.4514757193709, 60.65549716075692, 55.92303558234308, 44.2207624818133, 43.53512128305702, 30.77342518671315, 30.809799858443167, 29.51765587163344, 23.84042130031336, 23.8165399183412, 23.209211080577358, 22.204939720944676, 21.316048990946452, 20.214806516431945, 20.214806516431945, 20.214806516431945, 21.88533396687583, 19.98529572551773, 19.698921381608496, 18.66616412498004, 18.487334332245645, 18.388422000544402, 15.775495737999835, 15.566728764381926, 12.585919839090657, 12.528619049438587, 12.748141759975255, 13.924969207214264, 128.37299014286225, 112.17072579155388, 103.47754954622538, 24.069482036557776, 50.19199384195644, 56.76706469194883, 77.56621592506478, 20.78360155942964, 43.62972676247512, 32.943796741138854], \"Total\": [675.0, 926.0, 530.0, 320.0, 775.0, 249.0, 426.0, 235.0, 233.0, 991.0, 898.0, 271.0, 449.0, 152.0, 205.0, 504.0, 131.0, 134.0, 134.0, 110.0, 108.0, 120.0, 636.0, 99.0, 116.0, 115.0, 291.0, 205.0, 157.0, 244.0, 205.84956230488726, 140.6951160646157, 123.65254024289045, 129.27040425300325, 110.69939373998285, 133.24414373715143, 85.01863166655703, 77.15509010061018, 76.64697273117137, 72.09312867862221, 69.69180932118675, 67.45293754355525, 66.19930367671857, 50.33172110499392, 50.21555664488261, 48.26250815393173, 45.486536536397146, 44.19066145529332, 44.24483048871721, 42.68674337926441, 41.897920374408145, 39.42794059909806, 39.02152230807024, 38.71097638410046, 38.144517168820876, 37.92951097009866, 36.43367949833529, 33.474363473763255, 32.10989533123827, 32.173092778549524, 111.11565836582122, 72.7554707223149, 636.1944502421587, 135.93559997160898, 926.5488467244364, 291.4713322706809, 991.7974888775464, 244.657736660861, 449.0283790576983, 530.8683140795683, 775.1242091641258, 426.6474340530351, 898.3057137786826, 504.79616325187305, 113.68648000263256, 675.2768649892807, 75.39470889589803, 110.06602489378776, 90.08329581747928, 82.65233830664718, 70.41645574172117, 69.57088468290603, 69.38530670912088, 57.44692504226814, 51.60728888677246, 50.74334820227594, 48.73343158822671, 42.06780858979011, 40.62703467477964, 40.358067303323445, 39.117605565202716, 37.846085318122086, 36.586869982044085, 36.88673130894388, 36.265012249527985, 36.265012249527985, 37.20239983157515, 34.63650211793974, 31.103788221272342, 23.75716187368202, 23.257836362487666, 21.646423687933147, 21.259025194698854, 21.425654485734086, 20.626140639645598, 21.102963221262115, 19.48591451942458, 18.605262103118193, 48.256482811263325, 157.16558969569775, 504.79616325187305, 449.0283790576983, 230.6836693528988, 991.7974888775464, 36.31016805574529, 47.10135533421786, 898.3057137786826, 244.657736660861, 110.06602489378776, 636.1944502421587, 117.67058733226975, 85.90123168417135, 134.03755006360802, 120.93204003991264, 116.41270573062599, 115.75656721236794, 92.41264203814414, 88.49898263455411, 88.36548020498194, 87.2315407513806, 87.2315407513806, 81.22656670628723, 31.037404800992615, 32.25037291189554, 29.274796711812602, 20.554840201565423, 18.99658130728865, 15.265737917261738, 15.896788383095739, 14.97289884636415, 14.11986848278623, 12.797194673789681, 12.711166423576191, 12.711166423576191, 12.711166423576191, 11.851198709273092, 10.682202414592778, 9.733769842834858, 9.41239490253159, 8.717832313479748, 8.096228965720512, 97.50150291829527, 102.76527375830639, 271.8393801566461, 26.903501243489984, 205.09904616833956, 426.6474340530351, 117.67058733226975, 141.7825549743052, 898.3057137786826, 775.1242091641258, 291.4713322706809, 991.7974888775464, 636.1944502421587, 504.79616325187305, 85.67844047172842, 77.89018921627833, 75.39470889589803, 320.15800198194216, 249.44286443401154, 235.8528946943608, 233.31148369535907, 48.12331782474233, 47.77791652351723, 41.76402116361219, 28.388440671007817, 21.719792589486268, 18.473319366346452, 13.050666751051363, 11.615101218847729, 10.618159375974418, 9.060235893524387, 9.014826125346788, 8.190737981437103, 7.558391498043887, 6.710979558361209, 6.470673570598362, 5.638206515473806, 6.0008576462368834, 6.18655718222144, 5.759711415800327, 5.469749999768288, 4.78592233295629, 4.582077309568225, 4.512407642505027, 4.479903049793233, 4.479903049793233, 4.458623772323753, 675.2768649892807, 530.8683140795683, 926.5488467244364, 775.1242091641258, 898.3057137786826, 113.68648000263256, 16.296226296656542, 110.15578046272817, 108.3564215703585, 99.19897678133334, 61.40622723760477, 56.69372482783173, 44.96603643340304, 44.281265857616845, 31.524829918496454, 31.582760209345203, 30.264575043844417, 24.58576227077653, 24.574097941978632, 23.954577315689104, 22.95005374786199, 22.088045130444144, 20.959900685798832, 20.959900685798832, 20.959900685798832, 22.699528155062577, 20.74096540692246, 20.451504644596508, 19.420268668058554, 19.239779197683845, 19.1498292432304, 16.525912401371112, 16.319610640928186, 13.33758505601185, 13.280045558058857, 13.516767387889017, 14.766625216462732, 152.04367157886662, 131.9932862350576, 134.26394607769961, 29.185697856030217, 76.5917602626531, 230.6836693528988, 926.5488467244364, 29.30494108564741, 675.2768649892807, 504.79616325187305], \"Category\": [\"Default\", \"Default\", \"Default\", \"Default\", \"Default\", \"Default\", \"Default\", \"Default\", \"Default\", \"Default\", \"Default\", \"Default\", \"Default\", \"Default\", \"Default\", \"Default\", \"Default\", \"Default\", \"Default\", \"Default\", \"Default\", \"Default\", \"Default\", \"Default\", \"Default\", \"Default\", \"Default\", \"Default\", \"Default\", \"Default\", \"Topic1\", \"Topic1\", \"Topic1\", \"Topic1\", \"Topic1\", \"Topic1\", \"Topic1\", \"Topic1\", \"Topic1\", \"Topic1\", \"Topic1\", \"Topic1\", \"Topic1\", \"Topic1\", \"Topic1\", \"Topic1\", \"Topic1\", \"Topic1\", \"Topic1\", \"Topic1\", \"Topic1\", \"Topic1\", \"Topic1\", \"Topic1\", \"Topic1\", \"Topic1\", \"Topic1\", \"Topic1\", \"Topic1\", \"Topic1\", \"Topic1\", \"Topic1\", \"Topic1\", \"Topic1\", \"Topic1\", \"Topic1\", \"Topic1\", \"Topic1\", \"Topic1\", \"Topic1\", \"Topic1\", \"Topic1\", \"Topic1\", \"Topic1\", \"Topic1\", \"Topic1\", \"Topic1\", \"Topic1\", \"Topic2\", \"Topic2\", \"Topic2\", \"Topic2\", \"Topic2\", \"Topic2\", \"Topic2\", \"Topic2\", \"Topic2\", \"Topic2\", \"Topic2\", \"Topic2\", \"Topic2\", \"Topic2\", \"Topic2\", \"Topic2\", \"Topic2\", \"Topic2\", \"Topic2\", \"Topic2\", \"Topic2\", \"Topic2\", \"Topic2\", \"Topic2\", \"Topic2\", \"Topic2\", \"Topic2\", \"Topic2\", \"Topic2\", \"Topic2\", \"Topic2\", \"Topic2\", \"Topic2\", \"Topic2\", \"Topic2\", \"Topic2\", \"Topic2\", \"Topic2\", \"Topic2\", \"Topic2\", \"Topic2\", \"Topic2\", \"Topic2\", \"Topic2\", \"Topic3\", \"Topic3\", \"Topic3\", \"Topic3\", \"Topic3\", \"Topic3\", \"Topic3\", \"Topic3\", \"Topic3\", \"Topic3\", \"Topic3\", \"Topic3\", \"Topic3\", \"Topic3\", \"Topic3\", \"Topic3\", \"Topic3\", \"Topic3\", \"Topic3\", \"Topic3\", \"Topic3\", \"Topic3\", \"Topic3\", \"Topic3\", \"Topic3\", \"Topic3\", \"Topic3\", \"Topic3\", \"Topic3\", \"Topic3\", \"Topic3\", \"Topic3\", \"Topic3\", \"Topic3\", \"Topic3\", \"Topic3\", \"Topic3\", \"Topic3\", \"Topic3\", \"Topic3\", \"Topic3\", \"Topic3\", \"Topic3\", \"Topic3\", \"Topic3\", \"Topic3\", \"Topic4\", \"Topic4\", \"Topic4\", \"Topic4\", \"Topic4\", \"Topic4\", \"Topic4\", \"Topic4\", \"Topic4\", \"Topic4\", \"Topic4\", \"Topic4\", \"Topic4\", \"Topic4\", \"Topic4\", \"Topic4\", \"Topic4\", \"Topic4\", \"Topic4\", \"Topic4\", \"Topic4\", \"Topic4\", \"Topic4\", \"Topic4\", \"Topic4\", \"Topic4\", \"Topic4\", \"Topic4\", \"Topic4\", \"Topic4\", \"Topic4\", \"Topic4\", \"Topic4\", \"Topic4\", \"Topic4\", \"Topic4\", \"Topic4\", \"Topic5\", \"Topic5\", \"Topic5\", \"Topic5\", \"Topic5\", \"Topic5\", \"Topic5\", \"Topic5\", \"Topic5\", \"Topic5\", \"Topic5\", \"Topic5\", \"Topic5\", \"Topic5\", \"Topic5\", \"Topic5\", \"Topic5\", \"Topic5\", \"Topic5\", \"Topic5\", \"Topic5\", \"Topic5\", \"Topic5\", \"Topic5\", \"Topic5\", \"Topic5\", \"Topic5\", \"Topic5\", \"Topic5\", \"Topic5\", \"Topic5\", \"Topic5\", \"Topic5\", \"Topic5\", \"Topic5\", \"Topic5\", \"Topic5\", \"Topic5\", \"Topic5\", \"Topic5\"], \"logprob\": [30.0, 29.0, 28.0, 27.0, 26.0, 25.0, 24.0, 23.0, 22.0, 21.0, 20.0, 19.0, 18.0, 17.0, 16.0, 15.0, 14.0, 13.0, 12.0, 11.0, 10.0, 9.0, 8.0, 7.0, 6.0, 5.0, 4.0, 3.0, 2.0, 1.0, -3.9194, -4.3018, -4.4314, -4.3876, -4.5427, -4.3579, -4.8086, -4.9066, -4.9132, -4.9751, -5.0093, -5.0423, -5.0612, -5.3387, -5.3414, -5.3814, -5.4415, -5.471, -5.4699, -5.5061, -5.5251, -5.5869, -5.5976, -5.6057, -5.6207, -5.6264, -5.6675, -5.7542, -5.7965, -5.7955, -4.6973, -5.0732, -3.1956, -4.5452, -3.0161, -3.9655, -3.0224, -4.1641, -3.7216, -3.7692, -3.5233, -4.122, -3.8121, -4.2381, -5.0014, -4.4696, -5.2513, -5.1871, -3.8812, -3.9681, -4.1297, -4.1419, -4.1446, -4.3359, -4.4441, -4.4613, -4.5023, -4.6518, -4.6873, -4.6945, -4.7257, -4.7593, -4.7937, -4.7857, -4.8027, -4.8027, -4.7781, -4.8501, -4.9595, -5.2363, -5.2584, -5.3323, -5.3509, -5.3441, -5.3823, -5.3598, -5.4414, -5.4893, -4.7025, -3.7754, -2.9756, -3.083, -3.6517, -2.634, -4.9775, -4.8448, -3.194, -3.9484, -4.4258, -3.9385, -4.767, -4.7908, -3.4403, -3.5438, -3.5821, -3.5878, -3.8148, -3.8584, -3.86, -3.873, -3.873, -3.945, -4.9235, -4.8854, -4.9845, -5.3492, -5.4316, -5.66, -5.6198, -5.6822, -5.7431, -5.8472, -5.8544, -5.8544, -5.8544, -5.9352, -6.0466, -6.1445, -6.1846, -6.2683, -6.3447, -3.8602, -3.8475, -2.8965, -5.1984, -3.3132, -2.7772, -3.9472, -3.8408, -2.865, -3.0035, -3.7782, -3.1542, -3.4766, -3.7124, -5.0505, -5.2902, -5.3035, -2.4152, -2.6652, -2.7214, -2.7323, -4.3242, -4.3315, -4.4684, -4.8641, -5.1417, -5.31, -5.6768, -5.8007, -5.8973, -6.0694, -6.0761, -6.1842, -6.2718, -6.4081, -6.4458, -6.6042, -6.5423, -6.5147, -6.5873, -6.6398, -6.8017, -6.8504, -6.8683, -6.8782, -6.8782, -6.8902, -1.9411, -2.5048, -2.3452, -2.6066, -2.6391, -4.4063, -6.1811, -3.3306, -3.3472, -3.4361, -3.9205, -4.0017, -4.2365, -4.2521, -4.599, -4.5978, -4.6407, -4.8543, -4.8553, -4.8811, -4.9254, -4.9662, -5.0193, -5.0193, -5.0193, -4.9399, -5.0307, -5.0451, -5.099, -5.1086, -5.114, -5.2672, -5.2805, -5.4931, -5.4977, -5.4803, -5.392, -3.1707, -3.3057, -3.3863, -4.8447, -4.1098, -3.9867, -3.6745, -4.9915, -4.2499, -4.5309], \"loglift\": [30.0, 29.0, 28.0, 27.0, 26.0, 25.0, 24.0, 23.0, 22.0, 21.0, 20.0, 19.0, 18.0, 17.0, 16.0, 15.0, 14.0, 13.0, 12.0, 11.0, 10.0, 9.0, 8.0, 7.0, 6.0, 5.0, 4.0, 3.0, 2.0, 1.0, 0.8981, 0.8962, 0.8957, 0.8951, 0.8951, 0.8945, 0.8931, 0.8921, 0.8921, 0.8916, 0.8912, 0.8909, 0.8907, 0.8872, 0.8869, 0.8866, 0.8857, 0.8851, 0.8849, 0.8846, 0.8843, 0.8832, 0.8828, 0.8827, 0.8825, 0.8824, 0.8816, 0.8796, 0.8789, 0.878, 0.7368, 0.7843, 0.4934, 0.6872, 0.2971, 0.5041, 0.2227, 0.4807, 0.3159, 0.1009, -0.0317, -0.0334, -0.468, -0.3176, 0.4097, -0.8401, 0.5705, 0.2564, 1.7626, 1.7619, 1.7605, 1.7604, 1.7604, 1.7578, 1.7568, 1.7565, 1.756, 1.7535, 1.7529, 1.7523, 1.7523, 1.7518, 1.7512, 1.7511, 1.751, 1.751, 1.7501, 1.7496, 1.7477, 1.7404, 1.7396, 1.7375, 1.7369, 1.7359, 1.7357, 1.7353, 1.7335, 1.7318, 1.5656, 1.3119, 0.9449, 0.9545, 1.0518, 0.6111, 1.575, 1.4475, 0.1501, 0.6963, 1.0177, -0.2494, 0.6097, 0.9006, 1.8062, 1.8056, 1.8053, 1.8053, 1.8035, 1.8032, 1.8031, 1.803, 1.803, 1.8024, 1.7858, 1.7857, 1.7834, 1.7723, 1.7688, 1.7589, 1.7587, 1.7562, 1.7539, 1.7481, 1.7477, 1.7477, 1.7477, 1.737, 1.7294, 1.7244, 1.718, 1.7109, 1.7085, 1.7045, 1.6646, 1.6428, 1.6539, 1.5079, 1.3114, 1.4295, 1.3495, 0.479, 0.4881, 0.6915, 0.0909, 0.2124, 0.208, 0.6435, 0.499, 0.5183, 1.9606, 1.9601, 1.96, 1.9599, 1.9467, 1.9465, 1.9441, 1.9345, 1.9247, 1.9183, 1.899, 1.8916, 1.8848, 1.8713, 1.8696, 1.8574, 1.8501, 1.8327, 1.8315, 1.8108, 1.8104, 1.8075, 1.8064, 1.8055, 1.7772, 1.7721, 1.7694, 1.7668, 1.7668, 1.7595, 1.6884, 1.3653, 0.9679, 0.885, 0.705, 1.0048, 1.1726, 2.1121, 2.1119, 2.1113, 2.1066, 2.1052, 2.1022, 2.1019, 2.0948, 2.0941, 2.0939, 2.0881, 2.0876, 2.0873, 2.0859, 2.0833, 2.0827, 2.0827, 2.0827, 2.0824, 2.0818, 2.0814, 2.0793, 2.079, 2.0783, 2.0724, 2.0717, 2.0609, 2.0607, 2.0604, 2.0602, 1.9497, 1.9562, 1.8585, 1.9262, 1.6963, 0.7168, -0.3614, 1.7753, -0.6205, -0.6104]}, \"token.table\": {\"Topic\": [4, 5, 2, 1, 4, 4, 1, 4, 1, 3, 5, 3, 5, 3, 2, 3, 1, 4, 1, 4, 1, 1, 2, 1, 2, 1, 1, 1, 2, 3, 4, 4, 5, 4, 3, 1, 2, 3, 4, 1, 3, 1, 5, 2, 5, 1, 4, 5, 4, 2, 2, 3, 5, 2, 2, 5, 3, 5, 2, 2, 1, 5, 4, 4, 5, 5, 2, 4, 2, 1, 2, 3, 1, 2, 4, 4, 2, 5, 3, 4, 1, 3, 1, 5, 3, 1, 5, 1, 1, 2, 3, 5, 1, 2, 1, 3, 1, 2, 1, 3, 1, 3, 5, 5, 4, 1, 4, 3, 2, 3, 3, 2, 2, 2, 5, 2, 3, 5, 1, 4, 2, 2, 5, 5, 2, 1, 3, 5, 4, 3, 1, 5, 1, 5, 1, 2, 3, 4, 2, 1, 4, 5, 3, 5, 1, 2, 4, 1, 4, 1, 4, 3, 4, 2, 2, 3, 5, 5, 4, 1, 3, 4, 3, 5, 2, 5, 1, 3, 1, 3, 2, 3, 5, 3, 1, 5, 1, 4, 1, 2, 3, 4, 1, 3, 1, 5, 1, 3, 5, 3, 5, 4, 1, 2, 3, 4, 2, 5, 3, 4, 3, 1, 2, 5, 1, 3, 3, 1, 5, 1, 1, 1, 3, 1, 5, 2, 1, 3, 5, 2, 1, 4, 1, 2, 3, 4, 2, 1, 1, 1, 3, 1, 1, 1, 2, 3, 5, 5, 5, 2, 5, 2, 5, 5], \"Freq\": [0.42954729963685967, 0.4909111995849825, 0.968129110804233, 0.9858290517119151, 0.9470429738615098, 0.9986649448607262, 0.44832210491343766, 0.5500422463643857, 0.9934093033635402, 0.936136539253288, 0.9783592763188806, 0.27299150599276023, 0.7166027032309955, 0.9955347880003926, 0.11150964972359981, 0.8549073145475985, 0.9757932257232782, 0.8874269884703129, 0.9944664611433047, 0.9194932511040693, 0.9850289838414557, 0.5567576831661146, 0.44317911580022723, 0.5269564341582176, 0.47244369959012605, 0.9730562653718617, 0.993285132418988, 0.3466418591567274, 0.37231903390907756, 0.26961033489967684, 0.9863169423248908, 0.9963837853443942, 0.9542029945566869, 0.8332142328247834, 0.9934641530015318, 0.16578083469715196, 0.8081815691486158, 0.9730068345886159, 0.894057260616239, 0.2584117332096176, 0.7362296549934387, 0.988096741687726, 0.9586034194821659, 0.9944468544221303, 0.9912579296599696, 0.5461126003111725, 0.36911167847118775, 0.0841833652653586, 0.892876465303109, 0.9839595466260955, 0.9926923435816175, 0.935022679552771, 0.9507405420435111, 0.9477342016048801, 0.8262148485223868, 0.16524296970447735, 0.9943617133248345, 0.9785163089739122, 0.9879745095064663, 0.9940858179052824, 0.9906626760302071, 0.9779231576139411, 0.8546238465769866, 0.8729665018194389, 0.9542029945566869, 0.948083925390884, 0.9714296018620094, 0.8680990485536743, 0.9878157539056192, 0.658062165527079, 0.34333678201412815, 0.9858819328333243, 0.3626748075731002, 0.629908876311174, 0.9982245856781015, 0.886806821686599, 0.9816233719048071, 0.9877636399806426, 0.9848994392349186, 0.8829792175408845, 0.9635380786477684, 0.9858819328333243, 0.14394671533644696, 0.8485280061937925, 0.9170863587386427, 0.3394621028533517, 0.6528117362564455, 0.9893037242787691, 0.2951686459741473, 0.43780047490125207, 0.20008076002274416, 0.06537292159158968, 0.27600055046729943, 0.7218475935298602, 0.39142389399496724, 0.607058614040099, 0.98914626042863, 0.9645127399460158, 0.366758801951508, 0.6277217956477733, 0.595248929826502, 0.31513178637873634, 0.09337238114925521, 0.9815481545791945, 0.9272604983912305, 0.9785688557717388, 0.97665751499443, 0.9561859753227449, 0.9889140004913128, 0.9440518360095461, 0.9922928610184281, 0.9921074428139353, 0.9746169666168618, 0.9750632941071258, 0.9895077638425045, 0.3144371149905291, 0.6798640324119548, 0.9746891918893754, 0.994722791447643, 0.9963830297079144, 0.9922202094900762, 0.9701371599645119, 0.9933845921516573, 0.935561672254893, 0.9917942011876371, 0.9699952377492302, 0.9435868200869201, 0.9833518556689017, 0.9668600615535025, 0.9475389128618484, 0.1512723269647541, 0.8418633848473271, 0.8459653786195274, 0.14399410699906848, 0.25381114302493774, 0.19815080464227597, 0.26383000393381684, 0.2838677257515751, 0.9674682302370385, 0.17474314035898908, 0.7596883983403508, 0.06515845911691118, 0.9377055132698388, 0.9691831411523607, 0.9738215669802566, 0.975960697045312, 0.8864447356931238, 0.9950594158201167, 0.9261229723032475, 0.9654344768243918, 0.914118561216109, 0.9922592582219263, 0.8357845618295227, 0.980133419680715, 0.9776440466428651, 0.9440518360095461, 0.9804155474073242, 0.9642752691407914, 0.9417828124361064, 0.3934853232476176, 0.2657638576688827, 0.3405905748766264, 0.928176150771393, 0.9766380868451765, 0.9676795089290281, 0.9967106557673919, 0.9816337263869046, 0.9440518360095461, 0.9839120222134817, 0.9964548051002184, 0.9882324977755591, 0.864600053881634, 0.9601505255922883, 0.9206884622083072, 0.8934036073807408, 0.10995736706224501, 0.6157284489622605, 0.38702931077627806, 0.5071599854212815, 0.31357207846126944, 0.17846385172876109, 0.892876465303109, 0.9945608265303064, 0.9176593116651468, 0.17131678758083638, 0.8223205803880146, 0.10668064348619724, 0.8424092192530747, 0.047822357424847035, 0.8660513103805773, 0.12650187679716296, 0.8971378174649783, 0.6648910562470183, 0.1320351033682022, 0.20119634798964145, 0.9743782177441962, 0.9845660733105661, 0.9936481974449142, 0.9665756590267677, 0.9817062355988397, 0.9612291952309693, 0.8092067127593817, 0.1544849178904274, 0.03678212330724462, 0.7162306319739362, 0.27853413465653076, 0.9958639934493183, 0.993682045435356, 0.9399561620823919, 0.9818834397023974, 0.975493726485653, 0.09230626944839875, 0.902550190162121, 0.2234404758418076, 0.7671456337235395, 0.9849501345519059, 0.9900733052000641, 0.9564541224876136, 0.9617684189525938, 0.9696433447931558, 0.9958728972003887, 0.8082039578279018, 0.5704225543605217, 0.4190859583056894, 0.924616068113117, 0.9837180735343635, 0.9926923435816175, 0.9880187242891405, 0.990172504987941, 0.6724503520571984, 0.32593256859915226, 0.9848372695337558, 0.9915590569579239, 0.19940726679542026, 0.48551334524102324, 0.06502410873763705, 0.24709161320302075, 0.9789123044168389, 0.9681764983016926, 0.9853508247167143, 0.9542029945566869, 0.9911277390804599, 0.9761747362426592, 0.987913415841211], \"Term\": [\"1\", \"1\", \"2022\", \"3\", \"4\", \"4th\", \"a\", \"a\", \"about\", \"act\", \"advice\", \"after\", \"after\", \"again\", \"against\", \"against\", \"air\", \"aircraft\", \"all\", \"amid\", \"an\", \"and\", \"and\", \"are\", \"are\", \"around\", \"as\", \"at\", \"at\", \"at\", \"attack\", \"august\", \"availability\", \"ballistic\", \"based\", \"been\", \"been\", \"best\", \"billion\", \"by\", \"by\", \"can\", \"caption\", \"chaos\", \"check\", \"china\", \"china\", \"china\", \"command\", \"commercial\", \"communication\", \"conflict\", \"could\", \"crisis\", \"day\", \"day\", \"dead\", \"defend\", \"democracy\", \"disaster\", \"do\", \"due\", \"during\", \"eastern\", \"excursion\", \"f\", \"fire\", \"firing\", \"follow\", \"for\", \"for\", \"found\", \"from\", \"from\", \"good\", \"got\", \"great\", \"have\", \"head\", \"heart\", \"here\", \"hotel\", \"how\", \"how\", \"hypocrisy\", \"i\", \"i\", \"if\", \"in\", \"in\", \"in\", \"in\", \"international\", \"international\", \"is\", \"is\", \"island\", \"isolated\", \"it\", \"it\", \"its\", \"its\", \"its\", \"japan\", \"joint\", \"just\", \"king\", \"latest\", \"leader\", \"letter\", \"li\", \"live\", \"long\", \"massage\", \"matter\", \"maybe\", \"maybe\", \"me\", \"military\", \"missile\", \"more\", \"morning\", \"must\", \"my\", \"name\", \"nancy\", \"near\", \"need\", \"new\", \"news\", \"no\", \"no\", \"not\", \"not\", \"of\", \"of\", \"of\", \"of\", \"off\", \"on\", \"on\", \"on\", \"open\", \"or\", \"out\", \"p\", \"panda\", \"part\", \"peace\", \"people\", \"pink\", \"president\", \"production\", \"province\", \"radio\", \"rally\", \"ready\", \"regional\", \"research\", \"s\", \"s\", \"s\", \"said\", \"should\", \"show\", \"small\", \"so\", \"solidarity\", \"speaker\", \"speech\", \"story\", \"strait\", \"summer\", \"supporting\", \"t\", \"t\", \"that\", \"that\", \"the\", \"the\", \"the\", \"theater\", \"there\", \"these\", \"think\", \"think\", \"this\", \"this\", \"this\", \"time\", \"time\", \"times\", \"to\", \"to\", \"to\", \"today\", \"too\", \"travel\", \"trip\", \"true\", \"u\", \"us\", \"us\", \"us\", \"via\", \"via\", \"video\", \"visit\", \"want\", \"war\", \"was\", \"watch\", \"watch\", \"we\", \"we\", \"week\", \"what\", \"why\", \"win\", \"wise\", \"with\", \"word\", \"world\", \"world\", \"ww3\", \"x\", \"yell\", \"you\", \"your\", \"\\u2019\", \"\\u2019\", \"\\u201c\", \"\\u201d\", \"\\u2026\", \"\\u2026\", \"\\u2026\", \"\\u2026\", \"\\u2066\\u2069\", \"\\u27a1\\ufe0f\", \"\\ud83c\\udde8\\ud83c\\uddf3\", \"\\ud83c\\uddec\\ud83c\\uddf7\", \"\\ud83c\\uddf9\\ud83c\\uddfc\", \"\\ud83d\\udc49\", \"\\ud83e\\udd17\"]}, \"R\": 30, \"lambda.step\": 0.01, \"plot.opts\": {\"xlab\": \"PC1\", \"ylab\": \"PC2\"}, \"topic.order\": [1, 2, 5, 4, 3]};\n",
       "\n",
       "function LDAvis_load_lib(url, callback){\n",
       "  var s = document.createElement('script');\n",
       "  s.src = url;\n",
       "  s.async = true;\n",
       "  s.onreadystatechange = s.onload = callback;\n",
       "  s.onerror = function(){console.warn(\"failed to load library \" + url);};\n",
       "  document.getElementsByTagName(\"head\")[0].appendChild(s);\n",
       "}\n",
       "\n",
       "if(typeof(LDAvis) !== \"undefined\"){\n",
       "   // already loaded: just create the visualization\n",
       "   !function(LDAvis){\n",
       "       new LDAvis(\"#\" + \"ldavis_el394422095960213281632965564\", ldavis_el394422095960213281632965564_data);\n",
       "   }(LDAvis);\n",
       "}else if(typeof define === \"function\" && define.amd){\n",
       "   // require.js is available: use it to load d3/LDAvis\n",
       "   require.config({paths: {d3: \"https://d3js.org/d3.v5\"}});\n",
       "   require([\"d3\"], function(d3){\n",
       "      window.d3 = d3;\n",
       "      LDAvis_load_lib(\"https://cdn.jsdelivr.net/gh/bmabey/pyLDAvis@3.3.1/pyLDAvis/js/ldavis.v3.0.0.js\", function(){\n",
       "        new LDAvis(\"#\" + \"ldavis_el394422095960213281632965564\", ldavis_el394422095960213281632965564_data);\n",
       "      });\n",
       "    });\n",
       "}else{\n",
       "    // require.js not available: dynamically load d3 & LDAvis\n",
       "    LDAvis_load_lib(\"https://d3js.org/d3.v5.js\", function(){\n",
       "         LDAvis_load_lib(\"https://cdn.jsdelivr.net/gh/bmabey/pyLDAvis@3.3.1/pyLDAvis/js/ldavis.v3.0.0.js\", function(){\n",
       "                 new LDAvis(\"#\" + \"ldavis_el394422095960213281632965564\", ldavis_el394422095960213281632965564_data);\n",
       "            })\n",
       "         });\n",
       "}\n",
       "</script>"
      ],
      "text/plain": [
       "PreparedData(topic_coordinates=              x         y  topics  cluster       Freq\n",
       "topic                                                \n",
       "0     -0.036328  0.050135       1        1  40.590422\n",
       "1     -0.196410 -0.068984       2        1  17.024521\n",
       "4     -0.168992  0.116625       3        1  16.329988\n",
       "3      0.259526  0.186538       4        1  14.038816\n",
       "2      0.142203 -0.284315       5        1  12.016253, topic_info=        Term        Freq       Total Category  logprob  loglift\n",
       "31        on  675.000000  675.000000  Default  30.0000  30.0000\n",
       "11     china  926.000000  926.000000  Default  29.0000  29.0000\n",
       "9          a  530.000000  530.000000  Default  28.0000  28.0000\n",
       "413  missile  320.000000  320.000000  Default  27.0000  27.0000\n",
       "131        s  775.000000  775.000000  Default  26.0000  26.0000\n",
       "..       ...         ...         ...      ...      ...      ...\n",
       "27         …   56.767065  230.683669   Topic5  -3.9867   0.7168\n",
       "11     china   77.566216  926.548847   Topic5  -3.6745  -0.3614\n",
       "48     after   20.783602   29.304941   Topic5  -4.9915   1.7753\n",
       "31        on   43.629727  675.276865   Topic5  -4.2499  -0.6205\n",
       "57        in   32.943797  504.796163   Topic5  -4.5309  -0.6104\n",
       "\n",
       "[245 rows x 6 columns], token_table=      Topic      Freq  Term\n",
       "term                       \n",
       "45        4  0.429547     1\n",
       "45        5  0.490911     1\n",
       "764       2  0.968129  2022\n",
       "414       1  0.985829     3\n",
       "113       4  0.947043     4\n",
       "...     ...       ...   ...\n",
       "587       2  0.985351    🇨🇳\n",
       "34        5  0.954203    🇬🇷\n",
       "453       2  0.991128    🇹🇼\n",
       "35        5  0.976175     👉\n",
       "1093      5  0.987913     🤗\n",
       "\n",
       "[244 rows x 3 columns], R=30, lambda_step=0.01, plot_opts={'xlab': 'PC1', 'ylab': 'PC2'}, topic_order=[1, 2, 5, 4, 3])"
      ]
     },
     "execution_count": 71,
     "metadata": {},
     "output_type": "execute_result"
    }
   ],
   "source": [
    "import pyLDAvis.gensim_models as gensimvis\n",
    "import pickle \n",
    "import pyLDAvis\n",
    "# Visualize the topics\n",
    "pyLDAvis.enable_notebook()\n",
    "\n",
    "LDAvis_prepared = gensimvis.prepare(lda_model, corpus, id2word)\n",
    "LDAvis_prepared"
   ]
  },
  {
   "cell_type": "code",
   "execution_count": null,
   "id": "7d813dcb",
   "metadata": {},
   "outputs": [],
   "source": []
  },
  {
   "cell_type": "markdown",
   "id": "a261d72b",
   "metadata": {},
   "source": [
    "## Sentiment Analysis"
   ]
  },
  {
   "cell_type": "code",
   "execution_count": 40,
   "id": "6a5366eb",
   "metadata": {},
   "outputs": [],
   "source": [
    "# importing \n",
    "import numpy as np \n",
    "import matplotlib.pyplot as plt\n",
    "import seaborn as sns\n",
    "%matplotlib inline"
   ]
  },
  {
   "cell_type": "code",
   "execution_count": 41,
   "id": "f7d98b9b",
   "metadata": {},
   "outputs": [],
   "source": [
    "# adding sentiment columne "
   ]
  },
  {
   "cell_type": "code",
   "execution_count": 42,
   "id": "d53e4ba2",
   "metadata": {
    "scrolled": false
   },
   "outputs": [
    {
     "data": {
      "text/html": [
       "<div>\n",
       "<style scoped>\n",
       "    .dataframe tbody tr th:only-of-type {\n",
       "        vertical-align: middle;\n",
       "    }\n",
       "\n",
       "    .dataframe tbody tr th {\n",
       "        vertical-align: top;\n",
       "    }\n",
       "\n",
       "    .dataframe thead th {\n",
       "        text-align: right;\n",
       "    }\n",
       "</style>\n",
       "<table border=\"1\" class=\"dataframe\">\n",
       "  <thead>\n",
       "    <tr style=\"text-align: right;\">\n",
       "      <th></th>\n",
       "      <th>created_at</th>\n",
       "      <th>source</th>\n",
       "      <th>original_text</th>\n",
       "      <th>subjectivity</th>\n",
       "      <th>polarity</th>\n",
       "      <th>lang</th>\n",
       "      <th>favorite_count</th>\n",
       "      <th>retweet_count</th>\n",
       "      <th>original_author</th>\n",
       "      <th>followers_count</th>\n",
       "      <th>friends_count</th>\n",
       "      <th>possibly_sensitive</th>\n",
       "      <th>hashtags</th>\n",
       "      <th>user_mentions</th>\n",
       "      <th>place</th>\n",
       "      <th>clean_text</th>\n",
       "    </tr>\n",
       "  </thead>\n",
       "  <tbody>\n",
       "    <tr>\n",
       "      <th>5</th>\n",
       "      <td>2022-08-07 22:31:02+00:00</td>\n",
       "      <td>&lt;a href=\"http://twitter.com/download/android\" ...</td>\n",
       "      <td>RT @benedictrogers: We must not let this happe...</td>\n",
       "      <td>0.5</td>\n",
       "      <td>0.2</td>\n",
       "      <td>en</td>\n",
       "      <td>116</td>\n",
       "      <td>36</td>\n",
       "      <td>GraceCh15554845</td>\n",
       "      <td>207</td>\n",
       "      <td>54</td>\n",
       "      <td>False</td>\n",
       "      <td>Taiwan</td>\n",
       "      <td>benedictrogers</td>\n",
       "      <td>Melbourne, Victoria</td>\n",
       "      <td>we must not let this happen  we must be ready...</td>\n",
       "    </tr>\n",
       "  </tbody>\n",
       "</table>\n",
       "</div>"
      ],
      "text/plain": [
       "                 created_at  \\\n",
       "5 2022-08-07 22:31:02+00:00   \n",
       "\n",
       "                                              source  \\\n",
       "5  <a href=\"http://twitter.com/download/android\" ...   \n",
       "\n",
       "                                       original_text  subjectivity  polarity  \\\n",
       "5  RT @benedictrogers: We must not let this happe...           0.5       0.2   \n",
       "\n",
       "  lang  favorite_count  retweet_count  original_author  followers_count  \\\n",
       "5   en             116             36  GraceCh15554845              207   \n",
       "\n",
       "   friends_count possibly_sensitive hashtags   user_mentions  \\\n",
       "5             54              False   Taiwan  benedictrogers   \n",
       "\n",
       "                 place                                         clean_text  \n",
       "5  Melbourne, Victoria   we must not let this happen  we must be ready...  "
      ]
     },
     "execution_count": 42,
     "metadata": {},
     "output_type": "execute_result"
    }
   ],
   "source": [
    "tweets_df.head(1)"
   ]
  },
  {
   "cell_type": "code",
   "execution_count": 72,
   "id": "4523632c",
   "metadata": {},
   "outputs": [],
   "source": [
    "# adding sentiment \n",
    "tweets_df.insert(1,column = 'sentiment',value = \"\")\n",
    "#tweets_df.insert(4,column = 'sentiment',value = tweets_df[''])"
   ]
  },
  {
   "cell_type": "code",
   "execution_count": 78,
   "id": "21c3e86e",
   "metadata": {},
   "outputs": [],
   "source": [
    "def text_category (polarity):\n",
    "    if polarity > 0:\n",
    "        return 'positive'\n",
    "    if polarity < 0:\n",
    "        return 'negative'\n",
    "    else:\n",
    "        return 'neutral'"
   ]
  },
  {
   "cell_type": "code",
   "execution_count": 79,
   "id": "870cc9d5",
   "metadata": {},
   "outputs": [
    {
     "name": "stdout",
     "output_type": "stream",
     "text": [
      "sucees\n"
     ]
    }
   ],
   "source": [
    "score= pd.Series([text_category(row_value) for row_value in tweets_df['polarity']])\n",
    "print(\"sucees\")\n",
    "tweets_df = pd.concat([tweets_df, score.rename('sentiment')], axis=1)\n"
   ]
  },
  {
   "cell_type": "code",
   "execution_count": 87,
   "id": "2d56e4eb",
   "metadata": {},
   "outputs": [
    {
     "name": "stdout",
     "output_type": "stream",
     "text": [
      "<class 'pandas.core.frame.DataFrame'>\n",
      "Int64Index: 5494 entries, 5 to 3797\n",
      "Data columns (total 17 columns):\n",
      " #   Column              Non-Null Count  Dtype              \n",
      "---  ------              --------------  -----              \n",
      " 0   created_at          1976 non-null   datetime64[ns, UTC]\n",
      " 1   source              1976 non-null   object             \n",
      " 2   original_text       1976 non-null   object             \n",
      " 3   subjectivity        1976 non-null   float64            \n",
      " 4   polarity            1976 non-null   float64            \n",
      " 5   lang                1976 non-null   object             \n",
      " 6   favorite_count      1976 non-null   float64            \n",
      " 7   retweet_count       1976 non-null   float64            \n",
      " 8   original_author     1976 non-null   object             \n",
      " 9   followers_count     1976 non-null   float64            \n",
      " 10  friends_count       1976 non-null   float64            \n",
      " 11  possibly_sensitive  1976 non-null   object             \n",
      " 12  hashtags            1976 non-null   object             \n",
      " 13  user_mentions       1976 non-null   object             \n",
      " 14  place               1976 non-null   object             \n",
      " 15  clean_text          1976 non-null   object             \n",
      " 16  sentiment           3799 non-null   object             \n",
      "dtypes: datetime64[ns, UTC](1), float64(6), object(10)\n",
      "memory usage: 772.6+ KB\n"
     ]
    }
   ],
   "source": [
    "tweets_df.info()"
   ]
  },
  {
   "cell_type": "code",
   "execution_count": 118,
   "id": "77c1d717",
   "metadata": {},
   "outputs": [],
   "source": [
    "# droping null value \n",
    "tweets_df.dropna(inplace = True)\n"
   ]
  },
  {
   "cell_type": "code",
   "execution_count": 119,
   "id": "1606636d",
   "metadata": {},
   "outputs": [],
   "source": [
    "# Selecting the feature and the label\n",
    "features = tweets_df.iloc[:, 15].values\n",
    "labels = tweets_df.iloc[:, 16].values"
   ]
  },
  {
   "cell_type": "code",
   "execution_count": 72,
   "id": "d96c136f",
   "metadata": {},
   "outputs": [
    {
     "name": "stdout",
     "output_type": "stream",
     "text": [
      "['Melbourne, Victoria' 'Florida, USA' 'Hong Kong' 'Paris' 'Hong Kong'\n",
      " 'Turin, ITALY' 'London' 'Singapore' 'Singapore' 'SHITHOLE DEMOCRAT CITY'\n",
      " 'Singapore' 'Barcelona. España ' 'London' 'US' 'United States'\n",
      " 'Hargeisa- Rep of Somaliland' 'New York, NY' 'North West, England'\n",
      " 'United Kingdom' 'Pakistan' 'Washington, DC' 'North Carolina, USA '\n",
      " 'Beijing, China ' 'New York, NY' 'Chicago' 'India' 'United Kingdom'\n",
      " 'United Kingdom' 'United Kingdom' 'Taipei, Taiwan'\n",
      " \"Shanghai, People's Republic of China\" 'Orwell 1984 '\n",
      " ' GuangZhou，Shenzhen, Canada，' 'Karachi, Pakistan' 'London'\n",
      " 'Ft. Worth, Tx' 'India' 'Canada' 'Saltillo' 'Peshawar, Pakistan'\n",
      " 'Irvine, CA' 'The Netherlands' 'Sevilla, España' 'Venezuela'\n",
      " 'Buenos Aires & London' 'Paris' 'Quelque Part' 'Spokane, WA'\n",
      " 'London, England' 'London, England' 'BLACKO WIASE  - Sad Boys FC🧳'\n",
      " 'World' 'Hong Kong ' 'www.facebook.com/mariocavolo' 'Journalism/News'\n",
      " 'san juan' 'Wop wops' 'กรุงเทพมหานคร, ประเทศไทย' 'Berkeley, CA'\n",
      " 'West Haven, CT' 'Cupertino' 'Stranded in Mayberry' 'New York, USA'\n",
      " 'Brooklyn, NY' 'New Delhi, India' 'Adventureland (冒险岛)' 'Clydebank'\n",
      " 'Electric Ladyland' 'Sevilla' 'Unami, Lenapehoking ' 'Earth'\n",
      " 'London, England' 'La Serena, Chile' 'Hennessy in a TeaCup '\n",
      " 'Hennessy in a TeaCup ' 'Hennessy in a TeaCup ' '村里'\n",
      " 'South East, England' 'Virginia' '奈良県 奈良市 Nara, JAPAN' 'Bangkok.....'\n",
      " 'Everywhere🌍' 'Hidden Leaf Villiage' 'Bulgaria' '🇨🇳🇪🇺🇮🇪' 'Paris'\n",
      " 'Islamabad,Pakistan' 'Taipei, Taiwan 🇹🇼' 'Four Corners, FL'\n",
      " 'Deep inside the rabbit hole' 'England' 'California'\n",
      " 'Rethinking the World with You' 'Danbury, CT' 'Rize, Türkiye'\n",
      " 'Delhi Church of scientology ' 'Pindwara, India ' 'Los Angeles'\n",
      " 'Pale blue dot getting hotter' '#DO NOT COMPLY EVER💥'\n",
      " 'Frankfurt International School' 'Global citizen' 'Animal Farm'\n",
      " 'New Delhi, India' 'belvil' 'Mt Shasta, California USA' 'Sydney'\n",
      " 'This World' 'Bumblefeck Nowhere ' 'Los Angeles, CA' 'Simi Valley, CA'\n",
      " 'Simi Valley, CA' 'frontalier' 'Beograd, Srbija'\n",
      " 'Kolkata, India (Calcutta)' 'Asia Europe Sahara' 'Embu ' 'Shanghai'\n",
      " 'Pindwara, India ' '无产阶级文化大革命📕🇨🇳' 'Taiwan' 'Lausanne, Vaud, Suisse'\n",
      " 'Ottawa, Ontario' 'Berlin' 'Dhaka-uttara ' 'Hong Kong' 'Hong Kong'\n",
      " 'https://smartsway.fm/podcast/' 'India' 'Quebec, Canada' 'Oceania' '台灣'\n",
      " 'Paris' 'Paris' 'United States' 'California, USA' 'World' 'Maine, USA'\n",
      " 'Taiwan' 'Brisbane, Australia 🇦🇺 ' 'Stranded in Mayberry'\n",
      " 'London, England' 'Sevilla' 'un endroit ' 'Vancouver, BC'\n",
      " 'Washington, D.C.' 'Beach' '台灣' 'The Republic of Somaliland'\n",
      " 'Voice of America' 'London, England' 'Afghanistan' 'Houston, TX']\n"
     ]
    }
   ],
   "source": [
    "print(features)"
   ]
  },
  {
   "cell_type": "code",
   "execution_count": 122,
   "id": "8c4b23f2",
   "metadata": {},
   "outputs": [],
   "source": [
    "#Data Cleaning using regular expression\n",
    "processed_features = []\n",
    "\n",
    "for sentence in range(0, len(features)):\n",
    "    # Remove all the special characters\n",
    "    processed_feature = re.sub(r'\\W', ' ', str(features[sentence]))\n",
    "\n",
    "    # remove all single characters\n",
    "    processed_feature= re.sub(r'\\s+[a-zA-Z]\\s+', ' ', processed_feature)\n",
    "\n",
    "    # Remove single characters from the start\n",
    "    processed_feature = re.sub(r'\\^[a-zA-Z]\\s+', ' ', processed_feature) \n",
    "\n",
    "    # Substituting multiple spaces with single space\n",
    "    processed_feature = re.sub(r'\\s+', ' ', processed_feature, flags=re.I)\n",
    "\n",
    "    # Removing prefixed 'b'\n",
    "    processed_feature = re.sub(r'^b\\s+', '', processed_feature)\n",
    "\n",
    "    # Converting to Lowercase\n",
    "    processed_feature = processed_feature.lower()\n",
    "\n",
    "    processed_features.append(processed_feature)"
   ]
  },
  {
   "cell_type": "code",
   "execution_count": 70,
   "id": "dde2866a",
   "metadata": {
    "scrolled": true
   },
   "outputs": [
    {
     "name": "stderr",
     "output_type": "stream",
     "text": [
      "[nltk_data] Downloading package stopwords to\n",
      "[nltk_data]     C:\\Users\\Ekubay\\AppData\\Roaming\\nltk_data...\n",
      "[nltk_data]   Package stopwords is already up-to-date!\n"
     ]
    },
    {
     "data": {
      "text/plain": [
       "True"
      ]
     },
     "execution_count": 70,
     "metadata": {},
     "output_type": "execute_result"
    }
   ],
   "source": [
    "import nltk\n",
    "nltk.download('stopwords')"
   ]
  },
  {
   "cell_type": "code",
   "execution_count": 123,
   "id": "1c466be6",
   "metadata": {},
   "outputs": [],
   "source": [
    "from nltk.corpus import stopwords\n",
    "from sklearn.feature_extraction.text import TfidfVectorizer\n",
    "\n",
    "vectorizer = TfidfVectorizer (max_features=2500, min_df=7, max_df=0.8, stop_words=stopwords.words('english'))\n",
    "processed_features_vectorized = vectorizer.fit_transform(processed_features).toarray()"
   ]
  },
  {
   "cell_type": "code",
   "execution_count": 124,
   "id": "f01b36dd",
   "metadata": {},
   "outputs": [],
   "source": [
    "# split\n",
    "from sklearn.model_selection import train_test_split\n",
    "\n",
    "X_train, X_test, y_train, y_test = train_test_split(processed_features_vectorized, labels, test_size=0.2, random_state=0)"
   ]
  },
  {
   "cell_type": "code",
   "execution_count": 126,
   "id": "e5b50845",
   "metadata": {
    "scrolled": true
   },
   "outputs": [
    {
     "data": {
      "text/plain": [
       "RandomForestClassifier(n_estimators=200, random_state=0)"
      ]
     },
     "execution_count": 126,
     "metadata": {},
     "output_type": "execute_result"
    }
   ],
   "source": [
    "# training \n",
    "from sklearn.ensemble import RandomForestClassifier\n",
    "\n",
    "text_classifier = RandomForestClassifier(n_estimators=200, random_state=0)\n",
    "text_classifier.fit(X_train, y_train)"
   ]
  },
  {
   "cell_type": "code",
   "execution_count": 127,
   "id": "baa010c1",
   "metadata": {},
   "outputs": [],
   "source": [
    "#prediction\n",
    "predictions = text_classifier.predict(X_test)"
   ]
  },
  {
   "cell_type": "code",
   "execution_count": 128,
   "id": "6d9e024d",
   "metadata": {
    "scrolled": true
   },
   "outputs": [
    {
     "data": {
      "text/plain": [
       "array(['neutral', 'neutral', 'neutral', 'negative', 'neutral', 'neutral',\n",
       "       'neutral', 'positive', 'neutral', 'neutral'], dtype=object)"
      ]
     },
     "execution_count": 128,
     "metadata": {},
     "output_type": "execute_result"
    }
   ],
   "source": [
    "predictions[:10]"
   ]
  },
  {
   "cell_type": "code",
   "execution_count": 129,
   "id": "e069f636",
   "metadata": {},
   "outputs": [
    {
     "name": "stdout",
     "output_type": "stream",
     "text": [
      "0.6140350877192983\n"
     ]
    }
   ],
   "source": [
    "from sklearn.metrics import accuracy_score\n",
    "\n",
    "print(accuracy_score(y_test, predictions))"
   ]
  }
 ],
 "metadata": {
  "kernelspec": {
   "display_name": "Python 3 (ipykernel)",
   "language": "python",
   "name": "python3"
  },
  "language_info": {
   "codemirror_mode": {
    "name": "ipython",
    "version": 3
   },
   "file_extension": ".py",
   "mimetype": "text/x-python",
   "name": "python",
   "nbconvert_exporter": "python",
   "pygments_lexer": "ipython3",
   "version": "3.9.7"
  }
 },
 "nbformat": 4,
 "nbformat_minor": 5
}
