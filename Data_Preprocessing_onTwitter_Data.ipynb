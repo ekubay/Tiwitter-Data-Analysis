{
 "cells": [
  {
   "cell_type": "markdown",
   "id": "57b3372e",
   "metadata": {},
   "source": [
    "## Data exploration and pre-processing\n",
    "Basically, for any data analysis or machine learning project the following has to be conducted\n",
    "- Data gtahering \n",
    "- Data assessing \n",
    "- Data ceaning "
   ]
  },
  {
   "cell_type": "markdown",
   "id": "c0b05ca8",
   "metadata": {},
   "source": [
    "## Data gathering has been allready done"
   ]
  },
  {
   "cell_type": "markdown",
   "id": "af3b01b3",
   "metadata": {},
   "source": [
    "## Data assessing \n",
    "- Assessing is the second and it is assessed to inspect data for two things:\n",
    " - **Data quality issues**: Data that has quality issues have issues with content like missing, duplicate, or incorrect data. \n",
    " - **Lack of tidiness**: Data that has specific structural issues\n",
    "\n",
    "You can search for these issues in two ways:\n",
    "- Visually by scrolling\n",
    "- Programmatically using code"
   ]
  },
  {
   "cell_type": "markdown",
   "id": "7afee765",
   "metadata": {},
   "source": [
    "for this project I used programmatic Assessment using the following methods \n",
    "- .head (DataFrame and Series)\n",
    "- .tail (DataFrame and Series)\n",
    "- .sample (DataFrame and Series)\n",
    "- .info (DataFrame only)\n",
    "- .describe (DataFrame and Series)\n",
    "- and other\n",
    "\n",
    "### some methods associated with quality issue\n",
    "- .value_counts \n",
    "- .duplicates \n",
    "- .sort_values \n",
    "- sum of .isnull "
   ]
  },
  {
   "cell_type": "code",
   "execution_count": 1,
   "id": "b7f6bfb2",
   "metadata": {},
   "outputs": [],
   "source": [
    "# loding liberaries\n",
    "import matplotlib.pyplot as plt\n",
    "import pandas as pd\n",
    "import warnings\n",
    "warnings.filterwarnings('ignore')\n",
    "import matplotlib.pyplot as plt\n",
    "import seaborn as sns\n",
    "import gensim\n",
    "from gensim.models import CoherenceModel\n",
    "from gensim import corpora\n",
    "from pprint import pprint\n",
    "import string\n",
    "import os\n",
    "import re\n",
    "import emoji\n",
    "import nltk\n",
    "%matplotlib inline"
   ]
  },
  {
   "cell_type": "code",
   "execution_count": 11,
   "id": "624208a3",
   "metadata": {},
   "outputs": [],
   "source": [
    "def load_data():\n",
    "    data=pd.read_csv('cleaned_twitterData_data.csv')\n",
    "    return data\n",
    "\n",
    "df = load_data()"
   ]
  },
  {
   "cell_type": "code",
   "execution_count": 9,
   "id": "4b74044c",
   "metadata": {
    "scrolled": true
   },
   "outputs": [
    {
     "data": {
      "text/html": [
       "<div>\n",
       "<style scoped>\n",
       "    .dataframe tbody tr th:only-of-type {\n",
       "        vertical-align: middle;\n",
       "    }\n",
       "\n",
       "    .dataframe tbody tr th {\n",
       "        vertical-align: top;\n",
       "    }\n",
       "\n",
       "    .dataframe thead th {\n",
       "        text-align: right;\n",
       "    }\n",
       "</style>\n",
       "<table border=\"1\" class=\"dataframe\">\n",
       "  <thead>\n",
       "    <tr style=\"text-align: right;\">\n",
       "      <th></th>\n",
       "      <th>created_at</th>\n",
       "      <th>source</th>\n",
       "      <th>original_text</th>\n",
       "      <th>subjectivity</th>\n",
       "      <th>polarity</th>\n",
       "      <th>lang</th>\n",
       "      <th>favorite_count</th>\n",
       "      <th>retweet_count</th>\n",
       "      <th>original_author</th>\n",
       "      <th>followers_count</th>\n",
       "      <th>friends_count</th>\n",
       "      <th>possibly_sensitive</th>\n",
       "      <th>hashtags</th>\n",
       "      <th>user_mentions</th>\n",
       "      <th>place</th>\n",
       "    </tr>\n",
       "  </thead>\n",
       "  <tbody>\n",
       "    <tr>\n",
       "      <th>0</th>\n",
       "      <td>Sun Aug 07 22:31:20 +0000 2022</td>\n",
       "      <td>&lt;a href=\"http://twitter.com/download/android\" ...</td>\n",
       "      <td>RT @i_ameztoy: Extra random image (I):\\n\\nLets...</td>\n",
       "      <td>0.190625</td>\n",
       "      <td>-0.125</td>\n",
       "      <td>en</td>\n",
       "      <td>4</td>\n",
       "      <td>2</td>\n",
       "      <td>i_ameztoy</td>\n",
       "      <td>20497</td>\n",
       "      <td>2621</td>\n",
       "      <td>NaN</td>\n",
       "      <td>City</td>\n",
       "      <td>i_ameztoy</td>\n",
       "      <td>NaN</td>\n",
       "    </tr>\n",
       "    <tr>\n",
       "      <th>1</th>\n",
       "      <td>Sun Aug 07 22:31:16 +0000 2022</td>\n",
       "      <td>&lt;a href=\"http://twitter.com/download/android\" ...</td>\n",
       "      <td>RT @IndoPac_Info: #China's media explains the ...</td>\n",
       "      <td>0.100000</td>\n",
       "      <td>-0.100</td>\n",
       "      <td>en</td>\n",
       "      <td>691</td>\n",
       "      <td>201</td>\n",
       "      <td>ZIisq</td>\n",
       "      <td>65</td>\n",
       "      <td>272</td>\n",
       "      <td>NaN</td>\n",
       "      <td>China, Taiwan</td>\n",
       "      <td>IndoPac_Info</td>\n",
       "      <td>NaN</td>\n",
       "    </tr>\n",
       "  </tbody>\n",
       "</table>\n",
       "</div>"
      ],
      "text/plain": [
       "                       created_at  \\\n",
       "0  Sun Aug 07 22:31:20 +0000 2022   \n",
       "1  Sun Aug 07 22:31:16 +0000 2022   \n",
       "\n",
       "                                              source  \\\n",
       "0  <a href=\"http://twitter.com/download/android\" ...   \n",
       "1  <a href=\"http://twitter.com/download/android\" ...   \n",
       "\n",
       "                                       original_text  subjectivity  polarity  \\\n",
       "0  RT @i_ameztoy: Extra random image (I):\\n\\nLets...      0.190625    -0.125   \n",
       "1  RT @IndoPac_Info: #China's media explains the ...      0.100000    -0.100   \n",
       "\n",
       "  lang  favorite_count  retweet_count original_author  followers_count  \\\n",
       "0   en               4              2       i_ameztoy            20497   \n",
       "1   en             691            201           ZIisq               65   \n",
       "\n",
       "   friends_count possibly_sensitive       hashtags user_mentions place  \n",
       "0           2621                NaN           City     i_ameztoy   NaN  \n",
       "1            272                NaN  China, Taiwan  IndoPac_Info   NaN  "
      ]
     },
     "execution_count": 9,
     "metadata": {},
     "output_type": "execute_result"
    }
   ],
   "source": [
    "df.head(2)"
   ]
  },
  {
   "cell_type": "code",
   "execution_count": 10,
   "id": "6cb04eba",
   "metadata": {},
   "outputs": [
    {
     "data": {
      "text/plain": [
       "(21997, 15)"
      ]
     },
     "execution_count": 10,
     "metadata": {},
     "output_type": "execute_result"
    }
   ],
   "source": [
    "# shape info\n",
    "df.shape"
   ]
  },
  {
   "cell_type": "code",
   "execution_count": 11,
   "id": "1c1b3902",
   "metadata": {
    "scrolled": true
   },
   "outputs": [
    {
     "name": "stdout",
     "output_type": "stream",
     "text": [
      "<class 'pandas.core.frame.DataFrame'>\n",
      "RangeIndex: 21997 entries, 0 to 21996\n",
      "Data columns (total 15 columns):\n",
      " #   Column              Non-Null Count  Dtype  \n",
      "---  ------              --------------  -----  \n",
      " 0   created_at          21997 non-null  object \n",
      " 1   source              21997 non-null  object \n",
      " 2   original_text       21997 non-null  object \n",
      " 3   subjectivity        21997 non-null  float64\n",
      " 4   polarity            21997 non-null  float64\n",
      " 5   lang                21997 non-null  object \n",
      " 6   favorite_count      21997 non-null  int64  \n",
      " 7   retweet_count       21997 non-null  int64  \n",
      " 8   original_author     21997 non-null  object \n",
      " 9   followers_count     21997 non-null  int64  \n",
      " 10  friends_count       21997 non-null  int64  \n",
      " 11  possibly_sensitive  6190 non-null   object \n",
      " 12  hashtags            19138 non-null  object \n",
      " 13  user_mentions       18695 non-null  object \n",
      " 14  place               12106 non-null  object \n",
      "dtypes: float64(2), int64(4), object(9)\n",
      "memory usage: 2.5+ MB\n"
     ]
    }
   ],
   "source": [
    "# checking against null value\n",
    "df.info()"
   ]
  },
  {
   "cell_type": "code",
   "execution_count": 23,
   "id": "ba345366",
   "metadata": {
    "scrolled": true
   },
   "outputs": [
    {
     "data": {
      "text/html": [
       "<div>\n",
       "<style scoped>\n",
       "    .dataframe tbody tr th:only-of-type {\n",
       "        vertical-align: middle;\n",
       "    }\n",
       "\n",
       "    .dataframe tbody tr th {\n",
       "        vertical-align: top;\n",
       "    }\n",
       "\n",
       "    .dataframe thead th {\n",
       "        text-align: right;\n",
       "    }\n",
       "</style>\n",
       "<table border=\"1\" class=\"dataframe\">\n",
       "  <thead>\n",
       "    <tr style=\"text-align: right;\">\n",
       "      <th></th>\n",
       "      <th>subjectivity</th>\n",
       "      <th>polarity</th>\n",
       "      <th>favorite_count</th>\n",
       "      <th>retweet_count</th>\n",
       "      <th>followers_count</th>\n",
       "      <th>friends_count</th>\n",
       "    </tr>\n",
       "  </thead>\n",
       "  <tbody>\n",
       "    <tr>\n",
       "      <th>count</th>\n",
       "      <td>21997.000000</td>\n",
       "      <td>21997.000000</td>\n",
       "      <td>21997.000000</td>\n",
       "      <td>21997.000000</td>\n",
       "      <td>2.199700e+04</td>\n",
       "      <td>21997.000000</td>\n",
       "    </tr>\n",
       "    <tr>\n",
       "      <th>mean</th>\n",
       "      <td>0.283878</td>\n",
       "      <td>0.061334</td>\n",
       "      <td>852.241033</td>\n",
       "      <td>176.768241</td>\n",
       "      <td>1.796985e+04</td>\n",
       "      <td>1563.237305</td>\n",
       "    </tr>\n",
       "    <tr>\n",
       "      <th>std</th>\n",
       "      <td>0.290964</td>\n",
       "      <td>0.223716</td>\n",
       "      <td>3106.276392</td>\n",
       "      <td>498.466921</td>\n",
       "      <td>3.030684e+05</td>\n",
       "      <td>4358.923487</td>\n",
       "    </tr>\n",
       "    <tr>\n",
       "      <th>min</th>\n",
       "      <td>0.000000</td>\n",
       "      <td>-1.000000</td>\n",
       "      <td>0.000000</td>\n",
       "      <td>0.000000</td>\n",
       "      <td>0.000000e+00</td>\n",
       "      <td>0.000000</td>\n",
       "    </tr>\n",
       "    <tr>\n",
       "      <th>25%</th>\n",
       "      <td>0.000000</td>\n",
       "      <td>0.000000</td>\n",
       "      <td>2.000000</td>\n",
       "      <td>2.000000</td>\n",
       "      <td>5.700000e+01</td>\n",
       "      <td>137.000000</td>\n",
       "    </tr>\n",
       "    <tr>\n",
       "      <th>50%</th>\n",
       "      <td>0.200000</td>\n",
       "      <td>0.000000</td>\n",
       "      <td>115.000000</td>\n",
       "      <td>38.000000</td>\n",
       "      <td>2.840000e+02</td>\n",
       "      <td>487.000000</td>\n",
       "    </tr>\n",
       "    <tr>\n",
       "      <th>75%</th>\n",
       "      <td>0.469048</td>\n",
       "      <td>0.133333</td>\n",
       "      <td>655.000000</td>\n",
       "      <td>187.000000</td>\n",
       "      <td>1.324000e+03</td>\n",
       "      <td>1599.000000</td>\n",
       "    </tr>\n",
       "    <tr>\n",
       "      <th>max</th>\n",
       "      <td>1.000000</td>\n",
       "      <td>1.000000</td>\n",
       "      <td>65170.000000</td>\n",
       "      <td>17409.000000</td>\n",
       "      <td>1.449852e+07</td>\n",
       "      <td>208360.000000</td>\n",
       "    </tr>\n",
       "  </tbody>\n",
       "</table>\n",
       "</div>"
      ],
      "text/plain": [
       "       subjectivity      polarity  favorite_count  retweet_count  \\\n",
       "count  21997.000000  21997.000000    21997.000000   21997.000000   \n",
       "mean       0.283878      0.061334      852.241033     176.768241   \n",
       "std        0.290964      0.223716     3106.276392     498.466921   \n",
       "min        0.000000     -1.000000        0.000000       0.000000   \n",
       "25%        0.000000      0.000000        2.000000       2.000000   \n",
       "50%        0.200000      0.000000      115.000000      38.000000   \n",
       "75%        0.469048      0.133333      655.000000     187.000000   \n",
       "max        1.000000      1.000000    65170.000000   17409.000000   \n",
       "\n",
       "       followers_count  friends_count  \n",
       "count     2.199700e+04   21997.000000  \n",
       "mean      1.796985e+04    1563.237305  \n",
       "std       3.030684e+05    4358.923487  \n",
       "min       0.000000e+00       0.000000  \n",
       "25%       5.700000e+01     137.000000  \n",
       "50%       2.840000e+02     487.000000  \n",
       "75%       1.324000e+03    1599.000000  \n",
       "max       1.449852e+07  208360.000000  "
      ]
     },
     "execution_count": 23,
     "metadata": {},
     "output_type": "execute_result"
    }
   ],
   "source": [
    "# satitstical information \n",
    "df.describe()"
   ]
  },
  {
   "cell_type": "code",
   "execution_count": 12,
   "id": "e951ec90",
   "metadata": {},
   "outputs": [
    {
     "data": {
      "text/plain": [
       "4"
      ]
     },
     "execution_count": 12,
     "metadata": {},
     "output_type": "execute_result"
    }
   ],
   "source": [
    "# checking null\n",
    "df.isnull().any().sum()"
   ]
  },
  {
   "cell_type": "code",
   "execution_count": 13,
   "id": "f5fac818",
   "metadata": {},
   "outputs": [
    {
     "data": {
      "text/plain": [
       "0"
      ]
     },
     "execution_count": 13,
     "metadata": {},
     "output_type": "execute_result"
    }
   ],
   "source": [
    "#checking against duplicated observation\n",
    "df.duplicated().any().sum()"
   ]
  },
  {
   "cell_type": "code",
   "execution_count": 39,
   "id": "bb6ea457",
   "metadata": {
    "scrolled": true
   },
   "outputs": [
    {
     "data": {
      "text/plain": [
       " 0.000000    8982\n",
       "-0.100000     973\n",
       " 0.133333     782\n",
       " 0.050000     502\n",
       " 0.500000     502\n",
       "             ... \n",
       "-0.014773       1\n",
       " 0.478788       1\n",
       " 0.059375       1\n",
       " 0.010000       1\n",
       " 0.207143       1\n",
       "Name: polarity, Length: 829, dtype: int64"
      ]
     },
     "execution_count": 39,
     "metadata": {},
     "output_type": "execute_result"
    }
   ],
   "source": [
    "## unique value and ther number of appearance in decending orde\n",
    "df['polarity'].value_counts()"
   ]
  },
  {
   "cell_type": "code",
   "execution_count": 40,
   "id": "bc2e20af",
   "metadata": {},
   "outputs": [
    {
     "data": {
      "text/plain": [
       "829"
      ]
     },
     "execution_count": 40,
     "metadata": {},
     "output_type": "execute_result"
    }
   ],
   "source": [
    "# number of unique values\n",
    "df['polarity'].nunique()"
   ]
  },
  {
   "cell_type": "code",
   "execution_count": 28,
   "id": "1be80934",
   "metadata": {},
   "outputs": [
    {
     "data": {
      "text/plain": [
       "15122   -1.0\n",
       "2909    -1.0\n",
       "7448    -1.0\n",
       "15248   -1.0\n",
       "7920    -1.0\n",
       "        ... \n",
       "21693    1.0\n",
       "13630    1.0\n",
       "20442    1.0\n",
       "20140    1.0\n",
       "9778     1.0\n",
       "Name: polarity, Length: 21997, dtype: float64"
      ]
     },
     "execution_count": 28,
     "metadata": {},
     "output_type": "execute_result"
    }
   ],
   "source": [
    "df['polarity'].sort_values()"
   ]
  },
  {
   "cell_type": "markdown",
   "id": "114468e8",
   "metadata": {},
   "source": [
    "### Result of the assesmement\n",
    "- Created_at datatype issue\n",
    "- missing vaues are there\n",
    "- the source and original text needs to be cleaned"
   ]
  },
  {
   "cell_type": "markdown",
   "id": "24b079b4",
   "metadata": {},
   "source": [
    "### Cleaning  \n",
    "it helps as to solve the following \n",
    "- duplicate data\n",
    "- missing data\n",
    "- inaccurate data\n",
    "- incomplete data"
   ]
  },
  {
   "cell_type": "code",
   "execution_count": 15,
   "id": "7edcd929",
   "metadata": {},
   "outputs": [],
   "source": [
    "# handling with missing values with drop method\n",
    "df.dropna(inplace = True)"
   ]
  },
  {
   "cell_type": "code",
   "execution_count": 42,
   "id": "65b2950b",
   "metadata": {},
   "outputs": [
    {
     "data": {
      "text/plain": [
       "0"
      ]
     },
     "execution_count": 42,
     "metadata": {},
     "output_type": "execute_result"
    }
   ],
   "source": [
    "# checking against missing value\n",
    "df.isnull().any().sum()"
   ]
  },
  {
   "cell_type": "code",
   "execution_count": 12,
   "id": "afcc2c1a",
   "metadata": {},
   "outputs": [],
   "source": [
    "# habdling created_at datatype\n",
    "df['created_at'] =pd.to_datetime(df['created_at'])"
   ]
  },
  {
   "cell_type": "code",
   "execution_count": 17,
   "id": "e7489a08",
   "metadata": {},
   "outputs": [
    {
     "data": {
      "text/plain": [
       "datetime64[ns, UTC]"
      ]
     },
     "execution_count": 17,
     "metadata": {},
     "output_type": "execute_result"
    }
   ],
   "source": [
    "#checking datatype\n",
    "df['created_at'].dtype"
   ]
  },
  {
   "cell_type": "markdown",
   "id": "386215c2",
   "metadata": {},
   "source": [
    "### Visualization "
   ]
  },
  {
   "cell_type": "code",
   "execution_count": 19,
   "id": "b9037713",
   "metadata": {
    "scrolled": false
   },
   "outputs": [
    {
     "data": {
      "image/png": "[encoded data removed]",
      "text/plain": [
       "<Figure size 432x288 with 1 Axes>"
      ]
     },
     "metadata": {
      "needs_background": "light"
     },
     "output_type": "display_data"
    }
   ],
   "source": [
    "# the plority distribution\n",
    "df.polarity.hist();\n",
    "plt.title(\"Distribution of the polarity using histogram\", fontsize = 13, fontweight = 'bold');"
   ]
  },
  {
   "cell_type": "code",
   "execution_count": null,
   "id": "09ce40f5",
   "metadata": {},
   "outputs": [],
   "source": []
  },
  {
   "cell_type": "code",
   "execution_count": 20,
   "id": "5f15e921",
   "metadata": {
    "scrolled": false
   },
   "outputs": [
    {
     "data": {
      "image/png": "[encoded data removed]",
      "text/plain": [
       "<Figure size 432x288 with 1 Axes>"
      ]
     },
     "metadata": {
      "needs_background": "light"
     },
     "output_type": "display_data"
    }
   ],
   "source": [
    "# polarity vs favorite_count using scatter plot\n",
    "df.plot(x = 'polarity', y = 'favorite_count', kind = 'scatter')\n",
    "plt.title(\"Relationship between polarity and favorite count\", fontsize = 13, fontweight = 'bold');"
   ]
  },
  {
   "cell_type": "code",
   "execution_count": 21,
   "id": "fefc0267",
   "metadata": {
    "scrolled": true
   },
   "outputs": [
    {
     "data": {
      "image/png": "[encoded data removed]",
      "text/plain": [
       "<Figure size 432x288 with 1 Axes>"
      ]
     },
     "metadata": {
      "needs_background": "light"
     },
     "output_type": "display_data"
    }
   ],
   "source": [
    "# the distribution of subjectivity\n",
    "df.subjectivity.hist();\n",
    "plt.title(\"Distribution of the subjectivity using histogram\", fontsize = 8, fontweight = 'bold');"
   ]
  },
  {
   "cell_type": "code",
   "execution_count": null,
   "id": "34348c40",
   "metadata": {},
   "outputs": [],
   "source": []
  },
  {
   "cell_type": "markdown",
   "id": "b053a264",
   "metadata": {},
   "source": [
    "## Topic Modeling "
   ]
  },
  {
   "cell_type": "code",
   "execution_count": 24,
   "id": "3d9a5158",
   "metadata": {},
   "outputs": [],
   "source": [
    "#object creation\n",
    "#DataLoader_obj= df"
   ]
  },
  {
   "cell_type": "code",
   "execution_count": 18,
   "id": "3bb6e100",
   "metadata": {
    "scrolled": true
   },
   "outputs": [
    {
     "data": {
      "text/html": [
       "<div>\n",
       "<style scoped>\n",
       "    .dataframe tbody tr th:only-of-type {\n",
       "        vertical-align: middle;\n",
       "    }\n",
       "\n",
       "    .dataframe tbody tr th {\n",
       "        vertical-align: top;\n",
       "    }\n",
       "\n",
       "    .dataframe thead th {\n",
       "        text-align: right;\n",
       "    }\n",
       "</style>\n",
       "<table border=\"1\" class=\"dataframe\">\n",
       "  <thead>\n",
       "    <tr style=\"text-align: right;\">\n",
       "      <th></th>\n",
       "      <th>created_at</th>\n",
       "      <th>source</th>\n",
       "      <th>original_text</th>\n",
       "      <th>subjectivity</th>\n",
       "      <th>polarity</th>\n",
       "      <th>lang</th>\n",
       "      <th>favorite_count</th>\n",
       "      <th>retweet_count</th>\n",
       "      <th>original_author</th>\n",
       "      <th>followers_count</th>\n",
       "      <th>friends_count</th>\n",
       "      <th>possibly_sensitive</th>\n",
       "      <th>hashtags</th>\n",
       "      <th>user_mentions</th>\n",
       "      <th>place</th>\n",
       "    </tr>\n",
       "  </thead>\n",
       "  <tbody>\n",
       "    <tr>\n",
       "      <th>5</th>\n",
       "      <td>2022-08-07 22:31:02+00:00</td>\n",
       "      <td>&lt;a href=\"http://twitter.com/download/android\" ...</td>\n",
       "      <td>RT @benedictrogers: We must not let this happe...</td>\n",
       "      <td>0.5</td>\n",
       "      <td>0.2</td>\n",
       "      <td>en</td>\n",
       "      <td>116</td>\n",
       "      <td>36</td>\n",
       "      <td>GraceCh15554845</td>\n",
       "      <td>207</td>\n",
       "      <td>54</td>\n",
       "      <td>False</td>\n",
       "      <td>Taiwan</td>\n",
       "      <td>benedictrogers</td>\n",
       "      <td>Melbourne, Victoria</td>\n",
       "    </tr>\n",
       "  </tbody>\n",
       "</table>\n",
       "</div>"
      ],
      "text/plain": [
       "                 created_at  \\\n",
       "5 2022-08-07 22:31:02+00:00   \n",
       "\n",
       "                                              source  \\\n",
       "5  <a href=\"http://twitter.com/download/android\" ...   \n",
       "\n",
       "                                       original_text  subjectivity  polarity  \\\n",
       "5  RT @benedictrogers: We must not let this happe...           0.5       0.2   \n",
       "\n",
       "  lang  favorite_count  retweet_count  original_author  followers_count  \\\n",
       "5   en             116             36  GraceCh15554845              207   \n",
       "\n",
       "   friends_count possibly_sensitive hashtags   user_mentions  \\\n",
       "5             54              False   Taiwan  benedictrogers   \n",
       "\n",
       "                 place  \n",
       "5  Melbourne, Victoria  "
      ]
     },
     "execution_count": 18,
     "metadata": {},
     "output_type": "execute_result"
    }
   ],
   "source": [
    "df.head(1)"
   ]
  },
  {
   "cell_type": "code",
   "execution_count": 13,
   "id": "aa70082d",
   "metadata": {
    "scrolled": true
   },
   "outputs": [],
   "source": [
    "df['clean_text'] = df['original_text']"
   ]
  },
  {
   "cell_type": "code",
   "execution_count": 48,
   "id": "ce027a75",
   "metadata": {},
   "outputs": [
    {
     "data": {
      "text/html": [
       "<div>\n",
       "<style scoped>\n",
       "    .dataframe tbody tr th:only-of-type {\n",
       "        vertical-align: middle;\n",
       "    }\n",
       "\n",
       "    .dataframe tbody tr th {\n",
       "        vertical-align: top;\n",
       "    }\n",
       "\n",
       "    .dataframe thead th {\n",
       "        text-align: right;\n",
       "    }\n",
       "</style>\n",
       "<table border=\"1\" class=\"dataframe\">\n",
       "  <thead>\n",
       "    <tr style=\"text-align: right;\">\n",
       "      <th></th>\n",
       "      <th>created_at</th>\n",
       "      <th>source</th>\n",
       "      <th>original_text</th>\n",
       "      <th>subjectivity</th>\n",
       "      <th>polarity</th>\n",
       "      <th>lang</th>\n",
       "      <th>favorite_count</th>\n",
       "      <th>retweet_count</th>\n",
       "      <th>original_author</th>\n",
       "      <th>followers_count</th>\n",
       "      <th>friends_count</th>\n",
       "      <th>possibly_sensitive</th>\n",
       "      <th>hashtags</th>\n",
       "      <th>user_mentions</th>\n",
       "      <th>place</th>\n",
       "      <th>clean_text</th>\n",
       "    </tr>\n",
       "  </thead>\n",
       "  <tbody>\n",
       "    <tr>\n",
       "      <th>5</th>\n",
       "      <td>2022-08-07 22:31:02+00:00</td>\n",
       "      <td>&lt;a href=\"http://twitter.com/download/android\" ...</td>\n",
       "      <td>RT @benedictrogers: We must not let this happe...</td>\n",
       "      <td>0.5</td>\n",
       "      <td>0.2</td>\n",
       "      <td>en</td>\n",
       "      <td>116</td>\n",
       "      <td>36</td>\n",
       "      <td>GraceCh15554845</td>\n",
       "      <td>207</td>\n",
       "      <td>54</td>\n",
       "      <td>False</td>\n",
       "      <td>Taiwan</td>\n",
       "      <td>benedictrogers</td>\n",
       "      <td>Melbourne, Victoria</td>\n",
       "      <td>RT @benedictrogers: We must not let this happe...</td>\n",
       "    </tr>\n",
       "  </tbody>\n",
       "</table>\n",
       "</div>"
      ],
      "text/plain": [
       "                 created_at  \\\n",
       "5 2022-08-07 22:31:02+00:00   \n",
       "\n",
       "                                              source  \\\n",
       "5  <a href=\"http://twitter.com/download/android\" ...   \n",
       "\n",
       "                                       original_text  subjectivity  polarity  \\\n",
       "5  RT @benedictrogers: We must not let this happe...           0.5       0.2   \n",
       "\n",
       "  lang  favorite_count  retweet_count  original_author  followers_count  \\\n",
       "5   en             116             36  GraceCh15554845              207   \n",
       "\n",
       "   friends_count possibly_sensitive hashtags   user_mentions  \\\n",
       "5             54              False   Taiwan  benedictrogers   \n",
       "\n",
       "                 place                                         clean_text  \n",
       "5  Melbourne, Victoria  RT @benedictrogers: We must not let this happe...  "
      ]
     },
     "execution_count": 48,
     "metadata": {},
     "output_type": "execute_result"
    }
   ],
   "source": [
    "# checking after addition new column\n",
    "df.head(1)"
   ]
  },
  {
   "cell_type": "code",
   "execution_count": 49,
   "id": "8a2d398a",
   "metadata": {
    "scrolled": true
   },
   "outputs": [],
   "source": [
    "# copying to new datafram\n",
    "tweets_df = df\n",
    "#tweets_df"
   ]
  },
  {
   "cell_type": "code",
   "execution_count": 50,
   "id": "9d4dcb16",
   "metadata": {},
   "outputs": [
    {
     "name": "stderr",
     "output_type": "stream",
     "text": [
      "[nltk_data] Downloading package words to\n",
      "[nltk_data]     C:\\Users\\Ekubay\\AppData\\Roaming\\nltk_data...\n",
      "[nltk_data]   Package words is already up-to-date!\n"
     ]
    }
   ],
   "source": [
    "nltk.download('words')\n",
    "words = set(nltk.corpus.words.words())"
   ]
  },
  {
   "cell_type": "code",
   "execution_count": 51,
   "id": "5c98d834",
   "metadata": {
    "scrolled": false
   },
   "outputs": [
    {
     "data": {
      "text/plain": [
       "0        : Extra random image ( I ): focus in one very ...\n",
       "1        : China ' s media the military for each area o...\n",
       "2        China even cut off communication , they don ' ...\n",
       "3        to : I told you my friend , will be a vassal s...\n",
       "4        : I ’ m sorry , I thought was an independent c...\n",
       "                               ...                        \n",
       "21992     : A good of China ' s missile on on August 4th .\n",
       "21993     : A good of China ' s missile on on August 4th .\n",
       "21994                                  Thanks smart move .\n",
       "21995    : people ' s Desire for Unification With China...\n",
       "21996    : people ' s Desire for Unification With China...\n",
       "Name: clean_text, Length: 21997, dtype: object"
      ]
     },
     "execution_count": 51,
     "metadata": {},
     "output_type": "execute_result"
    }
   ],
   "source": [
    "def cleaner(tweet):\n",
    "    tweet = re.sub(\"@[A-Za-z0-9]+\",\"\",tweet) #Remove @ sign\n",
    "    tweet = re.sub(r\"(?:\\@|http?\\://|https?\\://|www)\\S+\", \"\", tweet) #Remove http links\n",
    "    tweet = \" \".join(tweet.split())\n",
    "    #tweet = ''.join(c for c in tweet if c not in emoji.UNICODE_EMOJI) #Remove Emojis\n",
    "    tweet = tweet.replace(\"#\", \"\").replace(\"_\", \" \").replace(\"...\", \"\") #Remove hashtag sign but keep the text\n",
    "\n",
    "    tweet = \" \".join(w for w in nltk.wordpunct_tokenize(tweet) \\\n",
    "         if w.lower() in words or not w.isalpha())\n",
    "    return tweet\n",
    "\n",
    "\n",
    "tweets_df['clean_text'] = tweets_df['original_text'].map(lambda x: cleaner(x))\n",
    "tweets_df['clean_text']"
   ]
  },
  {
   "cell_type": "code",
   "execution_count": 52,
   "id": "624694a3",
   "metadata": {},
   "outputs": [],
   "source": [
    "# stop word removal\n",
    "stop = stopwords.words('english')\n",
    "tweets_df['clean_text']  = tweets_df['clean_text'].apply(lambda x: ' '.join([word for word in x.split() if word not in (stop)]))"
   ]
  },
  {
   "cell_type": "code",
   "execution_count": 53,
   "id": "5a54bbf8",
   "metadata": {},
   "outputs": [
    {
     "data": {
      "text/plain": [
       "0        : Extra random image ( I ): focus one specific...\n",
       "1           : China ' media military area Strait Read pi …\n",
       "2        China even cut communication , ' US . But clow...\n",
       "3        : I told friend , vassal state , , much like m...\n",
       "4        : I ’ sorry , I thought independent country go...\n",
       "                               ...                        \n",
       "21992                : A good China ' missile August 4th .\n",
       "21993                : A good China ' missile August 4th .\n",
       "21994                                  Thanks smart move .\n",
       "21995    : people ' Desire Unification With China Near ...\n",
       "21996    : people ' Desire Unification With China Near ...\n",
       "Name: clean_text, Length: 21997, dtype: object"
      ]
     },
     "execution_count": 53,
     "metadata": {},
     "output_type": "execute_result"
    }
   ],
   "source": [
    "tweets_df['clean_text']"
   ]
  },
  {
   "cell_type": "code",
   "execution_count": 41,
   "id": "1cf2e0af",
   "metadata": {},
   "outputs": [],
   "source": [
    "class PrepareData:\n",
    "  def __init__(self,df):\n",
    "    self.df=df\n",
    "  def preprocess_data(self):\n",
    "    \n",
    "    #tweets_df = self.df.loc[self.df['lang'] ==\"en\"]\n",
    "\n",
    "    \n",
    "    #text Preprocessing\n",
    "    tweets_df['clean_text']=tweets_df['clean_text'].astype(str)\n",
    "    tweets_df['clean_text'] = tweets_df['clean_text'].apply(lambda x: x.lower())\n",
    "    tweets_df['clean_text']= tweets_df['clean_text'].apply(lambda x: x.translate(str.maketrans(' ', ' ', string.punctuation)))\n",
    "    \n",
    "    #Converting tweets to list of words For feature engineering\n",
    "    sentence_list = [tweet for tweet in tweets_df['clean_text']]\n",
    "    word_list = [sent.split() for sent in sentence_list]\n",
    "    # print(word_list)\n",
    "\n",
    "    #Create dictionary which contains Id and word \n",
    "    word_to_id = corpora.Dictionary(word_list) #generate unique tokens\n",
    "    #  we can see the word to unique integer mapping\n",
    "    # print(word_to_id.token2id)\n",
    "    # using bag of words(bow), we create a corpus that contains the word id and its frequency in each document.\n",
    "    corpus_1= [word_to_id.doc2bow(tweet) for tweet in word_list]\n",
    "\n",
    "\n",
    "    return word_list, word_to_id, corpus_1"
   ]
  },
  {
   "cell_type": "code",
   "execution_count": 42,
   "id": "2bc822d8",
   "metadata": {},
   "outputs": [],
   "source": [
    "PrepareData_obj=PrepareData(tweets_df)\n",
    "#tweets_df['clean_text']\n",
    "word_list ,id2word,corpus=PrepareData_obj.preprocess_data()"
   ]
  },
  {
   "cell_type": "code",
   "execution_count": 44,
   "id": "cffe9edb",
   "metadata": {},
   "outputs": [],
   "source": [
    "id_words = [[(id2word[id], count) for id, count in line] for line in corpus]"
   ]
  },
  {
   "cell_type": "code",
   "execution_count": 28,
   "id": "fce1facc",
   "metadata": {
    "scrolled": false
   },
   "outputs": [],
   "source": [
    "#print(id_words)"
   ]
  },
  {
   "cell_type": "markdown",
   "id": "ee20628a",
   "metadata": {},
   "source": [
    "## Topic Modeling using Latent Dirichlet Allocation\n",
    "based on the distributional hypothesis, (i.e. similar topics make use of similar words) and the statistical mixture hypothesis (i.e. documents talk about several topics) for which a statistical distribution can be determined.\n",
    "\n",
    "The purpose of LDA is mapping each teweets in our corpus to a set of topics which covers a good deal of the words in the tweet"
   ]
  },
  {
   "cell_type": "code",
   "execution_count": 45,
   "id": "add79909",
   "metadata": {},
   "outputs": [],
   "source": [
    "# Build LDA model\n",
    "lda_model = gensim.models.ldamodel.LdaModel(corpus,\n",
    "                                           id2word=id2word,\n",
    "                                           num_topics=5, \n",
    "                                           random_state=100,\n",
    "                                           update_every=1,\n",
    "                                           chunksize=100,\n",
    "                                           passes=10,\n",
    "                                           alpha='auto',\n",
    "                                           per_word_topics=True)"
   ]
  },
  {
   "cell_type": "code",
   "execution_count": 32,
   "id": "7ad01c73",
   "metadata": {
    "scrolled": true
   },
   "outputs": [
    {
     "name": "stdout",
     "output_type": "stream",
     "text": [
      "[(0,\n",
      "  '0.077*\"china\" + 0.069*\"…\" + 0.062*\"’\" + 0.040*\"visit\" + 0.037*\"military\" + '\n",
      "  '0.033*\"island\" + 0.022*\"august\" + 0.019*\"us\" + 0.016*\"said\" + '\n",
      "  '0.015*\"around\"'),\n",
      " (1,\n",
      "  '0.073*\"missile\" + 0.067*\"a\" + 0.047*\"good\" + 0.042*\"4th\" + 0.039*\"…\" + '\n",
      "  '0.033*\"minister\" + 0.031*\"part\" + 0.028*\"we\" + 0.026*\"army\" + '\n",
      "  '0.025*\"china\"'),\n",
      " (2,\n",
      "  '0.068*\"…\" + 0.023*\"the\" + 0.022*\"video\" + 0.016*\"russia\" + 0.015*\"us\" + '\n",
      "  '0.015*\"support\" + 0.015*\"japan\" + 0.014*\"watch\" + 0.014*\"china\" + '\n",
      "  '0.011*\"maybe\"'),\n",
      " (3,\n",
      "  '0.043*\"…\" + 0.039*\"china\" + 0.029*\"“\" + 0.026*\"this\" + 0.023*\"president\" + '\n",
      "  '0.021*\"”\" + 0.020*\"’\" + 0.020*\"world\" + 0.019*\"strait\" + 0.017*\"national\"'),\n",
      " (4,\n",
      "  '0.068*\"china\" + 0.053*\"…\" + 0.038*\"i\" + 0.024*\"us\" + 0.023*\"time\" + '\n",
      "  '0.019*\"travel\" + 0.019*\"dead\" + 0.018*\"hotel\" + 0.018*\"found\" + '\n",
      "  '0.016*\"speaker\"')]\n"
     ]
    }
   ],
   "source": [
    "pprint(lda_model.print_topics())"
   ]
  },
  {
   "cell_type": "code",
   "execution_count": 46,
   "id": "f399de0b",
   "metadata": {
    "scrolled": true
   },
   "outputs": [
    {
     "name": "stdout",
     "output_type": "stream",
     "text": [
      "[(0,\n",
      "  [('china', 0.06844409),\n",
      "   ('…', 0.059724513),\n",
      "   ('military', 0.0538316),\n",
      "   ('part', 0.028788604),\n",
      "   ('we', 0.025636911),\n",
      "   ('country', 0.020418528),\n",
      "   ('day', 0.018753309),\n",
      "   ('around', 0.017894005),\n",
      "   ('🇹🇼', 0.016471209),\n",
      "   ('thing', 0.01441758)]),\n",
      " (1,\n",
      "  [('china', 0.04950285),\n",
      "   ('…', 0.046268746),\n",
      "   ('a', 0.04424097),\n",
      "   ('missile', 0.038820684),\n",
      "   ('island', 0.038263634),\n",
      "   ('good', 0.02545378),\n",
      "   ('august', 0.023338547),\n",
      "   ('4th', 0.02224777),\n",
      "   ('video', 0.020689132),\n",
      "   ('’', 0.020256594)]),\n",
      " (2,\n",
      "  [('…', 0.07907734),\n",
      "   ('us', 0.07333916),\n",
      "   ('visit', 0.07318751),\n",
      "   ('nancy', 0.022544472),\n",
      "   ('japan', 0.021821968),\n",
      "   ('speaker', 0.02091923),\n",
      "   ('government', 0.019709123),\n",
      "   ('official', 0.019357113),\n",
      "   ('the', 0.013681072),\n",
      "   ('house', 0.013185068)]),\n",
      " (3,\n",
      "  [('china', 0.052071918),\n",
      "   ('…', 0.048106436),\n",
      "   ('’', 0.042652383),\n",
      "   ('i', 0.027405232),\n",
      "   ('near', 0.018132232),\n",
      "   ('said', 0.016522117),\n",
      "   ('people', 0.015842365),\n",
      "   ('this', 0.015726967),\n",
      "   ('war', 0.015148422),\n",
      "   ('world', 0.014604825)]),\n",
      " (4,\n",
      "  [('…', 0.06569265),\n",
      "   ('china', 0.058376618),\n",
      "   ('the', 0.03283003),\n",
      "   ('“', 0.026164675),\n",
      "   ('time', 0.0243372),\n",
      "   ('minister', 0.02216082),\n",
      "   ('”', 0.018600143),\n",
      "   ('support', 0.01818955),\n",
      "   ('’', 0.016276022),\n",
      "   ('u', 0.013059134)])]\n"
     ]
    }
   ],
   "source": [
    "pprint(lda_model.show_topics(formatted=False))"
   ]
  },
  {
   "cell_type": "markdown",
   "id": "ec4d21aa",
   "metadata": {},
   "source": [
    "#### Model Analysis\n",
    "- Perplexity is also a measure of model quality and in natural language processing is often used as “perplexity per number of words”. It describes how well a model predicts a sample, i.e. how much it is “perplexed” by a sample from the observed data. The lower the score, the better the model for the given data.\n",
    "\n",
    "- A coherence matrix is used to test the model for accuracy. Topic coherence is a measure that compares different topic models based on their human-interpretability. The coherence score ‘C_V’ provides a numerical value to the interpretability of the topics"
   ]
  },
  {
   "cell_type": "code",
   "execution_count": 47,
   "id": "d8c4e0a0",
   "metadata": {
    "scrolled": true
   },
   "outputs": [
    {
     "name": "stdout",
     "output_type": "stream",
     "text": [
      "\n",
      "Perplexity:  -7.2330629136473785\n"
     ]
    }
   ],
   "source": [
    "#Compute Perplexity\n",
    "\n",
    "# #It's a measure of how good the model is. The lower the better. Perplexity is a negative value\n",
    "print('\\nPerplexity: ', lda_model.log_perplexity(corpus))  \n",
    "doc_lda = lda_model[corpus]\n",
    "\n",
    "# Compute Coherence Score\n",
    "# coherence_model_lda = CoherenceModel(model=lda_model, texts=word_list, dictionary=id2word, coherence='c_v')\n",
    "# coherence_lda = coherence_model_lda.get_coherence()\n",
    "# print('\\n Ldamodel Coherence Score/Accuracy on Tweets: ', coherence_lda)"
   ]
  },
  {
   "cell_type": "code",
   "execution_count": 2,
   "id": "13cbff99",
   "metadata": {},
   "outputs": [],
   "source": [
    "#!pip install pyLDAvis "
   ]
  },
  {
   "cell_type": "markdown",
   "id": "430aa871",
   "metadata": {},
   "source": [
    "Anlayizing results Exploring the Intertopic Distance Plot can help you learn about how topics relate to each other, including potential higher-level structure between groups of topics"
   ]
  },
  {
   "cell_type": "code",
   "execution_count": 48,
   "id": "3f021216",
   "metadata": {
    "scrolled": true
   },
   "outputs": [
    {
     "data": {
      "text/html": [
       "\n",
       "<link rel=\"stylesheet\" type=\"text/css\" href=\"https://cdn.jsdelivr.net/gh/bmabey/pyLDAvis@3.3.1/pyLDAvis/js/ldavis.v1.0.0.css\">\n",
       "\n",
       "\n",
       "<div id=\"ldavis_el1487619986806628643496372243\"></div>\n",
       "<script type=\"text/javascript\">\n",
       "\n",
       "var ldavis_el1487619986806628643496372243_data = {\"mdsDat\": {\"x\": [0.01899163688347294, 0.01891412218206841, 0.09171317270127076, -0.33553806799444114, 0.20591913622762914], \"y\": [-0.09895770703071105, 0.104433037196682, -0.28748136450984946, 0.05873132929075175, 0.2232747050531267], \"topics\": [1, 2, 3, 4, 5], \"cluster\": [1, 1, 1, 1, 1], \"Freq\": [24.831174704657588, 22.88497779213484, 18.766696115144534, 17.55874103089701, 15.958410357166027]}, \"tinfo\": {\"Term\": [\"visit\", \"us\", \"military\", \"a\", \"missile\", \"island\", \"i\", \"\\u201c\", \"part\", \"time\", \"good\", \"we\", \"minister\", \"4th\", \"nancy\", \"china\", \"japan\", \"video\", \"august\", \"speaker\", \"\\u201d\", \"near\", \"support\", \"government\", \"official\", \"\\u2019\", \"said\", \"day\", \"people\", \"this\", \"i\", \"near\", \"said\", \"this\", \"people\", \"war\", \"travel\", \"president\", \"russia\", \"hotel\", \"watch\", \"head\", \"attack\", \"just\", \"li\", \"national\", \"check\", \"with\", \"foreign\", \"speech\", \"based\", \"democratic\", \"5\", \"crisis\", \"ministry\", \"one\", \"would\", \"stop\", \"long\", \"rise\", \"small\", \"world\", \"\\u2019\", \"china\", \"\\u2026\", \"strait\", \"\\u201c\", \"time\", \"minister\", \"\\u201d\", \"support\", \"u\", \"live\", \"amid\", \"no\", \"s\", \"delegation\", \"respond\", \"trip\", \"great\", \"independent\", \"tension\", \"defense\", \"fire\", \"c\", \"well\", \"so\", \"deputy\", \"region\", \"x\", \"welcome\", \"from\", \"status\", \"true\", \"news\", \"king\", \"map\", \"it\", \"the\", \"china\", \"\\u2026\", \"\\u2019\", \"around\", \"military\", \"us\", \"missile\", \"island\", \"good\", \"4th\", \"video\", \"dead\", \"found\", \"fired\", \"restricted\", \"like\", \"easily\", \"funny\", \"unless\", \"showing\", \"talking\", \"cheating\", \"father\", \"political\", \"pain\", \"teen\", \"know\", \"stopped\", \"firm\", \"show\", \"name\", \"say\", \"disaster\", \"go\", \"you\", \"why\", \"a\", \"3\", \"august\", \"maybe\", \"army\", \"china\", \"\\u2026\", \"\\u2019\", \"the\", \"visit\", \"nancy\", \"japan\", \"speaker\", \"government\", \"official\", \"house\", \"responsible\", \"high\", \"in\", \"set\", \"2\", \"sovereignty\", \"coincidence\", \"tai\", \"united\", \"foot\", \"independence\", \"what\", \"devil\", \"madam\", \"\\ud83d\\ude08\", \"breaking\", \"integrity\", \"territorial\", \"prime\", \"have\", \"hearts\", \"inviting\", \"response\", \"us\", \"new\", \"\\u2026\", \"1\", \"the\", \"strait\", \"part\", \"we\", \"day\", \"\\ud83c\\uddf9\\ud83c\\uddfc\", \"thing\", \"democracy\", \"forget\", \"million\", \"23\", \"aircraft\", \"thought\", \"must\", \"as\", \"matter\", \"air\", \"currency\", \"sorry\", \"meanwhile\", \"practice\", \"read\", \"11\", \"amphibious\", \"\\ud83e\\udd17\", \"never\", \"force\", \"ambassador\", \"five\", \"question\", \"wang\", \"let\", \"country\", \"military\", \"around\", \"china\", \"\\u2026\"], \"Freq\": [2804.0, 3409.0, 2625.0, 1847.0, 1590.0, 1567.0, 1485.0, 1307.0, 1003.0, 1215.0, 1043.0, 893.0, 1107.0, 911.0, 864.0, 10405.0, 836.0, 847.0, 1088.0, 802.0, 929.0, 983.0, 908.0, 755.0, 742.0, 4222.0, 895.0, 653.0, 859.0, 852.0, 1484.5605426681832, 982.2356615107027, 895.0145996865369, 851.94076006003, 858.191967412272, 820.6005720425374, 748.7418568270415, 742.9711390220665, 694.8087718108853, 702.7904276586393, 611.1417888544553, 591.6879153365719, 567.5566849406738, 555.2150051897381, 541.7305231262561, 550.4131871910695, 476.24429800886844, 451.80032562394183, 446.95254731683553, 401.85990997102374, 398.60258031759133, 400.6811113027472, 409.38297174227023, 383.45994517241866, 346.97679359571345, 345.7047373751351, 339.5157858084168, 356.02784643353635, 309.9173723997667, 295.5147184005976, 311.61802993794345, 791.1535350394494, 2310.509360920902, 2820.772106984617, 2605.9591748903194, 355.99346449039666, 1306.270154048246, 1215.0335679116731, 1106.3779112806799, 928.6112738968582, 908.1123857900233, 651.976623329668, 648.4048290549603, 502.4747682110305, 511.2033669145812, 480.46052131005615, 485.7691359460994, 474.08100539001975, 471.24296819948603, 450.93229685183854, 467.4447372604397, 441.18910380485204, 423.23611704418965, 398.06556622426314, 380.2933568251918, 363.04550871607495, 355.5658918764798, 348.86722579956046, 336.1992568356904, 328.65714905628596, 323.8841710471792, 331.81254629865606, 315.10793695089444, 305.6750830242628, 307.23268364787896, 285.0164803502815, 291.37126027331004, 514.1709426157612, 1639.03766326898, 2914.4498470348976, 3279.702322792279, 812.5796405340338, 468.48253322512915, 587.3713602272977, 599.8681068058645, 1589.3449499228393, 1566.538943247388, 1042.0948920186663, 910.8387222092831, 847.0269872163136, 637.7151273879995, 612.8495460787221, 531.1964636658296, 427.92661726167256, 333.44283022645374, 299.4928303304197, 294.61354184660996, 284.1948570248711, 282.0126596121945, 280.30011583088924, 268.6042057185589, 256.7580483860606, 263.9489440186844, 254.88860387870756, 254.8550503820072, 254.25411869479566, 247.30360717574848, 244.3319874952487, 208.11258922409067, 195.8632179965851, 211.49893774960168, 178.82633472454, 178.25657347318366, 176.0090229998884, 169.73667340392387, 1811.2551182798559, 709.1704633162332, 955.4958335472719, 402.397477426172, 464.14197386163715, 2026.680005788268, 1894.273637363586, 829.3185955270657, 377.2467676528886, 2803.4802030150227, 863.5760618881029, 835.900250360828, 801.3204514999626, 754.9667795902348, 741.4828741485758, 505.0599258657327, 467.88471922248476, 436.39535066418483, 399.58969852414924, 388.5029207288699, 357.25492737751415, 348.8941268676348, 322.92752721442145, 320.302652107041, 322.7597489705169, 316.4717571584022, 318.63022087713534, 321.6488379530412, 312.7982591079363, 310.6951625664389, 310.5481470139978, 312.2809755577308, 301.40467865529376, 300.0016272934986, 289.436396178373, 265.71816055744574, 264.7775428521704, 264.75965197627886, 262.7245514655878, 2809.289190259647, 381.35149348464336, 3029.0928883162173, 303.9607015384055, 524.059572291141, 331.4224647000782, 1002.2530668968493, 892.5293219982505, 652.8820002908021, 573.432453714486, 501.936953282963, 462.35649600534816, 449.6205351225253, 434.50652133534646, 432.66740815852376, 414.0804722142307, 410.033495919469, 412.9140123635666, 394.1365896608053, 385.3538045293828, 384.42345098938506, 356.9704669356701, 355.1311916424572, 355.5710782555871, 342.5071234921406, 341.5605583131243, 341.3809657760766, 334.1517744350817, 326.9749142648387, 328.2170500464415, 316.9780719105934, 298.8844237183574, 270.73294498588837, 264.50080186781355, 254.27448376326046, 241.38065393967477, 710.8553401936578, 1874.1056754114788, 622.9660143442738, 2382.8282047453326, 2079.2629296465875], \"Total\": [2804.0, 3409.0, 2625.0, 1847.0, 1590.0, 1567.0, 1485.0, 1307.0, 1003.0, 1215.0, 1043.0, 893.0, 1107.0, 911.0, 864.0, 10405.0, 836.0, 847.0, 1088.0, 802.0, 929.0, 983.0, 908.0, 755.0, 742.0, 4222.0, 895.0, 653.0, 859.0, 852.0, 1485.4738547564127, 983.1487402823382, 895.9261869843591, 852.8512719991112, 859.1171002926568, 821.5182271988842, 749.6588496486116, 743.9140690109962, 695.7155590369442, 703.7346127438047, 612.0621766203358, 592.6128114942902, 568.4758225386876, 556.1310758996377, 542.6321004213708, 551.35061366443, 477.18435059172026, 452.7062934480402, 447.8729698618915, 402.75861830533717, 399.5012485595091, 401.60014628039636, 410.3385234366455, 384.371582767612, 347.89268550791076, 346.61966131720465, 340.44443993615164, 357.01163785829254, 310.82998614672726, 296.41474899129383, 312.72045801750943, 822.3504719781155, 4222.989324875908, 10405.635715170452, 12888.29095300899, 688.0978791843003, 1307.11348979074, 1215.9226192444073, 1107.2209440273248, 929.4537455790916, 908.9738449546948, 652.8207520416115, 649.2457888984937, 503.326092476761, 512.0764320446676, 481.3012207639817, 486.62538854000707, 474.92115104060946, 472.0878699862731, 451.7741549371354, 468.3549037139163, 442.06313286721496, 424.086241745734, 398.91080606575304, 381.1340415705524, 363.88198713313176, 356.4112360370881, 349.7026762500494, 337.03230684989535, 329.4887072657, 324.72913564119193, 332.67831725681503, 315.9504657880975, 306.5079861688472, 308.0782955562358, 285.8477001767209, 292.2221416603053, 549.2452366887097, 2758.4422951893694, 10405.635715170452, 12888.29095300899, 4222.989324875908, 1092.0471278913535, 2625.4004910913027, 3409.7580182839406, 1590.2728163321422, 1567.4751283188389, 1043.018453769537, 911.7602151410243, 847.959831763651, 638.6461047991683, 613.7815295722226, 532.1274926128109, 428.8502603872837, 334.3735878038251, 300.4243687813168, 295.5453963525123, 285.136949514706, 282.9505995983535, 281.23519651118687, 269.52678008223313, 257.6795236251363, 264.900042068427, 255.80993654066575, 255.77636832354997, 255.19446228095828, 248.23906390092128, 245.28222689016303, 209.07596648562162, 196.79822082309897, 212.5317133370286, 179.7569671847682, 179.19941783112859, 176.94516342966912, 170.67883615988367, 1847.4751448247534, 718.7252702917078, 1088.3847380941463, 438.97492917999216, 595.5498711808584, 10405.635715170452, 12888.29095300899, 4222.989324875908, 2758.4422951893694, 2804.335763611135, 864.4265409346999, 836.7565934487804, 802.1697885773608, 755.8475024176756, 742.359073165771, 505.910006173094, 468.73644620103164, 437.27347050634836, 400.44452361091055, 389.35022615149836, 358.1094976375171, 349.7433049288947, 323.7742440268296, 321.1483840097868, 323.62067622505714, 317.3164987535796, 319.482139505886, 322.5148037112169, 313.6427340917455, 311.5394008110054, 311.39237472839585, 313.14790822591027, 302.25366350533045, 300.85029348077353, 290.2976037863118, 266.5625885248789, 265.6218705068809, 265.60397867351185, 263.5819586233216, 3409.7580182839406, 440.57538660597146, 12888.29095300899, 382.7647366047032, 2758.4422951893694, 688.0978791843003, 1003.1022270170898, 893.3824654138401, 653.73425026067, 574.2880194453601, 502.79151260233544, 463.2203154414494, 450.47869345502096, 435.35851599442225, 433.51877823368363, 414.93410680671593, 410.8847824215716, 413.7803758517225, 395.00515802915504, 386.2056828887226, 385.2867437294983, 357.81853370042273, 355.97922749849334, 356.42222580313216, 343.3591810494879, 342.41581886883716, 342.23968613029353, 335.00129332578274, 327.8244507010174, 329.07891933599484, 317.8528278191984, 299.73834630369873, 271.59411936107557, 265.35474314802656, 255.14314294036535, 242.2373893044981, 814.0761038986285, 2625.4004910913027, 1092.0471278913535, 10405.635715170452, 12888.29095300899], \"Category\": [\"Default\", \"Default\", \"Default\", \"Default\", \"Default\", \"Default\", \"Default\", \"Default\", \"Default\", \"Default\", \"Default\", \"Default\", \"Default\", \"Default\", \"Default\", \"Default\", \"Default\", \"Default\", \"Default\", \"Default\", \"Default\", \"Default\", \"Default\", \"Default\", \"Default\", \"Default\", \"Default\", \"Default\", \"Default\", \"Default\", \"Topic1\", \"Topic1\", \"Topic1\", \"Topic1\", \"Topic1\", \"Topic1\", \"Topic1\", \"Topic1\", \"Topic1\", \"Topic1\", \"Topic1\", \"Topic1\", \"Topic1\", \"Topic1\", \"Topic1\", \"Topic1\", \"Topic1\", \"Topic1\", \"Topic1\", \"Topic1\", \"Topic1\", \"Topic1\", \"Topic1\", \"Topic1\", \"Topic1\", \"Topic1\", \"Topic1\", \"Topic1\", \"Topic1\", \"Topic1\", \"Topic1\", \"Topic1\", \"Topic1\", \"Topic1\", \"Topic1\", \"Topic1\", \"Topic2\", \"Topic2\", \"Topic2\", \"Topic2\", \"Topic2\", \"Topic2\", \"Topic2\", \"Topic2\", \"Topic2\", \"Topic2\", \"Topic2\", \"Topic2\", \"Topic2\", \"Topic2\", \"Topic2\", \"Topic2\", \"Topic2\", \"Topic2\", \"Topic2\", \"Topic2\", \"Topic2\", \"Topic2\", \"Topic2\", \"Topic2\", \"Topic2\", \"Topic2\", \"Topic2\", \"Topic2\", \"Topic2\", \"Topic2\", \"Topic2\", \"Topic2\", \"Topic2\", \"Topic2\", \"Topic2\", \"Topic2\", \"Topic2\", \"Topic2\", \"Topic2\", \"Topic3\", \"Topic3\", \"Topic3\", \"Topic3\", \"Topic3\", \"Topic3\", \"Topic3\", \"Topic3\", \"Topic3\", \"Topic3\", \"Topic3\", \"Topic3\", \"Topic3\", \"Topic3\", \"Topic3\", \"Topic3\", \"Topic3\", \"Topic3\", \"Topic3\", \"Topic3\", \"Topic3\", \"Topic3\", \"Topic3\", \"Topic3\", \"Topic3\", \"Topic3\", \"Topic3\", \"Topic3\", \"Topic3\", \"Topic3\", \"Topic3\", \"Topic3\", \"Topic3\", \"Topic3\", \"Topic3\", \"Topic3\", \"Topic3\", \"Topic3\", \"Topic3\", \"Topic4\", \"Topic4\", \"Topic4\", \"Topic4\", \"Topic4\", \"Topic4\", \"Topic4\", \"Topic4\", \"Topic4\", \"Topic4\", \"Topic4\", \"Topic4\", \"Topic4\", \"Topic4\", \"Topic4\", \"Topic4\", \"Topic4\", \"Topic4\", \"Topic4\", \"Topic4\", \"Topic4\", \"Topic4\", \"Topic4\", \"Topic4\", \"Topic4\", \"Topic4\", \"Topic4\", \"Topic4\", \"Topic4\", \"Topic4\", \"Topic4\", \"Topic4\", \"Topic4\", \"Topic4\", \"Topic4\", \"Topic4\", \"Topic5\", \"Topic5\", \"Topic5\", \"Topic5\", \"Topic5\", \"Topic5\", \"Topic5\", \"Topic5\", \"Topic5\", \"Topic5\", \"Topic5\", \"Topic5\", \"Topic5\", \"Topic5\", \"Topic5\", \"Topic5\", \"Topic5\", \"Topic5\", \"Topic5\", \"Topic5\", \"Topic5\", \"Topic5\", \"Topic5\", \"Topic5\", \"Topic5\", \"Topic5\", \"Topic5\", \"Topic5\", \"Topic5\", \"Topic5\", \"Topic5\", \"Topic5\", \"Topic5\", \"Topic5\", \"Topic5\"], \"logprob\": [30.0, 29.0, 28.0, 27.0, 26.0, 25.0, 24.0, 23.0, 22.0, 21.0, 20.0, 19.0, 18.0, 17.0, 16.0, 15.0, 14.0, 13.0, 12.0, 11.0, 10.0, 9.0, 8.0, 7.0, 6.0, 5.0, 4.0, 3.0, 2.0, 1.0, -3.597, -4.0101, -4.1031, -4.1524, -4.1451, -4.1899, -4.2815, -4.2892, -4.3563, -4.3448, -4.4846, -4.5169, -4.5586, -4.5805, -4.6051, -4.5892, -4.734, -4.7867, -4.7974, -4.9038, -4.9119, -4.9067, -4.8852, -4.9507, -5.0506, -5.0543, -5.0724, -5.0249, -5.1636, -5.2112, -5.1581, -4.2264, -3.1547, -2.9551, -3.0343, -5.025, -3.6433, -3.7157, -3.8094, -3.9846, -4.0069, -4.3383, -4.3438, -4.5987, -4.5815, -4.6435, -4.6325, -4.6569, -4.6629, -4.707, -4.671, -4.7288, -4.7703, -4.8317, -4.8773, -4.9237, -4.9446, -4.9636, -5.0006, -5.0233, -5.0379, -5.0137, -5.0654, -5.0958, -5.0907, -5.1657, -5.1437, -4.5757, -3.4164, -2.8408, -2.7228, -4.1181, -4.6688, -4.4426, -4.4216, -3.2488, -3.2633, -3.6709, -3.8055, -3.8781, -4.162, -4.2018, -4.3447, -4.5609, -4.8104, -4.9178, -4.9342, -4.9702, -4.9779, -4.984, -5.0266, -5.0717, -5.0441, -5.0791, -5.0792, -5.0815, -5.1093, -5.1214, -5.2818, -5.3425, -5.2657, -5.4335, -5.4367, -5.4493, -5.4856, -3.1181, -4.0558, -3.7576, -4.6224, -4.4797, -3.0057, -3.0733, -3.8993, -4.687, -2.6147, -3.7923, -3.8248, -3.8671, -3.9267, -3.9447, -4.3287, -4.4051, -4.4748, -4.5629, -4.591, -4.6749, -4.6986, -4.7759, -4.7841, -4.7764, -4.7961, -4.7893, -4.7799, -4.8078, -4.8145, -4.815, -4.8094, -4.8449, -4.8496, -4.8854, -4.9709, -4.9745, -4.9745, -4.9822, -2.6127, -4.6096, -2.5373, -4.8364, -4.2917, -4.75, -3.5478, -3.6637, -3.9764, -4.1061, -4.2393, -4.3214, -4.3494, -4.3836, -4.3878, -4.4317, -4.4415, -4.4345, -4.4811, -4.5036, -4.506, -4.5801, -4.5853, -4.5841, -4.6215, -4.6243, -4.6248, -4.6462, -4.6679, -4.6641, -4.6989, -4.7577, -4.8566, -4.8799, -4.9194, -4.9714, -3.8913, -2.9219, -4.0233, -2.6817, -2.818], \"loglift\": [30.0, 29.0, 28.0, 27.0, 26.0, 25.0, 24.0, 23.0, 22.0, 21.0, 20.0, 19.0, 18.0, 17.0, 16.0, 15.0, 14.0, 13.0, 12.0, 11.0, 10.0, 9.0, 8.0, 7.0, 6.0, 5.0, 4.0, 3.0, 2.0, 1.0, 1.3925, 1.3921, 1.3921, 1.392, 1.392, 1.392, 1.3918, 1.3918, 1.3918, 1.3917, 1.3916, 1.3915, 1.3915, 1.3914, 1.3914, 1.3914, 1.3911, 1.3911, 1.391, 1.3908, 1.3908, 1.3908, 1.3907, 1.3907, 1.3904, 1.3904, 1.3903, 1.3903, 1.3901, 1.39, 1.3895, 1.3544, 0.79, 0.0877, -0.2054, 0.7341, 1.474, 1.474, 1.4739, 1.4738, 1.4737, 1.4734, 1.4734, 1.473, 1.473, 1.4729, 1.4729, 1.4729, 1.4729, 1.4728, 1.4727, 1.4727, 1.4727, 1.4726, 1.4725, 1.4724, 1.4723, 1.4723, 1.4722, 1.4722, 1.4721, 1.4721, 1.472, 1.472, 1.4719, 1.4718, 1.4718, 1.4087, 0.9541, 0.202, 0.1061, -0.1734, 0.6284, -0.0226, -0.263, 1.6725, 1.6725, 1.6722, 1.6721, 1.672, 1.6716, 1.6716, 1.6713, 1.6709, 1.6703, 1.67, 1.6699, 1.6698, 1.6698, 1.6698, 1.6697, 1.6695, 1.6695, 1.6695, 1.6695, 1.6694, 1.6693, 1.6692, 1.6685, 1.6683, 1.6682, 1.6679, 1.6678, 1.6678, 1.6676, 1.6533, 1.6597, 1.5429, 1.5861, 1.4238, 0.0371, -0.2444, 0.0454, -0.3164, 1.7393, 1.7386, 1.7386, 1.7386, 1.7385, 1.7384, 1.7379, 1.7378, 1.7376, 1.7375, 1.7374, 1.7372, 1.7372, 1.737, 1.737, 1.737, 1.737, 1.7369, 1.7369, 1.7369, 1.7369, 1.7369, 1.7368, 1.7368, 1.7368, 1.7366, 1.7364, 1.7364, 1.7364, 1.7364, 1.5459, 1.5953, 0.2916, 1.5091, 0.0788, 1.0091, 1.8343, 1.8342, 1.8339, 1.8337, 1.8335, 1.8333, 1.8333, 1.8332, 1.8332, 1.8331, 1.8331, 1.8331, 1.833, 1.833, 1.8329, 1.8328, 1.8328, 1.8328, 1.8327, 1.8327, 1.8327, 1.8326, 1.8326, 1.8326, 1.8324, 1.8323, 1.832, 1.832, 1.8318, 1.8316, 1.6996, 1.4981, 1.2739, 0.3611, 0.0109]}, \"token.table\": {\"Topic\": [1, 4, 5, 4, 5, 3, 4, 3, 1, 2, 3, 5, 5, 5, 2, 5, 1, 3, 2, 5, 5, 1, 3, 5, 1, 4, 2, 3, 1, 1, 2, 3, 4, 5, 4, 1, 2, 4, 5, 1, 5, 5, 3, 2, 2, 5, 1, 2, 4, 3, 3, 3, 2, 3, 3, 5, 4, 5, 1, 5, 3, 2, 3, 3, 3, 4, 2, 4, 1, 4, 4, 1, 4, 1, 4, 4, 2, 4, 4, 3, 1, 2, 4, 1, 2, 3, 5, 1, 3, 2, 1, 4, 2, 5, 3, 4, 5, 1, 2, 5, 5, 2, 1, 3, 5, 3, 4, 1, 1, 5, 1, 4, 2, 2, 4, 1, 3, 5, 1, 3, 5, 1, 4, 5, 5, 2, 2, 4, 4, 3, 1, 1, 2, 1, 3, 4, 3, 3, 1, 2, 5, 4, 4, 1, 2, 1, 3, 1, 4, 2, 4, 3, 3, 2, 4, 1, 2, 3, 4, 5, 1, 5, 2, 1, 2, 2, 2, 4, 3, 2, 4, 3, 4, 5, 1, 1, 5, 2, 2, 4, 3, 1, 1, 2, 1, 2, 3, 1, 2, 3, 4, 2, 2, 1, 2, 3, 4, 5, 5, 4, 5], \"Freq\": [0.20378052767320043, 0.7942215437519606, 0.9963777253762979, 0.9969017922036791, 0.9988033315747075, 0.9864687235948157, 0.012522169975110497, 0.9991662115450971, 0.9967380020149335, 0.019486053764157605, 0.9802567601913728, 0.9966602958694013, 0.9977487827792593, 0.9975366972134068, 0.9973653412835493, 0.9970110762384162, 0.2199647860560405, 0.779111913969487, 0.4285529333369217, 0.5704881997198765, 0.9974553293577982, 0.9991629854431405, 0.8774470704838123, 0.12128064220299814, 0.9987453141603024, 0.996334293808911, 0.9970245597431304, 0.99804553713708, 0.9975180439378374, 0.27110309040390906, 0.28004055492271923, 0.1947982858024543, 0.025082561714080208, 0.22901051557338364, 0.9976086917316208, 0.017197409349019938, 0.09949929694790106, 0.011055477438655674, 0.8733827176537983, 0.9964316228641668, 0.9977124334730295, 0.9988768367874603, 0.9989883210837536, 0.9974386300737733, 0.9987148460505043, 0.9973655830697183, 0.9985056123959244, 0.9979906466327785, 0.997950744519535, 0.9957889410540058, 0.9952588107712607, 0.9973629118232737, 0.9977167676284936, 0.9978811607585341, 0.9947724427227367, 0.9978124733979026, 0.9958511493768815, 0.9973169097627675, 0.9980508538790348, 0.9989373671563697, 0.9987266974736643, 0.9979610415779174, 0.998154610563239, 0.993306798394519, 0.9990235515336702, 0.9988787388792517, 0.9982864116313978, 0.9978894693062812, 0.9989659158857113, 0.9976588128617038, 0.9970877023367695, 0.9989561224778464, 0.9982012489138579, 0.9996810076765098, 0.998889924609526, 0.9984908718007471, 0.9971071003993504, 0.9958522801980584, 0.9977260179740972, 0.9996968830252838, 0.06190313129519199, 0.935829690756726, 0.999095802226473, 0.9979661702993166, 0.9970344341542828, 0.9953194036019354, 0.9948918319007201, 0.9988351215844402, 0.9958920565082701, 0.9980811752347176, 0.9973297745271736, 0.9982685952094623, 0.9958177650284763, 0.9968781327097406, 0.9157698384983818, 0.08200923926851181, 0.9988153774580675, 0.06246666006062563, 0.22358493570480029, 0.7137958594732465, 0.9991765040047434, 0.9988972896205487, 0.9974340204749994, 0.9991996239141673, 0.9981140336824428, 0.9959439632138927, 0.9995065619639134, 0.9975503542918842, 0.9988315702037026, 0.9967213963806255, 0.13391578783942973, 0.8647782231664868, 0.9964999301418203, 0.997897907465943, 0.9981692509529448, 0.9982122730290317, 0.9968338347148724, 0.998901181766521, 0.9986997112590632, 0.9966023332370988, 0.9989539203571314, 0.9987712707030647, 0.9955300912946323, 0.9986631362084654, 0.9987856318373058, 0.996937068557184, 0.9980604126841033, 0.9977921151115153, 0.9984288693422491, 0.9980173490240724, 0.9986007815309285, 0.9989714775993587, 0.9972964523922956, 0.9989662240061576, 0.9927930128027546, 0.9991004855577967, 0.9948537055515866, 0.9966404043684556, 0.9976961596242319, 0.9988461754414351, 0.9972492004508957, 0.9978747129153885, 0.9985417194788208, 0.9981164442649815, 0.9969917253145151, 0.9971663728825163, 0.9950085861530004, 0.5173682564201726, 0.48103621594122786, 0.9989286325892652, 0.9964241326845605, 0.9956079590090078, 0.9969646596804913, 0.9975950655275877, 0.9971736990150954, 0.07903011071871421, 0.5941759241650119, 0.13667133826126265, 0.18996228447984517, 0.9984257637957357, 0.9990018517565017, 0.9978466410550494, 0.9992412187833296, 0.9991211340346072, 0.9976956197025254, 0.9983426657974016, 0.9987427604912302, 0.9980820872377589, 0.9960126194916477, 0.17596556611426853, 0.8238121253583005, 0.9988680693026996, 0.9995236791441069, 0.9955196015570266, 0.9993691835655902, 0.9982645935970086, 0.9995718906194752, 0.9977546343670326, 0.9975761725935363, 0.9984037826937151, 0.9960227279775462, 0.9984398417732152, 0.9618769939990381, 0.037696822773666476, 0.9986945301963663, 0.9985167708181698, 0.9946584387425498, 0.5472426810048611, 0.1925176545464959, 0.19630643987582422, 0.06393575243241562, 0.9991481307480666, 0.9995118147823387, 0.20219903550451623, 0.2544945650248708, 0.14695509334058088, 0.23501952361595538, 0.16130920752643485, 0.997757189072821, 0.9987399346925624, 0.997485084778593], \"Term\": [\"1\", \"1\", \"11\", \"2\", \"23\", \"3\", \"3\", \"4th\", \"5\", \"a\", \"a\", \"air\", \"aircraft\", \"ambassador\", \"amid\", \"amphibious\", \"army\", \"army\", \"around\", \"around\", \"as\", \"attack\", \"august\", \"august\", \"based\", \"breaking\", \"c\", \"cheating\", \"check\", \"china\", \"china\", \"china\", \"china\", \"china\", \"coincidence\", \"country\", \"country\", \"country\", \"country\", \"crisis\", \"currency\", \"day\", \"dead\", \"defense\", \"delegation\", \"democracy\", \"democratic\", \"deputy\", \"devil\", \"disaster\", \"easily\", \"father\", \"fire\", \"fired\", \"firm\", \"five\", \"foot\", \"force\", \"foreign\", \"forget\", \"found\", \"from\", \"funny\", \"go\", \"good\", \"government\", \"great\", \"have\", \"head\", \"hearts\", \"high\", \"hotel\", \"house\", \"i\", \"in\", \"independence\", \"independent\", \"integrity\", \"inviting\", \"island\", \"it\", \"it\", \"japan\", \"just\", \"king\", \"know\", \"let\", \"li\", \"like\", \"live\", \"long\", \"madam\", \"map\", \"matter\", \"maybe\", \"maybe\", \"meanwhile\", \"military\", \"military\", \"military\", \"million\", \"minister\", \"ministry\", \"missile\", \"must\", \"name\", \"nancy\", \"national\", \"near\", \"never\", \"new\", \"new\", \"news\", \"no\", \"official\", \"one\", \"pain\", \"part\", \"people\", \"political\", \"practice\", \"president\", \"prime\", \"question\", \"read\", \"region\", \"respond\", \"response\", \"responsible\", \"restricted\", \"rise\", \"russia\", \"s\", \"said\", \"say\", \"set\", \"show\", \"showing\", \"small\", \"so\", \"sorry\", \"sovereignty\", \"speaker\", \"speech\", \"status\", \"stop\", \"stopped\", \"strait\", \"strait\", \"support\", \"tai\", \"talking\", \"teen\", \"tension\", \"territorial\", \"the\", \"the\", \"the\", \"the\", \"thing\", \"this\", \"thought\", \"time\", \"travel\", \"trip\", \"true\", \"u\", \"united\", \"unless\", \"us\", \"us\", \"video\", \"visit\", \"wang\", \"war\", \"watch\", \"we\", \"welcome\", \"well\", \"what\", \"why\", \"with\", \"world\", \"world\", \"would\", \"x\", \"you\", \"\\u2019\", \"\\u2019\", \"\\u2019\", \"\\u2019\", \"\\u201c\", \"\\u201d\", \"\\u2026\", \"\\u2026\", \"\\u2026\", \"\\u2026\", \"\\u2026\", \"\\ud83c\\uddf9\\ud83c\\uddfc\", \"\\ud83d\\ude08\", \"\\ud83e\\udd17\"]}, \"R\": 30, \"lambda.step\": 0.01, \"plot.opts\": {\"xlab\": \"PC1\", \"ylab\": \"PC2\"}, \"topic.order\": [4, 5, 2, 3, 1]};\n",
       "\n",
       "function LDAvis_load_lib(url, callback){\n",
       "  var s = document.createElement('script');\n",
       "  s.src = url;\n",
       "  s.async = true;\n",
       "  s.onreadystatechange = s.onload = callback;\n",
       "  s.onerror = function(){console.warn(\"failed to load library \" + url);};\n",
       "  document.getElementsByTagName(\"head\")[0].appendChild(s);\n",
       "}\n",
       "\n",
       "if(typeof(LDAvis) !== \"undefined\"){\n",
       "   // already loaded: just create the visualization\n",
       "   !function(LDAvis){\n",
       "       new LDAvis(\"#\" + \"ldavis_el1487619986806628643496372243\", ldavis_el1487619986806628643496372243_data);\n",
       "   }(LDAvis);\n",
       "}else if(typeof define === \"function\" && define.amd){\n",
       "   // require.js is available: use it to load d3/LDAvis\n",
       "   require.config({paths: {d3: \"https://d3js.org/d3.v5\"}});\n",
       "   require([\"d3\"], function(d3){\n",
       "      window.d3 = d3;\n",
       "      LDAvis_load_lib(\"https://cdn.jsdelivr.net/gh/bmabey/pyLDAvis@3.3.1/pyLDAvis/js/ldavis.v3.0.0.js\", function(){\n",
       "        new LDAvis(\"#\" + \"ldavis_el1487619986806628643496372243\", ldavis_el1487619986806628643496372243_data);\n",
       "      });\n",
       "    });\n",
       "}else{\n",
       "    // require.js not available: dynamically load d3 & LDAvis\n",
       "    LDAvis_load_lib(\"https://d3js.org/d3.v5.js\", function(){\n",
       "         LDAvis_load_lib(\"https://cdn.jsdelivr.net/gh/bmabey/pyLDAvis@3.3.1/pyLDAvis/js/ldavis.v3.0.0.js\", function(){\n",
       "                 new LDAvis(\"#\" + \"ldavis_el1487619986806628643496372243\", ldavis_el1487619986806628643496372243_data);\n",
       "            })\n",
       "         });\n",
       "}\n",
       "</script>"
      ],
      "text/plain": [
       "PreparedData(topic_coordinates=              x         y  topics  cluster       Freq\n",
       "topic                                                \n",
       "3      0.018992 -0.098958       1        1  24.831175\n",
       "4      0.018914  0.104433       2        1  22.884978\n",
       "1      0.091713 -0.287481       3        1  18.766696\n",
       "2     -0.335538  0.058731       4        1  17.558741\n",
       "0      0.205919  0.223275       5        1  15.958410, topic_info=        Term         Freq         Total Category  logprob  loglift\n",
       "84     visit  2804.000000   2804.000000  Default  30.0000  30.0000\n",
       "30        us  3409.000000   3409.000000  Default  29.0000  29.0000\n",
       "17  military  2625.000000   2625.000000  Default  28.0000  28.0000\n",
       "94         a  1847.000000   1847.000000  Default  27.0000  27.0000\n",
       "97   missile  1590.000000   1590.000000  Default  26.0000  26.0000\n",
       "..       ...          ...           ...      ...      ...      ...\n",
       "40   country   710.855340    814.076104   Topic5  -3.8913   1.6996\n",
       "17  military  1874.105675   2625.400491   Topic5  -2.9219   1.4981\n",
       "85    around   622.966014   1092.047128   Topic5  -4.0233   1.2739\n",
       "15     china  2382.828205  10405.635715   Topic5  -2.6817   0.3611\n",
       "13         …  2079.262930  12888.290953   Topic5  -2.8180   0.0109\n",
       "\n",
       "[215 rows x 6 columns], token_table=      Topic      Freq Term\n",
       "term                      \n",
       "359       1  0.203781    1\n",
       "359       4  0.794222    1\n",
       "774       5  0.996378   11\n",
       "577       4  0.996902    2\n",
       "426       5  0.998803   23\n",
       "...     ...       ...  ...\n",
       "13        4  0.235020    …\n",
       "13        5  0.161309    …\n",
       "351       5  0.997757   🇹🇼\n",
       "559       4  0.998740    😈\n",
       "1250      5  0.997485    🤗\n",
       "\n",
       "[201 rows x 3 columns], R=30, lambda_step=0.01, plot_opts={'xlab': 'PC1', 'ylab': 'PC2'}, topic_order=[4, 5, 2, 3, 1])"
      ]
     },
     "execution_count": 48,
     "metadata": {},
     "output_type": "execute_result"
    }
   ],
   "source": [
    "import pyLDAvis.gensim_models as gensimvis\n",
    "import pickle \n",
    "import pyLDAvis\n",
    "# Visualize the topics\n",
    "pyLDAvis.enable_notebook()\n",
    "\n",
    "LDAvis_prepared = gensimvis.prepare(lda_model, corpus, id2word)\n",
    "LDAvis_prepared"
   ]
  },
  {
   "cell_type": "code",
   "execution_count": null,
   "id": "7d813dcb",
   "metadata": {},
   "outputs": [],
   "source": []
  },
  {
   "cell_type": "markdown",
   "id": "a261d72b",
   "metadata": {},
   "source": [
    "## Sentiment Analysis\n",
    "- bulding sentiment analysis model on the given Tiwitter dataset"
   ]
  },
  {
   "cell_type": "code",
   "execution_count": null,
   "id": "d53e4ba2",
   "metadata": {
    "scrolled": false
   },
   "outputs": [],
   "source": [
    "# checking \n",
    "tweets_df.head(1)"
   ]
  },
  {
   "cell_type": "code",
   "execution_count": null,
   "id": "21c3e86e",
   "metadata": {},
   "outputs": [],
   "source": [
    "# adding sentiment with based on polarity value\n",
    "def text_category (polarity):\n",
    "    if polarity > 0:\n",
    "        return 'positive'\n",
    "    if polarity < 0:\n",
    "        return 'negative'\n",
    "    else:\n",
    "        return 'neutral'"
   ]
  },
  {
   "cell_type": "code",
   "execution_count": 309,
   "id": "870cc9d5",
   "metadata": {},
   "outputs": [
    {
     "name": "stdout",
     "output_type": "stream",
     "text": [
      "sucees\n"
     ]
    }
   ],
   "source": [
    "score= pd.Series([text_category(row_value) for row_value in tweets_df['polarity']])\n",
    "print(\"success\")\n",
    "tweets_df = pd.concat([tweets_df, score.rename('sentiment')], axis=1)"
   ]
  },
  {
   "cell_type": "code",
   "execution_count": 307,
   "id": "8a617055",
   "metadata": {},
   "outputs": [],
   "source": [
    "#saving to new file \n",
    "#tweets_df.to_csv('cleaned_data2.csv', index = True)"
   ]
  },
  {
   "cell_type": "code",
   "execution_count": 310,
   "id": "2d56e4eb",
   "metadata": {},
   "outputs": [
    {
     "name": "stdout",
     "output_type": "stream",
     "text": [
      "<class 'pandas.core.frame.DataFrame'>\n",
      "Int64Index: 5494 entries, 5 to 3797\n",
      "Data columns (total 17 columns):\n",
      " #   Column              Non-Null Count  Dtype              \n",
      "---  ------              --------------  -----              \n",
      " 0   created_at          1976 non-null   datetime64[ns, UTC]\n",
      " 1   source              1976 non-null   object             \n",
      " 2   original_text       1976 non-null   object             \n",
      " 3   subjectivity        1976 non-null   float64            \n",
      " 4   polarity            1976 non-null   float64            \n",
      " 5   lang                1976 non-null   object             \n",
      " 6   favorite_count      1976 non-null   float64            \n",
      " 7   retweet_count       1976 non-null   float64            \n",
      " 8   original_author     1976 non-null   object             \n",
      " 9   followers_count     1976 non-null   float64            \n",
      " 10  friends_count       1976 non-null   float64            \n",
      " 11  possibly_sensitive  1976 non-null   object             \n",
      " 12  hashtags            1976 non-null   object             \n",
      " 13  user_mentions       1976 non-null   object             \n",
      " 14  place               1976 non-null   object             \n",
      " 15  clean_text          1976 non-null   object             \n",
      " 16  sentiment           3799 non-null   object             \n",
      "dtypes: datetime64[ns, UTC](1), float64(6), object(10)\n",
      "memory usage: 772.6+ KB\n"
     ]
    }
   ],
   "source": [
    "tweets_df.info()"
   ]
  },
  {
   "cell_type": "code",
   "execution_count": 318,
   "id": "77c1d717",
   "metadata": {},
   "outputs": [],
   "source": [
    "tweets_df.dropna(inplace = True)\n"
   ]
  },
  {
   "cell_type": "code",
   "execution_count": 319,
   "id": "1606636d",
   "metadata": {},
   "outputs": [],
   "source": [
    "# Selecting the feature and the label\n",
    "features = tweets_df.iloc[:, 15].values\n",
    "labels = tweets_df.iloc[:, 16].values"
   ]
  },
  {
   "cell_type": "code",
   "execution_count": 121,
   "id": "d96c136f",
   "metadata": {},
   "outputs": [],
   "source": [
    "#print(features)"
   ]
  },
  {
   "cell_type": "code",
   "execution_count": 320,
   "id": "8c4b23f2",
   "metadata": {},
   "outputs": [],
   "source": [
    "#Data Cleaning using regular expression\n",
    "processed_features = []\n",
    "\n",
    "for sentence in range(0, len(features)):\n",
    "    # Remove all the special characters\n",
    "    processed_feature = re.sub(r'\\W', ' ', str(features[sentence]))\n",
    "\n",
    "    # remove all single characters\n",
    "    processed_feature= re.sub(r'\\s+[a-zA-Z]\\s+', ' ', processed_feature)\n",
    "\n",
    "    # Remove single characters from the start\n",
    "    processed_feature = re.sub(r'\\^[a-zA-Z]\\s+', ' ', processed_feature) \n",
    "\n",
    "    # Substituting multiple spaces with single space\n",
    "    processed_feature = re.sub(r'\\s+', ' ', processed_feature, flags=re.I)\n",
    "\n",
    "    # Removing prefixed 'b'\n",
    "    processed_feature = re.sub(r'^b\\s+', '', processed_feature)\n",
    "\n",
    "    # Converting to Lowercase\n",
    "    processed_feature = processed_feature.lower()\n",
    "\n",
    "    processed_features.append(processed_feature)"
   ]
  },
  {
   "cell_type": "code",
   "execution_count": 313,
   "id": "dde2866a",
   "metadata": {
    "scrolled": true
   },
   "outputs": [
    {
     "name": "stderr",
     "output_type": "stream",
     "text": [
      "[nltk_data] Downloading package stopwords to\n",
      "[nltk_data]     C:\\Users\\Ekubay\\AppData\\Roaming\\nltk_data...\n",
      "[nltk_data]   Package stopwords is already up-to-date!\n"
     ]
    },
    {
     "data": {
      "text/plain": [
       "True"
      ]
     },
     "execution_count": 313,
     "metadata": {},
     "output_type": "execute_result"
    }
   ],
   "source": [
    "import nltk\n",
    "nltk.download('stopwords')"
   ]
  },
  {
   "cell_type": "code",
   "execution_count": 322,
   "id": "1c466be6",
   "metadata": {},
   "outputs": [],
   "source": [
    "from nltk.corpus import stopwords\n",
    "from sklearn.feature_extraction.text import TfidfVectorizer\n",
    "\n",
    "vectorizer = TfidfVectorizer (max_features=2500, min_df=7, max_df=0.8, stop_words=stopwords.words('english'))\n",
    "processed_features_vectorized = vectorizer.fit_transform(processed_features).toarray()"
   ]
  },
  {
   "cell_type": "code",
   "execution_count": 323,
   "id": "f01b36dd",
   "metadata": {},
   "outputs": [],
   "source": [
    "# split\n",
    "from sklearn.model_selection import train_test_split\n",
    "\n",
    "X_train, X_test, y_train, y_test = train_test_split(processed_features_vectorized, labels, test_size=0.2, random_state=0)"
   ]
  },
  {
   "cell_type": "code",
   "execution_count": 324,
   "id": "e5b50845",
   "metadata": {
    "scrolled": true
   },
   "outputs": [
    {
     "data": {
      "text/plain": [
       "RandomForestClassifier(n_estimators=200, random_state=0)"
      ]
     },
     "execution_count": 324,
     "metadata": {},
     "output_type": "execute_result"
    }
   ],
   "source": [
    "# training \n",
    "from sklearn.ensemble import RandomForestClassifier\n",
    "\n",
    "text_classifier = RandomForestClassifier(n_estimators=200, random_state=0)\n",
    "text_classifier.fit(X_train, y_train)"
   ]
  },
  {
   "cell_type": "code",
   "execution_count": 325,
   "id": "baa010c1",
   "metadata": {},
   "outputs": [],
   "source": [
    "#prediction\n",
    "predictions = text_classifier.predict(X_test)"
   ]
  },
  {
   "cell_type": "code",
   "execution_count": 326,
   "id": "6d9e024d",
   "metadata": {
    "scrolled": true
   },
   "outputs": [
    {
     "data": {
      "text/plain": [
       "array(['neutral', 'neutral', 'neutral', 'neutral', 'neutral', 'neutral',\n",
       "       'neutral', 'positive', 'neutral', 'neutral'], dtype=object)"
      ]
     },
     "execution_count": 326,
     "metadata": {},
     "output_type": "execute_result"
    }
   ],
   "source": [
    "predictions[:10]"
   ]
  },
  {
   "cell_type": "code",
   "execution_count": 327,
   "id": "e069f636",
   "metadata": {},
   "outputs": [
    {
     "name": "stdout",
     "output_type": "stream",
     "text": [
      "0.6666666666666666\n"
     ]
    }
   ],
   "source": [
    "from sklearn.metrics import accuracy_score\n",
    "\n",
    "print(accuracy_score(y_test, predictions))"
   ]
  },
  {
   "cell_type": "code",
   "execution_count": null,
   "id": "33e0e49c",
   "metadata": {},
   "outputs": [],
   "source": []
  }
 ],
 "metadata": {
  "kernelspec": {
   "display_name": "Python 3 (ipykernel)",
   "language": "python",
   "name": "python3"
  },
  "language_info": {
   "codemirror_mode": {
    "name": "ipython",
    "version": 3
   },
   "file_extension": ".py",
   "mimetype": "text/x-python",
   "name": "python",
   "nbconvert_exporter": "python",
   "pygments_lexer": "ipython3",
   "version": "3.9.7"
  }
 },
 "nbformat": 4,
 "nbformat_minor": 5
}
