{
 "cells": [
  {
   "cell_type": "markdown",
   "id": "57b3372e",
   "metadata": {},
   "source": [
    "## Data exploration and pre-processing\n",
    "Basically, for any data analysis or machine learning project the following has to be conducted\n",
    "- Data gtahering \n",
    "- Data assessing \n",
    "- Data ceaning "
   ]
  },
  {
   "cell_type": "markdown",
   "id": "c0b05ca8",
   "metadata": {},
   "source": [
    "## Data gathering has been allready done"
   ]
  },
  {
   "cell_type": "markdown",
   "id": "af3b01b3",
   "metadata": {},
   "source": [
    "## Data assessing \n",
    "- Assessing is the second and it is assessed to inspect data for two things:\n",
    " - **Data quality issues**: Data that has quality issues have issues with content like missing, duplicate, or incorrect data. \n",
    " - **Lack of tidiness**: Data that has specific structural issues\n",
    "\n",
    "You can search for these issues in two ways:\n",
    "- Visually by scrolling\n",
    "- Programmatically using code"
   ]
  },
  {
   "cell_type": "markdown",
   "id": "7afee765",
   "metadata": {},
   "source": [
    "for this project I used programmatic Assessment using the following methods \n",
    "- .head (DataFrame and Series)\n",
    "- .tail (DataFrame and Series)\n",
    "- .sample (DataFrame and Series)\n",
    "- .info (DataFrame only)\n",
    "- .describe (DataFrame and Series)\n",
    "- and other\n",
    "\n",
    "### some methods associated with quality issue\n",
    "- .value_counts \n",
    "- .duplicates \n",
    "- .sort_values \n",
    "- sum of .isnull "
   ]
  },
  {
   "cell_type": "code",
   "execution_count": 1,
   "id": "b7f6bfb2",
   "metadata": {},
   "outputs": [],
   "source": [
    "# loding liberaries\n",
    "import matplotlib.pyplot as plt\n",
    "import pandas as pd\n",
    "%matplotlib inline"
   ]
  },
  {
   "cell_type": "code",
   "execution_count": 2,
   "id": "624208a3",
   "metadata": {},
   "outputs": [],
   "source": [
    "df = pd.read_csv('cleaned_twitterData_data.csv')"
   ]
  },
  {
   "cell_type": "code",
   "execution_count": 3,
   "id": "4b74044c",
   "metadata": {
    "scrolled": true
   },
   "outputs": [
    {
     "data": {
      "text/html": [
       "<div>\n",
       "<style scoped>\n",
       "    .dataframe tbody tr th:only-of-type {\n",
       "        vertical-align: middle;\n",
       "    }\n",
       "\n",
       "    .dataframe tbody tr th {\n",
       "        vertical-align: top;\n",
       "    }\n",
       "\n",
       "    .dataframe thead th {\n",
       "        text-align: right;\n",
       "    }\n",
       "</style>\n",
       "<table border=\"1\" class=\"dataframe\">\n",
       "  <thead>\n",
       "    <tr style=\"text-align: right;\">\n",
       "      <th></th>\n",
       "      <th>created_at</th>\n",
       "      <th>source</th>\n",
       "      <th>original_text</th>\n",
       "      <th>subjectivity</th>\n",
       "      <th>polarity</th>\n",
       "      <th>lang</th>\n",
       "      <th>favorite_count</th>\n",
       "      <th>retweet_count</th>\n",
       "      <th>original_author</th>\n",
       "      <th>followers_count</th>\n",
       "      <th>friends_count</th>\n",
       "      <th>possibly_sensitive</th>\n",
       "      <th>hashtags</th>\n",
       "      <th>user_mentions</th>\n",
       "      <th>place</th>\n",
       "    </tr>\n",
       "  </thead>\n",
       "  <tbody>\n",
       "    <tr>\n",
       "      <th>0</th>\n",
       "      <td>Sun Aug 07 22:31:20 +0000 2022</td>\n",
       "      <td>&lt;a href=\"http://twitter.com/download/android\" ...</td>\n",
       "      <td>RT @i_ameztoy: Extra random image (I):\\n\\nLets...</td>\n",
       "      <td>0.190625</td>\n",
       "      <td>-0.125</td>\n",
       "      <td>en</td>\n",
       "      <td>4</td>\n",
       "      <td>2</td>\n",
       "      <td>i_ameztoy</td>\n",
       "      <td>20497</td>\n",
       "      <td>2621</td>\n",
       "      <td>NaN</td>\n",
       "      <td>City</td>\n",
       "      <td>i_ameztoy</td>\n",
       "      <td>NaN</td>\n",
       "    </tr>\n",
       "    <tr>\n",
       "      <th>1</th>\n",
       "      <td>Sun Aug 07 22:31:16 +0000 2022</td>\n",
       "      <td>&lt;a href=\"http://twitter.com/download/android\" ...</td>\n",
       "      <td>RT @IndoPac_Info: #China's media explains the ...</td>\n",
       "      <td>0.100000</td>\n",
       "      <td>-0.100</td>\n",
       "      <td>en</td>\n",
       "      <td>691</td>\n",
       "      <td>201</td>\n",
       "      <td>ZIisq</td>\n",
       "      <td>65</td>\n",
       "      <td>272</td>\n",
       "      <td>NaN</td>\n",
       "      <td>China, Taiwan</td>\n",
       "      <td>IndoPac_Info</td>\n",
       "      <td>NaN</td>\n",
       "    </tr>\n",
       "  </tbody>\n",
       "</table>\n",
       "</div>"
      ],
      "text/plain": [
       "                       created_at  \\\n",
       "0  Sun Aug 07 22:31:20 +0000 2022   \n",
       "1  Sun Aug 07 22:31:16 +0000 2022   \n",
       "\n",
       "                                              source  \\\n",
       "0  <a href=\"http://twitter.com/download/android\" ...   \n",
       "1  <a href=\"http://twitter.com/download/android\" ...   \n",
       "\n",
       "                                       original_text  subjectivity  polarity  \\\n",
       "0  RT @i_ameztoy: Extra random image (I):\\n\\nLets...      0.190625    -0.125   \n",
       "1  RT @IndoPac_Info: #China's media explains the ...      0.100000    -0.100   \n",
       "\n",
       "  lang  favorite_count  retweet_count original_author  followers_count  \\\n",
       "0   en               4              2       i_ameztoy            20497   \n",
       "1   en             691            201           ZIisq               65   \n",
       "\n",
       "   friends_count possibly_sensitive       hashtags user_mentions place  \n",
       "0           2621                NaN           City     i_ameztoy   NaN  \n",
       "1            272                NaN  China, Taiwan  IndoPac_Info   NaN  "
      ]
     },
     "execution_count": 3,
     "metadata": {},
     "output_type": "execute_result"
    }
   ],
   "source": [
    "df.head(2)"
   ]
  },
  {
   "cell_type": "code",
   "execution_count": 4,
   "id": "6cb04eba",
   "metadata": {},
   "outputs": [
    {
     "data": {
      "text/plain": [
       "(21997, 15)"
      ]
     },
     "execution_count": 4,
     "metadata": {},
     "output_type": "execute_result"
    }
   ],
   "source": [
    "# shape info\n",
    "df.shape"
   ]
  },
  {
   "cell_type": "code",
   "execution_count": 9,
   "id": "1c1b3902",
   "metadata": {
    "scrolled": true
   },
   "outputs": [
    {
     "name": "stdout",
     "output_type": "stream",
     "text": [
      "<class 'pandas.core.frame.DataFrame'>\n",
      "Index: 8 entries, count to max\n",
      "Data columns (total 6 columns):\n",
      " #   Column           Non-Null Count  Dtype  \n",
      "---  ------           --------------  -----  \n",
      " 0   subjectivity     8 non-null      float64\n",
      " 1   polarity         8 non-null      float64\n",
      " 2   favorite_count   8 non-null      float64\n",
      " 3   retweet_count    8 non-null      float64\n",
      " 4   followers_count  8 non-null      float64\n",
      " 5   friends_count    8 non-null      float64\n",
      "dtypes: float64(6)\n",
      "memory usage: 448.0+ bytes\n"
     ]
    }
   ],
   "source": [
    "# checking against null value\n",
    "df.info()"
   ]
  },
  {
   "cell_type": "code",
   "execution_count": 11,
   "id": "ba345366",
   "metadata": {},
   "outputs": [
    {
     "data": {
      "text/html": [
       "<div>\n",
       "<style scoped>\n",
       "    .dataframe tbody tr th:only-of-type {\n",
       "        vertical-align: middle;\n",
       "    }\n",
       "\n",
       "    .dataframe tbody tr th {\n",
       "        vertical-align: top;\n",
       "    }\n",
       "\n",
       "    .dataframe thead th {\n",
       "        text-align: right;\n",
       "    }\n",
       "</style>\n",
       "<table border=\"1\" class=\"dataframe\">\n",
       "  <thead>\n",
       "    <tr style=\"text-align: right;\">\n",
       "      <th></th>\n",
       "      <th>subjectivity</th>\n",
       "      <th>polarity</th>\n",
       "      <th>favorite_count</th>\n",
       "      <th>retweet_count</th>\n",
       "      <th>followers_count</th>\n",
       "      <th>friends_count</th>\n",
       "    </tr>\n",
       "  </thead>\n",
       "  <tbody>\n",
       "    <tr>\n",
       "      <th>count</th>\n",
       "      <td>8.000000</td>\n",
       "      <td>8.000000</td>\n",
       "      <td>8.000000</td>\n",
       "      <td>8.000000</td>\n",
       "      <td>8.000000e+00</td>\n",
       "      <td>8.000000</td>\n",
       "    </tr>\n",
       "    <tr>\n",
       "      <th>mean</th>\n",
       "      <td>5158.193091</td>\n",
       "      <td>5158.021345</td>\n",
       "      <td>15923.307015</td>\n",
       "      <td>5626.508502</td>\n",
       "      <td>3.405275e+06</td>\n",
       "      <td>49554.838676</td>\n",
       "    </tr>\n",
       "    <tr>\n",
       "      <th>std</th>\n",
       "      <td>7358.643302</td>\n",
       "      <td>7358.767180</td>\n",
       "      <td>21613.756051</td>\n",
       "      <td>7266.732369</td>\n",
       "      <td>4.848337e+06</td>\n",
       "      <td>69438.737289</td>\n",
       "    </tr>\n",
       "    <tr>\n",
       "      <th>min</th>\n",
       "      <td>0.000000</td>\n",
       "      <td>-1.000000</td>\n",
       "      <td>0.000000</td>\n",
       "      <td>0.000000</td>\n",
       "      <td>0.000000e+00</td>\n",
       "      <td>0.000000</td>\n",
       "    </tr>\n",
       "    <tr>\n",
       "      <th>25%</th>\n",
       "      <td>6.822234</td>\n",
       "      <td>6.793730</td>\n",
       "      <td>41.222656</td>\n",
       "      <td>16.859375</td>\n",
       "      <td>1.004961e+02</td>\n",
       "      <td>173.164062</td>\n",
       "    </tr>\n",
       "    <tr>\n",
       "      <th>50%</th>\n",
       "      <td>3367.747695</td>\n",
       "      <td>3367.616833</td>\n",
       "      <td>11943.562310</td>\n",
       "      <td>4603.343828</td>\n",
       "      <td>2.242993e+06</td>\n",
       "      <td>34273.084739</td>\n",
       "    </tr>\n",
       "    <tr>\n",
       "      <th>75%</th>\n",
       "      <td>5623.221244</td>\n",
       "      <td>5623.159649</td>\n",
       "      <td>17745.226378</td>\n",
       "      <td>6667.999897</td>\n",
       "      <td>3.712014e+06</td>\n",
       "      <td>54061.472754</td>\n",
       "    </tr>\n",
       "    <tr>\n",
       "      <th>max</th>\n",
       "      <td>21997.000000</td>\n",
       "      <td>21997.000000</td>\n",
       "      <td>65170.000000</td>\n",
       "      <td>21997.000000</td>\n",
       "      <td>1.449852e+07</td>\n",
       "      <td>208360.000000</td>\n",
       "    </tr>\n",
       "  </tbody>\n",
       "</table>\n",
       "</div>"
      ],
      "text/plain": [
       "       subjectivity      polarity  favorite_count  retweet_count  \\\n",
       "count      8.000000      8.000000        8.000000       8.000000   \n",
       "mean    5158.193091   5158.021345    15923.307015    5626.508502   \n",
       "std     7358.643302   7358.767180    21613.756051    7266.732369   \n",
       "min        0.000000     -1.000000        0.000000       0.000000   \n",
       "25%        6.822234      6.793730       41.222656      16.859375   \n",
       "50%     3367.747695   3367.616833    11943.562310    4603.343828   \n",
       "75%     5623.221244   5623.159649    17745.226378    6667.999897   \n",
       "max    21997.000000  21997.000000    65170.000000   21997.000000   \n",
       "\n",
       "       followers_count  friends_count  \n",
       "count     8.000000e+00       8.000000  \n",
       "mean      3.405275e+06   49554.838676  \n",
       "std       4.848337e+06   69438.737289  \n",
       "min       0.000000e+00       0.000000  \n",
       "25%       1.004961e+02     173.164062  \n",
       "50%       2.242993e+06   34273.084739  \n",
       "75%       3.712014e+06   54061.472754  \n",
       "max       1.449852e+07  208360.000000  "
      ]
     },
     "execution_count": 11,
     "metadata": {},
     "output_type": "execute_result"
    }
   ],
   "source": [
    "# satitstical information \n",
    "df.describe()"
   ]
  }
 ],
 "metadata": {
  "kernelspec": {
   "display_name": "Python 3 (ipykernel)",
   "language": "python",
   "name": "python3"
  },
  "language_info": {
   "codemirror_mode": {
    "name": "ipython",
    "version": 3
   },
   "file_extension": ".py",
   "mimetype": "text/x-python",
   "name": "python",
   "nbconvert_exporter": "python",
   "pygments_lexer": "ipython3",
   "version": "3.9.7"
  }
 },
 "nbformat": 4,
 "nbformat_minor": 5
}
