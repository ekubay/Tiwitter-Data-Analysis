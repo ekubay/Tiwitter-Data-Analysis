{
 "cells": [
  {
   "cell_type": "markdown",
   "id": "57b3372e",
   "metadata": {},
   "source": [
    "## Data exploration and pre-processing\n",
    "Basically, for any data analysis or machine learning project the following has to be conducted\n",
    "- Data gtahering \n",
    "- Data assessing \n",
    "- Data ceaning "
   ]
  },
  {
   "cell_type": "markdown",
   "id": "c0b05ca8",
   "metadata": {},
   "source": [
    "## Data gathering has been allready done"
   ]
  },
  {
   "cell_type": "markdown",
   "id": "af3b01b3",
   "metadata": {},
   "source": [
    "## Data assessing \n",
    "- Assessing is the second and it is assessed to inspect data for two things:\n",
    " - **Data quality issues**: Data that has quality issues have issues with content like missing, duplicate, or incorrect data. \n",
    " - **Lack of tidiness**: Data that has specific structural issues\n",
    "\n",
    "You can search for these issues in two ways:\n",
    "- Visually by scrolling\n",
    "- Programmatically using code"
   ]
  },
  {
   "cell_type": "markdown",
   "id": "7afee765",
   "metadata": {},
   "source": [
    "for this project I used programmatic Assessment using the following methods \n",
    "- .head (DataFrame and Series)\n",
    "- .tail (DataFrame and Series)\n",
    "- .sample (DataFrame and Series)\n",
    "- .info (DataFrame only)\n",
    "- .describe (DataFrame and Series)\n",
    "- and other\n",
    "\n",
    "### some methods associated with quality issue\n",
    "- .value_counts \n",
    "- .duplicates \n",
    "- .sort_values \n",
    "- sum of .isnull "
   ]
  },
  {
   "cell_type": "code",
   "execution_count": 9,
   "id": "b7f6bfb2",
   "metadata": {},
   "outputs": [],
   "source": [
    "# loding liberaries\n",
    "import matplotlib.pyplot as plt\n",
    "import pandas as pd\n",
    "%matplotlib inline"
   ]
  },
  {
   "cell_type": "code",
   "execution_count": 36,
   "id": "624208a3",
   "metadata": {},
   "outputs": [],
   "source": [
    "df = pd.read_csv('cleaned_twitterData_data.csv')"
   ]
  },
  {
   "cell_type": "code",
   "execution_count": 21,
   "id": "4b74044c",
   "metadata": {
    "scrolled": true
   },
   "outputs": [
    {
     "data": {
      "text/html": [
       "<div>\n",
       "<style scoped>\n",
       "    .dataframe tbody tr th:only-of-type {\n",
       "        vertical-align: middle;\n",
       "    }\n",
       "\n",
       "    .dataframe tbody tr th {\n",
       "        vertical-align: top;\n",
       "    }\n",
       "\n",
       "    .dataframe thead th {\n",
       "        text-align: right;\n",
       "    }\n",
       "</style>\n",
       "<table border=\"1\" class=\"dataframe\">\n",
       "  <thead>\n",
       "    <tr style=\"text-align: right;\">\n",
       "      <th></th>\n",
       "      <th>created_at</th>\n",
       "      <th>source</th>\n",
       "      <th>original_text</th>\n",
       "      <th>subjectivity</th>\n",
       "      <th>polarity</th>\n",
       "      <th>lang</th>\n",
       "      <th>favorite_count</th>\n",
       "      <th>retweet_count</th>\n",
       "      <th>original_author</th>\n",
       "      <th>followers_count</th>\n",
       "      <th>friends_count</th>\n",
       "      <th>possibly_sensitive</th>\n",
       "      <th>hashtags</th>\n",
       "      <th>user_mentions</th>\n",
       "      <th>place</th>\n",
       "    </tr>\n",
       "  </thead>\n",
       "  <tbody>\n",
       "    <tr>\n",
       "      <th>0</th>\n",
       "      <td>Sun Aug 07 22:31:20 +0000 2022</td>\n",
       "      <td>&lt;a href=\"http://twitter.com/download/android\" ...</td>\n",
       "      <td>RT @i_ameztoy: Extra random image (I):\\n\\nLets...</td>\n",
       "      <td>0.190625</td>\n",
       "      <td>-0.125</td>\n",
       "      <td>en</td>\n",
       "      <td>4</td>\n",
       "      <td>2</td>\n",
       "      <td>i_ameztoy</td>\n",
       "      <td>20497</td>\n",
       "      <td>2621</td>\n",
       "      <td>NaN</td>\n",
       "      <td>City</td>\n",
       "      <td>i_ameztoy</td>\n",
       "      <td>NaN</td>\n",
       "    </tr>\n",
       "    <tr>\n",
       "      <th>1</th>\n",
       "      <td>Sun Aug 07 22:31:16 +0000 2022</td>\n",
       "      <td>&lt;a href=\"http://twitter.com/download/android\" ...</td>\n",
       "      <td>RT @IndoPac_Info: #China's media explains the ...</td>\n",
       "      <td>0.100000</td>\n",
       "      <td>-0.100</td>\n",
       "      <td>en</td>\n",
       "      <td>691</td>\n",
       "      <td>201</td>\n",
       "      <td>ZIisq</td>\n",
       "      <td>65</td>\n",
       "      <td>272</td>\n",
       "      <td>NaN</td>\n",
       "      <td>China, Taiwan</td>\n",
       "      <td>IndoPac_Info</td>\n",
       "      <td>NaN</td>\n",
       "    </tr>\n",
       "  </tbody>\n",
       "</table>\n",
       "</div>"
      ],
      "text/plain": [
       "                       created_at  \\\n",
       "0  Sun Aug 07 22:31:20 +0000 2022   \n",
       "1  Sun Aug 07 22:31:16 +0000 2022   \n",
       "\n",
       "                                              source  \\\n",
       "0  <a href=\"http://twitter.com/download/android\" ...   \n",
       "1  <a href=\"http://twitter.com/download/android\" ...   \n",
       "\n",
       "                                       original_text  subjectivity  polarity  \\\n",
       "0  RT @i_ameztoy: Extra random image (I):\\n\\nLets...      0.190625    -0.125   \n",
       "1  RT @IndoPac_Info: #China's media explains the ...      0.100000    -0.100   \n",
       "\n",
       "  lang  favorite_count  retweet_count original_author  followers_count  \\\n",
       "0   en               4              2       i_ameztoy            20497   \n",
       "1   en             691            201           ZIisq               65   \n",
       "\n",
       "   friends_count possibly_sensitive       hashtags user_mentions place  \n",
       "0           2621                NaN           City     i_ameztoy   NaN  \n",
       "1            272                NaN  China, Taiwan  IndoPac_Info   NaN  "
      ]
     },
     "execution_count": 21,
     "metadata": {},
     "output_type": "execute_result"
    }
   ],
   "source": [
    "df.head(2)"
   ]
  },
  {
   "cell_type": "code",
   "execution_count": 22,
   "id": "6cb04eba",
   "metadata": {},
   "outputs": [
    {
     "data": {
      "text/plain": [
       "(21997, 15)"
      ]
     },
     "execution_count": 22,
     "metadata": {},
     "output_type": "execute_result"
    }
   ],
   "source": [
    "# shape info\n",
    "df.shape"
   ]
  },
  {
   "cell_type": "code",
   "execution_count": 5,
   "id": "1c1b3902",
   "metadata": {
    "scrolled": true
   },
   "outputs": [
    {
     "name": "stdout",
     "output_type": "stream",
     "text": [
      "<class 'pandas.core.frame.DataFrame'>\n",
      "RangeIndex: 21997 entries, 0 to 21996\n",
      "Data columns (total 15 columns):\n",
      " #   Column              Non-Null Count  Dtype  \n",
      "---  ------              --------------  -----  \n",
      " 0   created_at          21997 non-null  object \n",
      " 1   source              21997 non-null  object \n",
      " 2   original_text       21997 non-null  object \n",
      " 3   subjectivity        21997 non-null  float64\n",
      " 4   polarity            21997 non-null  float64\n",
      " 5   lang                21997 non-null  object \n",
      " 6   favorite_count      21997 non-null  int64  \n",
      " 7   retweet_count       21997 non-null  int64  \n",
      " 8   original_author     21997 non-null  object \n",
      " 9   followers_count     21997 non-null  int64  \n",
      " 10  friends_count       21997 non-null  int64  \n",
      " 11  possibly_sensitive  6190 non-null   object \n",
      " 12  hashtags            19138 non-null  object \n",
      " 13  user_mentions       18695 non-null  object \n",
      " 14  place               12106 non-null  object \n",
      "dtypes: float64(2), int64(4), object(9)\n",
      "memory usage: 2.5+ MB\n"
     ]
    }
   ],
   "source": [
    "# checking against null value\n",
    "df.info()"
   ]
  },
  {
   "cell_type": "code",
   "execution_count": 23,
   "id": "ba345366",
   "metadata": {
    "scrolled": true
   },
   "outputs": [
    {
     "data": {
      "text/html": [
       "<div>\n",
       "<style scoped>\n",
       "    .dataframe tbody tr th:only-of-type {\n",
       "        vertical-align: middle;\n",
       "    }\n",
       "\n",
       "    .dataframe tbody tr th {\n",
       "        vertical-align: top;\n",
       "    }\n",
       "\n",
       "    .dataframe thead th {\n",
       "        text-align: right;\n",
       "    }\n",
       "</style>\n",
       "<table border=\"1\" class=\"dataframe\">\n",
       "  <thead>\n",
       "    <tr style=\"text-align: right;\">\n",
       "      <th></th>\n",
       "      <th>subjectivity</th>\n",
       "      <th>polarity</th>\n",
       "      <th>favorite_count</th>\n",
       "      <th>retweet_count</th>\n",
       "      <th>followers_count</th>\n",
       "      <th>friends_count</th>\n",
       "    </tr>\n",
       "  </thead>\n",
       "  <tbody>\n",
       "    <tr>\n",
       "      <th>count</th>\n",
       "      <td>21997.000000</td>\n",
       "      <td>21997.000000</td>\n",
       "      <td>21997.000000</td>\n",
       "      <td>21997.000000</td>\n",
       "      <td>2.199700e+04</td>\n",
       "      <td>21997.000000</td>\n",
       "    </tr>\n",
       "    <tr>\n",
       "      <th>mean</th>\n",
       "      <td>0.283878</td>\n",
       "      <td>0.061334</td>\n",
       "      <td>852.241033</td>\n",
       "      <td>176.768241</td>\n",
       "      <td>1.796985e+04</td>\n",
       "      <td>1563.237305</td>\n",
       "    </tr>\n",
       "    <tr>\n",
       "      <th>std</th>\n",
       "      <td>0.290964</td>\n",
       "      <td>0.223716</td>\n",
       "      <td>3106.276392</td>\n",
       "      <td>498.466921</td>\n",
       "      <td>3.030684e+05</td>\n",
       "      <td>4358.923487</td>\n",
       "    </tr>\n",
       "    <tr>\n",
       "      <th>min</th>\n",
       "      <td>0.000000</td>\n",
       "      <td>-1.000000</td>\n",
       "      <td>0.000000</td>\n",
       "      <td>0.000000</td>\n",
       "      <td>0.000000e+00</td>\n",
       "      <td>0.000000</td>\n",
       "    </tr>\n",
       "    <tr>\n",
       "      <th>25%</th>\n",
       "      <td>0.000000</td>\n",
       "      <td>0.000000</td>\n",
       "      <td>2.000000</td>\n",
       "      <td>2.000000</td>\n",
       "      <td>5.700000e+01</td>\n",
       "      <td>137.000000</td>\n",
       "    </tr>\n",
       "    <tr>\n",
       "      <th>50%</th>\n",
       "      <td>0.200000</td>\n",
       "      <td>0.000000</td>\n",
       "      <td>115.000000</td>\n",
       "      <td>38.000000</td>\n",
       "      <td>2.840000e+02</td>\n",
       "      <td>487.000000</td>\n",
       "    </tr>\n",
       "    <tr>\n",
       "      <th>75%</th>\n",
       "      <td>0.469048</td>\n",
       "      <td>0.133333</td>\n",
       "      <td>655.000000</td>\n",
       "      <td>187.000000</td>\n",
       "      <td>1.324000e+03</td>\n",
       "      <td>1599.000000</td>\n",
       "    </tr>\n",
       "    <tr>\n",
       "      <th>max</th>\n",
       "      <td>1.000000</td>\n",
       "      <td>1.000000</td>\n",
       "      <td>65170.000000</td>\n",
       "      <td>17409.000000</td>\n",
       "      <td>1.449852e+07</td>\n",
       "      <td>208360.000000</td>\n",
       "    </tr>\n",
       "  </tbody>\n",
       "</table>\n",
       "</div>"
      ],
      "text/plain": [
       "       subjectivity      polarity  favorite_count  retweet_count  \\\n",
       "count  21997.000000  21997.000000    21997.000000   21997.000000   \n",
       "mean       0.283878      0.061334      852.241033     176.768241   \n",
       "std        0.290964      0.223716     3106.276392     498.466921   \n",
       "min        0.000000     -1.000000        0.000000       0.000000   \n",
       "25%        0.000000      0.000000        2.000000       2.000000   \n",
       "50%        0.200000      0.000000      115.000000      38.000000   \n",
       "75%        0.469048      0.133333      655.000000     187.000000   \n",
       "max        1.000000      1.000000    65170.000000   17409.000000   \n",
       "\n",
       "       followers_count  friends_count  \n",
       "count     2.199700e+04   21997.000000  \n",
       "mean      1.796985e+04    1563.237305  \n",
       "std       3.030684e+05    4358.923487  \n",
       "min       0.000000e+00       0.000000  \n",
       "25%       5.700000e+01     137.000000  \n",
       "50%       2.840000e+02     487.000000  \n",
       "75%       1.324000e+03    1599.000000  \n",
       "max       1.449852e+07  208360.000000  "
      ]
     },
     "execution_count": 23,
     "metadata": {},
     "output_type": "execute_result"
    }
   ],
   "source": [
    "# satitstical information \n",
    "df.describe()"
   ]
  },
  {
   "cell_type": "code",
   "execution_count": 37,
   "id": "e951ec90",
   "metadata": {},
   "outputs": [
    {
     "data": {
      "text/plain": [
       "4"
      ]
     },
     "execution_count": 37,
     "metadata": {},
     "output_type": "execute_result"
    }
   ],
   "source": [
    "# checking null\n",
    "df.isnull().any().sum()"
   ]
  },
  {
   "cell_type": "code",
   "execution_count": 38,
   "id": "f5fac818",
   "metadata": {},
   "outputs": [
    {
     "data": {
      "text/plain": [
       "0"
      ]
     },
     "execution_count": 38,
     "metadata": {},
     "output_type": "execute_result"
    }
   ],
   "source": [
    "#checking against duplicated observation\n",
    "df.duplicated().any().sum()"
   ]
  },
  {
   "cell_type": "code",
   "execution_count": 39,
   "id": "bb6ea457",
   "metadata": {
    "scrolled": true
   },
   "outputs": [
    {
     "data": {
      "text/plain": [
       " 0.000000    8982\n",
       "-0.100000     973\n",
       " 0.133333     782\n",
       " 0.050000     502\n",
       " 0.500000     502\n",
       "             ... \n",
       "-0.014773       1\n",
       " 0.478788       1\n",
       " 0.059375       1\n",
       " 0.010000       1\n",
       " 0.207143       1\n",
       "Name: polarity, Length: 829, dtype: int64"
      ]
     },
     "execution_count": 39,
     "metadata": {},
     "output_type": "execute_result"
    }
   ],
   "source": [
    "## unique value and ther number of appearance in decending orde\n",
    "df['polarity'].value_counts()"
   ]
  },
  {
   "cell_type": "code",
   "execution_count": 40,
   "id": "bc2e20af",
   "metadata": {},
   "outputs": [
    {
     "data": {
      "text/plain": [
       "829"
      ]
     },
     "execution_count": 40,
     "metadata": {},
     "output_type": "execute_result"
    }
   ],
   "source": [
    "# number of unique values\n",
    "df['polarity'].nunique()"
   ]
  },
  {
   "cell_type": "code",
   "execution_count": 28,
   "id": "1be80934",
   "metadata": {},
   "outputs": [
    {
     "data": {
      "text/plain": [
       "15122   -1.0\n",
       "2909    -1.0\n",
       "7448    -1.0\n",
       "15248   -1.0\n",
       "7920    -1.0\n",
       "        ... \n",
       "21693    1.0\n",
       "13630    1.0\n",
       "20442    1.0\n",
       "20140    1.0\n",
       "9778     1.0\n",
       "Name: polarity, Length: 21997, dtype: float64"
      ]
     },
     "execution_count": 28,
     "metadata": {},
     "output_type": "execute_result"
    }
   ],
   "source": [
    "df['polarity'].sort_values()"
   ]
  },
  {
   "cell_type": "code",
   "execution_count": 29,
   "id": "62ad0692",
   "metadata": {
    "scrolled": true
   },
   "outputs": [
    {
     "data": {
      "text/html": [
       "<div>\n",
       "<style scoped>\n",
       "    .dataframe tbody tr th:only-of-type {\n",
       "        vertical-align: middle;\n",
       "    }\n",
       "\n",
       "    .dataframe tbody tr th {\n",
       "        vertical-align: top;\n",
       "    }\n",
       "\n",
       "    .dataframe thead th {\n",
       "        text-align: right;\n",
       "    }\n",
       "</style>\n",
       "<table border=\"1\" class=\"dataframe\">\n",
       "  <thead>\n",
       "    <tr style=\"text-align: right;\">\n",
       "      <th></th>\n",
       "      <th>source</th>\n",
       "      <th>original_text</th>\n",
       "    </tr>\n",
       "  </thead>\n",
       "  <tbody>\n",
       "    <tr>\n",
       "      <th>0</th>\n",
       "      <td>&lt;a href=\"http://twitter.com/download/android\" ...</td>\n",
       "      <td>RT @i_ameztoy: Extra random image (I):\\n\\nLets...</td>\n",
       "    </tr>\n",
       "    <tr>\n",
       "      <th>1</th>\n",
       "      <td>&lt;a href=\"http://twitter.com/download/android\" ...</td>\n",
       "      <td>RT @IndoPac_Info: #China's media explains the ...</td>\n",
       "    </tr>\n",
       "    <tr>\n",
       "      <th>2</th>\n",
       "      <td>&lt;a href=\"http://twitter.com/download/android\" ...</td>\n",
       "      <td>China even cut off communication, they don't a...</td>\n",
       "    </tr>\n",
       "  </tbody>\n",
       "</table>\n",
       "</div>"
      ],
      "text/plain": [
       "                                              source  \\\n",
       "0  <a href=\"http://twitter.com/download/android\" ...   \n",
       "1  <a href=\"http://twitter.com/download/android\" ...   \n",
       "2  <a href=\"http://twitter.com/download/android\" ...   \n",
       "\n",
       "                                       original_text  \n",
       "0  RT @i_ameztoy: Extra random image (I):\\n\\nLets...  \n",
       "1  RT @IndoPac_Info: #China's media explains the ...  \n",
       "2  China even cut off communication, they don't a...  "
      ]
     },
     "execution_count": 29,
     "metadata": {},
     "output_type": "execute_result"
    }
   ],
   "source": [
    "#cheking source and orginal_text columns\n",
    "df[['source','original_text']].head(3)"
   ]
  },
  {
   "cell_type": "markdown",
   "id": "114468e8",
   "metadata": {},
   "source": [
    "### Result of the assesmement\n",
    "- Created_at datatype issue\n",
    "- missing vaues are there\n",
    "- the source and original text needs to be cleaned"
   ]
  },
  {
   "cell_type": "markdown",
   "id": "24b079b4",
   "metadata": {},
   "source": [
    "### Cleaning  \n",
    "it helps as to solve the following \n",
    "- duplicate data\n",
    "- missing data\n",
    "- inaccurate data\n",
    "- incomplete data"
   ]
  },
  {
   "cell_type": "code",
   "execution_count": 31,
   "id": "1fc19ae8",
   "metadata": {},
   "outputs": [],
   "source": [
    "#df.head(1)"
   ]
  },
  {
   "cell_type": "code",
   "execution_count": 41,
   "id": "7edcd929",
   "metadata": {},
   "outputs": [],
   "source": [
    "# handling with missing values with drop method\n",
    "df.dropna(inplace = True)"
   ]
  },
  {
   "cell_type": "code",
   "execution_count": null,
   "id": "06660914",
   "metadata": {},
   "outputs": [],
   "source": [
    "#df.head"
   ]
  },
  {
   "cell_type": "code",
   "execution_count": 42,
   "id": "65b2950b",
   "metadata": {},
   "outputs": [
    {
     "data": {
      "text/plain": [
       "0"
      ]
     },
     "execution_count": 42,
     "metadata": {},
     "output_type": "execute_result"
    }
   ],
   "source": [
    "# checking against missing value\n",
    "df.isnull().any().sum()"
   ]
  },
  {
   "cell_type": "code",
   "execution_count": 43,
   "id": "afcc2c1a",
   "metadata": {},
   "outputs": [],
   "source": [
    "# habdling created_at datatype\n",
    "df['created_at'] =pd.to_datetime(df['created_at'])"
   ]
  },
  {
   "cell_type": "code",
   "execution_count": 16,
   "id": "e7489a08",
   "metadata": {},
   "outputs": [
    {
     "data": {
      "text/plain": [
       "datetime64[ns, UTC]"
      ]
     },
     "execution_count": 16,
     "metadata": {},
     "output_type": "execute_result"
    }
   ],
   "source": [
    "#checking datatype\n",
    "df['created_at'].dtype"
   ]
  },
  {
   "cell_type": "code",
   "execution_count": 17,
   "id": "049bbedc",
   "metadata": {
    "scrolled": false
   },
   "outputs": [],
   "source": [
    "# handling the source and original text needs to be cleaned and creating new column\n"
   ]
  },
  {
   "cell_type": "code",
   "execution_count": 18,
   "id": "81e4d6ab",
   "metadata": {},
   "outputs": [],
   "source": [
    "#Method to find hashtags from tweets\n"
   ]
  },
  {
   "cell_type": "markdown",
   "id": "386215c2",
   "metadata": {},
   "source": [
    "### Visualization "
   ]
  },
  {
   "cell_type": "code",
   "execution_count": 19,
   "id": "b9037713",
   "metadata": {
    "scrolled": false
   },
   "outputs": [
    {
     "data": {
      "image/png": "[encoded data removed]",
      "text/plain": [
       "<Figure size 432x288 with 1 Axes>"
      ]
     },
     "metadata": {
      "needs_background": "light"
     },
     "output_type": "display_data"
    }
   ],
   "source": [
    "# the plority distribution\n",
    "df.polarity.hist();\n",
    "plt.title(\"Distribution of the polarity using histogram\", fontsize = 13, fontweight = 'bold');"
   ]
  },
  {
   "cell_type": "code",
   "execution_count": null,
   "id": "09ce40f5",
   "metadata": {},
   "outputs": [],
   "source": []
  },
  {
   "cell_type": "code",
   "execution_count": 20,
   "id": "5f15e921",
   "metadata": {
    "scrolled": false
   },
   "outputs": [
    {
     "data": {
      "image/png": "[encoded data removed]",
      "text/plain": [
       "<Figure size 432x288 with 1 Axes>"
      ]
     },
     "metadata": {
      "needs_background": "light"
     },
     "output_type": "display_data"
    }
   ],
   "source": [
    "# polarity vs favorite_count using scatter plot\n",
    "df.plot(x = 'polarity', y = 'favorite_count', kind = 'scatter')\n",
    "plt.title(\"Relationship between polarity and favorite count\", fontsize = 13, fontweight = 'bold');"
   ]
  },
  {
   "cell_type": "code",
   "execution_count": 21,
   "id": "fefc0267",
   "metadata": {
    "scrolled": true
   },
   "outputs": [
    {
     "data": {
      "image/png": "[encoded data removed]",
      "text/plain": [
       "<Figure size 432x288 with 1 Axes>"
      ]
     },
     "metadata": {
      "needs_background": "light"
     },
     "output_type": "display_data"
    }
   ],
   "source": [
    "# the distribution of subjectivity\n",
    "df.subjectivity.hist();\n",
    "plt.title(\"Distribution of the subjectivity using histogram\", fontsize = 8, fontweight = 'bold');"
   ]
  },
  {
   "cell_type": "code",
   "execution_count": null,
   "id": "34348c40",
   "metadata": {},
   "outputs": [],
   "source": []
  },
  {
   "cell_type": "markdown",
   "id": "b053a264",
   "metadata": {},
   "source": [
    "## Topic Modeling "
   ]
  },
  {
   "cell_type": "code",
   "execution_count": 1,
   "id": "8bb44b5c",
   "metadata": {},
   "outputs": [],
   "source": [
    "# inporting packages \n",
    "import warnings\n",
    "warnings.filterwarnings('ignore')\n",
    "import matplotlib.pyplot as plt\n",
    "import seaborn as sns\n",
    "import gensim\n",
    "from gensim.models import CoherenceModel\n",
    "from gensim import corpora\n",
    "import pandas as pd\n",
    "from pprint import pprint\n",
    "import string\n",
    "import os\n",
    "import re\n",
    "import emoji\n",
    "import nltk"
   ]
  },
  {
   "cell_type": "code",
   "execution_count": 23,
   "id": "1380a5e0",
   "metadata": {},
   "outputs": [],
   "source": [
    "#data loader class\n",
    "# class DataLoader:\n",
    "#   def __init__(self,dir_name,file_name):\n",
    "#     self.dir_name=dir_name\n",
    "#     self.file_name = file_name\n",
    "    \n",
    " \n",
    "#   def read_csv(self):\n",
    "#     os.chdir(self.dir_name)\n",
    "#     tweets_df=pd.read_csv(self.file_name)\n",
    "#     return tweets_df"
   ]
  },
  {
   "cell_type": "code",
   "execution_count": 24,
   "id": "3d9a5158",
   "metadata": {},
   "outputs": [],
   "source": [
    "#object creation\n",
    "#DataLoader_obj= df"
   ]
  },
  {
   "cell_type": "code",
   "execution_count": 44,
   "id": "3bb6e100",
   "metadata": {
    "scrolled": true
   },
   "outputs": [
    {
     "data": {
      "text/html": [
       "<div>\n",
       "<style scoped>\n",
       "    .dataframe tbody tr th:only-of-type {\n",
       "        vertical-align: middle;\n",
       "    }\n",
       "\n",
       "    .dataframe tbody tr th {\n",
       "        vertical-align: top;\n",
       "    }\n",
       "\n",
       "    .dataframe thead th {\n",
       "        text-align: right;\n",
       "    }\n",
       "</style>\n",
       "<table border=\"1\" class=\"dataframe\">\n",
       "  <thead>\n",
       "    <tr style=\"text-align: right;\">\n",
       "      <th></th>\n",
       "      <th>created_at</th>\n",
       "      <th>source</th>\n",
       "      <th>original_text</th>\n",
       "      <th>subjectivity</th>\n",
       "      <th>polarity</th>\n",
       "      <th>lang</th>\n",
       "      <th>favorite_count</th>\n",
       "      <th>retweet_count</th>\n",
       "      <th>original_author</th>\n",
       "      <th>followers_count</th>\n",
       "      <th>friends_count</th>\n",
       "      <th>possibly_sensitive</th>\n",
       "      <th>hashtags</th>\n",
       "      <th>user_mentions</th>\n",
       "      <th>place</th>\n",
       "    </tr>\n",
       "  </thead>\n",
       "  <tbody>\n",
       "    <tr>\n",
       "      <th>5</th>\n",
       "      <td>2022-08-07 22:31:02+00:00</td>\n",
       "      <td>&lt;a href=\"http://twitter.com/download/android\" ...</td>\n",
       "      <td>RT @benedictrogers: We must not let this happe...</td>\n",
       "      <td>0.5</td>\n",
       "      <td>0.2</td>\n",
       "      <td>en</td>\n",
       "      <td>116</td>\n",
       "      <td>36</td>\n",
       "      <td>GraceCh15554845</td>\n",
       "      <td>207</td>\n",
       "      <td>54</td>\n",
       "      <td>False</td>\n",
       "      <td>Taiwan</td>\n",
       "      <td>benedictrogers</td>\n",
       "      <td>Melbourne, Victoria</td>\n",
       "    </tr>\n",
       "  </tbody>\n",
       "</table>\n",
       "</div>"
      ],
      "text/plain": [
       "                 created_at  \\\n",
       "5 2022-08-07 22:31:02+00:00   \n",
       "\n",
       "                                              source  \\\n",
       "5  <a href=\"http://twitter.com/download/android\" ...   \n",
       "\n",
       "                                       original_text  subjectivity  polarity  \\\n",
       "5  RT @benedictrogers: We must not let this happe...           0.5       0.2   \n",
       "\n",
       "  lang  favorite_count  retweet_count  original_author  followers_count  \\\n",
       "5   en             116             36  GraceCh15554845              207   \n",
       "\n",
       "   friends_count possibly_sensitive hashtags   user_mentions  \\\n",
       "5             54              False   Taiwan  benedictrogers   \n",
       "\n",
       "                 place  \n",
       "5  Melbourne, Victoria  "
      ]
     },
     "execution_count": 44,
     "metadata": {},
     "output_type": "execute_result"
    }
   ],
   "source": [
    "df.head(1)"
   ]
  },
  {
   "cell_type": "code",
   "execution_count": 47,
   "id": "aa70082d",
   "metadata": {
    "scrolled": true
   },
   "outputs": [],
   "source": [
    "df['clean_text'] = df['original_text']"
   ]
  },
  {
   "cell_type": "code",
   "execution_count": 48,
   "id": "ce027a75",
   "metadata": {},
   "outputs": [
    {
     "data": {
      "text/html": [
       "<div>\n",
       "<style scoped>\n",
       "    .dataframe tbody tr th:only-of-type {\n",
       "        vertical-align: middle;\n",
       "    }\n",
       "\n",
       "    .dataframe tbody tr th {\n",
       "        vertical-align: top;\n",
       "    }\n",
       "\n",
       "    .dataframe thead th {\n",
       "        text-align: right;\n",
       "    }\n",
       "</style>\n",
       "<table border=\"1\" class=\"dataframe\">\n",
       "  <thead>\n",
       "    <tr style=\"text-align: right;\">\n",
       "      <th></th>\n",
       "      <th>created_at</th>\n",
       "      <th>source</th>\n",
       "      <th>original_text</th>\n",
       "      <th>subjectivity</th>\n",
       "      <th>polarity</th>\n",
       "      <th>lang</th>\n",
       "      <th>favorite_count</th>\n",
       "      <th>retweet_count</th>\n",
       "      <th>original_author</th>\n",
       "      <th>followers_count</th>\n",
       "      <th>friends_count</th>\n",
       "      <th>possibly_sensitive</th>\n",
       "      <th>hashtags</th>\n",
       "      <th>user_mentions</th>\n",
       "      <th>place</th>\n",
       "      <th>clean_text</th>\n",
       "    </tr>\n",
       "  </thead>\n",
       "  <tbody>\n",
       "    <tr>\n",
       "      <th>5</th>\n",
       "      <td>2022-08-07 22:31:02+00:00</td>\n",
       "      <td>&lt;a href=\"http://twitter.com/download/android\" ...</td>\n",
       "      <td>RT @benedictrogers: We must not let this happe...</td>\n",
       "      <td>0.5</td>\n",
       "      <td>0.2</td>\n",
       "      <td>en</td>\n",
       "      <td>116</td>\n",
       "      <td>36</td>\n",
       "      <td>GraceCh15554845</td>\n",
       "      <td>207</td>\n",
       "      <td>54</td>\n",
       "      <td>False</td>\n",
       "      <td>Taiwan</td>\n",
       "      <td>benedictrogers</td>\n",
       "      <td>Melbourne, Victoria</td>\n",
       "      <td>RT @benedictrogers: We must not let this happe...</td>\n",
       "    </tr>\n",
       "  </tbody>\n",
       "</table>\n",
       "</div>"
      ],
      "text/plain": [
       "                 created_at  \\\n",
       "5 2022-08-07 22:31:02+00:00   \n",
       "\n",
       "                                              source  \\\n",
       "5  <a href=\"http://twitter.com/download/android\" ...   \n",
       "\n",
       "                                       original_text  subjectivity  polarity  \\\n",
       "5  RT @benedictrogers: We must not let this happe...           0.5       0.2   \n",
       "\n",
       "  lang  favorite_count  retweet_count  original_author  followers_count  \\\n",
       "5   en             116             36  GraceCh15554845              207   \n",
       "\n",
       "   friends_count possibly_sensitive hashtags   user_mentions  \\\n",
       "5             54              False   Taiwan  benedictrogers   \n",
       "\n",
       "                 place                                         clean_text  \n",
       "5  Melbourne, Victoria  RT @benedictrogers: We must not let this happe...  "
      ]
     },
     "execution_count": 48,
     "metadata": {},
     "output_type": "execute_result"
    }
   ],
   "source": [
    "df.head(1)"
   ]
  },
  {
   "cell_type": "code",
   "execution_count": 49,
   "id": "8a2d398a",
   "metadata": {
    "scrolled": true
   },
   "outputs": [],
   "source": [
    "tweets_df = df\n",
    "#tweets_df"
   ]
  },
  {
   "cell_type": "code",
   "execution_count": 61,
   "id": "9d4dcb16",
   "metadata": {},
   "outputs": [],
   "source": [
    "nltk.download('words')\n",
    "words = set(nltk.corpus.words.words())"
   ]
  },
  {
   "cell_type": "code",
   "execution_count": 52,
   "id": "5c98d834",
   "metadata": {},
   "outputs": [
    {
     "data": {
      "text/plain": [
       "5        : We must not let this happen . We must be rea...\n",
       "36              : Roger it as it is . is a part of China !\n",
       "39       : \" For too long , been , and isolated from th...\n",
       "43       : 🇬🇷 Summer Travel Excursion 👉 check availabil...\n",
       "48       : We must not let this happen . We must be rea...\n",
       "                               ...                        \n",
       "21978    : Head of ' s missile is found dead in hotel ....\n",
       "21986    Minister is crystal clear in his interview . '...\n",
       "21987                 : Live - fire military in the with .\n",
       "21989    : Head of ' s missile is found dead in hotel ....\n",
       "21993     : A good of China ' s missile on on August 4th .\n",
       "Name: clean_text, Length: 1976, dtype: object"
      ]
     },
     "execution_count": 52,
     "metadata": {},
     "output_type": "execute_result"
    }
   ],
   "source": [
    "def cleaner(tweet):\n",
    "    tweet = re.sub(\"@[A-Za-z0-9]+\",\"\",tweet) #Remove @ sign\n",
    "    tweet = re.sub(r\"(?:\\@|http?\\://|https?\\://|www)\\S+\", \"\", tweet) #Remove http links\n",
    "    tweet = \" \".join(tweet.split())\n",
    "    #tweet = ''.join(c for c in tweet if c not in emoji.UNICODE_EMOJI) #Remove Emojis\n",
    "    tweet = tweet.replace(\"#\", \"\").replace(\"_\", \" \") #Remove hashtag sign but keep the text\n",
    "\n",
    "    tweet = \" \".join(w for w in nltk.wordpunct_tokenize(tweet) \\\n",
    "         if w.lower() in words or not w.isalpha())\n",
    "    return tweet\n",
    "\n",
    "\n",
    "tweets_df['clean_text'] = tweets_df['original_text'].map(lambda x: cleaner(x))\n",
    "tweets_df['clean_text']"
   ]
  },
  {
   "cell_type": "code",
   "execution_count": 89,
   "id": "1cf2e0af",
   "metadata": {},
   "outputs": [],
   "source": [
    "class PrepareData:\n",
    "  def __init__(self,df):\n",
    "    self.df=df\n",
    "  def preprocess_data(self):\n",
    "    \n",
    "    tweets_df = self.df.loc[self.df['lang'] ==\"en\"]\n",
    "\n",
    "    #print(tweets_df)\n",
    "    #text Preprocessing\n",
    "    tweets_df['clean_text']=tweets_df['clean_text'].astype(str)\n",
    "    tweets_df['clean_text'] = tweets_df['clean_text'].apply(lambda x: x.lower())\n",
    "    tweets_df['clean_text']= tweets_df['clean_text'].apply(lambda x: x.translate(str.maketrans(' ', ' ', string.punctuation)))\n",
    "    \n",
    "    #Converting tweets to list of words For feature engineering\n",
    "    sentence_list = [tweet for tweet in tweets_df['clean_text']]\n",
    "    word_list = [sent.split() for sent in sentence_list]\n",
    "    # print(word_list)\n",
    "\n",
    "    #Create dictionary which contains Id and word \n",
    "    word_to_id = corpora.Dictionary(word_list) #generate unique tokens\n",
    "    #  we can see the word to unique integer mapping\n",
    "    # print(word_to_id.token2id)\n",
    "    # using bag of words(bow), we create a corpus that contains the word id and its frequency in each document.\n",
    "    corpus_1= [word_to_id.doc2bow(tweet) for tweet in word_list]\n",
    "\n",
    "\n",
    "    return word_list, word_to_id, corpus_1"
   ]
  },
  {
   "cell_type": "code",
   "execution_count": 90,
   "id": "2bc822d8",
   "metadata": {},
   "outputs": [],
   "source": [
    "PrepareData_obj=PrepareData(tweets_df)\n",
    "#tweets_df['clean_text']\n",
    "word_list ,id2word,corpus=PrepareData_obj.preprocess_data()"
   ]
  },
  {
   "cell_type": "code",
   "execution_count": 84,
   "id": "cffe9edb",
   "metadata": {},
   "outputs": [],
   "source": [
    "id_words = [[(id2word[id], count) for id, count in line] for line in corpus]"
   ]
  },
  {
   "cell_type": "code",
   "execution_count": 92,
   "id": "fce1facc",
   "metadata": {
    "scrolled": false
   },
   "outputs": [],
   "source": [
    "#print(id_words)"
   ]
  },
  {
   "cell_type": "markdown",
   "id": "ee20628a",
   "metadata": {},
   "source": [
    "## Topic Modeling using Latent Dirichlet Allocation\n",
    "based on the distributional hypothesis, (i.e. similar topics make use of similar words) and the statistical mixture hypothesis (i.e. documents talk about several topics) for which a statistical distribution can be determined.\n",
    "\n",
    "The purpose of LDA is mapping each teweets in our corpus to a set of topics which covers a good deal of the words in the tweet"
   ]
  },
  {
   "cell_type": "code",
   "execution_count": 104,
   "id": "add79909",
   "metadata": {},
   "outputs": [],
   "source": [
    "# Build LDA model\n",
    "lda_model = gensim.models.ldamodel.LdaModel(corpus,\n",
    "                                           id2word=id2word,\n",
    "                                           num_topics=6, \n",
    "                                           random_state=100,\n",
    "                                           update_every=1,\n",
    "                                           chunksize=100,\n",
    "                                           passes=10,\n",
    "                                           alpha='auto',\n",
    "                                           per_word_topics=True)"
   ]
  },
  {
   "cell_type": "code",
   "execution_count": 105,
   "id": "7ad01c73",
   "metadata": {
    "scrolled": false
   },
   "outputs": [
    {
     "name": "stdout",
     "output_type": "stream",
     "text": [
      "[(0,\n",
      "  '0.069*\"the\" + 0.033*\"in\" + 0.029*\"s\" + 0.028*\"’\" + 0.027*\"to\" + 0.026*\"and\" '\n",
      "  '+ 0.025*\"of\" + 0.020*\"china\" + 0.015*\"with\" + 0.015*\"is\"'),\n",
      " (1,\n",
      "  '0.079*\"china\" + 0.074*\"today\" + 0.074*\"new\" + 0.070*\"got\" + 0.069*\"1\" + '\n",
      "  '0.067*\"billion\" + 0.067*\"4\" + 0.066*\"pink\" + 0.066*\"panda\" + 0.015*\"more\"'),\n",
      " (2,\n",
      "  '0.054*\"china\" + 0.025*\"the\" + 0.021*\"us\" + 0.021*\"of\" + 0.019*\"need\" + '\n",
      "  '0.018*\"via\" + 0.016*\"trump\" + 0.016*\"on\" + 0.016*\"in\" + 0.016*\"no\"'),\n",
      " (3,\n",
      "  '0.044*\"…\" + 0.035*\"the\" + 0.025*\"in\" + 0.023*\"and\" + 0.021*\"of\" + '\n",
      "  '0.015*\"on\" + 0.015*\"live\" + 0.014*\"travel\" + 0.014*\"summer\" + 0.012*\"from\"'),\n",
      " (4,\n",
      "  '0.023*\"the\" + 0.023*\"by\" + 0.022*\"we\" + 0.022*\"must\" + 0.019*\"is\" + '\n",
      "  '0.018*\"not\" + 0.018*\"this\" + 0.017*\"in\" + 0.016*\"president\" + 0.014*\"be\"'),\n",
      " (5,\n",
      "  '0.043*\"a\" + 0.040*\"is\" + 0.033*\"the\" + 0.031*\"to\" + 0.029*\"china\" + '\n",
      "  '0.029*\"of\" + 0.026*\"s\" + 0.024*\"and\" + 0.021*\"in\" + 0.016*\"it\"')]\n"
     ]
    }
   ],
   "source": [
    "pprint(lda_model.print_topics())"
   ]
  },
  {
   "cell_type": "code",
   "execution_count": 106,
   "id": "f399de0b",
   "metadata": {
    "scrolled": true
   },
   "outputs": [
    {
     "name": "stdout",
     "output_type": "stream",
     "text": [
      "[(0,\n",
      "  [('the', 0.06875957),\n",
      "   ('in', 0.032998472),\n",
      "   ('s', 0.029072074),\n",
      "   ('’', 0.028167533),\n",
      "   ('to', 0.02669851),\n",
      "   ('and', 0.02565651),\n",
      "   ('of', 0.024649274),\n",
      "   ('china', 0.020214928),\n",
      "   ('with', 0.01543836),\n",
      "   ('is', 0.015215967)]),\n",
      " (1,\n",
      "  [('china', 0.07860394),\n",
      "   ('today', 0.07390391),\n",
      "   ('new', 0.0736455),\n",
      "   ('got', 0.069705024),\n",
      "   ('1', 0.068664305),\n",
      "   ('billion', 0.06722328),\n",
      "   ('4', 0.067221485),\n",
      "   ('pink', 0.06578026),\n",
      "   ('panda', 0.065780245),\n",
      "   ('more', 0.015036244)]),\n",
      " (2,\n",
      "  [('china', 0.05417503),\n",
      "   ('the', 0.024906538),\n",
      "   ('us', 0.020820368),\n",
      "   ('of', 0.020782206),\n",
      "   ('need', 0.019035963),\n",
      "   ('via', 0.017572034),\n",
      "   ('trump', 0.016209632),\n",
      "   ('on', 0.016173262),\n",
      "   ('in', 0.015983753),\n",
      "   ('no', 0.015856285)]),\n",
      " (3,\n",
      "  [('…', 0.04377534),\n",
      "   ('the', 0.034773704),\n",
      "   ('in', 0.02527311),\n",
      "   ('and', 0.022779996),\n",
      "   ('of', 0.02116417),\n",
      "   ('on', 0.015224999),\n",
      "   ('live', 0.015061422),\n",
      "   ('travel', 0.014408943),\n",
      "   ('summer', 0.01440879),\n",
      "   ('from', 0.011507728)]),\n",
      " (4,\n",
      "  [('the', 0.022937218),\n",
      "   ('by', 0.02263711),\n",
      "   ('we', 0.021680703),\n",
      "   ('must', 0.021680139),\n",
      "   ('is', 0.018956285),\n",
      "   ('not', 0.018494349),\n",
      "   ('this', 0.018072015),\n",
      "   ('in', 0.017242914),\n",
      "   ('president', 0.01574453),\n",
      "   ('be', 0.01361241)]),\n",
      " (5,\n",
      "  [('a', 0.043241438),\n",
      "   ('is', 0.039964717),\n",
      "   ('the', 0.033279832),\n",
      "   ('to', 0.030730462),\n",
      "   ('china', 0.028803954),\n",
      "   ('of', 0.028768832),\n",
      "   ('s', 0.025822427),\n",
      "   ('and', 0.023719236),\n",
      "   ('in', 0.020681715),\n",
      "   ('it', 0.015533197)])]\n"
     ]
    }
   ],
   "source": [
    "pprint(lda_model.show_topics(formatted=False))"
   ]
  },
  {
   "cell_type": "markdown",
   "id": "ec4d21aa",
   "metadata": {},
   "source": [
    "#### Model Analysis\n",
    "- Perplexity is also a measure of model quality and in natural language processing is often used as “perplexity per number of words”. It describes how well a model predicts a sample, i.e. how much it is “perplexed” by a sample from the observed data. The lower the score, the better the model for the given data.\n",
    "\n",
    "- A coherence matrix is used to test the model for accuracy. Topic coherence is a measure that compares different topic models based on their human-interpretability. The coherence score ‘C_V’ provides a numerical value to the interpretability of the topics"
   ]
  },
  {
   "cell_type": "code",
   "execution_count": 37,
   "id": "d8c4e0a0",
   "metadata": {
    "scrolled": true
   },
   "outputs": [],
   "source": [
    "# # Compute Perplexity\n",
    "\n",
    "# #It's a measure of how good the model is. The lower the better. Perplexity is a negative value\n",
    "# print('\\nPerplexity: ', lda_model.log_perplexity(corpus))  \n",
    "# doc_lda = lda_model[corpus]\n",
    "\n",
    "# # Compute Coherence Score\n",
    "# coherence_model_lda = CoherenceModel(model=lda_model, texts=word_list, dictionary=id2word, coherence='c_v')\n",
    "# coherence_lda = coherence_model_lda.get_coherence()\n",
    "# print('\\n Ldamodel Coherence Score/Accuracy on Tweets: ', coherence_lda)"
   ]
  },
  {
   "cell_type": "markdown",
   "id": "430aa871",
   "metadata": {},
   "source": [
    "Anlayizing results Exploring the Intertopic Distance Plot can help you learn about how topics relate to each other, including potential higher-level structure between groups of topics"
   ]
  },
  {
   "cell_type": "code",
   "execution_count": 103,
   "id": "3f021216",
   "metadata": {},
   "outputs": [
    {
     "data": {
      "text/html": [
       "\n",
       "<link rel=\"stylesheet\" type=\"text/css\" href=\"https://cdn.jsdelivr.net/gh/bmabey/pyLDAvis@3.3.1/pyLDAvis/js/ldavis.v1.0.0.css\">\n",
       "\n",
       "\n",
       "<div id=\"ldavis_el394422095625981925468624885\"></div>\n",
       "<script type=\"text/javascript\">\n",
       "\n",
       "var ldavis_el394422095625981925468624885_data = {\"mdsDat\": {\"x\": [0.09118018807733423, 0.016529531659175305, 0.06636713399195594, -0.29882737867947834, 0.09510637442733935, 0.029644150523673668], \"y\": [0.06143085193614993, 0.03280085438227078, 0.12873502724857613, -0.01564186270565575, -0.20187950484911224, -0.00544536601222873], \"topics\": [1, 2, 3, 4, 5, 6], \"cluster\": [1, 1, 1, 1, 1, 1], \"Freq\": [30.252125866194902, 18.363628363734712, 15.42372700709308, 14.211857375243989, 13.060581817501738, 8.68807957023158]}, \"tinfo\": {\"Term\": [\"today\", \"new\", \"got\", \"billion\", \"4\", \"1\", \"panda\", \"pink\", \"china\", \"\\u2026\", \"a\", \"is\", \"\\u2019\", \"the\", \"by\", \"to\", \"we\", \"and\", \"us\", \"of\", \"need\", \"must\", \"not\", \"trump\", \"s\", \"in\", \"this\", \"via\", \"no\", \"army\", \"\\u201c\", \"\\u201d\", \"\\u2018\", \"he\", \"\\u2019\", \"since\", \"watch\", \"foreign\", \"out\", \"2\", \"wall\", \"what\", \"find\", \"everything\", \"with\", \"how\", \"here\", \"mean\", \"who\", \"ministry\", \"air\", \"so\", \"totalitarianism\", \"sang\", \"roc\", \"thought\", \"control\", \"mindlessly\", \"when\", \"however\", \"policy\", \"the\", \"s\", \"are\", \"to\", \"in\", \"and\", \"they\", \"t\", \"don\", \"of\", \"from\", \"we\", \"is\", \"on\", \"by\", \"i\", \"china\", \"no\", \"this\", \"that\", \"a\", \"for\", \"at\", \"need\", \"trump\", \"music\", \"caption\", \"peace\", \"king\", \"x\", \"speech\", \"good\", \"true\", \"an\", \"think\", \"democracy\", \"love\", \"weekend\", \"work\", \"strait\", \"military\", \"after\", \"political\", \"\\ud83c\\uddf9\\ud83c\\uddfc\", \"pure\", \"positive\", \"feel\", \"analysis\", \"bad\", \"turns\", \"us\", \"bottleneck\", \"enjoy\", \"via\", \"let\", \"against\", \"no\", \"china\", \"i\", \"for\", \"statement\", \"you\", \"on\", \"of\", \"the\", \"that\", \"in\", \"this\", \"to\", \"army\", \"situation\", \"house\", \"u\", \"territorial\", \"00\", \"than\", \"was\", \"our\", \"top\", \"regular\", \"current\", \"mix\", \"then\", \"said\", \"wang\", \"territory\", \"speaker\", \"lost\", \"small\", \"day\", \"a\", \"soil\", \"bike\", \"perfect\", \"ride\", \"riverside\", \"province\", \"welcome\", \"conduct\", \"part\", \"is\", \"there\", \"visit\", \"but\", \"it\", \"will\", \"united\", \"to\", \"of\", \"s\", \"and\", \"that\", \"the\", \"china\", \"in\", \"at\", \"nancy\", \"if\", \"on\", \"via\", \"not\", \"new\", \"got\", \"today\", \"billion\", \"4\", \"panda\", \"1\", \"pink\", \"more\", \"worldwar3\", \"see\", \"losing\", \"semiconductor\", \"post\", \"know\", \"range\", \"chips\", \"source\", \"aggression\", \"taunting\", \"exactly\", \"issue\", \"authoritarian\", \"provoking\", \"backlash\", \"tiger\", \"paper\", \"consistent\", \"taking\", \"proclamation\", \"over\", \"ago\", \"china\", \"us\", \"at\", \"a\", \"around\", \"long\", \"good\", \"read\", \"travel\", \"summer\", \"availability\", \"\\ud83d\\udc49\", \"\\ud83c\\uddec\\ud83c\\uddf7\", \"excursion\", \"check\", \"too\", \"always\", \"\\u2026\", \"area\", \"describe\", \"each\", \"media\", \"role\", \"sura\", \"\\ud83c\\udde8\\ud83c\\uddf3\", \"buy\", \"company\", \"equity\", \"training\", \"year\", \"live\", \"front\", \"have\", \"dangerous\", \"follow\", \"long\", \"isolated\", \"bunch\", \"my\", \"exercise\", \"as\", \"fire\", \"war\", \"and\", \"the\", \"in\", \"of\", \"from\", \"on\", \"been\", \"world\", \"for\", \"t\", \"must\", \"president\", \"based\", \"li\", \"me\", \"why\", \"defend\", \"happen\", \"ready\", \"en\", \"never\", \"1949\", \"bump\", \"chart\", \"yesterday\", \"\\ud83c\\uddf3\\ud83c\\uddeb\", \"\\ud83d\\ude22\", \"brownie\", \"chocolate\", \"space\", \"economy\", \"take\", \"join\", \"n\", \"return\", \"near\", \"\\ud83d\\udd17\", \"video\", \"recipe\", \"food\", \"by\", \"launch\", \"19\", \"covid\", \"we\", \"not\", \"be\", \"this\", \"is\", \"the\", \"in\", \"let\", \"china\", \"s\", \"my\", \"will\"], \"Freq\": [24.0, 24.0, 23.0, 22.0, 22.0, 23.0, 21.0, 23.0, 75.0, 16.0, 22.0, 29.0, 22.0, 83.0, 9.0, 34.0, 10.0, 35.0, 12.0, 42.0, 8.0, 4.0, 9.0, 7.0, 35.0, 47.0, 13.0, 10.0, 11.0, 5.0, 6.994911193445503, 6.994911193445503, 5.580795224048104, 5.427725460922067, 19.292172504429686, 4.005743273585466, 3.86072120253127, 3.8512686008737096, 3.8431714738448233, 3.286478362783741, 3.2864646485698508, 3.286324636014089, 2.867253023469851, 2.8585827698744404, 10.573858562714532, 2.447053974969763, 2.2936781935128527, 2.2935195232474963, 2.293457490349784, 2.2934166666433207, 2.2927917131057, 2.292552830635847, 2.292358918030145, 2.29224665283737, 5.650395816346035, 2.291333381872851, 2.29106531683158, 2.2896953306509995, 2.2807879487293725, 2.2707413302492467, 2.6450502270589746, 47.0939879371155, 19.91170031631277, 4.55838239923359, 18.286026331964877, 22.60092243163576, 17.57235267427263, 3.021063035210747, 5.847745267835964, 4.363057867371296, 16.88248816763444, 5.938683263335665, 5.536369463359522, 10.421539573065177, 8.411394937817791, 5.033117773411339, 6.187517149509896, 13.845368977310441, 4.891076789734605, 5.000673132699405, 4.8603885252062256, 4.743967287752252, 4.169891888988265, 3.977087264194477, 7.914250362392251, 6.739195956665855, 5.873086673309166, 5.730506177685915, 4.710528751935817, 4.121409770948575, 4.121409770948575, 3.951946771896452, 6.303966026857887, 3.5326253305352022, 3.520588839471223, 6.315413974319691, 2.939540262628822, 2.512702306348332, 2.5127017255487245, 2.35465840837751, 2.3511850331253252, 6.311890456701399, 2.3458894959048235, 2.3456277488817503, 2.3389005406289813, 1.9237635668392568, 1.9237620180403037, 1.9237587268425282, 1.7657942048180524, 1.7646841031684215, 1.7646841031684215, 8.656121188927457, 1.3348557065093087, 1.3348098233403232, 7.305618063394963, 3.6895732596468402, 4.199087459242635, 6.592290827165824, 22.523407226587647, 6.305194224427693, 5.87749765272758, 2.345860649524322, 3.690144379260794, 6.724075032486787, 8.64025529245195, 10.354956943005822, 4.4822048102705265, 6.645286080943881, 3.6059563145673996, 4.222958323107214, 5.209429950070366, 2.813624173516574, 2.811964944461705, 2.3954034899326873, 2.3954056038074145, 2.3953343824896924, 2.395172752375959, 2.3793780430223057, 4.282101075567767, 2.2505790054892594, 1.6717261196484343, 1.6716970132195024, 1.671696688008006, 1.6716963627965093, 1.6715687172841542, 1.6715687172841542, 1.6715687172841542, 1.6706293438766693, 1.6676640654520725, 1.6650672516529492, 2.804380687153082, 15.099615309608696, 1.253595763557686, 1.253594381408826, 1.253594381408826, 1.253594381408826, 1.253594381408826, 1.2535866576357855, 1.2535866576357855, 1.253583486823695, 4.431842757837463, 13.955406790664053, 3.433260044463492, 3.668471860960211, 3.5868574342350543, 5.4240864487227025, 3.2319859988899178, 1.6715687172841542, 10.730867809831258, 10.045880038250475, 9.017015581596409, 8.282595662555794, 4.864283639314958, 11.621090703012333, 10.058144414204456, 7.221913813935413, 3.3683777492304947, 2.2706806532960986, 2.5056405934888195, 2.9825956115711354, 2.609535097229761, 2.4576681578307893, 23.69591586268801, 22.428041635229373, 23.779060461730797, 21.62952457864377, 21.628946835992636, 21.16521846074145, 22.09318343299503, 21.16522325528627, 4.83800857015026, 1.8487155030147342, 1.8271193748380528, 1.389159730225024, 1.051785440765444, 1.8193241941039773, 1.8502149969080324, 0.5880529452022997, 0.5872796750201142, 0.5872792255315371, 0.5871944969347485, 0.5871928862673471, 0.5871928862673471, 0.5871928488099657, 0.5871923993213886, 0.5871920996623371, 0.5871918749180486, 0.5871916127163785, 0.5871887284980087, 0.5835837926520625, 0.5835044579181994, 0.5833941833872774, 1.894299787746045, 1.503710695469833, 25.29132462516432, 3.249896205916938, 2.528429582245425, 1.817101173431029, 0.668501736503764, 0.6128027226934909, 0.5993896464355651, 0.5880675161236749, 4.260603155963192, 4.260557717563405, 3.2451824236196547, 3.2451818728511728, 3.2451815974669316, 3.2451749882451444, 3.2451749882451444, 3.230153879428171, 2.4990591145297314, 12.943998944395975, 2.1300022353114816, 2.1300022353114816, 2.1300022353114816, 2.1300022353114816, 2.1300022353114816, 2.1300022353114816, 2.1300022353114816, 2.129559968220218, 2.129559968220218, 2.129559968220218, 2.129559968220218, 2.11893481804449, 4.453535702997228, 1.4830655829646326, 1.482687618093674, 1.4784153069766992, 1.7264161653263457, 2.209745387709189, 1.21425352443602, 1.1145440507111501, 2.8090957808799564, 2.092419859463127, 3.2960045853211986, 2.6167338299935534, 2.7433524748409717, 6.735852824388595, 10.282291287829873, 7.473045973306979, 6.258066673703446, 3.40273828488471, 4.501903915726014, 2.366252035015518, 2.4441207845759365, 2.2317759893079026, 2.1568154350259947, 4.264442688062395, 3.096919461114787, 2.6339470785943697, 2.6339470785943697, 2.300249077032389, 2.2999033986269932, 1.5032701103989101, 1.5032697440201022, 1.5032678205313599, 1.7205612295253006, 1.4994370553090839, 1.4987724441512797, 1.3797199403427556, 1.3797199403427556, 1.3797199403427556, 1.3797199403427556, 1.3797199403427556, 1.0430916410739854, 1.0430916410739854, 1.0430881604753088, 1.0430877025017988, 1.0428406715904708, 1.0430873361229909, 1.3357458734746825, 0.5828777245993817, 0.5828777245993817, 0.5828774956126267, 0.5828774956126267, 0.5828774956126267, 0.5828774956126267, 4.452677128274603, 1.3798489972778913, 1.3797199403427556, 1.3797199403427556, 4.264553700841234, 3.6378037626824176, 2.6775355317669693, 3.5547313981238102, 3.7286657070789913, 4.511707715448924, 3.391648863084283, 1.5032630576068553, 2.298601837911393, 2.020923522479172, 1.4299849145344632, 1.390332102517944], \"Total\": [24.0, 24.0, 23.0, 22.0, 22.0, 23.0, 21.0, 23.0, 75.0, 16.0, 22.0, 29.0, 22.0, 83.0, 9.0, 34.0, 10.0, 35.0, 12.0, 42.0, 8.0, 4.0, 9.0, 7.0, 35.0, 47.0, 13.0, 10.0, 11.0, 5.0, 7.609298700653092, 7.609298700653092, 6.195879638975654, 6.042147214952428, 22.22987227162106, 4.626458178133298, 4.474991303743953, 4.4722780851173916, 4.46880930215298, 3.9012782080413153, 3.901290402645561, 3.9011401862558004, 3.481534897748842, 3.481498690029054, 12.911877756091393, 3.061635631351523, 2.9078544227632546, 2.9078541534908275, 2.9078556576501673, 2.9078465035552785, 2.907833594928941, 2.9076316130632387, 2.90788067847104, 2.9078833241649433, 7.1691612520786725, 2.907907030902726, 2.9079142164754, 2.907949907050421, 2.903126543705289, 2.901358954323094, 3.4210904852209763, 83.99324920814456, 35.60976349536814, 6.580766950430591, 34.78123235505844, 47.459126955344395, 35.476544345920665, 4.095528704926811, 9.942421897893535, 6.7827200495881215, 42.077012355400335, 10.575884541430092, 10.921444065962271, 29.77406212213903, 22.894379293680796, 9.982412283675913, 15.108817573403549, 75.03022783590953, 11.944361011965023, 13.564616701703034, 14.556624806112996, 22.506145218029303, 14.570250091769028, 10.264792045335357, 8.537598373174093, 7.359822020928165, 6.493823785100779, 6.340609630205198, 5.320666833512879, 4.731669401214804, 4.731669422418267, 4.57104746908608, 7.3906611798680935, 4.142776332919081, 4.141747574163135, 7.501795795449471, 3.553473337553986, 3.1228417819681664, 3.122841613635398, 2.964852652137908, 2.964618728125718, 7.961282417100857, 2.9621495998130443, 2.9620628992430884, 2.9638783514623883, 2.5338986771082412, 2.5338984694956665, 2.533897695368581, 2.3758974675508586, 2.3758378106720377, 2.3758378106720377, 12.40895206807767, 1.9449589814899666, 1.944950102727945, 10.990576252719066, 5.681229510292949, 6.775035285807659, 11.944361011965023, 75.03022783590953, 15.108817573403549, 14.570250091769028, 3.5356645682304992, 7.742459124908786, 22.894379293680796, 42.077012355400335, 83.99324920814456, 14.556624806112996, 47.459126955344395, 13.564616701703034, 34.78123235505844, 5.866422465049226, 3.4695282922531168, 3.4703128754536547, 3.0515631204994143, 3.0515808630365853, 3.0515579061795606, 3.0516049210339786, 3.049859545907791, 5.621818857733275, 3.0353537602614646, 2.327383320103663, 2.327381122313874, 2.327381228609608, 2.327381271259532, 2.3274324736829253, 2.3274324736829253, 2.3274324836496505, 2.3277622306584087, 2.3269339353552976, 2.3267232072703146, 4.062299316287705, 22.506145218029303, 1.9092528818060082, 1.9092515310882106, 1.9092515310882106, 1.9092515310882106, 1.9092515310882106, 1.909243880916319, 1.909243880916319, 1.9092543336938208, 6.880635464987163, 29.77406212213903, 6.105439734586945, 7.032550995301029, 6.888792384503765, 12.161563771822035, 6.443336587744763, 2.787594337792571, 34.78123235505844, 42.077012355400335, 35.60976349536814, 35.476544345920665, 14.556624806112996, 83.99324920814456, 75.03022783590953, 47.459126955344395, 10.264792045335357, 4.711236879293333, 6.032179218152104, 22.894379293680796, 10.990576252719066, 9.465354172536653, 24.347188313208395, 23.077182799902122, 24.480415127696983, 22.273301870420298, 22.27344289790469, 21.808988251378395, 23.326614144689454, 23.949699195821378, 5.498284284398305, 2.4982743374587995, 2.4941367389626112, 2.0348367354357553, 1.695581911731188, 3.098061858579931, 3.645195000537433, 1.2313884286138184, 1.2312119942536093, 1.231212070176204, 1.2315421060231864, 1.2315423691001248, 1.2315424331670095, 1.2315425053436053, 1.2315426040249147, 1.2315426731346961, 1.2315426975585377, 1.2315428098258927, 1.2315434268336372, 1.2318973179297623, 1.2318921116470274, 1.2318817849316612, 4.010078776454634, 3.1886261792045696, 75.03022783590953, 12.40895206807767, 10.264792045335357, 22.506145218029303, 4.515670098111487, 3.366970204619735, 7.3906611798680935, 2.3937648625485246, 4.928782432003354, 4.9287785049730415, 3.9132708118827955, 3.913271086381465, 3.9132711473151427, 3.9132727478885867, 3.913273014275071, 3.914973766782119, 3.1705671717753425, 16.44123982042177, 2.7980749098041797, 2.7980749098041797, 2.7980749098041797, 2.7980749098041797, 2.7980749098041797, 2.7980749098041797, 2.7980749098041797, 2.7981097778720305, 2.7981097778720305, 2.7981097778720305, 2.7981097778720305, 2.8007311693057013, 5.9584618125509525, 2.1559812381549848, 2.1555447787281503, 2.156932559916411, 2.5591030474091, 3.366970204619735, 1.8822777633993064, 1.782568227118972, 4.819178260924813, 3.965647382723037, 7.801109174794314, 5.821673182318466, 6.701261138850334, 35.476544345920665, 83.99324920814456, 47.459126955344395, 42.077012355400335, 10.575884541430092, 22.894379293680796, 5.1331588604835705, 7.000833198851949, 14.570250091769028, 9.942421897893535, 4.908961652345221, 3.7417859999595944, 3.2823127066642197, 3.2823127066642197, 2.9447286953884895, 2.9447856962083776, 2.147729624268618, 2.1477293609713715, 2.147729374410213, 2.4620192332427027, 2.148644735826686, 2.1487987837516975, 2.0243138202023623, 2.0243138202023623, 2.0243138202023623, 2.0243138202023623, 2.0243138202023623, 1.6875226859122892, 1.6875226859122892, 1.6875213674181222, 1.6875213053094589, 1.687568851928038, 2.105556399068136, 2.76207999705556, 1.227308731337998, 1.2273087694376854, 1.2273085109570006, 1.2273085123179683, 1.2273085216823136, 1.2273085218784476, 9.982412283675913, 3.0396974653854136, 3.0397366077046613, 3.0397366077046613, 10.921444065962271, 9.465354172536653, 7.746287368911624, 13.564616701703034, 29.77406212213903, 83.99324920814456, 47.459126955344395, 5.681229510292949, 75.03022783590953, 35.60976349536814, 4.819178260924813, 6.443336587744763], \"Category\": [\"Default\", \"Default\", \"Default\", \"Default\", \"Default\", \"Default\", \"Default\", \"Default\", \"Default\", \"Default\", \"Default\", \"Default\", \"Default\", \"Default\", \"Default\", \"Default\", \"Default\", \"Default\", \"Default\", \"Default\", \"Default\", \"Default\", \"Default\", \"Default\", \"Default\", \"Default\", \"Default\", \"Default\", \"Default\", \"Default\", \"Topic1\", \"Topic1\", \"Topic1\", \"Topic1\", \"Topic1\", \"Topic1\", \"Topic1\", \"Topic1\", \"Topic1\", \"Topic1\", \"Topic1\", \"Topic1\", \"Topic1\", \"Topic1\", \"Topic1\", \"Topic1\", \"Topic1\", \"Topic1\", \"Topic1\", \"Topic1\", \"Topic1\", \"Topic1\", \"Topic1\", \"Topic1\", \"Topic1\", \"Topic1\", \"Topic1\", \"Topic1\", \"Topic1\", \"Topic1\", \"Topic1\", \"Topic1\", \"Topic1\", \"Topic1\", \"Topic1\", \"Topic1\", \"Topic1\", \"Topic1\", \"Topic1\", \"Topic1\", \"Topic1\", \"Topic1\", \"Topic1\", \"Topic1\", \"Topic1\", \"Topic1\", \"Topic1\", \"Topic1\", \"Topic1\", \"Topic1\", \"Topic1\", \"Topic1\", \"Topic1\", \"Topic1\", \"Topic2\", \"Topic2\", \"Topic2\", \"Topic2\", \"Topic2\", \"Topic2\", \"Topic2\", \"Topic2\", \"Topic2\", \"Topic2\", \"Topic2\", \"Topic2\", \"Topic2\", \"Topic2\", \"Topic2\", \"Topic2\", \"Topic2\", \"Topic2\", \"Topic2\", \"Topic2\", \"Topic2\", \"Topic2\", \"Topic2\", \"Topic2\", \"Topic2\", \"Topic2\", \"Topic2\", \"Topic2\", \"Topic2\", \"Topic2\", \"Topic2\", \"Topic2\", \"Topic2\", \"Topic2\", \"Topic2\", \"Topic2\", \"Topic2\", \"Topic2\", \"Topic2\", \"Topic2\", \"Topic2\", \"Topic2\", \"Topic2\", \"Topic2\", \"Topic2\", \"Topic2\", \"Topic3\", \"Topic3\", \"Topic3\", \"Topic3\", \"Topic3\", \"Topic3\", \"Topic3\", \"Topic3\", \"Topic3\", \"Topic3\", \"Topic3\", \"Topic3\", \"Topic3\", \"Topic3\", \"Topic3\", \"Topic3\", \"Topic3\", \"Topic3\", \"Topic3\", \"Topic3\", \"Topic3\", \"Topic3\", \"Topic3\", \"Topic3\", \"Topic3\", \"Topic3\", \"Topic3\", \"Topic3\", \"Topic3\", \"Topic3\", \"Topic3\", \"Topic3\", \"Topic3\", \"Topic3\", \"Topic3\", \"Topic3\", \"Topic3\", \"Topic3\", \"Topic3\", \"Topic3\", \"Topic3\", \"Topic3\", \"Topic3\", \"Topic3\", \"Topic3\", \"Topic3\", \"Topic3\", \"Topic3\", \"Topic3\", \"Topic3\", \"Topic3\", \"Topic3\", \"Topic4\", \"Topic4\", \"Topic4\", \"Topic4\", \"Topic4\", \"Topic4\", \"Topic4\", \"Topic4\", \"Topic4\", \"Topic4\", \"Topic4\", \"Topic4\", \"Topic4\", \"Topic4\", \"Topic4\", \"Topic4\", \"Topic4\", \"Topic4\", \"Topic4\", \"Topic4\", \"Topic4\", \"Topic4\", \"Topic4\", \"Topic4\", \"Topic4\", \"Topic4\", \"Topic4\", \"Topic4\", \"Topic4\", \"Topic4\", \"Topic4\", \"Topic4\", \"Topic4\", \"Topic4\", \"Topic4\", \"Topic4\", \"Topic4\", \"Topic4\", \"Topic4\", \"Topic4\", \"Topic5\", \"Topic5\", \"Topic5\", \"Topic5\", \"Topic5\", \"Topic5\", \"Topic5\", \"Topic5\", \"Topic5\", \"Topic5\", \"Topic5\", \"Topic5\", \"Topic5\", \"Topic5\", \"Topic5\", \"Topic5\", \"Topic5\", \"Topic5\", \"Topic5\", \"Topic5\", \"Topic5\", \"Topic5\", \"Topic5\", \"Topic5\", \"Topic5\", \"Topic5\", \"Topic5\", \"Topic5\", \"Topic5\", \"Topic5\", \"Topic5\", \"Topic5\", \"Topic5\", \"Topic5\", \"Topic5\", \"Topic5\", \"Topic5\", \"Topic5\", \"Topic5\", \"Topic5\", \"Topic5\", \"Topic5\", \"Topic5\", \"Topic5\", \"Topic5\", \"Topic6\", \"Topic6\", \"Topic6\", \"Topic6\", \"Topic6\", \"Topic6\", \"Topic6\", \"Topic6\", \"Topic6\", \"Topic6\", \"Topic6\", \"Topic6\", \"Topic6\", \"Topic6\", \"Topic6\", \"Topic6\", \"Topic6\", \"Topic6\", \"Topic6\", \"Topic6\", \"Topic6\", \"Topic6\", \"Topic6\", \"Topic6\", \"Topic6\", \"Topic6\", \"Topic6\", \"Topic6\", \"Topic6\", \"Topic6\", \"Topic6\", \"Topic6\", \"Topic6\", \"Topic6\", \"Topic6\", \"Topic6\", \"Topic6\", \"Topic6\", \"Topic6\", \"Topic6\", \"Topic6\", \"Topic6\", \"Topic6\", \"Topic6\", \"Topic6\", \"Topic6\"], \"logprob\": [30.0, 29.0, 28.0, 27.0, 26.0, 25.0, 24.0, 23.0, 22.0, 21.0, 20.0, 19.0, 18.0, 17.0, 16.0, 15.0, 14.0, 13.0, 12.0, 11.0, 10.0, 9.0, 8.0, 7.0, 6.0, 5.0, 4.0, 3.0, 2.0, 1.0, -4.5841, -4.5841, -4.81, -4.8378, -3.5696, -5.1416, -5.1784, -5.1809, -5.183, -5.3395, -5.3395, -5.3395, -5.4759, -5.479, -4.1709, -5.6344, -5.6991, -5.6992, -5.6992, -5.6992, -5.6995, -5.6996, -5.6997, -5.6998, -4.7976, -5.7002, -5.7003, -5.7009, -5.7048, -5.7092, -5.5566, -2.6771, -3.538, -5.0123, -3.6231, -3.4113, -3.663, -5.4237, -4.7632, -5.0561, -3.703, -4.7478, -4.8179, -4.1854, -4.3997, -4.9132, -4.7068, -3.9013, -4.9419, -4.9197, -4.9482, -4.9724, -5.1014, -5.1487, -3.9614, -4.1221, -4.2597, -4.2843, -4.4803, -4.6139, -4.6139, -4.6559, -4.1889, -4.768, -4.7715, -4.1871, -4.9518, -5.1087, -5.1087, -5.1737, -5.1752, -4.1877, -5.1774, -5.1775, -5.1804, -5.3758, -5.3758, -5.3758, -5.4615, -5.4621, -5.4621, -3.8718, -5.7413, -5.7413, -4.0414, -4.7246, -4.5952, -4.1442, -2.9155, -4.1887, -4.259, -5.1774, -4.7244, -4.1244, -3.8737, -3.6926, -4.53, -4.1362, -4.7475, -4.5896, -4.2052, -4.8212, -4.8217, -4.9821, -4.9821, -4.9821, -4.9822, -4.9888, -4.4012, -5.0444, -5.3418, -5.3418, -5.3418, -5.3418, -5.3419, -5.3419, -5.3419, -5.3424, -5.3442, -5.3458, -4.8244, -3.141, -5.6296, -5.6296, -5.6296, -5.6296, -5.6296, -5.6296, -5.6296, -5.6296, -4.3668, -3.2198, -4.6221, -4.5559, -4.5783, -4.1648, -4.6825, -5.3419, -3.4825, -3.5485, -3.6565, -3.7415, -4.2737, -3.4028, -3.5472, -3.8785, -4.6412, -5.0355, -4.9371, -4.7628, -4.8965, -4.9564, -2.6085, -2.6635, -2.605, -2.6997, -2.6998, -2.7214, -2.6785, -2.7214, -4.1973, -5.1593, -5.1711, -5.4451, -5.7233, -5.1753, -5.1585, -6.3047, -6.306, -6.306, -6.3062, -6.3062, -6.3062, -6.3062, -6.3062, -6.3062, -6.3062, -6.3062, -6.3062, -6.3124, -6.3125, -6.3127, -5.1349, -5.3659, -2.5433, -4.5952, -4.8462, -5.1766, -6.1765, -6.2635, -6.2856, -6.3047, -4.2399, -4.2399, -4.5121, -4.5121, -4.5121, -4.5121, -4.5121, -4.5168, -4.7734, -3.1287, -4.9332, -4.9332, -4.9332, -4.9332, -4.9332, -4.9332, -4.9332, -4.9334, -4.9334, -4.9334, -4.9334, -4.9384, -4.1956, -5.2952, -5.2955, -5.2983, -5.1433, -4.8964, -5.4952, -5.5809, -4.6565, -4.951, -4.4966, -4.7274, -4.6801, -3.7819, -3.3589, -3.678, -3.8554, -4.4647, -4.1848, -4.828, -4.7956, -4.8865, -4.9207, -3.8314, -4.1513, -4.3132, -4.3132, -4.4487, -4.4488, -4.874, -4.874, -4.874, -4.739, -4.8766, -4.877, -4.9598, -4.9598, -4.9598, -4.9598, -4.9598, -5.2395, -5.2395, -5.2395, -5.2395, -5.2397, -5.2395, -4.9922, -5.8214, -5.8214, -5.8214, -5.8214, -5.8214, -5.8214, -3.7882, -4.9597, -4.9598, -4.9598, -3.8313, -3.9903, -4.2968, -4.0134, -3.9656, -3.775, -4.0604, -4.874, -4.4494, -4.5781, -4.924, -4.9521], \"loglift\": [30.0, 29.0, 28.0, 27.0, 26.0, 25.0, 24.0, 23.0, 22.0, 21.0, 20.0, 19.0, 18.0, 17.0, 16.0, 15.0, 14.0, 13.0, 12.0, 11.0, 10.0, 9.0, 8.0, 7.0, 6.0, 5.0, 4.0, 3.0, 2.0, 1.0, 1.1114, 1.1114, 1.0911, 1.0884, 1.0539, 1.0515, 1.048, 1.0461, 1.0448, 1.0241, 1.0241, 1.0241, 1.0015, 0.9985, 0.9958, 0.9715, 0.9583, 0.9583, 0.9582, 0.9582, 0.958, 0.9579, 0.9578, 0.9577, 0.9575, 0.9573, 0.9572, 0.9566, 0.9543, 0.9505, 0.9383, 0.617, 0.6143, 0.8284, 0.5527, 0.4537, 0.4931, 0.8913, 0.6648, 0.7544, 0.2824, 0.6185, 0.5162, 0.1458, 0.1943, 0.5108, 0.3029, -0.4943, 0.3028, 0.1977, 0.0987, -0.3613, -0.0555, 0.2474, 1.619, 1.6067, 1.5943, 1.5936, 1.573, 1.5567, 1.5567, 1.5493, 1.5358, 1.5355, 1.5323, 1.5226, 1.5051, 1.4774, 1.4774, 1.4644, 1.463, 1.4626, 1.4615, 1.4615, 1.458, 1.4193, 1.4193, 1.4193, 1.398, 1.3974, 1.3974, 1.3346, 1.3184, 1.3184, 1.2864, 1.2631, 1.2164, 1.1004, 0.4915, 0.8209, 0.7869, 1.2845, 0.9537, 0.4696, 0.1117, -0.3985, 0.5169, -0.2712, 0.3699, -0.4137, 1.7505, 1.6597, 1.6589, 1.6272, 1.6272, 1.6271, 1.6271, 1.621, 1.5971, 1.5701, 1.5384, 1.5384, 1.5384, 1.5384, 1.5383, 1.5383, 1.5383, 1.5376, 1.5361, 1.5347, 1.4987, 1.4701, 1.4486, 1.4486, 1.4486, 1.4486, 1.4486, 1.4486, 1.4486, 1.4486, 1.4294, 1.1115, 1.2936, 1.2185, 1.2166, 1.0618, 1.1793, 1.3578, 0.6933, 0.4369, 0.4958, 0.4145, 0.7731, -0.1087, -0.1402, -0.0135, 0.755, 1.1394, 0.9907, -0.1688, 0.4314, 0.5208, 1.924, 1.9226, 1.922, 1.9218, 1.9217, 1.9211, 1.8968, 1.8275, 1.8232, 1.65, 1.6399, 1.5694, 1.4736, 1.4188, 1.273, 1.212, 1.2108, 1.2108, 1.2104, 1.2104, 1.2104, 1.2104, 1.2104, 1.2104, 1.2104, 1.2104, 1.2104, 1.204, 1.2038, 1.2037, 1.2011, 1.1994, 0.8637, 0.6113, 0.55, -0.5655, 0.0408, 0.2474, -0.561, 0.5473, 1.8899, 1.8899, 1.8484, 1.8484, 1.8484, 1.8484, 1.8484, 1.8433, 1.7976, 1.7964, 1.7628, 1.7628, 1.7628, 1.7628, 1.7628, 1.7628, 1.7628, 1.7625, 1.7625, 1.7625, 1.7625, 1.7566, 1.7445, 1.6614, 1.6614, 1.6579, 1.642, 1.6144, 1.5972, 1.566, 1.4958, 1.3962, 1.174, 1.2359, 1.1425, 0.3741, -0.0647, 0.187, 0.1299, 0.9016, 0.4092, 1.2612, 0.9832, 0.1594, 0.5074, 2.3025, 2.2541, 2.2232, 2.2232, 2.1962, 2.196, 2.0864, 2.0864, 2.0864, 2.0849, 2.0835, 2.083, 2.0599, 2.0599, 2.0599, 2.0599, 2.0599, 1.9621, 1.9621, 1.9621, 1.9621, 1.9619, 1.7408, 1.7167, 1.6986, 1.6986, 1.6986, 1.6986, 1.6986, 1.6986, 1.6359, 1.6534, 1.6533, 1.6533, 1.5028, 1.487, 1.3809, 1.104, 0.3656, -0.4808, -0.1953, 1.1137, -1.0424, -0.4258, 1.2283, 0.9097]}, \"token.table\": {\"Topic\": [3, 2, 4, 5, 6, 6, 1, 4, 1, 3, 4, 6, 2, 2, 3, 6, 4, 3, 4, 1, 5, 2, 2, 1, 2, 3, 5, 1, 5, 5, 3, 1, 2, 4, 1, 2, 3, 5, 6, 1, 3, 4, 4, 5, 4, 2, 6, 1, 2, 3, 6, 1, 2, 5, 3, 4, 2, 6, 6, 5, 1, 3, 5, 1, 6, 2, 6, 5, 1, 2, 3, 4, 5, 6, 4, 6, 5, 3, 4, 1, 5, 6, 3, 5, 2, 3, 6, 2, 5, 1, 5, 5, 6, 6, 2, 5, 1, 4, 5, 1, 5, 2, 1, 1, 5, 5, 6, 1, 2, 3, 5, 6, 1, 1, 2, 5, 5, 2, 4, 4, 6, 5, 1, 1, 3, 1, 1, 1, 2, 3, 1, 3, 1, 2, 3, 5, 6, 1, 2, 3, 6, 5, 4, 1, 2, 3, 3, 6, 2, 1, 4, 5, 6, 2, 6, 6, 1, 5, 4, 5, 4, 3, 2, 6, 1, 5, 1, 2, 6, 1, 1, 3, 4, 2, 6, 5, 6, 1, 6, 2, 3, 6, 2, 6, 4, 1, 2, 1, 3, 6, 1, 2, 3, 5, 1, 2, 3, 5, 1, 3, 1, 2, 4, 6, 4, 4, 1, 3, 2, 3, 1, 4, 1, 2, 2, 2, 4, 6, 4, 3, 4, 2, 4, 1, 2, 4, 6, 6, 3, 6, 3, 3, 1, 3, 5, 1, 2, 3, 5, 6, 3, 1, 4, 4, 1, 3, 3, 1, 3, 4, 6, 3, 2, 1, 2, 2, 5, 5, 1, 2, 5, 6, 4, 4, 3, 3, 3, 1, 2, 3, 1, 2, 3, 5, 6, 3, 1, 3, 1, 6, 1, 2, 1, 2, 3, 6, 1, 4, 1, 2, 3, 6, 4, 5, 3, 1, 5, 5, 2, 2, 2, 3, 3, 6, 2, 4, 2, 3, 5, 6, 1, 2, 3, 1, 3, 1, 5, 6, 3, 1, 1, 2, 6, 2, 3, 1, 1, 1, 6, 1, 3, 6, 1, 5, 2, 1, 2, 5, 6, 4, 2, 5, 6, 1, 2, 1, 1, 2, 1, 1, 2, 5, 6, 5, 5, 6, 2, 5, 6, 6], \"Freq\": [0.6554029323677253, 0.042869487778947994, 0.9431287311368559, 0.32897587161511044, 0.32897587161511044, 0.46537628723618735, 0.7689787397926146, 0.9877233663803985, 0.22216154528295598, 0.6664846358488679, 0.08886461811318239, 0.04443230905659119, 0.6751853451717056, 0.5904028291010083, 0.29520141455050414, 0.14760070727525207, 0.8119901017669086, 0.31361468663895203, 0.6272293732779041, 0.6877972671778263, 0.6308019643312305, 0.9657759021705286, 0.8417871677188392, 0.5073774893204829, 0.08456291488674715, 0.22550110636465906, 0.19731346806907668, 0.7597898600060349, 0.30391594400241395, 0.7147771465989693, 0.8523082048367351, 0.6643532266129538, 0.22145107553765125, 0.22145107553765125, 0.12818689978484582, 0.12818689978484582, 0.12818689978484582, 0.38456069935453746, 0.12818689978484582, 0.3896815427271832, 0.2922611570453874, 0.2922611570453874, 0.811989773420595, 0.7666221287037908, 0.81198971175132, 0.841808304849847, 0.9139896981506277, 0.2581882009731077, 0.12909410048655384, 0.2581882009731077, 0.3872823014596616, 0.3896236322231394, 0.1948118161115697, 0.3896236322231394, 0.5237654566289822, 0.9877296203315391, 0.5141496604899781, 0.5925846261790498, 0.49399455263316544, 0.5609883452350226, 0.4354899716165717, 0.5806532954887622, 0.714768239550989, 0.500880935180009, 0.40070474814400714, 0.9462812489539472, 0.49399455263316544, 0.7666216972484211, 0.18659146325155618, 0.30654311819898517, 0.1332796166082544, 0.333199041520636, 0.01332796166082544, 0.02665592332165088, 0.8122078120317731, 0.5925846261790498, 0.714768239550989, 0.5237646877906031, 0.8117559681682949, 0.6877781980873366, 0.32897587161511044, 0.32897587161511044, 0.859334975619123, 0.4636213568210745, 0.24616600652505363, 0.7384980195751608, 0.9312159116309039, 0.8442444096302222, 0.7147771465989693, 0.5897339077473643, 0.29486695387368217, 0.7147771465989693, 0.5925851109871584, 0.8123413387659927, 0.5141520076003089, 0.714768239550989, 0.8616978683898239, 0.8119898860719077, 0.7666217494343207, 0.25216563740807024, 0.5043312748161405, 0.7892978487867008, 0.8616889067921731, 0.5153157702345047, 0.5153157702345047, 0.7815238241480155, 0.8147910506393761, 0.2745320069872833, 0.41179801048092496, 0.06863300174682083, 0.13726600349364165, 0.06863300174682083, 0.8943987658797395, 0.5673284325765406, 0.09455473876275676, 0.2836642162882703, 0.4638259286781948, 0.81183534923016, 0.13530589153836, 0.9533226040092428, 0.9312160257917428, 0.46391984516788204, 0.8275203867304922, 0.687792340752552, 0.8644753679761011, 0.6532455983722412, 0.6893321479646468, 0.39711909756339625, 0.39711909756339625, 0.13237303252113208, 0.4973327037387028, 0.4973327037387028, 0.48462754111851525, 0.14749533860128725, 0.14749533860128725, 0.14749533860128725, 0.06321228797198025, 0.33586280430859733, 0.03358628043085973, 0.4702079260320362, 0.13434512172343893, 0.5312712180130346, 0.8119898384838905, 0.3289050713418841, 0.2466788035064131, 0.41113133917735517, 0.4749338466747192, 0.4749338466747192, 0.8453675987956902, 0.2743337461651747, 0.5486674923303494, 0.3289801078520183, 0.3289801078520183, 0.704072946314352, 0.352036473157176, 0.9139896981506277, 0.1678285489542942, 0.6713141958171768, 0.2970029252495092, 0.5940058504990184, 0.49143991878338705, 0.859500121431089, 0.960663462786531, 0.6791797163290609, 0.6877924044433368, 0.7147771465989693, 0.12560790430596924, 0.7536474258358156, 0.12560790430596924, 0.6877697566766655, 0.6877942138812004, 0.8593349363717315, 0.9093745869393812, 0.923954852881319, 0.8148362695172061, 0.6225127682710562, 0.20750425609035208, 0.36204599470906806, 0.36204599470906806, 0.4245169689493499, 0.4245169689493499, 0.8147908862886792, 0.9370316628077427, 0.4654096525711834, 0.9857401064655977, 0.41860757515545205, 0.5860506052176329, 0.3169453509414767, 0.2112969006276511, 0.4225938012553022, 0.4040210805940967, 0.21389351325569825, 0.23765945917299805, 0.1425956755037988, 0.34943074443639205, 0.30575190138184305, 0.13103652916364703, 0.21839421527274502, 0.17787837447384447, 0.7115134978953779, 0.8950930168519123, 0.24937165969694836, 0.4987433193938967, 0.24937165969694836, 0.9629057413368424, 0.8119892309206282, 0.2906708268701649, 0.5813416537403298, 0.9397318337067979, 0.5237654566289822, 0.08350835572702933, 0.876837735133808, 0.8769133739548614, 0.6752051080721718, 0.7892976076496345, 0.32278245097997277, 0.6455649019599455, 0.801756166716214, 0.8117662037315335, 0.5237675553109862, 0.8119897278546255, 0.7892975429792868, 0.8120914382196252, 0.41775197541138137, 0.41775197541138137, 0.41775197541138137, 0.9312160199649079, 0.8147910507695864, 0.8593341641337015, 0.8147909115824601, 0.5237654566289822, 0.5237654566289822, 0.8369179865023013, 0.13948633108371689, 0.7147771465989693, 0.5616437189368431, 0.05616437189368431, 0.2527396735215794, 0.05616437189368431, 0.05616437189368431, 0.85931601565875, 0.6877855047964622, 0.8018806542386533, 0.5897680277675295, 0.8645922746920705, 0.864670856467291, 0.8595779651617338, 0.6878450457803925, 0.5237650860864884, 0.8122077619470428, 0.5925850891772602, 0.8591942826713445, 0.8750729514519232, 0.2828322598770935, 0.565664519754187, 0.6746230066705521, 0.811560104793526, 0.7147771465989693, 0.6034746927477699, 0.20115823091592328, 0.20115823091592328, 0.5925684151242218, 0.8117593988510975, 0.8119899283129736, 0.655398001811372, 0.8593160119789155, 0.6553928348373281, 0.3434862178971783, 0.2747889743177427, 0.3434862178971783, 0.5595687801471855, 0.1190571872653586, 0.14286862471843031, 0.1190571872653586, 0.0595285936326793, 0.8593349206241744, 0.32757673270773957, 0.49136509906160936, 0.7325061588241539, 0.2441687196080513, 0.13330141572323148, 0.7998084943393889, 0.3686060660580443, 0.29488485284643545, 0.07372121321160886, 0.29488485284643545, 0.6877798976190526, 0.8119896377303956, 0.5175204781777133, 0.11500455070615852, 0.3162625144419359, 0.02875113767653963, 0.9803755318203962, 0.7662886595702085, 0.6589017814607944, 0.6877861305683277, 0.714768239550989, 0.8115594581792402, 0.9655360749783761, 0.9511099562047851, 0.841808304849847, 0.6554018124562611, 0.7174645079756303, 0.35873225398781516, 0.7252828402128103, 0.24176094673760345, 0.6369092792808022, 0.2729611196917724, 0.09098703989725745, 0.8147910569864297, 0.28439182329944696, 0.14219591164972348, 0.5687836465988939, 0.7689763361285862, 0.85931601565875, 0.4476769279453388, 0.4476769279453388, 0.1492256426484463, 0.6557679033723174, 0.8938564856323729, 0.5493778994574148, 0.09156298324290246, 0.36625193297160985, 0.9606635145698619, 0.5237675553109862, 0.7690059461511717, 0.6889124431508178, 0.6877920486659218, 0.6791665697694549, 0.1551990938828187, 0.46559728164845604, 0.1551990938828187, 0.851928759533877, 0.15489613809706856, 0.6745697795665602, 0.4285204224679947, 0.14284014082266488, 0.28568028164532977, 0.14284014082266488, 0.8005525934491105, 0.8453675950074457, 0.7140992401979795, 0.49399455263316544, 0.5166317232636504, 0.5166317232636504, 0.9683854996563428, 0.8547057656402122, 0.0899690279621276, 0.9199270886026859, 0.9199270886026859, 0.18246799102545055, 0.7906946277769524, 0.060822663675150185, 0.7147771465989693, 0.7666220629915387, 0.49399455263316544, 0.6747915274637344, 0.766622074928637, 0.8147910578899551, 0.49399455263316544], \"Term\": [\"00\", \"1\", \"1\", \"19\", \"19\", \"1949\", \"2\", \"4\", \"a\", \"a\", \"a\", \"a\", \"after\", \"against\", \"against\", \"against\", \"aggression\", \"ago\", \"ago\", \"air\", \"always\", \"an\", \"analysis\", \"and\", \"and\", \"and\", \"and\", \"are\", \"are\", \"area\", \"army\", \"around\", \"around\", \"around\", \"as\", \"as\", \"as\", \"as\", \"as\", \"at\", \"at\", \"at\", \"authoritarian\", \"availability\", \"backlash\", \"bad\", \"based\", \"be\", \"be\", \"be\", \"be\", \"been\", \"been\", \"been\", \"bike\", \"billion\", \"bottleneck\", \"brownie\", \"bump\", \"bunch\", \"but\", \"but\", \"buy\", \"by\", \"by\", \"caption\", \"chart\", \"check\", \"china\", \"china\", \"china\", \"china\", \"china\", \"china\", \"chips\", \"chocolate\", \"company\", \"conduct\", \"consistent\", \"control\", \"covid\", \"covid\", \"current\", \"dangerous\", \"day\", \"day\", \"defend\", \"democracy\", \"describe\", \"don\", \"don\", \"each\", \"economy\", \"en\", \"enjoy\", \"equity\", \"everything\", \"exactly\", \"excursion\", \"exercise\", \"exercise\", \"feel\", \"find\", \"fire\", \"fire\", \"follow\", \"food\", \"for\", \"for\", \"for\", \"for\", \"for\", \"foreign\", \"from\", \"from\", \"from\", \"front\", \"good\", \"good\", \"got\", \"happen\", \"have\", \"he\", \"here\", \"house\", \"how\", \"however\", \"i\", \"i\", \"i\", \"if\", \"if\", \"in\", \"in\", \"in\", \"in\", \"in\", \"is\", \"is\", \"is\", \"is\", \"isolated\", \"issue\", \"it\", \"it\", \"it\", \"join\", \"join\", \"king\", \"know\", \"know\", \"launch\", \"launch\", \"let\", \"let\", \"li\", \"live\", \"live\", \"long\", \"long\", \"losing\", \"lost\", \"love\", \"me\", \"mean\", \"media\", \"military\", \"military\", \"military\", \"mindlessly\", \"ministry\", \"mix\", \"more\", \"music\", \"must\", \"my\", \"my\", \"n\", \"n\", \"nancy\", \"nancy\", \"near\", \"need\", \"never\", \"new\", \"no\", \"no\", \"not\", \"not\", \"not\", \"of\", \"of\", \"of\", \"of\", \"on\", \"on\", \"on\", \"on\", \"our\", \"our\", \"out\", \"over\", \"over\", \"over\", \"panda\", \"paper\", \"part\", \"part\", \"peace\", \"perfect\", \"pink\", \"pink\", \"policy\", \"political\", \"positive\", \"post\", \"post\", \"president\", \"proclamation\", \"province\", \"provoking\", \"pure\", \"range\", \"read\", \"read\", \"read\", \"ready\", \"recipe\", \"regular\", \"return\", \"ride\", \"riverside\", \"roc\", \"roc\", \"role\", \"s\", \"s\", \"s\", \"s\", \"s\", \"said\", \"sang\", \"see\", \"semiconductor\", \"since\", \"situation\", \"small\", \"so\", \"soil\", \"source\", \"space\", \"speaker\", \"speech\", \"statement\", \"statement\", \"strait\", \"summer\", \"sura\", \"t\", \"t\", \"t\", \"take\", \"taking\", \"taunting\", \"territorial\", \"territory\", \"than\", \"that\", \"that\", \"that\", \"the\", \"the\", \"the\", \"the\", \"the\", \"then\", \"there\", \"there\", \"they\", \"they\", \"think\", \"think\", \"this\", \"this\", \"this\", \"this\", \"thought\", \"tiger\", \"to\", \"to\", \"to\", \"to\", \"today\", \"too\", \"top\", \"totalitarianism\", \"training\", \"travel\", \"true\", \"trump\", \"turns\", \"u\", \"united\", \"united\", \"us\", \"us\", \"via\", \"via\", \"via\", \"video\", \"visit\", \"visit\", \"visit\", \"wall\", \"wang\", \"war\", \"war\", \"war\", \"was\", \"watch\", \"we\", \"we\", \"we\", \"weekend\", \"welcome\", \"what\", \"when\", \"who\", \"why\", \"will\", \"will\", \"will\", \"with\", \"with\", \"work\", \"world\", \"world\", \"world\", \"world\", \"worldwar3\", \"x\", \"year\", \"yesterday\", \"you\", \"you\", \"\\u2018\", \"\\u2019\", \"\\u2019\", \"\\u201c\", \"\\u201d\", \"\\u2026\", \"\\u2026\", \"\\u2026\", \"\\ud83c\\udde8\\ud83c\\uddf3\", \"\\ud83c\\uddec\\ud83c\\uddf7\", \"\\ud83c\\uddf3\\ud83c\\uddeb\", \"\\ud83c\\uddf9\\ud83c\\uddfc\", \"\\ud83d\\udc49\", \"\\ud83d\\udd17\", \"\\ud83d\\ude22\"]}, \"R\": 30, \"lambda.step\": 0.01, \"plot.opts\": {\"xlab\": \"PC1\", \"ylab\": \"PC2\"}, \"topic.order\": [1, 3, 6, 2, 4, 5]};\n",
       "\n",
       "function LDAvis_load_lib(url, callback){\n",
       "  var s = document.createElement('script');\n",
       "  s.src = url;\n",
       "  s.async = true;\n",
       "  s.onreadystatechange = s.onload = callback;\n",
       "  s.onerror = function(){console.warn(\"failed to load library \" + url);};\n",
       "  document.getElementsByTagName(\"head\")[0].appendChild(s);\n",
       "}\n",
       "\n",
       "if(typeof(LDAvis) !== \"undefined\"){\n",
       "   // already loaded: just create the visualization\n",
       "   !function(LDAvis){\n",
       "       new LDAvis(\"#\" + \"ldavis_el394422095625981925468624885\", ldavis_el394422095625981925468624885_data);\n",
       "   }(LDAvis);\n",
       "}else if(typeof define === \"function\" && define.amd){\n",
       "   // require.js is available: use it to load d3/LDAvis\n",
       "   require.config({paths: {d3: \"https://d3js.org/d3.v5\"}});\n",
       "   require([\"d3\"], function(d3){\n",
       "      window.d3 = d3;\n",
       "      LDAvis_load_lib(\"https://cdn.jsdelivr.net/gh/bmabey/pyLDAvis@3.3.1/pyLDAvis/js/ldavis.v3.0.0.js\", function(){\n",
       "        new LDAvis(\"#\" + \"ldavis_el394422095625981925468624885\", ldavis_el394422095625981925468624885_data);\n",
       "      });\n",
       "    });\n",
       "}else{\n",
       "    // require.js not available: dynamically load d3 & LDAvis\n",
       "    LDAvis_load_lib(\"https://d3js.org/d3.v5.js\", function(){\n",
       "         LDAvis_load_lib(\"https://cdn.jsdelivr.net/gh/bmabey/pyLDAvis@3.3.1/pyLDAvis/js/ldavis.v3.0.0.js\", function(){\n",
       "                 new LDAvis(\"#\" + \"ldavis_el394422095625981925468624885\", ldavis_el394422095625981925468624885_data);\n",
       "            })\n",
       "         });\n",
       "}\n",
       "</script>"
      ],
      "text/plain": [
       "PreparedData(topic_coordinates=              x         y  topics  cluster       Freq\n",
       "topic                                                \n",
       "0      0.091180  0.061431       1        1  30.252126\n",
       "2      0.016530  0.032801       2        1  18.363628\n",
       "5      0.066367  0.128735       3        1  15.423727\n",
       "1     -0.298827 -0.015642       4        1  14.211857\n",
       "3      0.095106 -0.201880       5        1  13.060582\n",
       "4      0.029644 -0.005445       6        1   8.688080, topic_info=        Term       Freq      Total Category  logprob  loglift\n",
       "93     today  24.000000  24.000000  Default  30.0000  30.0000\n",
       "161      new  24.000000  24.000000  Default  29.0000  29.0000\n",
       "160      got  23.000000  23.000000  Default  28.0000  28.0000\n",
       "159  billion  22.000000  22.000000  Default  27.0000  27.0000\n",
       "113        4  22.000000  22.000000  Default  26.0000  26.0000\n",
       "..       ...        ...        ...      ...      ...      ...\n",
       "3        let   1.503263   5.681230   Topic6  -4.8740   1.1137\n",
       "11     china   2.298602  75.030228   Topic6  -4.4494  -1.0424\n",
       "131        s   2.020924  35.609763   Topic6  -4.5781  -0.4258\n",
       "373       my   1.429985   4.819178   Topic6  -4.9240   1.2283\n",
       "97      will   1.390332   6.443337   Topic6  -4.9521   0.9097\n",
       "\n",
       "[313 rows x 6 columns], token_table=      Topic      Freq Term\n",
       "term                      \n",
       "530       3  0.655403   00\n",
       "45        2  0.042869    1\n",
       "45        4  0.943129    1\n",
       "523       5  0.328976   19\n",
       "523       6  0.328976   19\n",
       "...     ...       ...  ...\n",
       "623       6  0.493995   🇳🇫\n",
       "453       2  0.674792   🇹🇼\n",
       "35        5  0.766622    👉\n",
       "426       6  0.814791    🔗\n",
       "624       6  0.493995    😢\n",
       "\n",
       "[360 rows x 3 columns], R=30, lambda_step=0.01, plot_opts={'xlab': 'PC1', 'ylab': 'PC2'}, topic_order=[1, 3, 6, 2, 4, 5])"
      ]
     },
     "execution_count": 103,
     "metadata": {},
     "output_type": "execute_result"
    }
   ],
   "source": [
    "# importing the gensim_models\n",
    "import pyLDAvis.gensim_models as gensimvis\n",
    "import pickle \n",
    "import pyLDAvis\n",
    "# Visualize the topics\n",
    "pyLDAvis.enable_notebook()\n",
    "\n",
    "LDAvis_prepared = gensimvis.prepare(lda_model, corpus, id2word)\n",
    "LDAvis_prepared"
   ]
  },
  {
   "cell_type": "code",
   "execution_count": null,
   "id": "7d813dcb",
   "metadata": {},
   "outputs": [],
   "source": []
  },
  {
   "cell_type": "markdown",
   "id": "a261d72b",
   "metadata": {},
   "source": [
    "## Sentiment Analysis"
   ]
  },
  {
   "cell_type": "code",
   "execution_count": 97,
   "id": "6a5366eb",
   "metadata": {},
   "outputs": [],
   "source": [
    "# importing \n",
    "import numpy as np \n",
    "import matplotlib.pyplot as plt\n",
    "import seaborn as sns\n",
    "%matplotlib inline"
   ]
  },
  {
   "cell_type": "code",
   "execution_count": 41,
   "id": "f7d98b9b",
   "metadata": {},
   "outputs": [],
   "source": [
    "# adding sentiment columne "
   ]
  },
  {
   "cell_type": "code",
   "execution_count": 42,
   "id": "d53e4ba2",
   "metadata": {
    "scrolled": false
   },
   "outputs": [
    {
     "data": {
      "text/html": [
       "<div>\n",
       "<style scoped>\n",
       "    .dataframe tbody tr th:only-of-type {\n",
       "        vertical-align: middle;\n",
       "    }\n",
       "\n",
       "    .dataframe tbody tr th {\n",
       "        vertical-align: top;\n",
       "    }\n",
       "\n",
       "    .dataframe thead th {\n",
       "        text-align: right;\n",
       "    }\n",
       "</style>\n",
       "<table border=\"1\" class=\"dataframe\">\n",
       "  <thead>\n",
       "    <tr style=\"text-align: right;\">\n",
       "      <th></th>\n",
       "      <th>created_at</th>\n",
       "      <th>source</th>\n",
       "      <th>original_text</th>\n",
       "      <th>subjectivity</th>\n",
       "      <th>polarity</th>\n",
       "      <th>lang</th>\n",
       "      <th>favorite_count</th>\n",
       "      <th>retweet_count</th>\n",
       "      <th>original_author</th>\n",
       "      <th>followers_count</th>\n",
       "      <th>friends_count</th>\n",
       "      <th>possibly_sensitive</th>\n",
       "      <th>hashtags</th>\n",
       "      <th>user_mentions</th>\n",
       "      <th>place</th>\n",
       "      <th>clean_text</th>\n",
       "    </tr>\n",
       "  </thead>\n",
       "  <tbody>\n",
       "    <tr>\n",
       "      <th>5</th>\n",
       "      <td>2022-08-07 22:31:02+00:00</td>\n",
       "      <td>&lt;a href=\"http://twitter.com/download/android\" ...</td>\n",
       "      <td>RT @benedictrogers: We must not let this happe...</td>\n",
       "      <td>0.5</td>\n",
       "      <td>0.2</td>\n",
       "      <td>en</td>\n",
       "      <td>116</td>\n",
       "      <td>36</td>\n",
       "      <td>GraceCh15554845</td>\n",
       "      <td>207</td>\n",
       "      <td>54</td>\n",
       "      <td>False</td>\n",
       "      <td>Taiwan</td>\n",
       "      <td>benedictrogers</td>\n",
       "      <td>Melbourne, Victoria</td>\n",
       "      <td>we must not let this happen  we must be ready...</td>\n",
       "    </tr>\n",
       "  </tbody>\n",
       "</table>\n",
       "</div>"
      ],
      "text/plain": [
       "                 created_at  \\\n",
       "5 2022-08-07 22:31:02+00:00   \n",
       "\n",
       "                                              source  \\\n",
       "5  <a href=\"http://twitter.com/download/android\" ...   \n",
       "\n",
       "                                       original_text  subjectivity  polarity  \\\n",
       "5  RT @benedictrogers: We must not let this happe...           0.5       0.2   \n",
       "\n",
       "  lang  favorite_count  retweet_count  original_author  followers_count  \\\n",
       "5   en             116             36  GraceCh15554845              207   \n",
       "\n",
       "   friends_count possibly_sensitive hashtags   user_mentions  \\\n",
       "5             54              False   Taiwan  benedictrogers   \n",
       "\n",
       "                 place                                         clean_text  \n",
       "5  Melbourne, Victoria   we must not let this happen  we must be ready...  "
      ]
     },
     "execution_count": 42,
     "metadata": {},
     "output_type": "execute_result"
    }
   ],
   "source": [
    "tweets_df.head(1)"
   ]
  },
  {
   "cell_type": "code",
   "execution_count": 72,
   "id": "4523632c",
   "metadata": {},
   "outputs": [],
   "source": [
    "# adding sentiment \n",
    "tweets_df.insert(1,column = 'sentiment',value = \"\")\n",
    "#tweets_df.insert(4,column = 'sentiment',value = tweets_df[''])"
   ]
  },
  {
   "cell_type": "code",
   "execution_count": 78,
   "id": "21c3e86e",
   "metadata": {},
   "outputs": [],
   "source": [
    "def text_category (polarity):\n",
    "    if polarity > 0:\n",
    "        return 'positive'\n",
    "    if polarity < 0:\n",
    "        return 'negative'\n",
    "    else:\n",
    "        return 'neutral'"
   ]
  },
  {
   "cell_type": "code",
   "execution_count": 79,
   "id": "870cc9d5",
   "metadata": {},
   "outputs": [
    {
     "name": "stdout",
     "output_type": "stream",
     "text": [
      "sucees\n"
     ]
    }
   ],
   "source": [
    "score= pd.Series([text_category(row_value) for row_value in tweets_df['polarity']])\n",
    "print(\"sucees\")\n",
    "tweets_df = pd.concat([tweets_df, score.rename('sentiment')], axis=1)\n"
   ]
  },
  {
   "cell_type": "code",
   "execution_count": 87,
   "id": "2d56e4eb",
   "metadata": {},
   "outputs": [
    {
     "name": "stdout",
     "output_type": "stream",
     "text": [
      "<class 'pandas.core.frame.DataFrame'>\n",
      "Int64Index: 5494 entries, 5 to 3797\n",
      "Data columns (total 17 columns):\n",
      " #   Column              Non-Null Count  Dtype              \n",
      "---  ------              --------------  -----              \n",
      " 0   created_at          1976 non-null   datetime64[ns, UTC]\n",
      " 1   source              1976 non-null   object             \n",
      " 2   original_text       1976 non-null   object             \n",
      " 3   subjectivity        1976 non-null   float64            \n",
      " 4   polarity            1976 non-null   float64            \n",
      " 5   lang                1976 non-null   object             \n",
      " 6   favorite_count      1976 non-null   float64            \n",
      " 7   retweet_count       1976 non-null   float64            \n",
      " 8   original_author     1976 non-null   object             \n",
      " 9   followers_count     1976 non-null   float64            \n",
      " 10  friends_count       1976 non-null   float64            \n",
      " 11  possibly_sensitive  1976 non-null   object             \n",
      " 12  hashtags            1976 non-null   object             \n",
      " 13  user_mentions       1976 non-null   object             \n",
      " 14  place               1976 non-null   object             \n",
      " 15  clean_text          1976 non-null   object             \n",
      " 16  sentiment           3799 non-null   object             \n",
      "dtypes: datetime64[ns, UTC](1), float64(6), object(10)\n",
      "memory usage: 772.6+ KB\n"
     ]
    }
   ],
   "source": [
    "tweets_df.info()"
   ]
  },
  {
   "cell_type": "code",
   "execution_count": 118,
   "id": "77c1d717",
   "metadata": {},
   "outputs": [],
   "source": [
    "# droping null value \n",
    "tweets_df.dropna(inplace = True)\n"
   ]
  },
  {
   "cell_type": "code",
   "execution_count": 119,
   "id": "1606636d",
   "metadata": {},
   "outputs": [],
   "source": [
    "# Selecting the feature and the label\n",
    "features = tweets_df.iloc[:, 15].values\n",
    "labels = tweets_df.iloc[:, 16].values"
   ]
  },
  {
   "cell_type": "code",
   "execution_count": 72,
   "id": "d96c136f",
   "metadata": {},
   "outputs": [
    {
     "name": "stdout",
     "output_type": "stream",
     "text": [
      "['Melbourne, Victoria' 'Florida, USA' 'Hong Kong' 'Paris' 'Hong Kong'\n",
      " 'Turin, ITALY' 'London' 'Singapore' 'Singapore' 'SHITHOLE DEMOCRAT CITY'\n",
      " 'Singapore' 'Barcelona. España ' 'London' 'US' 'United States'\n",
      " 'Hargeisa- Rep of Somaliland' 'New York, NY' 'North West, England'\n",
      " 'United Kingdom' 'Pakistan' 'Washington, DC' 'North Carolina, USA '\n",
      " 'Beijing, China ' 'New York, NY' 'Chicago' 'India' 'United Kingdom'\n",
      " 'United Kingdom' 'United Kingdom' 'Taipei, Taiwan'\n",
      " \"Shanghai, People's Republic of China\" 'Orwell 1984 '\n",
      " ' GuangZhou，Shenzhen, Canada，' 'Karachi, Pakistan' 'London'\n",
      " 'Ft. Worth, Tx' 'India' 'Canada' 'Saltillo' 'Peshawar, Pakistan'\n",
      " 'Irvine, CA' 'The Netherlands' 'Sevilla, España' 'Venezuela'\n",
      " 'Buenos Aires & London' 'Paris' 'Quelque Part' 'Spokane, WA'\n",
      " 'London, England' 'London, England' 'BLACKO WIASE  - Sad Boys FC🧳'\n",
      " 'World' 'Hong Kong ' 'www.facebook.com/mariocavolo' 'Journalism/News'\n",
      " 'san juan' 'Wop wops' 'กรุงเทพมหานคร, ประเทศไทย' 'Berkeley, CA'\n",
      " 'West Haven, CT' 'Cupertino' 'Stranded in Mayberry' 'New York, USA'\n",
      " 'Brooklyn, NY' 'New Delhi, India' 'Adventureland (冒险岛)' 'Clydebank'\n",
      " 'Electric Ladyland' 'Sevilla' 'Unami, Lenapehoking ' 'Earth'\n",
      " 'London, England' 'La Serena, Chile' 'Hennessy in a TeaCup '\n",
      " 'Hennessy in a TeaCup ' 'Hennessy in a TeaCup ' '村里'\n",
      " 'South East, England' 'Virginia' '奈良県 奈良市 Nara, JAPAN' 'Bangkok.....'\n",
      " 'Everywhere🌍' 'Hidden Leaf Villiage' 'Bulgaria' '🇨🇳🇪🇺🇮🇪' 'Paris'\n",
      " 'Islamabad,Pakistan' 'Taipei, Taiwan 🇹🇼' 'Four Corners, FL'\n",
      " 'Deep inside the rabbit hole' 'England' 'California'\n",
      " 'Rethinking the World with You' 'Danbury, CT' 'Rize, Türkiye'\n",
      " 'Delhi Church of scientology ' 'Pindwara, India ' 'Los Angeles'\n",
      " 'Pale blue dot getting hotter' '#DO NOT COMPLY EVER💥'\n",
      " 'Frankfurt International School' 'Global citizen' 'Animal Farm'\n",
      " 'New Delhi, India' 'belvil' 'Mt Shasta, California USA' 'Sydney'\n",
      " 'This World' 'Bumblefeck Nowhere ' 'Los Angeles, CA' 'Simi Valley, CA'\n",
      " 'Simi Valley, CA' 'frontalier' 'Beograd, Srbija'\n",
      " 'Kolkata, India (Calcutta)' 'Asia Europe Sahara' 'Embu ' 'Shanghai'\n",
      " 'Pindwara, India ' '无产阶级文化大革命📕🇨🇳' 'Taiwan' 'Lausanne, Vaud, Suisse'\n",
      " 'Ottawa, Ontario' 'Berlin' 'Dhaka-uttara ' 'Hong Kong' 'Hong Kong'\n",
      " 'https://smartsway.fm/podcast/' 'India' 'Quebec, Canada' 'Oceania' '台灣'\n",
      " 'Paris' 'Paris' 'United States' 'California, USA' 'World' 'Maine, USA'\n",
      " 'Taiwan' 'Brisbane, Australia 🇦🇺 ' 'Stranded in Mayberry'\n",
      " 'London, England' 'Sevilla' 'un endroit ' 'Vancouver, BC'\n",
      " 'Washington, D.C.' 'Beach' '台灣' 'The Republic of Somaliland'\n",
      " 'Voice of America' 'London, England' 'Afghanistan' 'Houston, TX']\n"
     ]
    }
   ],
   "source": [
    "print(features)"
   ]
  },
  {
   "cell_type": "code",
   "execution_count": 122,
   "id": "8c4b23f2",
   "metadata": {},
   "outputs": [],
   "source": [
    "#Data Cleaning using regular expression\n",
    "processed_features = []\n",
    "\n",
    "for sentence in range(0, len(features)):\n",
    "    # Remove all the special characters\n",
    "    processed_feature = re.sub(r'\\W', ' ', str(features[sentence]))\n",
    "\n",
    "    # remove all single characters\n",
    "    processed_feature= re.sub(r'\\s+[a-zA-Z]\\s+', ' ', processed_feature)\n",
    "\n",
    "    # Remove single characters from the start\n",
    "    processed_feature = re.sub(r'\\^[a-zA-Z]\\s+', ' ', processed_feature) \n",
    "\n",
    "    # Substituting multiple spaces with single space\n",
    "    processed_feature = re.sub(r'\\s+', ' ', processed_feature, flags=re.I)\n",
    "\n",
    "    # Removing prefixed 'b'\n",
    "    processed_feature = re.sub(r'^b\\s+', '', processed_feature)\n",
    "\n",
    "    # Converting to Lowercase\n",
    "    processed_feature = processed_feature.lower()\n",
    "\n",
    "    processed_features.append(processed_feature)"
   ]
  },
  {
   "cell_type": "code",
   "execution_count": 70,
   "id": "dde2866a",
   "metadata": {
    "scrolled": true
   },
   "outputs": [
    {
     "name": "stderr",
     "output_type": "stream",
     "text": [
      "[nltk_data] Downloading package stopwords to\n",
      "[nltk_data]     C:\\Users\\Ekubay\\AppData\\Roaming\\nltk_data...\n",
      "[nltk_data]   Package stopwords is already up-to-date!\n"
     ]
    },
    {
     "data": {
      "text/plain": [
       "True"
      ]
     },
     "execution_count": 70,
     "metadata": {},
     "output_type": "execute_result"
    }
   ],
   "source": [
    "import nltk\n",
    "nltk.download('stopwords')"
   ]
  },
  {
   "cell_type": "code",
   "execution_count": 123,
   "id": "1c466be6",
   "metadata": {},
   "outputs": [],
   "source": [
    "from nltk.corpus import stopwords\n",
    "from sklearn.feature_extraction.text import TfidfVectorizer\n",
    "\n",
    "vectorizer = TfidfVectorizer (max_features=2500, min_df=7, max_df=0.8, stop_words=stopwords.words('english'))\n",
    "processed_features_vectorized = vectorizer.fit_transform(processed_features).toarray()"
   ]
  },
  {
   "cell_type": "code",
   "execution_count": 124,
   "id": "f01b36dd",
   "metadata": {},
   "outputs": [],
   "source": [
    "# split\n",
    "from sklearn.model_selection import train_test_split\n",
    "\n",
    "X_train, X_test, y_train, y_test = train_test_split(processed_features_vectorized, labels, test_size=0.2, random_state=0)"
   ]
  },
  {
   "cell_type": "code",
   "execution_count": 126,
   "id": "e5b50845",
   "metadata": {
    "scrolled": true
   },
   "outputs": [
    {
     "data": {
      "text/plain": [
       "RandomForestClassifier(n_estimators=200, random_state=0)"
      ]
     },
     "execution_count": 126,
     "metadata": {},
     "output_type": "execute_result"
    }
   ],
   "source": [
    "# training \n",
    "from sklearn.ensemble import RandomForestClassifier\n",
    "\n",
    "text_classifier = RandomForestClassifier(n_estimators=200, random_state=0)\n",
    "text_classifier.fit(X_train, y_train)"
   ]
  },
  {
   "cell_type": "code",
   "execution_count": 127,
   "id": "baa010c1",
   "metadata": {},
   "outputs": [],
   "source": [
    "#prediction\n",
    "predictions = text_classifier.predict(X_test)"
   ]
  },
  {
   "cell_type": "code",
   "execution_count": 128,
   "id": "6d9e024d",
   "metadata": {
    "scrolled": true
   },
   "outputs": [
    {
     "data": {
      "text/plain": [
       "array(['neutral', 'neutral', 'neutral', 'negative', 'neutral', 'neutral',\n",
       "       'neutral', 'positive', 'neutral', 'neutral'], dtype=object)"
      ]
     },
     "execution_count": 128,
     "metadata": {},
     "output_type": "execute_result"
    }
   ],
   "source": [
    "predictions[:10]"
   ]
  },
  {
   "cell_type": "code",
   "execution_count": 129,
   "id": "e069f636",
   "metadata": {},
   "outputs": [
    {
     "name": "stdout",
     "output_type": "stream",
     "text": [
      "0.6140350877192983\n"
     ]
    }
   ],
   "source": [
    "from sklearn.metrics import accuracy_score\n",
    "\n",
    "print(accuracy_score(y_test, predictions))"
   ]
  }
 ],
 "metadata": {
  "kernelspec": {
   "display_name": "Python 3 (ipykernel)",
   "language": "python",
   "name": "python3"
  },
  "language_info": {
   "codemirror_mode": {
    "name": "ipython",
    "version": 3
   },
   "file_extension": ".py",
   "mimetype": "text/x-python",
   "name": "python",
   "nbconvert_exporter": "python",
   "pygments_lexer": "ipython3",
   "version": "3.9.7"
  }
 },
 "nbformat": 4,
 "nbformat_minor": 5
}
