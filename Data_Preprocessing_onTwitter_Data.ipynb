{
 "cells": [
  {
   "cell_type": "markdown",
   "id": "57b3372e",
   "metadata": {},
   "source": [
    "## Data exploration and pre-processing\n",
    "Basically, for any data analysis or machine learning project the following has to be conducted\n",
    "- Data gtahering \n",
    "- Data assessing \n",
    "- Data ceaning "
   ]
  },
  {
   "cell_type": "markdown",
   "id": "c0b05ca8",
   "metadata": {},
   "source": [
    "## Data gathering has been allready done"
   ]
  },
  {
   "cell_type": "markdown",
   "id": "af3b01b3",
   "metadata": {},
   "source": [
    "## Data assessing \n",
    "- Assessing is the second and it is assessed to inspect data for two things:\n",
    " - **Data quality issues**: Data that has quality issues have issues with content like missing, duplicate, or incorrect data. \n",
    " - **Lack of tidiness**: Data that has specific structural issues\n",
    "\n",
    "You can search for these issues in two ways:\n",
    "- Visually by scrolling\n",
    "- Programmatically using code"
   ]
  },
  {
   "cell_type": "markdown",
   "id": "7afee765",
   "metadata": {},
   "source": [
    "for this project I used programmatic Assessment using the following methods \n",
    "- .head (DataFrame and Series)\n",
    "- .tail (DataFrame and Series)\n",
    "- .sample (DataFrame and Series)\n",
    "- .info (DataFrame only)\n",
    "- .describe (DataFrame and Series)\n",
    "- and other\n",
    "\n",
    "### some methods associated with quality issue\n",
    "- .value_counts \n",
    "- .duplicates \n",
    "- .sort_values \n",
    "- sum of .isnull "
   ]
  },
  {
   "cell_type": "code",
   "execution_count": 9,
   "id": "b7f6bfb2",
   "metadata": {},
   "outputs": [],
   "source": [
    "# loding liberaries\n",
    "import matplotlib.pyplot as plt\n",
    "import pandas as pd\n",
    "%matplotlib inline"
   ]
  },
  {
   "cell_type": "code",
   "execution_count": 36,
   "id": "624208a3",
   "metadata": {},
   "outputs": [],
   "source": [
    "df = pd.read_csv('cleaned_twitterData_data.csv')"
   ]
  },
  {
   "cell_type": "code",
   "execution_count": 21,
   "id": "4b74044c",
   "metadata": {
    "scrolled": true
   },
   "outputs": [
    {
     "data": {
      "text/html": [
       "<div>\n",
       "<style scoped>\n",
       "    .dataframe tbody tr th:only-of-type {\n",
       "        vertical-align: middle;\n",
       "    }\n",
       "\n",
       "    .dataframe tbody tr th {\n",
       "        vertical-align: top;\n",
       "    }\n",
       "\n",
       "    .dataframe thead th {\n",
       "        text-align: right;\n",
       "    }\n",
       "</style>\n",
       "<table border=\"1\" class=\"dataframe\">\n",
       "  <thead>\n",
       "    <tr style=\"text-align: right;\">\n",
       "      <th></th>\n",
       "      <th>created_at</th>\n",
       "      <th>source</th>\n",
       "      <th>original_text</th>\n",
       "      <th>subjectivity</th>\n",
       "      <th>polarity</th>\n",
       "      <th>lang</th>\n",
       "      <th>favorite_count</th>\n",
       "      <th>retweet_count</th>\n",
       "      <th>original_author</th>\n",
       "      <th>followers_count</th>\n",
       "      <th>friends_count</th>\n",
       "      <th>possibly_sensitive</th>\n",
       "      <th>hashtags</th>\n",
       "      <th>user_mentions</th>\n",
       "      <th>place</th>\n",
       "    </tr>\n",
       "  </thead>\n",
       "  <tbody>\n",
       "    <tr>\n",
       "      <th>0</th>\n",
       "      <td>Sun Aug 07 22:31:20 +0000 2022</td>\n",
       "      <td>&lt;a href=\"http://twitter.com/download/android\" ...</td>\n",
       "      <td>RT @i_ameztoy: Extra random image (I):\\n\\nLets...</td>\n",
       "      <td>0.190625</td>\n",
       "      <td>-0.125</td>\n",
       "      <td>en</td>\n",
       "      <td>4</td>\n",
       "      <td>2</td>\n",
       "      <td>i_ameztoy</td>\n",
       "      <td>20497</td>\n",
       "      <td>2621</td>\n",
       "      <td>NaN</td>\n",
       "      <td>City</td>\n",
       "      <td>i_ameztoy</td>\n",
       "      <td>NaN</td>\n",
       "    </tr>\n",
       "    <tr>\n",
       "      <th>1</th>\n",
       "      <td>Sun Aug 07 22:31:16 +0000 2022</td>\n",
       "      <td>&lt;a href=\"http://twitter.com/download/android\" ...</td>\n",
       "      <td>RT @IndoPac_Info: #China's media explains the ...</td>\n",
       "      <td>0.100000</td>\n",
       "      <td>-0.100</td>\n",
       "      <td>en</td>\n",
       "      <td>691</td>\n",
       "      <td>201</td>\n",
       "      <td>ZIisq</td>\n",
       "      <td>65</td>\n",
       "      <td>272</td>\n",
       "      <td>NaN</td>\n",
       "      <td>China, Taiwan</td>\n",
       "      <td>IndoPac_Info</td>\n",
       "      <td>NaN</td>\n",
       "    </tr>\n",
       "  </tbody>\n",
       "</table>\n",
       "</div>"
      ],
      "text/plain": [
       "                       created_at  \\\n",
       "0  Sun Aug 07 22:31:20 +0000 2022   \n",
       "1  Sun Aug 07 22:31:16 +0000 2022   \n",
       "\n",
       "                                              source  \\\n",
       "0  <a href=\"http://twitter.com/download/android\" ...   \n",
       "1  <a href=\"http://twitter.com/download/android\" ...   \n",
       "\n",
       "                                       original_text  subjectivity  polarity  \\\n",
       "0  RT @i_ameztoy: Extra random image (I):\\n\\nLets...      0.190625    -0.125   \n",
       "1  RT @IndoPac_Info: #China's media explains the ...      0.100000    -0.100   \n",
       "\n",
       "  lang  favorite_count  retweet_count original_author  followers_count  \\\n",
       "0   en               4              2       i_ameztoy            20497   \n",
       "1   en             691            201           ZIisq               65   \n",
       "\n",
       "   friends_count possibly_sensitive       hashtags user_mentions place  \n",
       "0           2621                NaN           City     i_ameztoy   NaN  \n",
       "1            272                NaN  China, Taiwan  IndoPac_Info   NaN  "
      ]
     },
     "execution_count": 21,
     "metadata": {},
     "output_type": "execute_result"
    }
   ],
   "source": [
    "df.head(2)"
   ]
  },
  {
   "cell_type": "code",
   "execution_count": 22,
   "id": "6cb04eba",
   "metadata": {},
   "outputs": [
    {
     "data": {
      "text/plain": [
       "(21997, 15)"
      ]
     },
     "execution_count": 22,
     "metadata": {},
     "output_type": "execute_result"
    }
   ],
   "source": [
    "# shape info\n",
    "df.shape"
   ]
  },
  {
   "cell_type": "code",
   "execution_count": 5,
   "id": "1c1b3902",
   "metadata": {
    "scrolled": true
   },
   "outputs": [
    {
     "name": "stdout",
     "output_type": "stream",
     "text": [
      "<class 'pandas.core.frame.DataFrame'>\n",
      "RangeIndex: 21997 entries, 0 to 21996\n",
      "Data columns (total 15 columns):\n",
      " #   Column              Non-Null Count  Dtype  \n",
      "---  ------              --------------  -----  \n",
      " 0   created_at          21997 non-null  object \n",
      " 1   source              21997 non-null  object \n",
      " 2   original_text       21997 non-null  object \n",
      " 3   subjectivity        21997 non-null  float64\n",
      " 4   polarity            21997 non-null  float64\n",
      " 5   lang                21997 non-null  object \n",
      " 6   favorite_count      21997 non-null  int64  \n",
      " 7   retweet_count       21997 non-null  int64  \n",
      " 8   original_author     21997 non-null  object \n",
      " 9   followers_count     21997 non-null  int64  \n",
      " 10  friends_count       21997 non-null  int64  \n",
      " 11  possibly_sensitive  6190 non-null   object \n",
      " 12  hashtags            19138 non-null  object \n",
      " 13  user_mentions       18695 non-null  object \n",
      " 14  place               12106 non-null  object \n",
      "dtypes: float64(2), int64(4), object(9)\n",
      "memory usage: 2.5+ MB\n"
     ]
    }
   ],
   "source": [
    "# checking against null value\n",
    "df.info()"
   ]
  },
  {
   "cell_type": "code",
   "execution_count": 23,
   "id": "ba345366",
   "metadata": {
    "scrolled": true
   },
   "outputs": [
    {
     "data": {
      "text/html": [
       "<div>\n",
       "<style scoped>\n",
       "    .dataframe tbody tr th:only-of-type {\n",
       "        vertical-align: middle;\n",
       "    }\n",
       "\n",
       "    .dataframe tbody tr th {\n",
       "        vertical-align: top;\n",
       "    }\n",
       "\n",
       "    .dataframe thead th {\n",
       "        text-align: right;\n",
       "    }\n",
       "</style>\n",
       "<table border=\"1\" class=\"dataframe\">\n",
       "  <thead>\n",
       "    <tr style=\"text-align: right;\">\n",
       "      <th></th>\n",
       "      <th>subjectivity</th>\n",
       "      <th>polarity</th>\n",
       "      <th>favorite_count</th>\n",
       "      <th>retweet_count</th>\n",
       "      <th>followers_count</th>\n",
       "      <th>friends_count</th>\n",
       "    </tr>\n",
       "  </thead>\n",
       "  <tbody>\n",
       "    <tr>\n",
       "      <th>count</th>\n",
       "      <td>21997.000000</td>\n",
       "      <td>21997.000000</td>\n",
       "      <td>21997.000000</td>\n",
       "      <td>21997.000000</td>\n",
       "      <td>2.199700e+04</td>\n",
       "      <td>21997.000000</td>\n",
       "    </tr>\n",
       "    <tr>\n",
       "      <th>mean</th>\n",
       "      <td>0.283878</td>\n",
       "      <td>0.061334</td>\n",
       "      <td>852.241033</td>\n",
       "      <td>176.768241</td>\n",
       "      <td>1.796985e+04</td>\n",
       "      <td>1563.237305</td>\n",
       "    </tr>\n",
       "    <tr>\n",
       "      <th>std</th>\n",
       "      <td>0.290964</td>\n",
       "      <td>0.223716</td>\n",
       "      <td>3106.276392</td>\n",
       "      <td>498.466921</td>\n",
       "      <td>3.030684e+05</td>\n",
       "      <td>4358.923487</td>\n",
       "    </tr>\n",
       "    <tr>\n",
       "      <th>min</th>\n",
       "      <td>0.000000</td>\n",
       "      <td>-1.000000</td>\n",
       "      <td>0.000000</td>\n",
       "      <td>0.000000</td>\n",
       "      <td>0.000000e+00</td>\n",
       "      <td>0.000000</td>\n",
       "    </tr>\n",
       "    <tr>\n",
       "      <th>25%</th>\n",
       "      <td>0.000000</td>\n",
       "      <td>0.000000</td>\n",
       "      <td>2.000000</td>\n",
       "      <td>2.000000</td>\n",
       "      <td>5.700000e+01</td>\n",
       "      <td>137.000000</td>\n",
       "    </tr>\n",
       "    <tr>\n",
       "      <th>50%</th>\n",
       "      <td>0.200000</td>\n",
       "      <td>0.000000</td>\n",
       "      <td>115.000000</td>\n",
       "      <td>38.000000</td>\n",
       "      <td>2.840000e+02</td>\n",
       "      <td>487.000000</td>\n",
       "    </tr>\n",
       "    <tr>\n",
       "      <th>75%</th>\n",
       "      <td>0.469048</td>\n",
       "      <td>0.133333</td>\n",
       "      <td>655.000000</td>\n",
       "      <td>187.000000</td>\n",
       "      <td>1.324000e+03</td>\n",
       "      <td>1599.000000</td>\n",
       "    </tr>\n",
       "    <tr>\n",
       "      <th>max</th>\n",
       "      <td>1.000000</td>\n",
       "      <td>1.000000</td>\n",
       "      <td>65170.000000</td>\n",
       "      <td>17409.000000</td>\n",
       "      <td>1.449852e+07</td>\n",
       "      <td>208360.000000</td>\n",
       "    </tr>\n",
       "  </tbody>\n",
       "</table>\n",
       "</div>"
      ],
      "text/plain": [
       "       subjectivity      polarity  favorite_count  retweet_count  \\\n",
       "count  21997.000000  21997.000000    21997.000000   21997.000000   \n",
       "mean       0.283878      0.061334      852.241033     176.768241   \n",
       "std        0.290964      0.223716     3106.276392     498.466921   \n",
       "min        0.000000     -1.000000        0.000000       0.000000   \n",
       "25%        0.000000      0.000000        2.000000       2.000000   \n",
       "50%        0.200000      0.000000      115.000000      38.000000   \n",
       "75%        0.469048      0.133333      655.000000     187.000000   \n",
       "max        1.000000      1.000000    65170.000000   17409.000000   \n",
       "\n",
       "       followers_count  friends_count  \n",
       "count     2.199700e+04   21997.000000  \n",
       "mean      1.796985e+04    1563.237305  \n",
       "std       3.030684e+05    4358.923487  \n",
       "min       0.000000e+00       0.000000  \n",
       "25%       5.700000e+01     137.000000  \n",
       "50%       2.840000e+02     487.000000  \n",
       "75%       1.324000e+03    1599.000000  \n",
       "max       1.449852e+07  208360.000000  "
      ]
     },
     "execution_count": 23,
     "metadata": {},
     "output_type": "execute_result"
    }
   ],
   "source": [
    "# satitstical information \n",
    "df.describe()"
   ]
  },
  {
   "cell_type": "code",
   "execution_count": 37,
   "id": "e951ec90",
   "metadata": {},
   "outputs": [
    {
     "data": {
      "text/plain": [
       "4"
      ]
     },
     "execution_count": 37,
     "metadata": {},
     "output_type": "execute_result"
    }
   ],
   "source": [
    "# checking null\n",
    "df.isnull().any().sum()"
   ]
  },
  {
   "cell_type": "code",
   "execution_count": 38,
   "id": "f5fac818",
   "metadata": {},
   "outputs": [
    {
     "data": {
      "text/plain": [
       "0"
      ]
     },
     "execution_count": 38,
     "metadata": {},
     "output_type": "execute_result"
    }
   ],
   "source": [
    "#checking against duplicated observation\n",
    "df.duplicated().any().sum()"
   ]
  },
  {
   "cell_type": "code",
   "execution_count": 39,
   "id": "bb6ea457",
   "metadata": {
    "scrolled": true
   },
   "outputs": [
    {
     "data": {
      "text/plain": [
       " 0.000000    8982\n",
       "-0.100000     973\n",
       " 0.133333     782\n",
       " 0.050000     502\n",
       " 0.500000     502\n",
       "             ... \n",
       "-0.014773       1\n",
       " 0.478788       1\n",
       " 0.059375       1\n",
       " 0.010000       1\n",
       " 0.207143       1\n",
       "Name: polarity, Length: 829, dtype: int64"
      ]
     },
     "execution_count": 39,
     "metadata": {},
     "output_type": "execute_result"
    }
   ],
   "source": [
    "## unique value and ther number of appearance in decending orde\n",
    "df['polarity'].value_counts()"
   ]
  },
  {
   "cell_type": "code",
   "execution_count": 40,
   "id": "bc2e20af",
   "metadata": {},
   "outputs": [
    {
     "data": {
      "text/plain": [
       "829"
      ]
     },
     "execution_count": 40,
     "metadata": {},
     "output_type": "execute_result"
    }
   ],
   "source": [
    "# number of unique values\n",
    "df['polarity'].nunique()"
   ]
  },
  {
   "cell_type": "code",
   "execution_count": 28,
   "id": "1be80934",
   "metadata": {},
   "outputs": [
    {
     "data": {
      "text/plain": [
       "15122   -1.0\n",
       "2909    -1.0\n",
       "7448    -1.0\n",
       "15248   -1.0\n",
       "7920    -1.0\n",
       "        ... \n",
       "21693    1.0\n",
       "13630    1.0\n",
       "20442    1.0\n",
       "20140    1.0\n",
       "9778     1.0\n",
       "Name: polarity, Length: 21997, dtype: float64"
      ]
     },
     "execution_count": 28,
     "metadata": {},
     "output_type": "execute_result"
    }
   ],
   "source": [
    "df['polarity'].sort_values()"
   ]
  },
  {
   "cell_type": "code",
   "execution_count": 29,
   "id": "62ad0692",
   "metadata": {
    "scrolled": true
   },
   "outputs": [
    {
     "data": {
      "text/html": [
       "<div>\n",
       "<style scoped>\n",
       "    .dataframe tbody tr th:only-of-type {\n",
       "        vertical-align: middle;\n",
       "    }\n",
       "\n",
       "    .dataframe tbody tr th {\n",
       "        vertical-align: top;\n",
       "    }\n",
       "\n",
       "    .dataframe thead th {\n",
       "        text-align: right;\n",
       "    }\n",
       "</style>\n",
       "<table border=\"1\" class=\"dataframe\">\n",
       "  <thead>\n",
       "    <tr style=\"text-align: right;\">\n",
       "      <th></th>\n",
       "      <th>source</th>\n",
       "      <th>original_text</th>\n",
       "    </tr>\n",
       "  </thead>\n",
       "  <tbody>\n",
       "    <tr>\n",
       "      <th>0</th>\n",
       "      <td>&lt;a href=\"http://twitter.com/download/android\" ...</td>\n",
       "      <td>RT @i_ameztoy: Extra random image (I):\\n\\nLets...</td>\n",
       "    </tr>\n",
       "    <tr>\n",
       "      <th>1</th>\n",
       "      <td>&lt;a href=\"http://twitter.com/download/android\" ...</td>\n",
       "      <td>RT @IndoPac_Info: #China's media explains the ...</td>\n",
       "    </tr>\n",
       "    <tr>\n",
       "      <th>2</th>\n",
       "      <td>&lt;a href=\"http://twitter.com/download/android\" ...</td>\n",
       "      <td>China even cut off communication, they don't a...</td>\n",
       "    </tr>\n",
       "  </tbody>\n",
       "</table>\n",
       "</div>"
      ],
      "text/plain": [
       "                                              source  \\\n",
       "0  <a href=\"http://twitter.com/download/android\" ...   \n",
       "1  <a href=\"http://twitter.com/download/android\" ...   \n",
       "2  <a href=\"http://twitter.com/download/android\" ...   \n",
       "\n",
       "                                       original_text  \n",
       "0  RT @i_ameztoy: Extra random image (I):\\n\\nLets...  \n",
       "1  RT @IndoPac_Info: #China's media explains the ...  \n",
       "2  China even cut off communication, they don't a...  "
      ]
     },
     "execution_count": 29,
     "metadata": {},
     "output_type": "execute_result"
    }
   ],
   "source": [
    "#cheking source and orginal_text columns\n",
    "df[['source','original_text']].head(3)"
   ]
  },
  {
   "cell_type": "markdown",
   "id": "114468e8",
   "metadata": {},
   "source": [
    "### Result of the assesmement\n",
    "- Created_at datatype issue\n",
    "- missing vaues are there\n",
    "- the source and original text needs to be cleaned"
   ]
  },
  {
   "cell_type": "markdown",
   "id": "24b079b4",
   "metadata": {},
   "source": [
    "### Cleaning  \n",
    "it helps as to solve the following \n",
    "- duplicate data\n",
    "- missing data\n",
    "- inaccurate data\n",
    "- incomplete data"
   ]
  },
  {
   "cell_type": "code",
   "execution_count": 31,
   "id": "1fc19ae8",
   "metadata": {},
   "outputs": [],
   "source": [
    "#df.head(1)"
   ]
  },
  {
   "cell_type": "code",
   "execution_count": 41,
   "id": "7edcd929",
   "metadata": {},
   "outputs": [],
   "source": [
    "# handling with missing values with drop method\n",
    "df.dropna(inplace = True)"
   ]
  },
  {
   "cell_type": "code",
   "execution_count": null,
   "id": "06660914",
   "metadata": {},
   "outputs": [],
   "source": [
    "#df.head"
   ]
  },
  {
   "cell_type": "code",
   "execution_count": 42,
   "id": "65b2950b",
   "metadata": {},
   "outputs": [
    {
     "data": {
      "text/plain": [
       "0"
      ]
     },
     "execution_count": 42,
     "metadata": {},
     "output_type": "execute_result"
    }
   ],
   "source": [
    "# checking against missing value\n",
    "df.isnull().any().sum()"
   ]
  },
  {
   "cell_type": "code",
   "execution_count": 43,
   "id": "afcc2c1a",
   "metadata": {},
   "outputs": [],
   "source": [
    "# habdling created_at datatype\n",
    "df['created_at'] =pd.to_datetime(df['created_at'])"
   ]
  },
  {
   "cell_type": "code",
   "execution_count": 16,
   "id": "e7489a08",
   "metadata": {},
   "outputs": [
    {
     "data": {
      "text/plain": [
       "datetime64[ns, UTC]"
      ]
     },
     "execution_count": 16,
     "metadata": {},
     "output_type": "execute_result"
    }
   ],
   "source": [
    "#checking datatype\n",
    "df['created_at'].dtype"
   ]
  },
  {
   "cell_type": "code",
   "execution_count": 17,
   "id": "049bbedc",
   "metadata": {
    "scrolled": false
   },
   "outputs": [],
   "source": [
    "# handling the source and original text needs to be cleaned and creating new column\n"
   ]
  },
  {
   "cell_type": "code",
   "execution_count": 18,
   "id": "81e4d6ab",
   "metadata": {},
   "outputs": [],
   "source": [
    "#Method to find hashtags from tweets\n"
   ]
  },
  {
   "cell_type": "markdown",
   "id": "386215c2",
   "metadata": {},
   "source": [
    "### Visualization "
   ]
  },
  {
   "cell_type": "code",
   "execution_count": 19,
   "id": "b9037713",
   "metadata": {
    "scrolled": false
   },
   "outputs": [
    {
     "data": {
      "image/png": "[encoded data removed]",
      "text/plain": [
       "<Figure size 432x288 with 1 Axes>"
      ]
     },
     "metadata": {
      "needs_background": "light"
     },
     "output_type": "display_data"
    }
   ],
   "source": [
    "# the plority distribution\n",
    "df.polarity.hist();\n",
    "plt.title(\"Distribution of the polarity using histogram\", fontsize = 13, fontweight = 'bold');"
   ]
  },
  {
   "cell_type": "code",
   "execution_count": null,
   "id": "09ce40f5",
   "metadata": {},
   "outputs": [],
   "source": []
  },
  {
   "cell_type": "code",
   "execution_count": 20,
   "id": "5f15e921",
   "metadata": {
    "scrolled": false
   },
   "outputs": [
    {
     "data": {
      "image/png": "[encoded data removed]",
      "text/plain": [
       "<Figure size 432x288 with 1 Axes>"
      ]
     },
     "metadata": {
      "needs_background": "light"
     },
     "output_type": "display_data"
    }
   ],
   "source": [
    "# polarity vs favorite_count using scatter plot\n",
    "df.plot(x = 'polarity', y = 'favorite_count', kind = 'scatter')\n",
    "plt.title(\"Relationship between polarity and favorite count\", fontsize = 13, fontweight = 'bold');"
   ]
  },
  {
   "cell_type": "code",
   "execution_count": 21,
   "id": "fefc0267",
   "metadata": {
    "scrolled": true
   },
   "outputs": [
    {
     "data": {
      "image/png": "[encoded data removed]",
      "text/plain": [
       "<Figure size 432x288 with 1 Axes>"
      ]
     },
     "metadata": {
      "needs_background": "light"
     },
     "output_type": "display_data"
    }
   ],
   "source": [
    "# the distribution of subjectivity\n",
    "df.subjectivity.hist();\n",
    "plt.title(\"Distribution of the subjectivity using histogram\", fontsize = 8, fontweight = 'bold');"
   ]
  },
  {
   "cell_type": "code",
   "execution_count": null,
   "id": "34348c40",
   "metadata": {},
   "outputs": [],
   "source": []
  },
  {
   "cell_type": "markdown",
   "id": "b053a264",
   "metadata": {},
   "source": [
    "## Topic Modeling "
   ]
  },
  {
   "cell_type": "code",
   "execution_count": 1,
   "id": "8bb44b5c",
   "metadata": {},
   "outputs": [],
   "source": [
    "# inporting packages \n",
    "import warnings\n",
    "warnings.filterwarnings('ignore')\n",
    "import matplotlib.pyplot as plt\n",
    "import seaborn as sns\n",
    "import gensim\n",
    "from gensim.models import CoherenceModel\n",
    "from gensim import corpora\n",
    "import pandas as pd\n",
    "from pprint import pprint\n",
    "import string\n",
    "import os\n",
    "import re\n",
    "import emoji\n",
    "import nltk"
   ]
  },
  {
   "cell_type": "code",
   "execution_count": 23,
   "id": "1380a5e0",
   "metadata": {},
   "outputs": [],
   "source": [
    "#data loader class\n",
    "# class DataLoader:\n",
    "#   def __init__(self,dir_name,file_name):\n",
    "#     self.dir_name=dir_name\n",
    "#     self.file_name = file_name\n",
    "    \n",
    " \n",
    "#   def read_csv(self):\n",
    "#     os.chdir(self.dir_name)\n",
    "#     tweets_df=pd.read_csv(self.file_name)\n",
    "#     return tweets_df"
   ]
  },
  {
   "cell_type": "code",
   "execution_count": 24,
   "id": "3d9a5158",
   "metadata": {},
   "outputs": [],
   "source": [
    "#object creation\n",
    "#DataLoader_obj= df"
   ]
  },
  {
   "cell_type": "code",
   "execution_count": 44,
   "id": "3bb6e100",
   "metadata": {
    "scrolled": true
   },
   "outputs": [
    {
     "data": {
      "text/html": [
       "<div>\n",
       "<style scoped>\n",
       "    .dataframe tbody tr th:only-of-type {\n",
       "        vertical-align: middle;\n",
       "    }\n",
       "\n",
       "    .dataframe tbody tr th {\n",
       "        vertical-align: top;\n",
       "    }\n",
       "\n",
       "    .dataframe thead th {\n",
       "        text-align: right;\n",
       "    }\n",
       "</style>\n",
       "<table border=\"1\" class=\"dataframe\">\n",
       "  <thead>\n",
       "    <tr style=\"text-align: right;\">\n",
       "      <th></th>\n",
       "      <th>created_at</th>\n",
       "      <th>source</th>\n",
       "      <th>original_text</th>\n",
       "      <th>subjectivity</th>\n",
       "      <th>polarity</th>\n",
       "      <th>lang</th>\n",
       "      <th>favorite_count</th>\n",
       "      <th>retweet_count</th>\n",
       "      <th>original_author</th>\n",
       "      <th>followers_count</th>\n",
       "      <th>friends_count</th>\n",
       "      <th>possibly_sensitive</th>\n",
       "      <th>hashtags</th>\n",
       "      <th>user_mentions</th>\n",
       "      <th>place</th>\n",
       "    </tr>\n",
       "  </thead>\n",
       "  <tbody>\n",
       "    <tr>\n",
       "      <th>5</th>\n",
       "      <td>2022-08-07 22:31:02+00:00</td>\n",
       "      <td>&lt;a href=\"http://twitter.com/download/android\" ...</td>\n",
       "      <td>RT @benedictrogers: We must not let this happe...</td>\n",
       "      <td>0.5</td>\n",
       "      <td>0.2</td>\n",
       "      <td>en</td>\n",
       "      <td>116</td>\n",
       "      <td>36</td>\n",
       "      <td>GraceCh15554845</td>\n",
       "      <td>207</td>\n",
       "      <td>54</td>\n",
       "      <td>False</td>\n",
       "      <td>Taiwan</td>\n",
       "      <td>benedictrogers</td>\n",
       "      <td>Melbourne, Victoria</td>\n",
       "    </tr>\n",
       "  </tbody>\n",
       "</table>\n",
       "</div>"
      ],
      "text/plain": [
       "                 created_at  \\\n",
       "5 2022-08-07 22:31:02+00:00   \n",
       "\n",
       "                                              source  \\\n",
       "5  <a href=\"http://twitter.com/download/android\" ...   \n",
       "\n",
       "                                       original_text  subjectivity  polarity  \\\n",
       "5  RT @benedictrogers: We must not let this happe...           0.5       0.2   \n",
       "\n",
       "  lang  favorite_count  retweet_count  original_author  followers_count  \\\n",
       "5   en             116             36  GraceCh15554845              207   \n",
       "\n",
       "   friends_count possibly_sensitive hashtags   user_mentions  \\\n",
       "5             54              False   Taiwan  benedictrogers   \n",
       "\n",
       "                 place  \n",
       "5  Melbourne, Victoria  "
      ]
     },
     "execution_count": 44,
     "metadata": {},
     "output_type": "execute_result"
    }
   ],
   "source": [
    "df.head(1)"
   ]
  },
  {
   "cell_type": "code",
   "execution_count": 47,
   "id": "aa70082d",
   "metadata": {
    "scrolled": true
   },
   "outputs": [],
   "source": [
    "df['clean_text'] = df['original_text']"
   ]
  },
  {
   "cell_type": "code",
   "execution_count": 48,
   "id": "ce027a75",
   "metadata": {},
   "outputs": [
    {
     "data": {
      "text/html": [
       "<div>\n",
       "<style scoped>\n",
       "    .dataframe tbody tr th:only-of-type {\n",
       "        vertical-align: middle;\n",
       "    }\n",
       "\n",
       "    .dataframe tbody tr th {\n",
       "        vertical-align: top;\n",
       "    }\n",
       "\n",
       "    .dataframe thead th {\n",
       "        text-align: right;\n",
       "    }\n",
       "</style>\n",
       "<table border=\"1\" class=\"dataframe\">\n",
       "  <thead>\n",
       "    <tr style=\"text-align: right;\">\n",
       "      <th></th>\n",
       "      <th>created_at</th>\n",
       "      <th>source</th>\n",
       "      <th>original_text</th>\n",
       "      <th>subjectivity</th>\n",
       "      <th>polarity</th>\n",
       "      <th>lang</th>\n",
       "      <th>favorite_count</th>\n",
       "      <th>retweet_count</th>\n",
       "      <th>original_author</th>\n",
       "      <th>followers_count</th>\n",
       "      <th>friends_count</th>\n",
       "      <th>possibly_sensitive</th>\n",
       "      <th>hashtags</th>\n",
       "      <th>user_mentions</th>\n",
       "      <th>place</th>\n",
       "      <th>clean_text</th>\n",
       "    </tr>\n",
       "  </thead>\n",
       "  <tbody>\n",
       "    <tr>\n",
       "      <th>5</th>\n",
       "      <td>2022-08-07 22:31:02+00:00</td>\n",
       "      <td>&lt;a href=\"http://twitter.com/download/android\" ...</td>\n",
       "      <td>RT @benedictrogers: We must not let this happe...</td>\n",
       "      <td>0.5</td>\n",
       "      <td>0.2</td>\n",
       "      <td>en</td>\n",
       "      <td>116</td>\n",
       "      <td>36</td>\n",
       "      <td>GraceCh15554845</td>\n",
       "      <td>207</td>\n",
       "      <td>54</td>\n",
       "      <td>False</td>\n",
       "      <td>Taiwan</td>\n",
       "      <td>benedictrogers</td>\n",
       "      <td>Melbourne, Victoria</td>\n",
       "      <td>RT @benedictrogers: We must not let this happe...</td>\n",
       "    </tr>\n",
       "  </tbody>\n",
       "</table>\n",
       "</div>"
      ],
      "text/plain": [
       "                 created_at  \\\n",
       "5 2022-08-07 22:31:02+00:00   \n",
       "\n",
       "                                              source  \\\n",
       "5  <a href=\"http://twitter.com/download/android\" ...   \n",
       "\n",
       "                                       original_text  subjectivity  polarity  \\\n",
       "5  RT @benedictrogers: We must not let this happe...           0.5       0.2   \n",
       "\n",
       "  lang  favorite_count  retweet_count  original_author  followers_count  \\\n",
       "5   en             116             36  GraceCh15554845              207   \n",
       "\n",
       "   friends_count possibly_sensitive hashtags   user_mentions  \\\n",
       "5             54              False   Taiwan  benedictrogers   \n",
       "\n",
       "                 place                                         clean_text  \n",
       "5  Melbourne, Victoria  RT @benedictrogers: We must not let this happe...  "
      ]
     },
     "execution_count": 48,
     "metadata": {},
     "output_type": "execute_result"
    }
   ],
   "source": [
    "df.head(1)"
   ]
  },
  {
   "cell_type": "code",
   "execution_count": 49,
   "id": "8a2d398a",
   "metadata": {
    "scrolled": true
   },
   "outputs": [],
   "source": [
    "tweets_df = df\n",
    "#tweets_df"
   ]
  },
  {
   "cell_type": "code",
   "execution_count": 61,
   "id": "9d4dcb16",
   "metadata": {},
   "outputs": [],
   "source": [
    "nltk.download('words')\n",
    "words = set(nltk.corpus.words.words())"
   ]
  },
  {
   "cell_type": "code",
   "execution_count": 52,
   "id": "5c98d834",
   "metadata": {},
   "outputs": [
    {
     "data": {
      "text/plain": [
       "5        : We must not let this happen . We must be rea...\n",
       "36              : Roger it as it is . is a part of China !\n",
       "39       : \" For too long , been , and isolated from th...\n",
       "43       : 🇬🇷 Summer Travel Excursion 👉 check availabil...\n",
       "48       : We must not let this happen . We must be rea...\n",
       "                               ...                        \n",
       "21978    : Head of ' s missile is found dead in hotel ....\n",
       "21986    Minister is crystal clear in his interview . '...\n",
       "21987                 : Live - fire military in the with .\n",
       "21989    : Head of ' s missile is found dead in hotel ....\n",
       "21993     : A good of China ' s missile on on August 4th .\n",
       "Name: clean_text, Length: 1976, dtype: object"
      ]
     },
     "execution_count": 52,
     "metadata": {},
     "output_type": "execute_result"
    }
   ],
   "source": [
    "def cleaner(tweet):\n",
    "    tweet = re.sub(\"@[A-Za-z0-9]+\",\"\",tweet) #Remove @ sign\n",
    "    tweet = re.sub(r\"(?:\\@|http?\\://|https?\\://|www)\\S+\", \"\", tweet) #Remove http links\n",
    "    tweet = \" \".join(tweet.split())\n",
    "    #tweet = ''.join(c for c in tweet if c not in emoji.UNICODE_EMOJI) #Remove Emojis\n",
    "    tweet = tweet.replace(\"#\", \"\").replace(\"_\", \" \") #Remove hashtag sign but keep the text\n",
    "\n",
    "    tweet = \" \".join(w for w in nltk.wordpunct_tokenize(tweet) \\\n",
    "         if w.lower() in words or not w.isalpha())\n",
    "    return tweet\n",
    "\n",
    "\n",
    "tweets_df['clean_text'] = tweets_df['original_text'].map(lambda x: cleaner(x))\n",
    "tweets_df['clean_text']"
   ]
  },
  {
   "cell_type": "code",
   "execution_count": 89,
   "id": "1cf2e0af",
   "metadata": {},
   "outputs": [],
   "source": [
    "class PrepareData:\n",
    "  def __init__(self,df):\n",
    "    self.df=df\n",
    "  def preprocess_data(self):\n",
    "    \n",
    "    tweets_df = self.df.loc[self.df['lang'] ==\"en\"]\n",
    "\n",
    "    #print(tweets_df)\n",
    "    #text Preprocessing\n",
    "    tweets_df['clean_text']=tweets_df['clean_text'].astype(str)\n",
    "    tweets_df['clean_text'] = tweets_df['clean_text'].apply(lambda x: x.lower())\n",
    "    tweets_df['clean_text']= tweets_df['clean_text'].apply(lambda x: x.translate(str.maketrans(' ', ' ', string.punctuation)))\n",
    "    \n",
    "    #Converting tweets to list of words For feature engineering\n",
    "    sentence_list = [tweet for tweet in tweets_df['clean_text']]\n",
    "    word_list = [sent.split() for sent in sentence_list]\n",
    "    # print(word_list)\n",
    "\n",
    "    #Create dictionary which contains Id and word \n",
    "    word_to_id = corpora.Dictionary(word_list) #generate unique tokens\n",
    "    #  we can see the word to unique integer mapping\n",
    "    # print(word_to_id.token2id)\n",
    "    # using bag of words(bow), we create a corpus that contains the word id and its frequency in each document.\n",
    "    corpus_1= [word_to_id.doc2bow(tweet) for tweet in word_list]\n",
    "\n",
    "\n",
    "    return word_list, word_to_id, corpus_1"
   ]
  },
  {
   "cell_type": "code",
   "execution_count": 90,
   "id": "2bc822d8",
   "metadata": {},
   "outputs": [],
   "source": [
    "PrepareData_obj=PrepareData(tweets_df)\n",
    "#tweets_df['clean_text']\n",
    "word_list ,id2word,corpus=PrepareData_obj.preprocess_data()"
   ]
  },
  {
   "cell_type": "code",
   "execution_count": 84,
   "id": "cffe9edb",
   "metadata": {},
   "outputs": [],
   "source": [
    "id_words = [[(id2word[id], count) for id, count in line] for line in corpus]"
   ]
  },
  {
   "cell_type": "code",
   "execution_count": 92,
   "id": "fce1facc",
   "metadata": {
    "scrolled": false
   },
   "outputs": [],
   "source": [
    "#print(id_words)"
   ]
  },
  {
   "cell_type": "markdown",
   "id": "ee20628a",
   "metadata": {},
   "source": [
    "## Topic Modeling using Latent Dirichlet Allocation\n",
    "based on the distributional hypothesis, (i.e. similar topics make use of similar words) and the statistical mixture hypothesis (i.e. documents talk about several topics) for which a statistical distribution can be determined.\n",
    "\n",
    "The purpose of LDA is mapping each teweets in our corpus to a set of topics which covers a good deal of the words in the tweet"
   ]
  },
  {
   "cell_type": "code",
   "execution_count": 93,
   "id": "add79909",
   "metadata": {},
   "outputs": [],
   "source": [
    "# Build LDA model\n",
    "lda_model = gensim.models.ldamodel.LdaModel(corpus,\n",
    "                                           id2word=id2word,\n",
    "                                           num_topics=5, \n",
    "                                           random_state=100,\n",
    "                                           update_every=1,\n",
    "                                           chunksize=100,\n",
    "                                           passes=10,\n",
    "                                           alpha='auto',\n",
    "                                           per_word_topics=True)"
   ]
  },
  {
   "cell_type": "code",
   "execution_count": 94,
   "id": "7ad01c73",
   "metadata": {
    "scrolled": true
   },
   "outputs": [
    {
     "name": "stdout",
     "output_type": "stream",
     "text": [
      "[(0,\n",
      "  '0.068*\"the\" + 0.037*\"in\" + 0.030*\"s\" + 0.029*\"’\" + 0.028*\"and\" + 0.024*\"of\" '\n",
      "  '+ 0.024*\"to\" + 0.017*\"china\" + 0.016*\"is\" + 0.014*\"with\"'),\n",
      " (1,\n",
      "  '0.064*\"china\" + 0.056*\"new\" + 0.056*\"today\" + 0.054*\"1\" + 0.051*\"billion\" + '\n",
      "  '0.051*\"4\" + 0.050*\"pink\" + 0.050*\"got\" + 0.050*\"panda\" + 0.019*\"on\"'),\n",
      " (2,\n",
      "  '0.058*\"china\" + 0.033*\"the\" + 0.032*\"is\" + 0.031*\"of\" + 0.020*\"in\" + '\n",
      "  '0.020*\"to\" + 0.017*\"s\" + 0.015*\"and\" + 0.014*\"on\" + 0.013*\"that\"'),\n",
      " (3,\n",
      "  '0.039*\"the\" + 0.026*\"a\" + 0.025*\"…\" + 0.023*\"of\" + 0.023*\"and\" + 0.022*\"in\" '\n",
      "  '+ 0.015*\"s\" + 0.013*\"live\" + 0.010*\"from\" + 0.010*\"our\"'),\n",
      " (4,\n",
      "  '0.023*\"we\" + 0.020*\"not\" + 0.019*\"this\" + 0.018*\"must\" + 0.017*\"be\" + '\n",
      "  '0.014*\"to\" + 0.013*\"president\" + 0.013*\"the\" + 0.013*\"by\" + 0.011*\"00\"')]\n"
     ]
    }
   ],
   "source": [
    "pprint(lda_model.print_topics())"
   ]
  },
  {
   "cell_type": "code",
   "execution_count": 95,
   "id": "f399de0b",
   "metadata": {
    "scrolled": true
   },
   "outputs": [
    {
     "name": "stdout",
     "output_type": "stream",
     "text": [
      "[(0,\n",
      "  [('the', 0.06764154),\n",
      "   ('in', 0.03735836),\n",
      "   ('s', 0.02988628),\n",
      "   ('’', 0.028702201),\n",
      "   ('and', 0.028316924),\n",
      "   ('of', 0.02442928),\n",
      "   ('to', 0.023602998),\n",
      "   ('china', 0.0169049),\n",
      "   ('is', 0.015546172),\n",
      "   ('with', 0.013930249)]),\n",
      " (1,\n",
      "  [('china', 0.06382187),\n",
      "   ('new', 0.056349836),\n",
      "   ('today', 0.055542916),\n",
      "   ('1', 0.053634092),\n",
      "   ('billion', 0.051437687),\n",
      "   ('4', 0.051434934),\n",
      "   ('pink', 0.050334822),\n",
      "   ('got', 0.050334815),\n",
      "   ('panda', 0.05033479),\n",
      "   ('on', 0.01945697)]),\n",
      " (2,\n",
      "  [('china', 0.057882126),\n",
      "   ('the', 0.033249293),\n",
      "   ('is', 0.03235169),\n",
      "   ('of', 0.030859314),\n",
      "   ('in', 0.019664647),\n",
      "   ('to', 0.019638782),\n",
      "   ('s', 0.017255792),\n",
      "   ('and', 0.01530113),\n",
      "   ('on', 0.013569245),\n",
      "   ('that', 0.013476247)]),\n",
      " (3,\n",
      "  [('the', 0.038850054),\n",
      "   ('a', 0.02581741),\n",
      "   ('…', 0.024781978),\n",
      "   ('of', 0.0234391),\n",
      "   ('and', 0.022628978),\n",
      "   ('in', 0.022040032),\n",
      "   ('s', 0.014670212),\n",
      "   ('live', 0.013152951),\n",
      "   ('from', 0.010349333),\n",
      "   ('our', 0.010333648)]),\n",
      " (4,\n",
      "  [('we', 0.023182198),\n",
      "   ('not', 0.02034133),\n",
      "   ('this', 0.019206692),\n",
      "   ('must', 0.018229878),\n",
      "   ('be', 0.016922325),\n",
      "   ('to', 0.014479254),\n",
      "   ('president', 0.01325894),\n",
      "   ('the', 0.013246676),\n",
      "   ('by', 0.012830573),\n",
      "   ('00', 0.011305999)])]\n"
     ]
    }
   ],
   "source": [
    "pprint(lda_model.show_topics(formatted=False))"
   ]
  },
  {
   "cell_type": "markdown",
   "id": "ec4d21aa",
   "metadata": {},
   "source": [
    "#### Model Analysis\n",
    "- Perplexity is also a measure of model quality and in natural language processing is often used as “perplexity per number of words”. It describes how well a model predicts a sample, i.e. how much it is “perplexed” by a sample from the observed data. The lower the score, the better the model for the given data.\n",
    "\n",
    "- A coherence matrix is used to test the model for accuracy. Topic coherence is a measure that compares different topic models based on their human-interpretability. The coherence score ‘C_V’ provides a numerical value to the interpretability of the topics"
   ]
  },
  {
   "cell_type": "code",
   "execution_count": 37,
   "id": "d8c4e0a0",
   "metadata": {
    "scrolled": true
   },
   "outputs": [],
   "source": [
    "# # Compute Perplexity\n",
    "\n",
    "# #It's a measure of how good the model is. The lower the better. Perplexity is a negative value\n",
    "# print('\\nPerplexity: ', lda_model.log_perplexity(corpus))  \n",
    "# doc_lda = lda_model[corpus]\n",
    "\n",
    "# # Compute Coherence Score\n",
    "# coherence_model_lda = CoherenceModel(model=lda_model, texts=word_list, dictionary=id2word, coherence='c_v')\n",
    "# coherence_lda = coherence_model_lda.get_coherence()\n",
    "# print('\\n Ldamodel Coherence Score/Accuracy on Tweets: ', coherence_lda)"
   ]
  },
  {
   "cell_type": "code",
   "execution_count": 2,
   "id": "13cbff99",
   "metadata": {},
   "outputs": [],
   "source": [
    "#!pip install pyLDAvis "
   ]
  },
  {
   "cell_type": "markdown",
   "id": "430aa871",
   "metadata": {},
   "source": [
    "Anlayizing results Exploring the Intertopic Distance Plot can help you learn about how topics relate to each other, including potential higher-level structure between groups of topics"
   ]
  },
  {
   "cell_type": "code",
   "execution_count": 96,
   "id": "3f021216",
   "metadata": {},
   "outputs": [
    {
     "data": {
      "text/html": [
       "\n",
       "<link rel=\"stylesheet\" type=\"text/css\" href=\"https://cdn.jsdelivr.net/gh/bmabey/pyLDAvis@3.3.1/pyLDAvis/js/ldavis.v1.0.0.css\">\n",
       "\n",
       "\n",
       "<div id=\"ldavis_el394422095624048967327351432\"></div>\n",
       "<script type=\"text/javascript\">\n",
       "\n",
       "var ldavis_el394422095624048967327351432_data = {\"mdsDat\": {\"x\": [-0.11323781837990077, -0.05140621625533351, 0.27132839841605366, -0.08885261117227196, -0.01783175260854724], \"y\": [0.07369890842028126, 0.1147963950106416, 0.018698152730156844, -0.07714338771109187, -0.1300500684499879], \"topics\": [1, 2, 3, 4, 5], \"cluster\": [1, 1, 1, 1, 1], \"Freq\": [32.13890510076672, 25.57780595010127, 20.27501328286054, 13.05026598390302, 8.95800968236845]}, \"tinfo\": {\"Term\": [\"new\", \"1\", \"today\", \"billion\", \"4\", \"panda\", \"pink\", \"got\", \"china\", \"the\", \"\\u2019\", \"\\u2026\", \"of\", \"we\", \"and\", \"a\", \"not\", \"s\", \"is\", \"this\", \"by\", \"be\", \"in\", \"must\", \"to\", \"us\", \"travel\", \"military\", \"live\", \"army\", \"\\u2019\", \"\\u201d\", \"\\u201c\", \"\\u2018\", \"he\", \"very\", \"watch\", \"foreign\", \"out\", \"wall\", \"2\", \"what\", \"find\", \"policy\", \"everything\", \"with\", \"here\", \"so\", \"totalitarianism\", \"sang\", \"thought\", \"control\", \"mindlessly\", \"mean\", \"who\", \"ministry\", \"dangerous\", \"when\", \"air\", \"how\", \"don\", \"but\", \"since\", \"the\", \"t\", \"s\", \"in\", \"by\", \"and\", \"roc\", \"they\", \"to\", \"i\", \"are\", \"of\", \"at\", \"from\", \"is\", \"on\", \"china\", \"a\", \"it\", \"world\", \"no\", \"for\", \"military\", \"army\", \"trump\", \"caption\", \"nancy\", \"house\", \"speech\", \"situation\", \"territorial\", \"u\", \"think\", \"an\", \"will\", \"mix\", \"current\", \"then\", \"political\", \"work\", \"after\", \"wang\", \"territory\", \"said\", \"speaker\", \"strait\", \"lost\", \"against\", \"soil\", \"analysis\", \"independence\", \"20\", \"part\", \"visit\", \"via\", \"need\", \"is\", \"china\", \"of\", \"no\", \"that\", \"it\", \"if\", \"to\", \"the\", \"i\", \"good\", \"s\", \"a\", \"on\", \"in\", \"and\", \"us\", \"new\", \"1\", \"billion\", \"4\", \"panda\", \"today\", \"got\", \"travel\", \"pink\", \"excursion\", \"check\", \"\\ud83d\\udc49\", \"\\ud83c\\uddec\\ud83c\\uddf7\", \"availability\", \"peace\", \"x\", \"king\", \"true\", \"weekend\", \"love\", \"summer\", \"feel\", \"positive\", \"pure\", \"losing\", \"enjoy\", \"semiconductor\", \"trip\", \"democracy\", \"music\", \"us\", \"\\u2026\", \"china\", \"on\", \"good\", \"that\", \"russia\", \"for\", \"too\", \"buy\", \"company\", \"equity\", \"training\", \"area\", \"describe\", \"each\", \"media\", \"role\", \"sura\", \"\\ud83c\\udde8\\ud83c\\uddf3\", \"top\", \"year\", \"follow\", \"live\", \"small\", \"regular\", \"day\", \"worldwar3\", \"isolated\", \"always\", \"closer\", \"commercial\", \"fly\", \"h\", \"tired\", \"translate\", \"use\", \"corrupt\", \"long\", \"our\", \"\\u2026\", \"exercise\", \"a\", \"war\", \"fire\", \"as\", \"the\", \"and\", \"of\", \"from\", \"in\", \"s\", \"for\", \"to\", \"at\", \"been\", \"must\", \"president\", \"00\", \"me\", \"why\", \"defend\", \"happen\", \"ready\", \"based\", \"li\", \"province\", \"welcome\", \"bump\", \"chart\", \"yesterday\", \"\\ud83c\\uddf3\\ud83c\\uddeb\", \"\\ud83d\\ude22\", \"anything\", \"cooling\", \"gang\", \"goes\", \"incoming\", \"m\", \"make\", \"resistance\", \"right\", \"sh\", \"sp500\", \"sure\", \"tonight\", \"we\", \"not\", \"be\", \"this\", \"down\", \"by\", \"to\", \"the\", \"in\", \"let\", \"is\", \"launch\", \"19\", \"covid\"], \"Freq\": [26.0, 25.0, 26.0, 24.0, 24.0, 23.0, 25.0, 24.0, 77.0, 83.0, 21.0, 17.0, 42.0, 9.0, 36.0, 22.0, 9.0, 36.0, 33.0, 12.0, 9.0, 7.0, 48.0, 4.0, 34.0, 11.0, 6.0, 7.0, 5.0, 7.0, 20.8844338351257, 6.801791628862083, 6.801790273555256, 5.4323313335064745, 5.284223403542626, 4.32160521014742, 3.7665067721257035, 3.753642538558405, 3.6451180385863817, 3.211805439004054, 3.2112748363816084, 3.210801156645862, 2.8055501848993822, 2.7891269156065617, 2.7659476111986376, 10.135994827337543, 2.2503282445431303, 2.2503058819804984, 2.250309778487624, 2.2503084231807975, 2.250298597206308, 2.2502958865926557, 2.2502857217914594, 2.2500066979986215, 2.24998331895587, 2.2498730308628905, 2.249650929956752, 2.2484521610690047, 2.2479242690602117, 2.2987960496072057, 5.295674390916935, 5.899202685411596, 3.3464131576724236, 49.21766380363144, 7.446990864687576, 21.74599831860144, 27.182868574668756, 6.650166677684323, 20.60409674997341, 4.976377316912858, 2.9532125577441275, 17.174126893507374, 8.54524680993904, 4.471800312623571, 17.77535048874413, 6.139606332584202, 5.891338517552744, 11.311780421926644, 7.446063157165063, 12.30042457230479, 6.764187285663172, 5.386588372816413, 4.0917522877898405, 4.472044606678987, 4.139586148085975, 7.05365015573638, 6.911462783645052, 6.319025107541759, 5.402912504466512, 4.696639611579436, 3.7442512857206873, 3.7291554119649377, 3.7198444651443117, 3.192957159792536, 3.1881030848492102, 5.955055507008273, 3.2659128194776454, 6.076782471877793, 2.23750001554078, 2.2374986672615336, 2.2374967796705887, 2.237489903446431, 2.237479926180007, 2.237450938176207, 2.23643811080622, 2.23643811080622, 2.23643811080622, 2.235369195019578, 2.2263388251101532, 2.209332978973782, 5.358438704552463, 1.685213151603415, 1.6851574676705336, 1.6850463694606204, 1.684621661497966, 5.818797327731446, 5.549362056911943, 7.299913899425171, 5.4030376247805885, 18.73426678402067, 33.51847015189768, 17.870058617442897, 6.503829968680526, 7.803845671981526, 6.511911554484174, 4.0252504779817535, 11.372456080946202, 19.25405108464592, 6.2626600239850925, 3.7921437824922153, 9.992510608729535, 7.519376008939915, 7.857699180957774, 11.387433845439956, 8.860601597754986, 4.8996095693507336, 25.866056910074512, 24.619458951608404, 23.611251251045292, 23.609987556444583, 23.104991937916385, 25.495659301574797, 23.105003907959965, 5.8268513437098095, 23.105007327972416, 4.446815186937723, 4.446815186937723, 4.446815186937723, 4.446815186937723, 4.446815186937723, 4.075736995960224, 3.5700509624184433, 3.5700509624184433, 3.063780747999847, 2.1858103278391927, 2.1858071215775197, 4.447766377900707, 1.6800479852695958, 1.6794714994207944, 1.6794618806357755, 1.4883455998422703, 1.1740590668751083, 1.173794870913255, 1.167666742977693, 2.051231127879191, 3.569948362044908, 6.529202628247128, 8.350320355856722, 29.29591557709746, 8.931260770875737, 2.650340572795855, 3.612055127842231, 2.185567934456716, 2.4644770036258, 2.967899049058828, 1.9543814380339308, 1.9543814380339308, 1.9543814380339308, 1.9543814380339308, 1.9543585991956938, 1.9543585991956938, 1.9543585991956938, 1.9543585991956938, 1.9543585991956938, 1.9543585991956938, 1.9543585991956938, 1.953125852264349, 1.9504779228624896, 1.7031096404177217, 3.886144996711669, 1.3689529471723016, 1.3232335829394168, 2.2516353841061125, 1.3010940809359346, 1.1218636149957593, 1.9532879254658138, 1.0312255529102308, 1.0312255529102308, 1.0312255529102308, 1.0312255529102308, 1.0312255529102308, 1.0312255529102308, 1.0312255529102308, 1.0312254841185493, 2.0021924821325783, 3.053159183864684, 7.3220341297507385, 1.953133419349307, 7.6279606431016385, 2.4962522744601405, 2.2953983129189393, 2.8509529154498012, 11.478560152514815, 6.685913048838444, 6.925270127229825, 3.057793541859708, 6.511904215477717, 4.334431767294825, 2.9707871990122645, 2.9982755294141716, 2.0476996928199127, 2.0021435024553953, 3.697189426741195, 2.6890367818956102, 2.2929621894982035, 2.003866159204036, 2.002852057565859, 1.3170024079811489, 1.3170024079811489, 1.3170024079811489, 2.0331530896394105, 2.0331530896394105, 1.210628737011503, 1.210628737011503, 1.209955659867222, 1.209955659867222, 1.209955659867222, 1.209955659867222, 1.209955659867222, 1.2094235823267594, 1.2094235823267594, 1.2094235823267594, 1.2094235823267594, 1.2094235823267594, 1.2094235823267594, 1.2094235823267594, 1.2094235823267594, 1.2094235823267594, 1.2094235823267594, 1.2094235823267594, 1.2094235823267594, 1.2094235823267594, 4.701566342075296, 4.125411551047284, 3.4320055315357894, 3.8952964199979143, 1.5420800849999394, 2.6021600601620154, 2.936528012815363, 2.6865495979932983, 2.017950631350726, 1.3170012746956528, 1.309995020436812, 1.2106304369397471, 1.209955659867222, 1.209955659867222], \"Total\": [26.0, 25.0, 26.0, 24.0, 24.0, 23.0, 25.0, 24.0, 77.0, 83.0, 21.0, 17.0, 42.0, 9.0, 36.0, 22.0, 9.0, 36.0, 33.0, 12.0, 9.0, 7.0, 48.0, 4.0, 34.0, 11.0, 6.0, 7.0, 5.0, 7.0, 21.474762122413104, 7.376013994039124, 7.376014565078657, 6.007548760498748, 5.858702656523492, 4.896734859561876, 4.341164909078346, 4.341155693094344, 4.293376043381829, 3.7859519866418005, 3.785936624878961, 3.785812920705176, 3.379545752653669, 3.379161226639099, 3.3789108467153763, 12.438632866070655, 2.824112139509288, 2.824107587683674, 2.824116772535794, 2.8241168666291574, 2.8241168830931676, 2.8241165825286685, 2.8241165047138, 2.8241093696855537, 2.8241093495807483, 2.824100313821576, 2.8240937702397684, 2.823918815592632, 2.8240529815895745, 2.9641308853958264, 6.878504236702303, 7.9050759410908675, 4.3320021104778315, 83.14057350246213, 10.679540509561331, 36.38840513999742, 48.00191536995119, 9.71788843446036, 36.44390468692381, 7.184587122299059, 3.9262022268448544, 34.64556632519076, 15.219522076569003, 6.715084902090649, 42.86341125529147, 10.4080365900128, 10.065727580529146, 33.11935094724235, 24.470643421335726, 77.94398745282581, 22.650529213180715, 13.475015326696523, 7.183243665898032, 11.375503902405052, 13.366646152622698, 7.633486923746191, 7.48633667666965, 6.933909318879409, 5.97770554961652, 5.277312826052381, 4.320928293769284, 4.316136028151248, 4.320740486538238, 3.768349228049457, 3.7686528971093978, 7.085206283067696, 3.9167107375888905, 7.574441236743332, 2.812299964928311, 2.8122994218264026, 2.812298897982557, 2.8122956276535804, 2.812296460733655, 2.8122977029847873, 2.8122873942557307, 2.8122874154324, 2.8122874162141147, 2.812279380785182, 2.8121615203062067, 2.801254516495023, 6.92962470862582, 2.260005578112694, 2.259995151867334, 2.260005985772909, 2.25999542211175, 8.194709841030235, 8.045068968404449, 10.932108470836013, 8.050319814348445, 33.11935094724235, 77.94398745282581, 42.86341125529147, 11.375503902405052, 15.323810117270016, 13.475015326696523, 6.6880755286297005, 34.64556632519076, 83.14057350246213, 15.219522076569003, 6.856111453646744, 36.38840513999742, 22.650529213180715, 24.470643421335726, 48.00191536995119, 36.44390468692381, 11.877736385890449, 26.46113030791123, 25.21380704617664, 24.200931432566648, 24.20102674748917, 23.69466145421496, 26.487352489176462, 24.778924635804128, 6.419578444952283, 25.76726806264771, 5.036320360988132, 5.0363203828900565, 5.036320500447269, 5.0363205173007595, 5.0363205283331665, 4.665873985820243, 4.159556718873494, 4.159556773079287, 3.6532862149463967, 2.77660842343699, 2.7766089418874556, 5.960022066483165, 2.270295508659726, 2.270341788994792, 2.270342772897685, 2.1155454680336594, 1.7639979943130353, 1.76401482339574, 1.7644967973967072, 3.1960086176065023, 5.687923336277757, 11.877736385890449, 17.13819751699776, 77.94398745282581, 24.470643421335726, 6.856111453646744, 15.323810117270016, 4.376471741401897, 13.366646152622698, 3.6117139020453997, 2.597753516883994, 2.597753516883994, 2.597753516883994, 2.597753516883994, 2.5977673482194943, 2.5977673482194943, 2.5977673482194943, 2.5977673482194943, 2.5977673482194943, 2.5977673482194943, 2.5977673482194943, 2.5985191635468374, 2.5996444225569646, 2.3525857962856422, 5.648040337120315, 2.0126702079550514, 2.0411935082329147, 3.5136179157578606, 2.0464815754696746, 1.7652358752725779, 3.105462906379652, 1.6745975579750414, 1.6745975579750414, 1.6745975579750414, 1.6745975579750414, 1.6745975579750414, 1.6745975579750414, 1.6745975579750414, 1.6745975060368508, 3.2677050868483732, 5.0693094285367835, 17.13819751699776, 3.70927212222382, 22.650529213180715, 6.220494159623327, 5.561688834278117, 7.959180770206004, 83.14057350246213, 36.44390468692381, 42.86341125529147, 10.065727580529146, 48.00191536995119, 36.38840513999742, 13.366646152622698, 34.64556632519076, 10.4080365900128, 4.933653054669658, 4.321907573344182, 3.3164223475325265, 2.9194196703790567, 2.6287139373630355, 2.6290964045432883, 1.9416163294572728, 1.9416163329513396, 1.9416163389781995, 3.021261961783857, 3.021261961783857, 1.8351909128651258, 1.8351909128651258, 1.8354456767860845, 1.8354456767860845, 1.8354456767860845, 1.8354456767860845, 1.8354456767860845, 1.8356218091617713, 1.8356218091617713, 1.8356218091617713, 1.8356218091617713, 1.8356218091617713, 1.8356218091617713, 1.8356218091617713, 1.8356218091617713, 1.8356218091617713, 1.8356218091617713, 1.8356218091617713, 1.8356218091617713, 1.8356218091617713, 9.728343185241108, 9.24753404438543, 7.451270286852369, 12.17707733423611, 2.8133183372723085, 9.71788843446036, 34.64556632519076, 83.14057350246213, 48.00191536995119, 5.081360198929298, 33.11935094724235, 2.7582828297641484, 2.758539981290801, 2.758539981290801], \"Category\": [\"Default\", \"Default\", \"Default\", \"Default\", \"Default\", \"Default\", \"Default\", \"Default\", \"Default\", \"Default\", \"Default\", \"Default\", \"Default\", \"Default\", \"Default\", \"Default\", \"Default\", \"Default\", \"Default\", \"Default\", \"Default\", \"Default\", \"Default\", \"Default\", \"Default\", \"Default\", \"Default\", \"Default\", \"Default\", \"Default\", \"Topic1\", \"Topic1\", \"Topic1\", \"Topic1\", \"Topic1\", \"Topic1\", \"Topic1\", \"Topic1\", \"Topic1\", \"Topic1\", \"Topic1\", \"Topic1\", \"Topic1\", \"Topic1\", \"Topic1\", \"Topic1\", \"Topic1\", \"Topic1\", \"Topic1\", \"Topic1\", \"Topic1\", \"Topic1\", \"Topic1\", \"Topic1\", \"Topic1\", \"Topic1\", \"Topic1\", \"Topic1\", \"Topic1\", \"Topic1\", \"Topic1\", \"Topic1\", \"Topic1\", \"Topic1\", \"Topic1\", \"Topic1\", \"Topic1\", \"Topic1\", \"Topic1\", \"Topic1\", \"Topic1\", \"Topic1\", \"Topic1\", \"Topic1\", \"Topic1\", \"Topic1\", \"Topic1\", \"Topic1\", \"Topic1\", \"Topic1\", \"Topic1\", \"Topic1\", \"Topic1\", \"Topic1\", \"Topic1\", \"Topic2\", \"Topic2\", \"Topic2\", \"Topic2\", \"Topic2\", \"Topic2\", \"Topic2\", \"Topic2\", \"Topic2\", \"Topic2\", \"Topic2\", \"Topic2\", \"Topic2\", \"Topic2\", \"Topic2\", \"Topic2\", \"Topic2\", \"Topic2\", \"Topic2\", \"Topic2\", \"Topic2\", \"Topic2\", \"Topic2\", \"Topic2\", \"Topic2\", \"Topic2\", \"Topic2\", \"Topic2\", \"Topic2\", \"Topic2\", \"Topic2\", \"Topic2\", \"Topic2\", \"Topic2\", \"Topic2\", \"Topic2\", \"Topic2\", \"Topic2\", \"Topic2\", \"Topic2\", \"Topic2\", \"Topic2\", \"Topic2\", \"Topic2\", \"Topic2\", \"Topic2\", \"Topic2\", \"Topic2\", \"Topic2\", \"Topic2\", \"Topic2\", \"Topic3\", \"Topic3\", \"Topic3\", \"Topic3\", \"Topic3\", \"Topic3\", \"Topic3\", \"Topic3\", \"Topic3\", \"Topic3\", \"Topic3\", \"Topic3\", \"Topic3\", \"Topic3\", \"Topic3\", \"Topic3\", \"Topic3\", \"Topic3\", \"Topic3\", \"Topic3\", \"Topic3\", \"Topic3\", \"Topic3\", \"Topic3\", \"Topic3\", \"Topic3\", \"Topic3\", \"Topic3\", \"Topic3\", \"Topic3\", \"Topic3\", \"Topic3\", \"Topic3\", \"Topic3\", \"Topic3\", \"Topic3\", \"Topic3\", \"Topic3\", \"Topic4\", \"Topic4\", \"Topic4\", \"Topic4\", \"Topic4\", \"Topic4\", \"Topic4\", \"Topic4\", \"Topic4\", \"Topic4\", \"Topic4\", \"Topic4\", \"Topic4\", \"Topic4\", \"Topic4\", \"Topic4\", \"Topic4\", \"Topic4\", \"Topic4\", \"Topic4\", \"Topic4\", \"Topic4\", \"Topic4\", \"Topic4\", \"Topic4\", \"Topic4\", \"Topic4\", \"Topic4\", \"Topic4\", \"Topic4\", \"Topic4\", \"Topic4\", \"Topic4\", \"Topic4\", \"Topic4\", \"Topic4\", \"Topic4\", \"Topic4\", \"Topic4\", \"Topic4\", \"Topic4\", \"Topic4\", \"Topic4\", \"Topic4\", \"Topic4\", \"Topic4\", \"Topic4\", \"Topic4\", \"Topic5\", \"Topic5\", \"Topic5\", \"Topic5\", \"Topic5\", \"Topic5\", \"Topic5\", \"Topic5\", \"Topic5\", \"Topic5\", \"Topic5\", \"Topic5\", \"Topic5\", \"Topic5\", \"Topic5\", \"Topic5\", \"Topic5\", \"Topic5\", \"Topic5\", \"Topic5\", \"Topic5\", \"Topic5\", \"Topic5\", \"Topic5\", \"Topic5\", \"Topic5\", \"Topic5\", \"Topic5\", \"Topic5\", \"Topic5\", \"Topic5\", \"Topic5\", \"Topic5\", \"Topic5\", \"Topic5\", \"Topic5\", \"Topic5\", \"Topic5\", \"Topic5\", \"Topic5\", \"Topic5\", \"Topic5\", \"Topic5\", \"Topic5\"], \"logprob\": [30.0, 29.0, 28.0, 27.0, 26.0, 25.0, 24.0, 23.0, 22.0, 21.0, 20.0, 19.0, 18.0, 17.0, 16.0, 15.0, 14.0, 13.0, 12.0, 11.0, 10.0, 9.0, 8.0, 7.0, 6.0, 5.0, 4.0, 3.0, 2.0, 1.0, -3.5508, -4.6726, -4.6726, -4.8974, -4.9251, -5.1262, -5.2636, -5.2671, -5.2964, -5.423, -5.4231, -5.4233, -5.5582, -5.5641, -5.5724, -4.2737, -5.7787, -5.7787, -5.7787, -5.7787, -5.7787, -5.7787, -5.7787, -5.7789, -5.7789, -5.7789, -5.779, -5.7795, -5.7798, -5.7574, -4.9229, -4.815, -5.3819, -2.6935, -4.582, -3.5104, -3.2872, -4.6951, -3.5643, -4.9851, -5.5069, -3.7464, -4.4444, -5.092, -3.712, -4.775, -4.8163, -4.1639, -4.5821, -4.0802, -4.6781, -4.9059, -5.1808, -5.0919, -5.1692, -4.4079, -4.4283, -4.5179, -4.6745, -4.8146, -5.0412, -5.0453, -5.0478, -5.2005, -5.202, -4.5772, -5.1779, -4.557, -5.5561, -5.5561, -5.5561, -5.5561, -5.5561, -5.5561, -5.5566, -5.5566, -5.5566, -5.557, -5.5611, -5.5688, -4.6828, -5.8396, -5.8396, -5.8397, -5.8399, -4.6003, -4.6478, -4.3736, -4.6745, -3.4311, -2.8493, -3.4783, -4.4891, -4.3068, -4.4878, -4.9689, -3.9302, -3.4037, -4.5268, -5.0285, -4.0596, -4.344, -4.2999, -3.9289, -4.1798, -4.7723, -2.8762, -2.9256, -2.9674, -2.9674, -2.9891, -2.8906, -2.9891, -4.3666, -2.9891, -4.6369, -4.6369, -4.6369, -4.6369, -4.6369, -4.7241, -4.8565, -4.8565, -5.0095, -5.3471, -5.3471, -4.6367, -5.6103, -5.6106, -5.6106, -5.7314, -5.9686, -5.9689, -5.9741, -5.4107, -4.8566, -4.2528, -4.0068, -2.7517, -3.9395, -5.1544, -4.8448, -5.3472, -5.2271, -4.6007, -5.0185, -5.0185, -5.0185, -5.0185, -5.0185, -5.0185, -5.0185, -5.0185, -5.0185, -5.0185, -5.0185, -5.0191, -5.0205, -5.1561, -4.3311, -5.3745, -5.4084, -4.8769, -5.4253, -5.5735, -5.019, -5.6578, -5.6578, -5.6578, -5.6578, -5.6578, -5.6578, -5.6578, -5.6578, -4.9943, -4.5723, -3.6976, -5.0191, -3.6567, -4.7737, -4.8576, -4.6409, -3.248, -3.7885, -3.7533, -4.5708, -3.8149, -4.2219, -4.5997, -4.5905, -4.9718, -4.9943, -4.0047, -4.3231, -4.4824, -4.6172, -4.6177, -5.0369, -5.0369, -5.0369, -4.6027, -4.6027, -5.1211, -5.1211, -5.1217, -5.1217, -5.1217, -5.1217, -5.1217, -5.1221, -5.1221, -5.1221, -5.1221, -5.1221, -5.1221, -5.1221, -5.1221, -5.1221, -5.1221, -5.1221, -5.1221, -5.1221, -3.7644, -3.8951, -4.0791, -3.9525, -4.8791, -4.3559, -4.235, -4.324, -4.6102, -5.0369, -5.0422, -5.1211, -5.1217, -5.1217], \"loglift\": [30.0, 29.0, 28.0, 27.0, 26.0, 25.0, 24.0, 23.0, 22.0, 21.0, 20.0, 19.0, 18.0, 17.0, 16.0, 15.0, 14.0, 13.0, 12.0, 11.0, 10.0, 9.0, 8.0, 7.0, 6.0, 5.0, 4.0, 3.0, 2.0, 1.0, 1.1072, 1.0541, 1.0541, 1.0345, 1.0319, 1.0102, 0.9931, 0.9897, 0.9714, 0.9706, 0.9705, 0.9704, 0.949, 0.9432, 0.9349, 0.9304, 0.908, 0.908, 0.908, 0.908, 0.908, 0.908, 0.908, 0.9078, 0.9078, 0.9078, 0.9077, 0.9072, 0.9069, 0.8809, 0.8736, 0.8424, 0.877, 0.6108, 0.7746, 0.6203, 0.5664, 0.7558, 0.5648, 0.7679, 0.8503, 0.4333, 0.5579, 0.7285, 0.2549, 0.6073, 0.5994, 0.0608, -0.0547, -0.7113, -0.0734, 0.2182, 0.5723, 0.2015, -0.0371, 1.2844, 1.2835, 1.2706, 1.2623, 1.2469, 1.2202, 1.2173, 1.2137, 1.1978, 1.1962, 1.1897, 1.1817, 1.1431, 1.1348, 1.1348, 1.1348, 1.1348, 1.1348, 1.1348, 1.1343, 1.1343, 1.1343, 1.1339, 1.1299, 1.1261, 1.1063, 1.07, 1.0699, 1.0699, 1.0696, 1.021, 0.9921, 0.9596, 0.9647, 0.7937, 0.5196, 0.4886, 0.8044, 0.6887, 0.6362, 0.8557, 0.2495, -0.0994, 0.4755, 0.7712, 0.071, 0.2607, 0.2275, -0.0753, -0.0507, 0.4779, 1.573, 1.5719, 1.5711, 1.5711, 1.5706, 1.5576, 1.5258, 1.4989, 1.4867, 1.4713, 1.4713, 1.4713, 1.4713, 1.4713, 1.4606, 1.443, 1.443, 1.4198, 1.3565, 1.3565, 1.3031, 1.2947, 1.2943, 1.2943, 1.2441, 1.1887, 1.1884, 1.1829, 1.1523, 1.13, 0.9974, 0.8768, 0.6172, 0.5879, 0.6453, 0.1507, 0.9014, -0.095, 1.84, 1.7518, 1.7518, 1.7518, 1.7518, 1.7518, 1.7518, 1.7518, 1.7518, 1.7518, 1.7518, 1.7518, 1.7509, 1.7491, 1.7133, 1.6625, 1.6509, 1.6029, 1.5914, 1.5834, 1.5831, 1.5727, 1.5515, 1.5515, 1.5515, 1.5515, 1.5515, 1.5515, 1.5515, 1.5515, 1.5465, 1.5293, 1.1859, 1.395, 0.948, 1.1233, 1.1514, 1.0097, 0.0563, 0.3406, 0.2135, 0.8449, 0.0388, -0.0913, 0.5324, -0.4108, 0.4105, 1.1345, 2.2565, 2.2029, 2.1711, 2.1412, 2.1406, 2.0245, 2.0245, 2.0245, 2.0165, 2.0165, 1.9966, 1.9966, 1.9959, 1.9959, 1.9959, 1.9959, 1.9959, 1.9954, 1.9954, 1.9954, 1.9954, 1.9954, 1.9954, 1.9954, 1.9954, 1.9954, 1.9954, 1.9954, 1.9954, 1.9954, 1.6855, 1.6054, 1.6374, 1.2728, 1.8114, 1.095, -0.0553, -1.0197, -0.7565, 1.0624, -0.8175, 1.5892, 1.5885, 1.5885]}, \"token.table\": {\"Topic\": [5, 3, 4, 5, 1, 2, 3, 1, 2, 4, 5, 2, 1, 2, 5, 1, 3, 4, 2, 2, 1, 2, 4, 5, 1, 2, 4, 4, 2, 1, 2, 4, 1, 2, 4, 3, 2, 5, 1, 2, 5, 1, 2, 4, 3, 5, 1, 2, 4, 1, 5, 2, 5, 3, 1, 2, 3, 4, 5, 4, 4, 4, 1, 5, 4, 4, 5, 2, 1, 2, 4, 5, 1, 3, 4, 1, 4, 1, 5, 4, 3, 4, 1, 3, 1, 4, 3, 1, 1, 4, 4, 4, 1, 2, 3, 4, 5, 1, 1, 2, 4, 5, 5, 2, 3, 3, 5, 4, 5, 1, 1, 2, 1, 1, 2, 1, 2, 1, 2, 3, 4, 5, 5, 2, 1, 2, 4, 5, 4, 1, 2, 3, 3, 4, 5, 1, 2, 3, 5, 2, 5, 1, 4, 2, 4, 3, 2, 3, 5, 5, 5, 1, 4, 2, 1, 1, 2, 2, 3, 5, 2, 1, 2, 3, 1, 2, 1, 2, 5, 1, 2, 4, 1, 2, 3, 1, 2, 4, 1, 3, 1, 2, 3, 1, 3, 1, 2, 3, 5, 5, 3, 5, 4, 5, 5, 1, 2, 4, 3, 4, 1, 2, 4, 2, 1, 3, 5, 1, 5, 2, 4, 1, 2, 5, 2, 2, 2, 3, 4, 4, 5, 1, 2, 2, 2, 1, 2, 3, 1, 2, 3, 4, 5, 2, 1, 5, 1, 2, 1, 2, 4, 5, 1, 4, 1, 2, 4, 5, 3, 5, 5, 4, 4, 1, 4, 4, 3, 3, 3, 2, 2, 2, 3, 4, 1, 1, 2, 4, 1, 2, 1, 2, 1, 4, 5, 1, 1, 2, 5, 3, 5, 1, 1, 1, 5, 1, 2, 1, 3, 4, 2, 1, 2, 4, 5, 4, 3, 4, 5, 1, 1, 1, 1, 2, 3, 4, 5, 4, 3, 5, 3, 5], \"Freq\": [0.6850676592654185, 0.9915202394551099, 0.3625106058938, 0.3625106058938, 0.792406291295463, 0.8849575447950204, 0.9916934620342078, 0.3090435518798645, 0.35319263071984514, 0.35319263071984514, 0.04414907883998064, 0.7111622634678156, 0.14430795923987422, 0.721539796199371, 0.14430795923987422, 0.708202010740698, 0.3220131845547625, 0.644026369109525, 0.7659488282371311, 0.8849576506159709, 0.5762280463743741, 0.2469548770175889, 0.1920760154581247, 0.5447745254544811, 0.5956737790098015, 0.14891844475245036, 0.14891844475245036, 0.7698918848028469, 0.9350367612793498, 0.1256410714709923, 0.5025642858839692, 0.3769232144129769, 0.5764776044078666, 0.19215920146928886, 0.19215920146928886, 0.7942306248176484, 0.3309875186756615, 0.661975037351323, 0.2684106096015553, 0.2684106096015553, 0.4026159144023329, 0.4053791334408929, 0.20268956672044644, 0.4053791334408929, 0.9916973678006352, 0.5448268029109025, 0.7590059911773631, 0.253001997059121, 0.7698959839727214, 0.7203210910692776, 0.3087090390296904, 0.8364413333006606, 0.5448268029109025, 0.7942306477541107, 0.15395671163555474, 0.4362106829674051, 0.3720620531192573, 0.025659451939259125, 0.012829725969629563, 0.5971584009767822, 0.5971584009767822, 0.7698959839727214, 0.7081860615715915, 0.5447745254544811, 0.5971584194978458, 0.3625106058938, 0.3625106058938, 0.711161828814491, 0.7081917821128857, 0.2846069276671216, 0.5692138553342432, 0.515034811372607, 0.31289027022364607, 0.6257805404472921, 0.7698918848028469, 0.7269022200089686, 0.14538044400179373, 0.3554521316523191, 0.7109042633046382, 0.7698918848028469, 0.5668940686009318, 0.7698959839727214, 0.8878600638179862, 0.7942306512080569, 0.26959467169005386, 0.5391893433801077, 0.8809425875932356, 0.8876932639969013, 0.5394045027312979, 0.3596030018208653, 0.5971584009767822, 0.8501284004849817, 0.2992523295916793, 0.2244392471937595, 0.14962616479583965, 0.2244392471937595, 0.07481308239791983, 0.9214136241100418, 0.5960820965993783, 0.09934701609989638, 0.29804104829968914, 0.5447745254544811, 0.5447745254544811, 0.5834210874551073, 0.4375658155913305, 0.9282081582655253, 0.04035687644632718, 0.5971584009767822, 0.5150348104457678, 0.8534312616860062, 0.7081871757215406, 0.9257270030997603, 0.6747340375062157, 0.5913457699079672, 0.3942305132719781, 0.29903968509903683, 0.5980793701980737, 0.5624775551540133, 0.22915752247015356, 0.020832502042741233, 0.14582751429918864, 0.04166500408548247, 0.5447745254544811, 0.8849534083494967, 0.33213211265892584, 0.5736827400472356, 0.06038765684707743, 0.030193828423538713, 0.5664965311480459, 0.3710570918679451, 0.5194799286151232, 0.07421141837358902, 0.9616409195056692, 0.36254440233944635, 0.36254440233944635, 0.19679769999590105, 0.19679769999590105, 0.3935953999918021, 0.19679769999590105, 0.3309875186756615, 0.661975037351323, 0.17705255988130136, 0.7082102395252055, 0.3060251685578141, 0.6120503371156282, 0.4726913295460731, 0.7139658278900105, 0.7203030897971754, 0.5447745254544811, 0.5447745254544811, 0.7608283166810753, 0.7081878702957907, 0.7698918848028469, 0.9170121164712361, 0.7081860810847401, 0.708190141197073, 0.711161691477311, 0.3516221794418247, 0.7032443588836494, 0.9255172472151925, 0.9474518878844215, 0.24843733492864603, 0.6210933373216151, 0.9825732951485688, 0.3516327746284984, 0.6153573555998723, 0.32441080893575375, 0.21627387262383582, 0.43254774524767164, 0.41993857868178674, 0.41993857868178674, 0.1633094472651393, 0.2860570471921782, 0.3269223396482037, 0.36778763210422916, 0.19726552779964, 0.19726552779964, 0.5917965833989199, 0.9316677504095958, 0.9706827862657059, 0.24405989214970922, 0.7321796764491276, 0.8572884763189367, 0.07761785204148998, 0.8926052984771348, 0.887794277571002, 0.7111627882694133, 0.8809246298045338, 0.9045892487825171, 0.5449024365747245, 0.880924248036502, 0.5150348088470778, 0.4899094554076413, 0.5447745254544811, 0.5447745254544811, 0.6959342151313499, 0.27837368605254, 0.7698918848028469, 0.4569891268986804, 0.4569891268986804, 0.6045881899841231, 0.2748128136291469, 0.10992512545165875, 0.7111648647535423, 0.7081859903294949, 0.566888660308984, 0.5447745254544811, 0.6925204382389121, 0.23084014607963738, 0.9257672411621245, 0.4968523884576389, 0.7081883171598271, 0.8849535679775525, 0.5447745254544811, 0.7111668967403959, 0.9267548506142287, 0.7111967024505146, 0.6711384547541253, 0.16778461368853131, 0.7698918848028469, 0.5447745254544811, 0.6554589117137521, 0.2809109621630366, 0.7961045589059792, 0.7111648649512206, 0.2610316865967935, 0.522063373193587, 0.2610316865967935, 0.5893632667634763, 0.2285286136429806, 0.01202782177068319, 0.1323060394775151, 0.03608346531204957, 0.7111619612818284, 0.7640971673562617, 0.25469905578542057, 0.14113915107733857, 0.8468349064640315, 0.3284860472023049, 0.3284860472023049, 0.08212151180057622, 0.3284860472023049, 0.7081859862009189, 0.5971584009767822, 0.49068327648145027, 0.3175009436056443, 0.08659116643790299, 0.08659116643790299, 0.9438466909901909, 0.037753867639607634, 0.5447745254544811, 0.8306305763313724, 0.7696691361975982, 0.7081860139246955, 0.7698959839727214, 0.5971584009767822, 0.9346408103662637, 0.5667338141250096, 0.8211784742532191, 0.8653127296694532, 0.7960404106998117, 0.42095562972246925, 0.589337881611457, 0.5971584009767822, 0.8168708567483866, 0.18294732487657558, 0.6403156370680145, 0.09147366243828779, 0.24859948470978158, 0.7457984541293448, 0.7924030760519621, 0.7111648703063288, 0.32151786476737193, 0.32151786476737193, 0.16075893238368597, 0.9214116680145245, 0.41116970524522706, 0.10279242631130676, 0.5139621315565338, 0.7203032242927236, 0.5449024365747245, 0.7924321837438274, 0.7082356578230018, 0.7081878753373728, 0.7607176353608945, 0.13202293987694264, 0.7921376392616559, 0.803946873235353, 0.08039468732353529, 0.08039468732353529, 0.7111625776033057, 0.5568514985771306, 0.13921287464428264, 0.13921287464428264, 0.13921287464428264, 0.4886435392268296, 0.9616409320374153, 0.7693359840469395, 0.5448268029109025, 0.8322862117868018, 0.9778920893415812, 0.9490219871773466, 0.9490220606491532, 0.0583491933155861, 0.4667935465246888, 0.4084443532091027, 0.0583491933155861, 0.7698918848028469, 0.7942306265574653, 0.5448268029109025, 0.7942306292152703, 0.5448268029109025], \"Term\": [\"00\", \"1\", \"19\", \"19\", \"2\", \"20\", \"4\", \"a\", \"a\", \"a\", \"a\", \"after\", \"against\", \"against\", \"against\", \"air\", \"always\", \"always\", \"an\", \"analysis\", \"and\", \"and\", \"and\", \"anything\", \"are\", \"are\", \"are\", \"area\", \"army\", \"as\", \"as\", \"as\", \"at\", \"at\", \"at\", \"availability\", \"based\", \"based\", \"be\", \"be\", \"be\", \"been\", \"been\", \"been\", \"billion\", \"bump\", \"but\", \"but\", \"buy\", \"by\", \"by\", \"caption\", \"chart\", \"check\", \"china\", \"china\", \"china\", \"china\", \"china\", \"closer\", \"commercial\", \"company\", \"control\", \"cooling\", \"corrupt\", \"covid\", \"covid\", \"current\", \"dangerous\", \"day\", \"day\", \"defend\", \"democracy\", \"democracy\", \"describe\", \"don\", \"don\", \"down\", \"down\", \"each\", \"enjoy\", \"equity\", \"everything\", \"excursion\", \"exercise\", \"exercise\", \"feel\", \"find\", \"fire\", \"fire\", \"fly\", \"follow\", \"for\", \"for\", \"for\", \"for\", \"for\", \"foreign\", \"from\", \"from\", \"from\", \"gang\", \"goes\", \"good\", \"good\", \"got\", \"got\", \"h\", \"happen\", \"he\", \"here\", \"house\", \"how\", \"i\", \"i\", \"if\", \"if\", \"in\", \"in\", \"in\", \"in\", \"in\", \"incoming\", \"independence\", \"is\", \"is\", \"is\", \"is\", \"isolated\", \"it\", \"it\", \"it\", \"king\", \"launch\", \"launch\", \"let\", \"let\", \"let\", \"let\", \"li\", \"li\", \"live\", \"live\", \"long\", \"long\", \"losing\", \"lost\", \"love\", \"m\", \"make\", \"me\", \"mean\", \"media\", \"military\", \"mindlessly\", \"ministry\", \"mix\", \"music\", \"music\", \"must\", \"nancy\", \"need\", \"need\", \"new\", \"no\", \"no\", \"not\", \"not\", \"not\", \"of\", \"of\", \"of\", \"on\", \"on\", \"on\", \"our\", \"our\", \"our\", \"out\", \"panda\", \"part\", \"part\", \"peace\", \"pink\", \"pink\", \"policy\", \"political\", \"positive\", \"president\", \"province\", \"pure\", \"ready\", \"regular\", \"resistance\", \"right\", \"roc\", \"roc\", \"role\", \"russia\", \"russia\", \"s\", \"s\", \"s\", \"said\", \"sang\", \"semiconductor\", \"sh\", \"since\", \"since\", \"situation\", \"small\", \"so\", \"soil\", \"sp500\", \"speaker\", \"speech\", \"strait\", \"summer\", \"summer\", \"sura\", \"sure\", \"t\", \"t\", \"territorial\", \"territory\", \"that\", \"that\", \"that\", \"the\", \"the\", \"the\", \"the\", \"the\", \"then\", \"they\", \"they\", \"think\", \"think\", \"this\", \"this\", \"this\", \"this\", \"thought\", \"tired\", \"to\", \"to\", \"to\", \"to\", \"today\", \"today\", \"tonight\", \"too\", \"top\", \"totalitarianism\", \"training\", \"translate\", \"travel\", \"trip\", \"true\", \"trump\", \"u\", \"us\", \"us\", \"use\", \"very\", \"via\", \"via\", \"via\", \"visit\", \"visit\", \"wall\", \"wang\", \"war\", \"war\", \"war\", \"watch\", \"we\", \"we\", \"we\", \"weekend\", \"welcome\", \"what\", \"when\", \"who\", \"why\", \"will\", \"will\", \"with\", \"with\", \"with\", \"work\", \"world\", \"world\", \"world\", \"world\", \"worldwar3\", \"x\", \"year\", \"yesterday\", \"\\u2018\", \"\\u2019\", \"\\u201c\", \"\\u201d\", \"\\u2026\", \"\\u2026\", \"\\u2026\", \"\\u2026\", \"\\ud83c\\udde8\\ud83c\\uddf3\", \"\\ud83c\\uddec\\ud83c\\uddf7\", \"\\ud83c\\uddf3\\ud83c\\uddeb\", \"\\ud83d\\udc49\", \"\\ud83d\\ude22\"]}, \"R\": 30, \"lambda.step\": 0.01, \"plot.opts\": {\"xlab\": \"PC1\", \"ylab\": \"PC2\"}, \"topic.order\": [1, 3, 2, 4, 5]};\n",
       "\n",
       "function LDAvis_load_lib(url, callback){\n",
       "  var s = document.createElement('script');\n",
       "  s.src = url;\n",
       "  s.async = true;\n",
       "  s.onreadystatechange = s.onload = callback;\n",
       "  s.onerror = function(){console.warn(\"failed to load library \" + url);};\n",
       "  document.getElementsByTagName(\"head\")[0].appendChild(s);\n",
       "}\n",
       "\n",
       "if(typeof(LDAvis) !== \"undefined\"){\n",
       "   // already loaded: just create the visualization\n",
       "   !function(LDAvis){\n",
       "       new LDAvis(\"#\" + \"ldavis_el394422095624048967327351432\", ldavis_el394422095624048967327351432_data);\n",
       "   }(LDAvis);\n",
       "}else if(typeof define === \"function\" && define.amd){\n",
       "   // require.js is available: use it to load d3/LDAvis\n",
       "   require.config({paths: {d3: \"https://d3js.org/d3.v5\"}});\n",
       "   require([\"d3\"], function(d3){\n",
       "      window.d3 = d3;\n",
       "      LDAvis_load_lib(\"https://cdn.jsdelivr.net/gh/bmabey/pyLDAvis@3.3.1/pyLDAvis/js/ldavis.v3.0.0.js\", function(){\n",
       "        new LDAvis(\"#\" + \"ldavis_el394422095624048967327351432\", ldavis_el394422095624048967327351432_data);\n",
       "      });\n",
       "    });\n",
       "}else{\n",
       "    // require.js not available: dynamically load d3 & LDAvis\n",
       "    LDAvis_load_lib(\"https://d3js.org/d3.v5.js\", function(){\n",
       "         LDAvis_load_lib(\"https://cdn.jsdelivr.net/gh/bmabey/pyLDAvis@3.3.1/pyLDAvis/js/ldavis.v3.0.0.js\", function(){\n",
       "                 new LDAvis(\"#\" + \"ldavis_el394422095624048967327351432\", ldavis_el394422095624048967327351432_data);\n",
       "            })\n",
       "         });\n",
       "}\n",
       "</script>"
      ],
      "text/plain": [
       "PreparedData(topic_coordinates=              x         y  topics  cluster       Freq\n",
       "topic                                                \n",
       "0     -0.113238  0.073699       1        1  32.138905\n",
       "2     -0.051406  0.114796       2        1  25.577806\n",
       "1      0.271328  0.018698       3        1  20.275013\n",
       "3     -0.088853 -0.077143       4        1  13.050266\n",
       "4     -0.017832 -0.130050       5        1   8.958010, topic_info=        Term       Freq      Total Category  logprob  loglift\n",
       "161      new  26.000000  26.000000  Default  30.0000  30.0000\n",
       "45         1  25.000000  25.000000  Default  29.0000  29.0000\n",
       "93     today  26.000000  26.000000  Default  28.0000  28.0000\n",
       "159  billion  24.000000  24.000000  Default  27.0000  27.0000\n",
       "113        4  24.000000  24.000000  Default  26.0000  26.0000\n",
       "..       ...        ...        ...      ...      ...      ...\n",
       "3        let   1.317001   5.081360   Topic5  -5.0369   1.0624\n",
       "12        is   1.309995  33.119351   Topic5  -5.0422  -0.8175\n",
       "565   launch   1.210630   2.758283   Topic5  -5.1211   1.5892\n",
       "523       19   1.209956   2.758540   Topic5  -5.1217   1.5885\n",
       "526    covid   1.209956   2.758540   Topic5  -5.1217   1.5885\n",
       "\n",
       "[266 rows x 6 columns], token_table=      Topic      Freq Term\n",
       "term                      \n",
       "530       5  0.685068   00\n",
       "45        3  0.991520    1\n",
       "523       4  0.362511   19\n",
       "523       5  0.362511   19\n",
       "551       1  0.792406    2\n",
       "...     ...       ...  ...\n",
       "587       4  0.769892   🇨🇳\n",
       "34        3  0.794231   🇬🇷\n",
       "623       5  0.544827   🇳🇫\n",
       "35        3  0.794231    👉\n",
       "624       5  0.544827    😢\n",
       "\n",
       "[312 rows x 3 columns], R=30, lambda_step=0.01, plot_opts={'xlab': 'PC1', 'ylab': 'PC2'}, topic_order=[1, 3, 2, 4, 5])"
      ]
     },
     "execution_count": 96,
     "metadata": {},
     "output_type": "execute_result"
    }
   ],
   "source": [
    "import pyLDAvis.gensim_models as gensimvis\n",
    "import pickle \n",
    "import pyLDAvis\n",
    "# Visualize the topics\n",
    "pyLDAvis.enable_notebook()\n",
    "\n",
    "LDAvis_prepared = gensimvis.prepare(lda_model, corpus, id2word)\n",
    "LDAvis_prepared"
   ]
  },
  {
   "cell_type": "code",
   "execution_count": null,
   "id": "7d813dcb",
   "metadata": {},
   "outputs": [],
   "source": []
  },
  {
   "cell_type": "markdown",
   "id": "a261d72b",
   "metadata": {},
   "source": [
    "## Sentiment Analysis"
   ]
  },
  {
   "cell_type": "code",
   "execution_count": 97,
   "id": "6a5366eb",
   "metadata": {},
   "outputs": [],
   "source": [
    "# importing \n",
    "import numpy as np \n",
    "import matplotlib.pyplot as plt\n",
    "import seaborn as sns\n",
    "%matplotlib inline"
   ]
  },
  {
   "cell_type": "code",
   "execution_count": 41,
   "id": "f7d98b9b",
   "metadata": {},
   "outputs": [],
   "source": [
    "# adding sentiment columne "
   ]
  },
  {
   "cell_type": "code",
   "execution_count": 42,
   "id": "d53e4ba2",
   "metadata": {
    "scrolled": false
   },
   "outputs": [
    {
     "data": {
      "text/html": [
       "<div>\n",
       "<style scoped>\n",
       "    .dataframe tbody tr th:only-of-type {\n",
       "        vertical-align: middle;\n",
       "    }\n",
       "\n",
       "    .dataframe tbody tr th {\n",
       "        vertical-align: top;\n",
       "    }\n",
       "\n",
       "    .dataframe thead th {\n",
       "        text-align: right;\n",
       "    }\n",
       "</style>\n",
       "<table border=\"1\" class=\"dataframe\">\n",
       "  <thead>\n",
       "    <tr style=\"text-align: right;\">\n",
       "      <th></th>\n",
       "      <th>created_at</th>\n",
       "      <th>source</th>\n",
       "      <th>original_text</th>\n",
       "      <th>subjectivity</th>\n",
       "      <th>polarity</th>\n",
       "      <th>lang</th>\n",
       "      <th>favorite_count</th>\n",
       "      <th>retweet_count</th>\n",
       "      <th>original_author</th>\n",
       "      <th>followers_count</th>\n",
       "      <th>friends_count</th>\n",
       "      <th>possibly_sensitive</th>\n",
       "      <th>hashtags</th>\n",
       "      <th>user_mentions</th>\n",
       "      <th>place</th>\n",
       "      <th>clean_text</th>\n",
       "    </tr>\n",
       "  </thead>\n",
       "  <tbody>\n",
       "    <tr>\n",
       "      <th>5</th>\n",
       "      <td>2022-08-07 22:31:02+00:00</td>\n",
       "      <td>&lt;a href=\"http://twitter.com/download/android\" ...</td>\n",
       "      <td>RT @benedictrogers: We must not let this happe...</td>\n",
       "      <td>0.5</td>\n",
       "      <td>0.2</td>\n",
       "      <td>en</td>\n",
       "      <td>116</td>\n",
       "      <td>36</td>\n",
       "      <td>GraceCh15554845</td>\n",
       "      <td>207</td>\n",
       "      <td>54</td>\n",
       "      <td>False</td>\n",
       "      <td>Taiwan</td>\n",
       "      <td>benedictrogers</td>\n",
       "      <td>Melbourne, Victoria</td>\n",
       "      <td>we must not let this happen  we must be ready...</td>\n",
       "    </tr>\n",
       "  </tbody>\n",
       "</table>\n",
       "</div>"
      ],
      "text/plain": [
       "                 created_at  \\\n",
       "5 2022-08-07 22:31:02+00:00   \n",
       "\n",
       "                                              source  \\\n",
       "5  <a href=\"http://twitter.com/download/android\" ...   \n",
       "\n",
       "                                       original_text  subjectivity  polarity  \\\n",
       "5  RT @benedictrogers: We must not let this happe...           0.5       0.2   \n",
       "\n",
       "  lang  favorite_count  retweet_count  original_author  followers_count  \\\n",
       "5   en             116             36  GraceCh15554845              207   \n",
       "\n",
       "   friends_count possibly_sensitive hashtags   user_mentions  \\\n",
       "5             54              False   Taiwan  benedictrogers   \n",
       "\n",
       "                 place                                         clean_text  \n",
       "5  Melbourne, Victoria   we must not let this happen  we must be ready...  "
      ]
     },
     "execution_count": 42,
     "metadata": {},
     "output_type": "execute_result"
    }
   ],
   "source": [
    "tweets_df.head(1)"
   ]
  },
  {
   "cell_type": "code",
   "execution_count": 72,
   "id": "4523632c",
   "metadata": {},
   "outputs": [],
   "source": [
    "# adding sentiment \n",
    "tweets_df.insert(1,column = 'sentiment',value = \"\")\n",
    "#tweets_df.insert(4,column = 'sentiment',value = tweets_df[''])"
   ]
  },
  {
   "cell_type": "code",
   "execution_count": 78,
   "id": "21c3e86e",
   "metadata": {},
   "outputs": [],
   "source": [
    "def text_category (polarity):\n",
    "    if polarity > 0:\n",
    "        return 'positive'\n",
    "    if polarity < 0:\n",
    "        return 'negative'\n",
    "    else:\n",
    "        return 'neutral'"
   ]
  },
  {
   "cell_type": "code",
   "execution_count": 79,
   "id": "870cc9d5",
   "metadata": {},
   "outputs": [
    {
     "name": "stdout",
     "output_type": "stream",
     "text": [
      "sucees\n"
     ]
    }
   ],
   "source": [
    "score= pd.Series([text_category(row_value) for row_value in tweets_df['polarity']])\n",
    "print(\"sucees\")\n",
    "tweets_df = pd.concat([tweets_df, score.rename('sentiment')], axis=1)\n"
   ]
  },
  {
   "cell_type": "code",
   "execution_count": 87,
   "id": "2d56e4eb",
   "metadata": {},
   "outputs": [
    {
     "name": "stdout",
     "output_type": "stream",
     "text": [
      "<class 'pandas.core.frame.DataFrame'>\n",
      "Int64Index: 5494 entries, 5 to 3797\n",
      "Data columns (total 17 columns):\n",
      " #   Column              Non-Null Count  Dtype              \n",
      "---  ------              --------------  -----              \n",
      " 0   created_at          1976 non-null   datetime64[ns, UTC]\n",
      " 1   source              1976 non-null   object             \n",
      " 2   original_text       1976 non-null   object             \n",
      " 3   subjectivity        1976 non-null   float64            \n",
      " 4   polarity            1976 non-null   float64            \n",
      " 5   lang                1976 non-null   object             \n",
      " 6   favorite_count      1976 non-null   float64            \n",
      " 7   retweet_count       1976 non-null   float64            \n",
      " 8   original_author     1976 non-null   object             \n",
      " 9   followers_count     1976 non-null   float64            \n",
      " 10  friends_count       1976 non-null   float64            \n",
      " 11  possibly_sensitive  1976 non-null   object             \n",
      " 12  hashtags            1976 non-null   object             \n",
      " 13  user_mentions       1976 non-null   object             \n",
      " 14  place               1976 non-null   object             \n",
      " 15  clean_text          1976 non-null   object             \n",
      " 16  sentiment           3799 non-null   object             \n",
      "dtypes: datetime64[ns, UTC](1), float64(6), object(10)\n",
      "memory usage: 772.6+ KB\n"
     ]
    }
   ],
   "source": [
    "tweets_df.info()"
   ]
  },
  {
   "cell_type": "code",
   "execution_count": 118,
   "id": "77c1d717",
   "metadata": {},
   "outputs": [],
   "source": [
    "# droping null value \n",
    "tweets_df.dropna(inplace = True)\n"
   ]
  },
  {
   "cell_type": "code",
   "execution_count": 119,
   "id": "1606636d",
   "metadata": {},
   "outputs": [],
   "source": [
    "# Selecting the feature and the label\n",
    "features = tweets_df.iloc[:, 15].values\n",
    "labels = tweets_df.iloc[:, 16].values"
   ]
  },
  {
   "cell_type": "code",
   "execution_count": 72,
   "id": "d96c136f",
   "metadata": {},
   "outputs": [
    {
     "name": "stdout",
     "output_type": "stream",
     "text": [
      "['Melbourne, Victoria' 'Florida, USA' 'Hong Kong' 'Paris' 'Hong Kong'\n",
      " 'Turin, ITALY' 'London' 'Singapore' 'Singapore' 'SHITHOLE DEMOCRAT CITY'\n",
      " 'Singapore' 'Barcelona. España ' 'London' 'US' 'United States'\n",
      " 'Hargeisa- Rep of Somaliland' 'New York, NY' 'North West, England'\n",
      " 'United Kingdom' 'Pakistan' 'Washington, DC' 'North Carolina, USA '\n",
      " 'Beijing, China ' 'New York, NY' 'Chicago' 'India' 'United Kingdom'\n",
      " 'United Kingdom' 'United Kingdom' 'Taipei, Taiwan'\n",
      " \"Shanghai, People's Republic of China\" 'Orwell 1984 '\n",
      " ' GuangZhou，Shenzhen, Canada，' 'Karachi, Pakistan' 'London'\n",
      " 'Ft. Worth, Tx' 'India' 'Canada' 'Saltillo' 'Peshawar, Pakistan'\n",
      " 'Irvine, CA' 'The Netherlands' 'Sevilla, España' 'Venezuela'\n",
      " 'Buenos Aires & London' 'Paris' 'Quelque Part' 'Spokane, WA'\n",
      " 'London, England' 'London, England' 'BLACKO WIASE  - Sad Boys FC🧳'\n",
      " 'World' 'Hong Kong ' 'www.facebook.com/mariocavolo' 'Journalism/News'\n",
      " 'san juan' 'Wop wops' 'กรุงเทพมหานคร, ประเทศไทย' 'Berkeley, CA'\n",
      " 'West Haven, CT' 'Cupertino' 'Stranded in Mayberry' 'New York, USA'\n",
      " 'Brooklyn, NY' 'New Delhi, India' 'Adventureland (冒险岛)' 'Clydebank'\n",
      " 'Electric Ladyland' 'Sevilla' 'Unami, Lenapehoking ' 'Earth'\n",
      " 'London, England' 'La Serena, Chile' 'Hennessy in a TeaCup '\n",
      " 'Hennessy in a TeaCup ' 'Hennessy in a TeaCup ' '村里'\n",
      " 'South East, England' 'Virginia' '奈良県 奈良市 Nara, JAPAN' 'Bangkok.....'\n",
      " 'Everywhere🌍' 'Hidden Leaf Villiage' 'Bulgaria' '🇨🇳🇪🇺🇮🇪' 'Paris'\n",
      " 'Islamabad,Pakistan' 'Taipei, Taiwan 🇹🇼' 'Four Corners, FL'\n",
      " 'Deep inside the rabbit hole' 'England' 'California'\n",
      " 'Rethinking the World with You' 'Danbury, CT' 'Rize, Türkiye'\n",
      " 'Delhi Church of scientology ' 'Pindwara, India ' 'Los Angeles'\n",
      " 'Pale blue dot getting hotter' '#DO NOT COMPLY EVER💥'\n",
      " 'Frankfurt International School' 'Global citizen' 'Animal Farm'\n",
      " 'New Delhi, India' 'belvil' 'Mt Shasta, California USA' 'Sydney'\n",
      " 'This World' 'Bumblefeck Nowhere ' 'Los Angeles, CA' 'Simi Valley, CA'\n",
      " 'Simi Valley, CA' 'frontalier' 'Beograd, Srbija'\n",
      " 'Kolkata, India (Calcutta)' 'Asia Europe Sahara' 'Embu ' 'Shanghai'\n",
      " 'Pindwara, India ' '无产阶级文化大革命📕🇨🇳' 'Taiwan' 'Lausanne, Vaud, Suisse'\n",
      " 'Ottawa, Ontario' 'Berlin' 'Dhaka-uttara ' 'Hong Kong' 'Hong Kong'\n",
      " 'https://smartsway.fm/podcast/' 'India' 'Quebec, Canada' 'Oceania' '台灣'\n",
      " 'Paris' 'Paris' 'United States' 'California, USA' 'World' 'Maine, USA'\n",
      " 'Taiwan' 'Brisbane, Australia 🇦🇺 ' 'Stranded in Mayberry'\n",
      " 'London, England' 'Sevilla' 'un endroit ' 'Vancouver, BC'\n",
      " 'Washington, D.C.' 'Beach' '台灣' 'The Republic of Somaliland'\n",
      " 'Voice of America' 'London, England' 'Afghanistan' 'Houston, TX']\n"
     ]
    }
   ],
   "source": [
    "print(features)"
   ]
  },
  {
   "cell_type": "code",
   "execution_count": 122,
   "id": "8c4b23f2",
   "metadata": {},
   "outputs": [],
   "source": [
    "#Data Cleaning using regular expression\n",
    "processed_features = []\n",
    "\n",
    "for sentence in range(0, len(features)):\n",
    "    # Remove all the special characters\n",
    "    processed_feature = re.sub(r'\\W', ' ', str(features[sentence]))\n",
    "\n",
    "    # remove all single characters\n",
    "    processed_feature= re.sub(r'\\s+[a-zA-Z]\\s+', ' ', processed_feature)\n",
    "\n",
    "    # Remove single characters from the start\n",
    "    processed_feature = re.sub(r'\\^[a-zA-Z]\\s+', ' ', processed_feature) \n",
    "\n",
    "    # Substituting multiple spaces with single space\n",
    "    processed_feature = re.sub(r'\\s+', ' ', processed_feature, flags=re.I)\n",
    "\n",
    "    # Removing prefixed 'b'\n",
    "    processed_feature = re.sub(r'^b\\s+', '', processed_feature)\n",
    "\n",
    "    # Converting to Lowercase\n",
    "    processed_feature = processed_feature.lower()\n",
    "\n",
    "    processed_features.append(processed_feature)"
   ]
  },
  {
   "cell_type": "code",
   "execution_count": 70,
   "id": "dde2866a",
   "metadata": {
    "scrolled": true
   },
   "outputs": [
    {
     "name": "stderr",
     "output_type": "stream",
     "text": [
      "[nltk_data] Downloading package stopwords to\n",
      "[nltk_data]     C:\\Users\\Ekubay\\AppData\\Roaming\\nltk_data...\n",
      "[nltk_data]   Package stopwords is already up-to-date!\n"
     ]
    },
    {
     "data": {
      "text/plain": [
       "True"
      ]
     },
     "execution_count": 70,
     "metadata": {},
     "output_type": "execute_result"
    }
   ],
   "source": [
    "import nltk\n",
    "nltk.download('stopwords')"
   ]
  },
  {
   "cell_type": "code",
   "execution_count": 123,
   "id": "1c466be6",
   "metadata": {},
   "outputs": [],
   "source": [
    "from nltk.corpus import stopwords\n",
    "from sklearn.feature_extraction.text import TfidfVectorizer\n",
    "\n",
    "vectorizer = TfidfVectorizer (max_features=2500, min_df=7, max_df=0.8, stop_words=stopwords.words('english'))\n",
    "processed_features_vectorized = vectorizer.fit_transform(processed_features).toarray()"
   ]
  },
  {
   "cell_type": "code",
   "execution_count": 124,
   "id": "f01b36dd",
   "metadata": {},
   "outputs": [],
   "source": [
    "# split\n",
    "from sklearn.model_selection import train_test_split\n",
    "\n",
    "X_train, X_test, y_train, y_test = train_test_split(processed_features_vectorized, labels, test_size=0.2, random_state=0)"
   ]
  },
  {
   "cell_type": "code",
   "execution_count": 126,
   "id": "e5b50845",
   "metadata": {
    "scrolled": true
   },
   "outputs": [
    {
     "data": {
      "text/plain": [
       "RandomForestClassifier(n_estimators=200, random_state=0)"
      ]
     },
     "execution_count": 126,
     "metadata": {},
     "output_type": "execute_result"
    }
   ],
   "source": [
    "# training \n",
    "from sklearn.ensemble import RandomForestClassifier\n",
    "\n",
    "text_classifier = RandomForestClassifier(n_estimators=200, random_state=0)\n",
    "text_classifier.fit(X_train, y_train)"
   ]
  },
  {
   "cell_type": "code",
   "execution_count": 127,
   "id": "baa010c1",
   "metadata": {},
   "outputs": [],
   "source": [
    "#prediction\n",
    "predictions = text_classifier.predict(X_test)"
   ]
  },
  {
   "cell_type": "code",
   "execution_count": 128,
   "id": "6d9e024d",
   "metadata": {
    "scrolled": true
   },
   "outputs": [
    {
     "data": {
      "text/plain": [
       "array(['neutral', 'neutral', 'neutral', 'negative', 'neutral', 'neutral',\n",
       "       'neutral', 'positive', 'neutral', 'neutral'], dtype=object)"
      ]
     },
     "execution_count": 128,
     "metadata": {},
     "output_type": "execute_result"
    }
   ],
   "source": [
    "predictions[:10]"
   ]
  },
  {
   "cell_type": "code",
   "execution_count": 129,
   "id": "e069f636",
   "metadata": {},
   "outputs": [
    {
     "name": "stdout",
     "output_type": "stream",
     "text": [
      "0.6140350877192983\n"
     ]
    }
   ],
   "source": [
    "from sklearn.metrics import accuracy_score\n",
    "\n",
    "print(accuracy_score(y_test, predictions))"
   ]
  }
 ],
 "metadata": {
  "kernelspec": {
   "display_name": "Python 3 (ipykernel)",
   "language": "python",
   "name": "python3"
  },
  "language_info": {
   "codemirror_mode": {
    "name": "ipython",
    "version": 3
   },
   "file_extension": ".py",
   "mimetype": "text/x-python",
   "name": "python",
   "nbconvert_exporter": "python",
   "pygments_lexer": "ipython3",
   "version": "3.9.7"
  }
 },
 "nbformat": 4,
 "nbformat_minor": 5
}
