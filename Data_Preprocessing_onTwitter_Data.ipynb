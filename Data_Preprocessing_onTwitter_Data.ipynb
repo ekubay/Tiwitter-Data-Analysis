{
 "cells": [
  {
   "cell_type": "markdown",
   "id": "57b3372e",
   "metadata": {},
   "source": [
    "## Data exploration and pre-processing\n",
    "Basically, for any data analysis or machine learning project the following has to be conducted\n",
    "- Data gtahering \n",
    "- Data assessing \n",
    "- Data ceaning "
   ]
  },
  {
   "cell_type": "markdown",
   "id": "c0b05ca8",
   "metadata": {},
   "source": [
    "## Data gathering has been allready done"
   ]
  },
  {
   "cell_type": "markdown",
   "id": "af3b01b3",
   "metadata": {},
   "source": [
    "## Data assessing \n",
    "- Assessing is the second and it is assessed to inspect data for two things:\n",
    " - **Data quality issues**: Data that has quality issues have issues with content like missing, duplicate, or incorrect data. \n",
    " - **Lack of tidiness**: Data that has specific structural issues\n",
    "\n",
    "You can search for these issues in two ways:\n",
    "- Visually by scrolling\n",
    "- Programmatically using code"
   ]
  },
  {
   "cell_type": "markdown",
   "id": "7afee765",
   "metadata": {},
   "source": [
    "for this project I used programmatic Assessment using the following methods \n",
    "- .head (DataFrame and Series)\n",
    "- .tail (DataFrame and Series)\n",
    "- .sample (DataFrame and Series)\n",
    "- .info (DataFrame only)\n",
    "- .describe (DataFrame and Series)\n",
    "- and other\n",
    "\n",
    "### some methods associated with quality issue\n",
    "- .value_counts \n",
    "- .duplicates \n",
    "- .sort_values \n",
    "- sum of .isnull "
   ]
  },
  {
   "cell_type": "code",
   "execution_count": 9,
   "id": "b7f6bfb2",
   "metadata": {},
   "outputs": [],
   "source": [
    "# loding liberaries\n",
    "import matplotlib.pyplot as plt\n",
    "import pandas as pd\n",
    "%matplotlib inline"
   ]
  },
  {
   "cell_type": "code",
   "execution_count": 36,
   "id": "624208a3",
   "metadata": {},
   "outputs": [],
   "source": [
    "df = pd.read_csv('cleaned_twitterData_data.csv')"
   ]
  },
  {
   "cell_type": "code",
   "execution_count": 21,
   "id": "4b74044c",
   "metadata": {
    "scrolled": true
   },
   "outputs": [
    {
     "data": {
      "text/html": [
       "<div>\n",
       "<style scoped>\n",
       "    .dataframe tbody tr th:only-of-type {\n",
       "        vertical-align: middle;\n",
       "    }\n",
       "\n",
       "    .dataframe tbody tr th {\n",
       "        vertical-align: top;\n",
       "    }\n",
       "\n",
       "    .dataframe thead th {\n",
       "        text-align: right;\n",
       "    }\n",
       "</style>\n",
       "<table border=\"1\" class=\"dataframe\">\n",
       "  <thead>\n",
       "    <tr style=\"text-align: right;\">\n",
       "      <th></th>\n",
       "      <th>created_at</th>\n",
       "      <th>source</th>\n",
       "      <th>original_text</th>\n",
       "      <th>subjectivity</th>\n",
       "      <th>polarity</th>\n",
       "      <th>lang</th>\n",
       "      <th>favorite_count</th>\n",
       "      <th>retweet_count</th>\n",
       "      <th>original_author</th>\n",
       "      <th>followers_count</th>\n",
       "      <th>friends_count</th>\n",
       "      <th>possibly_sensitive</th>\n",
       "      <th>hashtags</th>\n",
       "      <th>user_mentions</th>\n",
       "      <th>place</th>\n",
       "    </tr>\n",
       "  </thead>\n",
       "  <tbody>\n",
       "    <tr>\n",
       "      <th>0</th>\n",
       "      <td>Sun Aug 07 22:31:20 +0000 2022</td>\n",
       "      <td>&lt;a href=\"http://twitter.com/download/android\" ...</td>\n",
       "      <td>RT @i_ameztoy: Extra random image (I):\\n\\nLets...</td>\n",
       "      <td>0.190625</td>\n",
       "      <td>-0.125</td>\n",
       "      <td>en</td>\n",
       "      <td>4</td>\n",
       "      <td>2</td>\n",
       "      <td>i_ameztoy</td>\n",
       "      <td>20497</td>\n",
       "      <td>2621</td>\n",
       "      <td>NaN</td>\n",
       "      <td>City</td>\n",
       "      <td>i_ameztoy</td>\n",
       "      <td>NaN</td>\n",
       "    </tr>\n",
       "    <tr>\n",
       "      <th>1</th>\n",
       "      <td>Sun Aug 07 22:31:16 +0000 2022</td>\n",
       "      <td>&lt;a href=\"http://twitter.com/download/android\" ...</td>\n",
       "      <td>RT @IndoPac_Info: #China's media explains the ...</td>\n",
       "      <td>0.100000</td>\n",
       "      <td>-0.100</td>\n",
       "      <td>en</td>\n",
       "      <td>691</td>\n",
       "      <td>201</td>\n",
       "      <td>ZIisq</td>\n",
       "      <td>65</td>\n",
       "      <td>272</td>\n",
       "      <td>NaN</td>\n",
       "      <td>China, Taiwan</td>\n",
       "      <td>IndoPac_Info</td>\n",
       "      <td>NaN</td>\n",
       "    </tr>\n",
       "  </tbody>\n",
       "</table>\n",
       "</div>"
      ],
      "text/plain": [
       "                       created_at  \\\n",
       "0  Sun Aug 07 22:31:20 +0000 2022   \n",
       "1  Sun Aug 07 22:31:16 +0000 2022   \n",
       "\n",
       "                                              source  \\\n",
       "0  <a href=\"http://twitter.com/download/android\" ...   \n",
       "1  <a href=\"http://twitter.com/download/android\" ...   \n",
       "\n",
       "                                       original_text  subjectivity  polarity  \\\n",
       "0  RT @i_ameztoy: Extra random image (I):\\n\\nLets...      0.190625    -0.125   \n",
       "1  RT @IndoPac_Info: #China's media explains the ...      0.100000    -0.100   \n",
       "\n",
       "  lang  favorite_count  retweet_count original_author  followers_count  \\\n",
       "0   en               4              2       i_ameztoy            20497   \n",
       "1   en             691            201           ZIisq               65   \n",
       "\n",
       "   friends_count possibly_sensitive       hashtags user_mentions place  \n",
       "0           2621                NaN           City     i_ameztoy   NaN  \n",
       "1            272                NaN  China, Taiwan  IndoPac_Info   NaN  "
      ]
     },
     "execution_count": 21,
     "metadata": {},
     "output_type": "execute_result"
    }
   ],
   "source": [
    "df.head(2)"
   ]
  },
  {
   "cell_type": "code",
   "execution_count": 22,
   "id": "6cb04eba",
   "metadata": {},
   "outputs": [
    {
     "data": {
      "text/plain": [
       "(21997, 15)"
      ]
     },
     "execution_count": 22,
     "metadata": {},
     "output_type": "execute_result"
    }
   ],
   "source": [
    "# shape info\n",
    "df.shape"
   ]
  },
  {
   "cell_type": "code",
   "execution_count": 5,
   "id": "1c1b3902",
   "metadata": {
    "scrolled": true
   },
   "outputs": [
    {
     "name": "stdout",
     "output_type": "stream",
     "text": [
      "<class 'pandas.core.frame.DataFrame'>\n",
      "RangeIndex: 21997 entries, 0 to 21996\n",
      "Data columns (total 15 columns):\n",
      " #   Column              Non-Null Count  Dtype  \n",
      "---  ------              --------------  -----  \n",
      " 0   created_at          21997 non-null  object \n",
      " 1   source              21997 non-null  object \n",
      " 2   original_text       21997 non-null  object \n",
      " 3   subjectivity        21997 non-null  float64\n",
      " 4   polarity            21997 non-null  float64\n",
      " 5   lang                21997 non-null  object \n",
      " 6   favorite_count      21997 non-null  int64  \n",
      " 7   retweet_count       21997 non-null  int64  \n",
      " 8   original_author     21997 non-null  object \n",
      " 9   followers_count     21997 non-null  int64  \n",
      " 10  friends_count       21997 non-null  int64  \n",
      " 11  possibly_sensitive  6190 non-null   object \n",
      " 12  hashtags            19138 non-null  object \n",
      " 13  user_mentions       18695 non-null  object \n",
      " 14  place               12106 non-null  object \n",
      "dtypes: float64(2), int64(4), object(9)\n",
      "memory usage: 2.5+ MB\n"
     ]
    }
   ],
   "source": [
    "# checking against null value\n",
    "df.info()"
   ]
  },
  {
   "cell_type": "code",
   "execution_count": 23,
   "id": "ba345366",
   "metadata": {
    "scrolled": true
   },
   "outputs": [
    {
     "data": {
      "text/html": [
       "<div>\n",
       "<style scoped>\n",
       "    .dataframe tbody tr th:only-of-type {\n",
       "        vertical-align: middle;\n",
       "    }\n",
       "\n",
       "    .dataframe tbody tr th {\n",
       "        vertical-align: top;\n",
       "    }\n",
       "\n",
       "    .dataframe thead th {\n",
       "        text-align: right;\n",
       "    }\n",
       "</style>\n",
       "<table border=\"1\" class=\"dataframe\">\n",
       "  <thead>\n",
       "    <tr style=\"text-align: right;\">\n",
       "      <th></th>\n",
       "      <th>subjectivity</th>\n",
       "      <th>polarity</th>\n",
       "      <th>favorite_count</th>\n",
       "      <th>retweet_count</th>\n",
       "      <th>followers_count</th>\n",
       "      <th>friends_count</th>\n",
       "    </tr>\n",
       "  </thead>\n",
       "  <tbody>\n",
       "    <tr>\n",
       "      <th>count</th>\n",
       "      <td>21997.000000</td>\n",
       "      <td>21997.000000</td>\n",
       "      <td>21997.000000</td>\n",
       "      <td>21997.000000</td>\n",
       "      <td>2.199700e+04</td>\n",
       "      <td>21997.000000</td>\n",
       "    </tr>\n",
       "    <tr>\n",
       "      <th>mean</th>\n",
       "      <td>0.283878</td>\n",
       "      <td>0.061334</td>\n",
       "      <td>852.241033</td>\n",
       "      <td>176.768241</td>\n",
       "      <td>1.796985e+04</td>\n",
       "      <td>1563.237305</td>\n",
       "    </tr>\n",
       "    <tr>\n",
       "      <th>std</th>\n",
       "      <td>0.290964</td>\n",
       "      <td>0.223716</td>\n",
       "      <td>3106.276392</td>\n",
       "      <td>498.466921</td>\n",
       "      <td>3.030684e+05</td>\n",
       "      <td>4358.923487</td>\n",
       "    </tr>\n",
       "    <tr>\n",
       "      <th>min</th>\n",
       "      <td>0.000000</td>\n",
       "      <td>-1.000000</td>\n",
       "      <td>0.000000</td>\n",
       "      <td>0.000000</td>\n",
       "      <td>0.000000e+00</td>\n",
       "      <td>0.000000</td>\n",
       "    </tr>\n",
       "    <tr>\n",
       "      <th>25%</th>\n",
       "      <td>0.000000</td>\n",
       "      <td>0.000000</td>\n",
       "      <td>2.000000</td>\n",
       "      <td>2.000000</td>\n",
       "      <td>5.700000e+01</td>\n",
       "      <td>137.000000</td>\n",
       "    </tr>\n",
       "    <tr>\n",
       "      <th>50%</th>\n",
       "      <td>0.200000</td>\n",
       "      <td>0.000000</td>\n",
       "      <td>115.000000</td>\n",
       "      <td>38.000000</td>\n",
       "      <td>2.840000e+02</td>\n",
       "      <td>487.000000</td>\n",
       "    </tr>\n",
       "    <tr>\n",
       "      <th>75%</th>\n",
       "      <td>0.469048</td>\n",
       "      <td>0.133333</td>\n",
       "      <td>655.000000</td>\n",
       "      <td>187.000000</td>\n",
       "      <td>1.324000e+03</td>\n",
       "      <td>1599.000000</td>\n",
       "    </tr>\n",
       "    <tr>\n",
       "      <th>max</th>\n",
       "      <td>1.000000</td>\n",
       "      <td>1.000000</td>\n",
       "      <td>65170.000000</td>\n",
       "      <td>17409.000000</td>\n",
       "      <td>1.449852e+07</td>\n",
       "      <td>208360.000000</td>\n",
       "    </tr>\n",
       "  </tbody>\n",
       "</table>\n",
       "</div>"
      ],
      "text/plain": [
       "       subjectivity      polarity  favorite_count  retweet_count  \\\n",
       "count  21997.000000  21997.000000    21997.000000   21997.000000   \n",
       "mean       0.283878      0.061334      852.241033     176.768241   \n",
       "std        0.290964      0.223716     3106.276392     498.466921   \n",
       "min        0.000000     -1.000000        0.000000       0.000000   \n",
       "25%        0.000000      0.000000        2.000000       2.000000   \n",
       "50%        0.200000      0.000000      115.000000      38.000000   \n",
       "75%        0.469048      0.133333      655.000000     187.000000   \n",
       "max        1.000000      1.000000    65170.000000   17409.000000   \n",
       "\n",
       "       followers_count  friends_count  \n",
       "count     2.199700e+04   21997.000000  \n",
       "mean      1.796985e+04    1563.237305  \n",
       "std       3.030684e+05    4358.923487  \n",
       "min       0.000000e+00       0.000000  \n",
       "25%       5.700000e+01     137.000000  \n",
       "50%       2.840000e+02     487.000000  \n",
       "75%       1.324000e+03    1599.000000  \n",
       "max       1.449852e+07  208360.000000  "
      ]
     },
     "execution_count": 23,
     "metadata": {},
     "output_type": "execute_result"
    }
   ],
   "source": [
    "# satitstical information \n",
    "df.describe()"
   ]
  },
  {
   "cell_type": "code",
   "execution_count": 37,
   "id": "e951ec90",
   "metadata": {},
   "outputs": [
    {
     "data": {
      "text/plain": [
       "4"
      ]
     },
     "execution_count": 37,
     "metadata": {},
     "output_type": "execute_result"
    }
   ],
   "source": [
    "# checking null\n",
    "df.isnull().any().sum()"
   ]
  },
  {
   "cell_type": "code",
   "execution_count": 38,
   "id": "f5fac818",
   "metadata": {},
   "outputs": [
    {
     "data": {
      "text/plain": [
       "0"
      ]
     },
     "execution_count": 38,
     "metadata": {},
     "output_type": "execute_result"
    }
   ],
   "source": [
    "#checking against duplicated observation\n",
    "df.duplicated().any().sum()"
   ]
  },
  {
   "cell_type": "code",
   "execution_count": 39,
   "id": "bb6ea457",
   "metadata": {
    "scrolled": true
   },
   "outputs": [
    {
     "data": {
      "text/plain": [
       " 0.000000    8982\n",
       "-0.100000     973\n",
       " 0.133333     782\n",
       " 0.050000     502\n",
       " 0.500000     502\n",
       "             ... \n",
       "-0.014773       1\n",
       " 0.478788       1\n",
       " 0.059375       1\n",
       " 0.010000       1\n",
       " 0.207143       1\n",
       "Name: polarity, Length: 829, dtype: int64"
      ]
     },
     "execution_count": 39,
     "metadata": {},
     "output_type": "execute_result"
    }
   ],
   "source": [
    "## unique value and ther number of appearance in decending orde\n",
    "df['polarity'].value_counts()"
   ]
  },
  {
   "cell_type": "code",
   "execution_count": 40,
   "id": "bc2e20af",
   "metadata": {},
   "outputs": [
    {
     "data": {
      "text/plain": [
       "829"
      ]
     },
     "execution_count": 40,
     "metadata": {},
     "output_type": "execute_result"
    }
   ],
   "source": [
    "# number of unique values\n",
    "df['polarity'].nunique()"
   ]
  },
  {
   "cell_type": "code",
   "execution_count": 28,
   "id": "1be80934",
   "metadata": {},
   "outputs": [
    {
     "data": {
      "text/plain": [
       "15122   -1.0\n",
       "2909    -1.0\n",
       "7448    -1.0\n",
       "15248   -1.0\n",
       "7920    -1.0\n",
       "        ... \n",
       "21693    1.0\n",
       "13630    1.0\n",
       "20442    1.0\n",
       "20140    1.0\n",
       "9778     1.0\n",
       "Name: polarity, Length: 21997, dtype: float64"
      ]
     },
     "execution_count": 28,
     "metadata": {},
     "output_type": "execute_result"
    }
   ],
   "source": [
    "df['polarity'].sort_values()"
   ]
  },
  {
   "cell_type": "code",
   "execution_count": 29,
   "id": "62ad0692",
   "metadata": {
    "scrolled": true
   },
   "outputs": [
    {
     "data": {
      "text/html": [
       "<div>\n",
       "<style scoped>\n",
       "    .dataframe tbody tr th:only-of-type {\n",
       "        vertical-align: middle;\n",
       "    }\n",
       "\n",
       "    .dataframe tbody tr th {\n",
       "        vertical-align: top;\n",
       "    }\n",
       "\n",
       "    .dataframe thead th {\n",
       "        text-align: right;\n",
       "    }\n",
       "</style>\n",
       "<table border=\"1\" class=\"dataframe\">\n",
       "  <thead>\n",
       "    <tr style=\"text-align: right;\">\n",
       "      <th></th>\n",
       "      <th>source</th>\n",
       "      <th>original_text</th>\n",
       "    </tr>\n",
       "  </thead>\n",
       "  <tbody>\n",
       "    <tr>\n",
       "      <th>0</th>\n",
       "      <td>&lt;a href=\"http://twitter.com/download/android\" ...</td>\n",
       "      <td>RT @i_ameztoy: Extra random image (I):\\n\\nLets...</td>\n",
       "    </tr>\n",
       "    <tr>\n",
       "      <th>1</th>\n",
       "      <td>&lt;a href=\"http://twitter.com/download/android\" ...</td>\n",
       "      <td>RT @IndoPac_Info: #China's media explains the ...</td>\n",
       "    </tr>\n",
       "    <tr>\n",
       "      <th>2</th>\n",
       "      <td>&lt;a href=\"http://twitter.com/download/android\" ...</td>\n",
       "      <td>China even cut off communication, they don't a...</td>\n",
       "    </tr>\n",
       "  </tbody>\n",
       "</table>\n",
       "</div>"
      ],
      "text/plain": [
       "                                              source  \\\n",
       "0  <a href=\"http://twitter.com/download/android\" ...   \n",
       "1  <a href=\"http://twitter.com/download/android\" ...   \n",
       "2  <a href=\"http://twitter.com/download/android\" ...   \n",
       "\n",
       "                                       original_text  \n",
       "0  RT @i_ameztoy: Extra random image (I):\\n\\nLets...  \n",
       "1  RT @IndoPac_Info: #China's media explains the ...  \n",
       "2  China even cut off communication, they don't a...  "
      ]
     },
     "execution_count": 29,
     "metadata": {},
     "output_type": "execute_result"
    }
   ],
   "source": [
    "#cheking source and orginal_text columns\n",
    "df[['source','original_text']].head(3)"
   ]
  },
  {
   "cell_type": "markdown",
   "id": "114468e8",
   "metadata": {},
   "source": [
    "### Result of the assesmement\n",
    "- Created_at datatype issue\n",
    "- missing vaues are there\n",
    "- the source and original text needs to be cleaned"
   ]
  },
  {
   "cell_type": "markdown",
   "id": "24b079b4",
   "metadata": {},
   "source": [
    "### Cleaning  \n",
    "it helps as to solve the following \n",
    "- duplicate data\n",
    "- missing data\n",
    "- inaccurate data\n",
    "- incomplete data"
   ]
  },
  {
   "cell_type": "code",
   "execution_count": 31,
   "id": "1fc19ae8",
   "metadata": {},
   "outputs": [],
   "source": [
    "#df.head(1)"
   ]
  },
  {
   "cell_type": "code",
   "execution_count": 41,
   "id": "7edcd929",
   "metadata": {},
   "outputs": [],
   "source": [
    "# handling with missing values with drop method\n",
    "df.dropna(inplace = True)"
   ]
  },
  {
   "cell_type": "code",
   "execution_count": null,
   "id": "06660914",
   "metadata": {},
   "outputs": [],
   "source": [
    "#df.head"
   ]
  },
  {
   "cell_type": "code",
   "execution_count": 42,
   "id": "65b2950b",
   "metadata": {},
   "outputs": [
    {
     "data": {
      "text/plain": [
       "0"
      ]
     },
     "execution_count": 42,
     "metadata": {},
     "output_type": "execute_result"
    }
   ],
   "source": [
    "# checking against missing value\n",
    "df.isnull().any().sum()"
   ]
  },
  {
   "cell_type": "code",
   "execution_count": 43,
   "id": "afcc2c1a",
   "metadata": {},
   "outputs": [],
   "source": [
    "# habdling created_at datatype\n",
    "df['created_at'] =pd.to_datetime(df['created_at'])"
   ]
  },
  {
   "cell_type": "code",
   "execution_count": 16,
   "id": "e7489a08",
   "metadata": {},
   "outputs": [
    {
     "data": {
      "text/plain": [
       "datetime64[ns, UTC]"
      ]
     },
     "execution_count": 16,
     "metadata": {},
     "output_type": "execute_result"
    }
   ],
   "source": [
    "#checking datatype\n",
    "df['created_at'].dtype"
   ]
  },
  {
   "cell_type": "code",
   "execution_count": 17,
   "id": "049bbedc",
   "metadata": {
    "scrolled": false
   },
   "outputs": [],
   "source": [
    "# handling the source and original text needs to be cleaned and creating new column\n"
   ]
  },
  {
   "cell_type": "code",
   "execution_count": 18,
   "id": "81e4d6ab",
   "metadata": {},
   "outputs": [],
   "source": [
    "#Method to find hashtags from tweets\n"
   ]
  },
  {
   "cell_type": "markdown",
   "id": "386215c2",
   "metadata": {},
   "source": [
    "### Visualization "
   ]
  },
  {
   "cell_type": "code",
   "execution_count": 19,
   "id": "b9037713",
   "metadata": {
    "scrolled": false
   },
   "outputs": [
    {
     "data": {
      "image/png": "[encoded data removed]",
      "text/plain": [
       "<Figure size 432x288 with 1 Axes>"
      ]
     },
     "metadata": {
      "needs_background": "light"
     },
     "output_type": "display_data"
    }
   ],
   "source": [
    "# the plority distribution\n",
    "df.polarity.hist();\n",
    "plt.title(\"Distribution of the polarity using histogram\", fontsize = 13, fontweight = 'bold');"
   ]
  },
  {
   "cell_type": "code",
   "execution_count": null,
   "id": "09ce40f5",
   "metadata": {},
   "outputs": [],
   "source": []
  },
  {
   "cell_type": "code",
   "execution_count": 20,
   "id": "5f15e921",
   "metadata": {
    "scrolled": false
   },
   "outputs": [
    {
     "data": {
      "image/png": "[encoded data removed]",
      "text/plain": [
       "<Figure size 432x288 with 1 Axes>"
      ]
     },
     "metadata": {
      "needs_background": "light"
     },
     "output_type": "display_data"
    }
   ],
   "source": [
    "# polarity vs favorite_count using scatter plot\n",
    "df.plot(x = 'polarity', y = 'favorite_count', kind = 'scatter')\n",
    "plt.title(\"Relationship between polarity and favorite count\", fontsize = 13, fontweight = 'bold');"
   ]
  },
  {
   "cell_type": "code",
   "execution_count": 21,
   "id": "fefc0267",
   "metadata": {
    "scrolled": true
   },
   "outputs": [
    {
     "data": {
      "image/png": "[encoded data removed]",
      "text/plain": [
       "<Figure size 432x288 with 1 Axes>"
      ]
     },
     "metadata": {
      "needs_background": "light"
     },
     "output_type": "display_data"
    }
   ],
   "source": [
    "# the distribution of subjectivity\n",
    "df.subjectivity.hist();\n",
    "plt.title(\"Distribution of the subjectivity using histogram\", fontsize = 8, fontweight = 'bold');"
   ]
  },
  {
   "cell_type": "code",
   "execution_count": null,
   "id": "34348c40",
   "metadata": {},
   "outputs": [],
   "source": []
  },
  {
   "cell_type": "markdown",
   "id": "b053a264",
   "metadata": {},
   "source": [
    "## Topic Modeling "
   ]
  },
  {
   "cell_type": "code",
   "execution_count": 1,
   "id": "8bb44b5c",
   "metadata": {},
   "outputs": [],
   "source": [
    "# inporting packages \n",
    "import warnings\n",
    "warnings.filterwarnings('ignore')\n",
    "import matplotlib.pyplot as plt\n",
    "import seaborn as sns\n",
    "import gensim\n",
    "from gensim.models import CoherenceModel\n",
    "from gensim import corpora\n",
    "import pandas as pd\n",
    "from pprint import pprint\n",
    "import string\n",
    "import os\n",
    "import re\n",
    "import emoji\n",
    "import nltk"
   ]
  },
  {
   "cell_type": "code",
   "execution_count": 23,
   "id": "1380a5e0",
   "metadata": {},
   "outputs": [],
   "source": [
    "#data loader class\n",
    "# class DataLoader:\n",
    "#   def __init__(self,dir_name,file_name):\n",
    "#     self.dir_name=dir_name\n",
    "#     self.file_name = file_name\n",
    "    \n",
    " \n",
    "#   def read_csv(self):\n",
    "#     os.chdir(self.dir_name)\n",
    "#     tweets_df=pd.read_csv(self.file_name)\n",
    "#     return tweets_df"
   ]
  },
  {
   "cell_type": "code",
   "execution_count": 24,
   "id": "3d9a5158",
   "metadata": {},
   "outputs": [],
   "source": [
    "#object creation\n",
    "#DataLoader_obj= df"
   ]
  },
  {
   "cell_type": "code",
   "execution_count": 44,
   "id": "3bb6e100",
   "metadata": {
    "scrolled": true
   },
   "outputs": [
    {
     "data": {
      "text/html": [
       "<div>\n",
       "<style scoped>\n",
       "    .dataframe tbody tr th:only-of-type {\n",
       "        vertical-align: middle;\n",
       "    }\n",
       "\n",
       "    .dataframe tbody tr th {\n",
       "        vertical-align: top;\n",
       "    }\n",
       "\n",
       "    .dataframe thead th {\n",
       "        text-align: right;\n",
       "    }\n",
       "</style>\n",
       "<table border=\"1\" class=\"dataframe\">\n",
       "  <thead>\n",
       "    <tr style=\"text-align: right;\">\n",
       "      <th></th>\n",
       "      <th>created_at</th>\n",
       "      <th>source</th>\n",
       "      <th>original_text</th>\n",
       "      <th>subjectivity</th>\n",
       "      <th>polarity</th>\n",
       "      <th>lang</th>\n",
       "      <th>favorite_count</th>\n",
       "      <th>retweet_count</th>\n",
       "      <th>original_author</th>\n",
       "      <th>followers_count</th>\n",
       "      <th>friends_count</th>\n",
       "      <th>possibly_sensitive</th>\n",
       "      <th>hashtags</th>\n",
       "      <th>user_mentions</th>\n",
       "      <th>place</th>\n",
       "    </tr>\n",
       "  </thead>\n",
       "  <tbody>\n",
       "    <tr>\n",
       "      <th>5</th>\n",
       "      <td>2022-08-07 22:31:02+00:00</td>\n",
       "      <td>&lt;a href=\"http://twitter.com/download/android\" ...</td>\n",
       "      <td>RT @benedictrogers: We must not let this happe...</td>\n",
       "      <td>0.5</td>\n",
       "      <td>0.2</td>\n",
       "      <td>en</td>\n",
       "      <td>116</td>\n",
       "      <td>36</td>\n",
       "      <td>GraceCh15554845</td>\n",
       "      <td>207</td>\n",
       "      <td>54</td>\n",
       "      <td>False</td>\n",
       "      <td>Taiwan</td>\n",
       "      <td>benedictrogers</td>\n",
       "      <td>Melbourne, Victoria</td>\n",
       "    </tr>\n",
       "  </tbody>\n",
       "</table>\n",
       "</div>"
      ],
      "text/plain": [
       "                 created_at  \\\n",
       "5 2022-08-07 22:31:02+00:00   \n",
       "\n",
       "                                              source  \\\n",
       "5  <a href=\"http://twitter.com/download/android\" ...   \n",
       "\n",
       "                                       original_text  subjectivity  polarity  \\\n",
       "5  RT @benedictrogers: We must not let this happe...           0.5       0.2   \n",
       "\n",
       "  lang  favorite_count  retweet_count  original_author  followers_count  \\\n",
       "5   en             116             36  GraceCh15554845              207   \n",
       "\n",
       "   friends_count possibly_sensitive hashtags   user_mentions  \\\n",
       "5             54              False   Taiwan  benedictrogers   \n",
       "\n",
       "                 place  \n",
       "5  Melbourne, Victoria  "
      ]
     },
     "execution_count": 44,
     "metadata": {},
     "output_type": "execute_result"
    }
   ],
   "source": [
    "df.head(1)"
   ]
  },
  {
   "cell_type": "code",
   "execution_count": 47,
   "id": "aa70082d",
   "metadata": {
    "scrolled": true
   },
   "outputs": [],
   "source": [
    "df['clean_text'] = df['original_text']"
   ]
  },
  {
   "cell_type": "code",
   "execution_count": 48,
   "id": "ce027a75",
   "metadata": {},
   "outputs": [
    {
     "data": {
      "text/html": [
       "<div>\n",
       "<style scoped>\n",
       "    .dataframe tbody tr th:only-of-type {\n",
       "        vertical-align: middle;\n",
       "    }\n",
       "\n",
       "    .dataframe tbody tr th {\n",
       "        vertical-align: top;\n",
       "    }\n",
       "\n",
       "    .dataframe thead th {\n",
       "        text-align: right;\n",
       "    }\n",
       "</style>\n",
       "<table border=\"1\" class=\"dataframe\">\n",
       "  <thead>\n",
       "    <tr style=\"text-align: right;\">\n",
       "      <th></th>\n",
       "      <th>created_at</th>\n",
       "      <th>source</th>\n",
       "      <th>original_text</th>\n",
       "      <th>subjectivity</th>\n",
       "      <th>polarity</th>\n",
       "      <th>lang</th>\n",
       "      <th>favorite_count</th>\n",
       "      <th>retweet_count</th>\n",
       "      <th>original_author</th>\n",
       "      <th>followers_count</th>\n",
       "      <th>friends_count</th>\n",
       "      <th>possibly_sensitive</th>\n",
       "      <th>hashtags</th>\n",
       "      <th>user_mentions</th>\n",
       "      <th>place</th>\n",
       "      <th>clean_text</th>\n",
       "    </tr>\n",
       "  </thead>\n",
       "  <tbody>\n",
       "    <tr>\n",
       "      <th>5</th>\n",
       "      <td>2022-08-07 22:31:02+00:00</td>\n",
       "      <td>&lt;a href=\"http://twitter.com/download/android\" ...</td>\n",
       "      <td>RT @benedictrogers: We must not let this happe...</td>\n",
       "      <td>0.5</td>\n",
       "      <td>0.2</td>\n",
       "      <td>en</td>\n",
       "      <td>116</td>\n",
       "      <td>36</td>\n",
       "      <td>GraceCh15554845</td>\n",
       "      <td>207</td>\n",
       "      <td>54</td>\n",
       "      <td>False</td>\n",
       "      <td>Taiwan</td>\n",
       "      <td>benedictrogers</td>\n",
       "      <td>Melbourne, Victoria</td>\n",
       "      <td>RT @benedictrogers: We must not let this happe...</td>\n",
       "    </tr>\n",
       "  </tbody>\n",
       "</table>\n",
       "</div>"
      ],
      "text/plain": [
       "                 created_at  \\\n",
       "5 2022-08-07 22:31:02+00:00   \n",
       "\n",
       "                                              source  \\\n",
       "5  <a href=\"http://twitter.com/download/android\" ...   \n",
       "\n",
       "                                       original_text  subjectivity  polarity  \\\n",
       "5  RT @benedictrogers: We must not let this happe...           0.5       0.2   \n",
       "\n",
       "  lang  favorite_count  retweet_count  original_author  followers_count  \\\n",
       "5   en             116             36  GraceCh15554845              207   \n",
       "\n",
       "   friends_count possibly_sensitive hashtags   user_mentions  \\\n",
       "5             54              False   Taiwan  benedictrogers   \n",
       "\n",
       "                 place                                         clean_text  \n",
       "5  Melbourne, Victoria  RT @benedictrogers: We must not let this happe...  "
      ]
     },
     "execution_count": 48,
     "metadata": {},
     "output_type": "execute_result"
    }
   ],
   "source": [
    "df.head(1)"
   ]
  },
  {
   "cell_type": "code",
   "execution_count": 49,
   "id": "8a2d398a",
   "metadata": {
    "scrolled": true
   },
   "outputs": [],
   "source": [
    "tweets_df = df\n",
    "#tweets_df"
   ]
  },
  {
   "cell_type": "code",
   "execution_count": 61,
   "id": "9d4dcb16",
   "metadata": {},
   "outputs": [],
   "source": [
    "nltk.download('words')\n",
    "words = set(nltk.corpus.words.words())"
   ]
  },
  {
   "cell_type": "code",
   "execution_count": 52,
   "id": "5c98d834",
   "metadata": {},
   "outputs": [
    {
     "data": {
      "text/plain": [
       "5        : We must not let this happen . We must be rea...\n",
       "36              : Roger it as it is . is a part of China !\n",
       "39       : \" For too long , been , and isolated from th...\n",
       "43       : 🇬🇷 Summer Travel Excursion 👉 check availabil...\n",
       "48       : We must not let this happen . We must be rea...\n",
       "                               ...                        \n",
       "21978    : Head of ' s missile is found dead in hotel ....\n",
       "21986    Minister is crystal clear in his interview . '...\n",
       "21987                 : Live - fire military in the with .\n",
       "21989    : Head of ' s missile is found dead in hotel ....\n",
       "21993     : A good of China ' s missile on on August 4th .\n",
       "Name: clean_text, Length: 1976, dtype: object"
      ]
     },
     "execution_count": 52,
     "metadata": {},
     "output_type": "execute_result"
    }
   ],
   "source": [
    "def cleaner(tweet):\n",
    "    tweet = re.sub(\"@[A-Za-z0-9]+\",\"\",tweet) #Remove @ sign\n",
    "    tweet = re.sub(r\"(?:\\@|http?\\://|https?\\://|www)\\S+\", \"\", tweet) #Remove http links\n",
    "    tweet = \" \".join(tweet.split())\n",
    "    #tweet = ''.join(c for c in tweet if c not in emoji.UNICODE_EMOJI) #Remove Emojis\n",
    "    tweet = tweet.replace(\"#\", \"\").replace(\"_\", \" \") #Remove hashtag sign but keep the text\n",
    "\n",
    "    tweet = \" \".join(w for w in nltk.wordpunct_tokenize(tweet) \\\n",
    "         if w.lower() in words or not w.isalpha())\n",
    "    return tweet\n",
    "\n",
    "\n",
    "tweets_df['clean_text'] = tweets_df['original_text'].map(lambda x: cleaner(x))\n",
    "tweets_df['clean_text']"
   ]
  },
  {
   "cell_type": "code",
   "execution_count": 89,
   "id": "1cf2e0af",
   "metadata": {},
   "outputs": [],
   "source": [
    "class PrepareData:\n",
    "  def __init__(self,df):\n",
    "    self.df=df\n",
    "  def preprocess_data(self):\n",
    "    \n",
    "    tweets_df = self.df.loc[self.df['lang'] ==\"en\"]\n",
    "\n",
    "    #print(tweets_df)\n",
    "    #text Preprocessing\n",
    "    tweets_df['clean_text']=tweets_df['clean_text'].astype(str)\n",
    "    tweets_df['clean_text'] = tweets_df['clean_text'].apply(lambda x: x.lower())\n",
    "    tweets_df['clean_text']= tweets_df['clean_text'].apply(lambda x: x.translate(str.maketrans(' ', ' ', string.punctuation)))\n",
    "    \n",
    "    #Converting tweets to list of words For feature engineering\n",
    "    sentence_list = [tweet for tweet in tweets_df['clean_text']]\n",
    "    word_list = [sent.split() for sent in sentence_list]\n",
    "    # print(word_list)\n",
    "\n",
    "    #Create dictionary which contains Id and word \n",
    "    word_to_id = corpora.Dictionary(word_list) #generate unique tokens\n",
    "    #  we can see the word to unique integer mapping\n",
    "    # print(word_to_id.token2id)\n",
    "    # using bag of words(bow), we create a corpus that contains the word id and its frequency in each document.\n",
    "    corpus_1= [word_to_id.doc2bow(tweet) for tweet in word_list]\n",
    "\n",
    "\n",
    "    return word_list, word_to_id, corpus_1"
   ]
  },
  {
   "cell_type": "code",
   "execution_count": 90,
   "id": "2bc822d8",
   "metadata": {},
   "outputs": [],
   "source": [
    "PrepareData_obj=PrepareData(tweets_df)\n",
    "#tweets_df['clean_text']\n",
    "word_list ,id2word,corpus=PrepareData_obj.preprocess_data()"
   ]
  },
  {
   "cell_type": "code",
   "execution_count": 84,
   "id": "cffe9edb",
   "metadata": {},
   "outputs": [],
   "source": [
    "id_words = [[(id2word[id], count) for id, count in line] for line in corpus]"
   ]
  },
  {
   "cell_type": "code",
   "execution_count": 92,
   "id": "fce1facc",
   "metadata": {
    "scrolled": false
   },
   "outputs": [],
   "source": [
    "#print(id_words)"
   ]
  },
  {
   "cell_type": "markdown",
   "id": "ee20628a",
   "metadata": {},
   "source": [
    "## Topic Modeling using Latent Dirichlet Allocation\n",
    "based on the distributional hypothesis, (i.e. similar topics make use of similar words) and the statistical mixture hypothesis (i.e. documents talk about several topics) for which a statistical distribution can be determined.\n",
    "\n",
    "The purpose of LDA is mapping each teweets in our corpus to a set of topics which covers a good deal of the words in the tweet"
   ]
  },
  {
   "cell_type": "code",
   "execution_count": 98,
   "id": "add79909",
   "metadata": {},
   "outputs": [],
   "source": [
    "# Build LDA model\n",
    "lda_model = gensim.models.ldamodel.LdaModel(corpus,\n",
    "                                           id2word=id2word,\n",
    "                                           num_topics=6, \n",
    "                                           random_state=100,\n",
    "                                           update_every=1,\n",
    "                                           chunksize=100,\n",
    "                                           passes=15,\n",
    "                                           alpha='auto',\n",
    "                                           per_word_topics=True)"
   ]
  },
  {
   "cell_type": "code",
   "execution_count": 99,
   "id": "7ad01c73",
   "metadata": {
    "scrolled": false
   },
   "outputs": [
    {
     "name": "stdout",
     "output_type": "stream",
     "text": [
      "[(0,\n",
      "  '0.069*\"the\" + 0.033*\"in\" + 0.029*\"s\" + 0.028*\"’\" + 0.027*\"to\" + 0.026*\"and\" '\n",
      "  '+ 0.025*\"of\" + 0.020*\"china\" + 0.015*\"with\" + 0.015*\"is\"'),\n",
      " (1,\n",
      "  '0.079*\"china\" + 0.074*\"today\" + 0.074*\"new\" + 0.070*\"got\" + 0.069*\"1\" + '\n",
      "  '0.067*\"billion\" + 0.067*\"4\" + 0.066*\"pink\" + 0.066*\"panda\" + 0.015*\"more\"'),\n",
      " (2,\n",
      "  '0.054*\"china\" + 0.025*\"the\" + 0.021*\"us\" + 0.021*\"of\" + 0.019*\"need\" + '\n",
      "  '0.018*\"via\" + 0.016*\"trump\" + 0.016*\"on\" + 0.016*\"in\" + 0.016*\"no\"'),\n",
      " (3,\n",
      "  '0.044*\"…\" + 0.035*\"the\" + 0.025*\"in\" + 0.023*\"and\" + 0.021*\"of\" + '\n",
      "  '0.015*\"on\" + 0.015*\"live\" + 0.014*\"travel\" + 0.014*\"summer\" + 0.012*\"from\"'),\n",
      " (4,\n",
      "  '0.023*\"the\" + 0.023*\"by\" + 0.022*\"we\" + 0.022*\"must\" + 0.019*\"is\" + '\n",
      "  '0.018*\"not\" + 0.018*\"this\" + 0.017*\"in\" + 0.016*\"president\" + 0.014*\"be\"'),\n",
      " (5,\n",
      "  '0.043*\"a\" + 0.040*\"is\" + 0.033*\"the\" + 0.031*\"to\" + 0.029*\"china\" + '\n",
      "  '0.029*\"of\" + 0.026*\"s\" + 0.024*\"and\" + 0.021*\"in\" + 0.016*\"it\"')]\n"
     ]
    }
   ],
   "source": [
    "pprint(lda_model.print_topics())"
   ]
  },
  {
   "cell_type": "code",
   "execution_count": 95,
   "id": "f399de0b",
   "metadata": {
    "scrolled": true
   },
   "outputs": [
    {
     "name": "stdout",
     "output_type": "stream",
     "text": [
      "[(0,\n",
      "  [('the', 0.06764154),\n",
      "   ('in', 0.03735836),\n",
      "   ('s', 0.02988628),\n",
      "   ('’', 0.028702201),\n",
      "   ('and', 0.028316924),\n",
      "   ('of', 0.02442928),\n",
      "   ('to', 0.023602998),\n",
      "   ('china', 0.0169049),\n",
      "   ('is', 0.015546172),\n",
      "   ('with', 0.013930249)]),\n",
      " (1,\n",
      "  [('china', 0.06382187),\n",
      "   ('new', 0.056349836),\n",
      "   ('today', 0.055542916),\n",
      "   ('1', 0.053634092),\n",
      "   ('billion', 0.051437687),\n",
      "   ('4', 0.051434934),\n",
      "   ('pink', 0.050334822),\n",
      "   ('got', 0.050334815),\n",
      "   ('panda', 0.05033479),\n",
      "   ('on', 0.01945697)]),\n",
      " (2,\n",
      "  [('china', 0.057882126),\n",
      "   ('the', 0.033249293),\n",
      "   ('is', 0.03235169),\n",
      "   ('of', 0.030859314),\n",
      "   ('in', 0.019664647),\n",
      "   ('to', 0.019638782),\n",
      "   ('s', 0.017255792),\n",
      "   ('and', 0.01530113),\n",
      "   ('on', 0.013569245),\n",
      "   ('that', 0.013476247)]),\n",
      " (3,\n",
      "  [('the', 0.038850054),\n",
      "   ('a', 0.02581741),\n",
      "   ('…', 0.024781978),\n",
      "   ('of', 0.0234391),\n",
      "   ('and', 0.022628978),\n",
      "   ('in', 0.022040032),\n",
      "   ('s', 0.014670212),\n",
      "   ('live', 0.013152951),\n",
      "   ('from', 0.010349333),\n",
      "   ('our', 0.010333648)]),\n",
      " (4,\n",
      "  [('we', 0.023182198),\n",
      "   ('not', 0.02034133),\n",
      "   ('this', 0.019206692),\n",
      "   ('must', 0.018229878),\n",
      "   ('be', 0.016922325),\n",
      "   ('to', 0.014479254),\n",
      "   ('president', 0.01325894),\n",
      "   ('the', 0.013246676),\n",
      "   ('by', 0.012830573),\n",
      "   ('00', 0.011305999)])]\n"
     ]
    }
   ],
   "source": [
    "pprint(lda_model.show_topics(formatted=False))"
   ]
  },
  {
   "cell_type": "markdown",
   "id": "ec4d21aa",
   "metadata": {},
   "source": [
    "#### Model Analysis\n",
    "- Perplexity is also a measure of model quality and in natural language processing is often used as “perplexity per number of words”. It describes how well a model predicts a sample, i.e. how much it is “perplexed” by a sample from the observed data. The lower the score, the better the model for the given data.\n",
    "\n",
    "- A coherence matrix is used to test the model for accuracy. Topic coherence is a measure that compares different topic models based on their human-interpretability. The coherence score ‘C_V’ provides a numerical value to the interpretability of the topics"
   ]
  },
  {
   "cell_type": "code",
   "execution_count": 37,
   "id": "d8c4e0a0",
   "metadata": {
    "scrolled": true
   },
   "outputs": [],
   "source": [
    "# # Compute Perplexity\n",
    "\n",
    "# #It's a measure of how good the model is. The lower the better. Perplexity is a negative value\n",
    "# print('\\nPerplexity: ', lda_model.log_perplexity(corpus))  \n",
    "# doc_lda = lda_model[corpus]\n",
    "\n",
    "# # Compute Coherence Score\n",
    "# coherence_model_lda = CoherenceModel(model=lda_model, texts=word_list, dictionary=id2word, coherence='c_v')\n",
    "# coherence_lda = coherence_model_lda.get_coherence()\n",
    "# print('\\n Ldamodel Coherence Score/Accuracy on Tweets: ', coherence_lda)"
   ]
  },
  {
   "cell_type": "code",
   "execution_count": 2,
   "id": "13cbff99",
   "metadata": {},
   "outputs": [],
   "source": [
    "#!pip install pyLDAvis "
   ]
  },
  {
   "cell_type": "markdown",
   "id": "430aa871",
   "metadata": {},
   "source": [
    "Anlayizing results Exploring the Intertopic Distance Plot can help you learn about how topics relate to each other, including potential higher-level structure between groups of topics"
   ]
  },
  {
   "cell_type": "code",
   "execution_count": 100,
   "id": "3f021216",
   "metadata": {},
   "outputs": [
    {
     "data": {
      "text/html": [
       "\n",
       "<link rel=\"stylesheet\" type=\"text/css\" href=\"https://cdn.jsdelivr.net/gh/bmabey/pyLDAvis@3.3.1/pyLDAvis/js/ldavis.v1.0.0.css\">\n",
       "\n",
       "\n",
       "<div id=\"ldavis_el394422095624053449967366061\"></div>\n",
       "<script type=\"text/javascript\">\n",
       "\n",
       "var ldavis_el394422095624053449967366061_data = {\"mdsDat\": {\"x\": [0.09118018807733423, 0.016529531659175305, 0.06636713399195594, -0.29882737867947834, 0.09510637442733935, 0.029644150523673668], \"y\": [0.06143085193614993, 0.03280085438227078, 0.12873502724857613, -0.01564186270565575, -0.20187950484911224, -0.00544536601222873], \"topics\": [1, 2, 3, 4, 5, 6], \"cluster\": [1, 1, 1, 1, 1, 1], \"Freq\": [30.25278976905854, 18.363640462038994, 15.423073104042128, 14.211826379158845, 13.06059287334724, 8.688077412354248]}, \"tinfo\": {\"Term\": [\"today\", \"new\", \"got\", \"billion\", \"4\", \"1\", \"panda\", \"pink\", \"china\", \"\\u2026\", \"a\", \"is\", \"\\u2019\", \"the\", \"by\", \"to\", \"we\", \"and\", \"us\", \"of\", \"need\", \"must\", \"not\", \"trump\", \"s\", \"in\", \"this\", \"via\", \"no\", \"army\", \"\\u201c\", \"\\u201d\", \"\\u2018\", \"he\", \"\\u2019\", \"since\", \"watch\", \"foreign\", \"out\", \"2\", \"wall\", \"what\", \"find\", \"everything\", \"with\", \"how\", \"here\", \"mean\", \"who\", \"ministry\", \"air\", \"so\", \"totalitarianism\", \"sang\", \"roc\", \"thought\", \"control\", \"mindlessly\", \"when\", \"however\", \"policy\", \"the\", \"s\", \"are\", \"to\", \"in\", \"and\", \"they\", \"t\", \"don\", \"of\", \"from\", \"we\", \"is\", \"on\", \"by\", \"i\", \"china\", \"no\", \"this\", \"that\", \"a\", \"for\", \"at\", \"need\", \"trump\", \"music\", \"caption\", \"peace\", \"king\", \"x\", \"speech\", \"good\", \"true\", \"an\", \"think\", \"democracy\", \"love\", \"weekend\", \"work\", \"strait\", \"military\", \"after\", \"political\", \"\\ud83c\\uddf9\\ud83c\\uddfc\", \"pure\", \"positive\", \"feel\", \"analysis\", \"bad\", \"turns\", \"us\", \"bottleneck\", \"enjoy\", \"via\", \"let\", \"against\", \"no\", \"china\", \"i\", \"for\", \"statement\", \"you\", \"on\", \"of\", \"the\", \"that\", \"in\", \"this\", \"to\", \"army\", \"situation\", \"house\", \"u\", \"territorial\", \"00\", \"than\", \"was\", \"our\", \"top\", \"regular\", \"current\", \"mix\", \"then\", \"said\", \"wang\", \"territory\", \"speaker\", \"lost\", \"small\", \"day\", \"a\", \"soil\", \"bike\", \"perfect\", \"ride\", \"riverside\", \"province\", \"welcome\", \"conduct\", \"part\", \"is\", \"there\", \"visit\", \"but\", \"it\", \"will\", \"united\", \"to\", \"of\", \"s\", \"and\", \"that\", \"the\", \"china\", \"in\", \"at\", \"nancy\", \"if\", \"on\", \"via\", \"not\", \"new\", \"got\", \"today\", \"billion\", \"4\", \"panda\", \"1\", \"pink\", \"more\", \"worldwar3\", \"see\", \"losing\", \"semiconductor\", \"post\", \"know\", \"range\", \"chips\", \"source\", \"aggression\", \"taunting\", \"exactly\", \"issue\", \"authoritarian\", \"provoking\", \"backlash\", \"tiger\", \"paper\", \"consistent\", \"taking\", \"proclamation\", \"over\", \"ago\", \"china\", \"us\", \"at\", \"a\", \"around\", \"long\", \"good\", \"read\", \"travel\", \"summer\", \"availability\", \"\\ud83d\\udc49\", \"\\ud83c\\uddec\\ud83c\\uddf7\", \"excursion\", \"check\", \"too\", \"always\", \"\\u2026\", \"area\", \"describe\", \"each\", \"media\", \"role\", \"sura\", \"\\ud83c\\udde8\\ud83c\\uddf3\", \"buy\", \"company\", \"equity\", \"training\", \"year\", \"live\", \"front\", \"have\", \"dangerous\", \"follow\", \"long\", \"isolated\", \"bunch\", \"my\", \"exercise\", \"as\", \"fire\", \"war\", \"and\", \"the\", \"in\", \"of\", \"from\", \"on\", \"been\", \"world\", \"for\", \"t\", \"must\", \"president\", \"based\", \"li\", \"me\", \"why\", \"defend\", \"happen\", \"ready\", \"en\", \"never\", \"1949\", \"bump\", \"chart\", \"yesterday\", \"\\ud83c\\uddf3\\ud83c\\uddeb\", \"\\ud83d\\ude22\", \"brownie\", \"chocolate\", \"space\", \"economy\", \"take\", \"join\", \"n\", \"return\", \"near\", \"\\ud83d\\udd17\", \"video\", \"recipe\", \"food\", \"by\", \"launch\", \"19\", \"covid\", \"we\", \"not\", \"be\", \"this\", \"is\", \"the\", \"in\", \"let\", \"china\", \"s\", \"my\", \"will\"], \"Freq\": [24.0, 24.0, 23.0, 22.0, 22.0, 23.0, 21.0, 23.0, 75.0, 16.0, 22.0, 29.0, 22.0, 83.0, 9.0, 34.0, 10.0, 35.0, 12.0, 42.0, 8.0, 4.0, 9.0, 7.0, 35.0, 47.0, 13.0, 10.0, 11.0, 5.0, 6.9950646923706845, 6.9950646923706845, 5.58091769108805, 5.427844568942368, 19.292595859017318, 4.005831177101328, 3.8608059236290257, 3.8513531145400695, 3.8432558098248246, 3.286550482483672, 3.2865367679688324, 3.286396752340583, 2.867315943533473, 2.8586454996748025, 10.57409059938798, 2.447107674029641, 2.2937285268377057, 2.29356985309043, 2.293507818831445, 2.2934669942291306, 2.292842026977298, 2.2926031392653194, 2.292409222404327, 2.2922969547479632, 5.650519810727189, 2.291383663742287, 2.291115592818498, 2.2897455765744326, 2.2808379991859136, 2.270791160239066, 2.645108271022032, 47.09502138505085, 19.912137266048454, 4.558482430067363, 18.28642760730779, 22.601418394658793, 17.57273828849614, 3.021129330538305, 5.847873592926665, 4.363153611931109, 16.882858643215393, 5.938813584003462, 5.5364909555041, 10.421768267194231, 8.411579520587539, 5.033228222014211, 6.187652930680767, 13.845672805221614, 4.891184121337457, 5.000782869325049, 4.860495183374421, 4.744071391129639, 4.169983394642215, 3.977174538872242, 7.914255566248189, 6.739200387888432, 5.873090535039027, 5.730509945664843, 4.71053184924913, 4.1214124808985675, 4.1214124808985675, 3.9519493704194617, 6.30397017190379, 3.532627653341843, 3.5205911543635118, 6.31541812689296, 2.9395421954643206, 2.512703958525129, 2.5127033777251397, 2.354659956635725, 2.351186579099692, 6.311894606957851, 2.3458910383972165, 2.345629291202037, 2.338902078525928, 1.9237648317712466, 1.923763282971275, 1.9237599917713357, 1.7657953658804697, 1.7646852635009138, 1.7646852635009138, 8.656126880585616, 1.3348565842167952, 1.3348107010176402, 7.305622867056989, 3.689575685651431, 4.199090220268026, 6.592295161793892, 22.52342203640046, 6.305198370281171, 5.877501517357793, 2.345862191997748, 3.690146805640913, 6.724079453766905, 8.640260973677808, 10.354963751699218, 4.48220775745403, 6.645290450417912, 3.605958685591352, 4.222961099828411, 5.209209084795726, 2.8135048837129353, 2.8118457250047424, 2.3953019315175164, 2.3953040453026206, 2.395232827004484, 2.3950712037434156, 2.379277164041308, 4.281919526446433, 2.2504835872275866, 1.671655243131795, 1.6716261379368944, 1.671625812739186, 1.6716254875414778, 1.6714978474409357, 1.6714978474409357, 1.6714978474409357, 1.6705585138602586, 1.6675933611551819, 1.664996657453708, 2.804261789247439, 15.098975128108176, 1.253542614599881, 1.2535412325096202, 1.2535412325096202, 1.2535412325096202, 1.2535412325096202, 1.253533509064046, 1.253533509064046, 1.2535303383863894, 4.431654860087182, 13.954815120407796, 3.4331144838301997, 3.668316328003085, 3.586705361501589, 5.423856482612275, 3.231848971713794, 1.6714978474409357, 10.730412851018366, 10.045454121005228, 9.016633285329458, 8.28224450364143, 4.86407740727955, 11.62059800123607, 10.057717976983936, 7.221607624967865, 3.3682349394252373, 2.2705843827807226, 2.505534361328462, 2.9824691578506326, 2.6094244602327277, 2.457563959567668, 23.695864151311756, 22.427992690723226, 23.77900856890886, 21.629477376733952, 21.62889963534362, 21.16517227208254, 22.093135219246815, 21.165177066616902, 4.837998012209265, 1.848711468580129, 1.8271153875324766, 1.3891566986746968, 1.051783145463883, 1.8193202238097512, 1.8502109592010956, 0.5880516618998403, 0.5872783934051551, 0.5872779439175588, 0.5871932155056727, 0.5871916048417862, 0.5871916048417862, 0.5871915673844865, 0.5871911178968904, 0.5871908182384928, 0.5871905934946948, 0.587190331293597, 0.5871874470815213, 0.583582519102593, 0.5835031845418613, 0.5833929102515905, 1.8942956538332802, 1.5037074139360023, 25.2912694321424, 3.2498891136987487, 2.5284240644771216, 1.8170972079880803, 0.6685002776386573, 0.6128013853798228, 0.5993883383931282, 0.5880662327894175, 4.260606757092495, 4.260561318654302, 3.245185166499264, 3.245184615730316, 3.2451843403458422, 3.245177731118469, 3.245177731118469, 3.2301566096054164, 2.499061226774096, 12.944009884869, 2.130004035623124, 2.130004035623124, 2.130004035623124, 2.130004035623124, 2.130004035623124, 2.130004035623124, 2.130004035623124, 2.1295617681580494, 2.1295617681580494, 2.1295617681580494, 2.1295617681580494, 2.118936609001776, 4.453539467196177, 1.4830668364751647, 1.4826888712847444, 1.4784165565567442, 1.7264176245206462, 2.209747255421007, 1.2142545507423403, 1.1145449927414435, 2.8090981551722245, 2.0924216280095496, 3.296007371156504, 2.616736041698452, 2.7433547935659557, 6.735858517638142, 10.282299978585407, 7.473052289643857, 6.2580719631205675, 3.4027411609330294, 4.501907720806543, 2.3662540350092343, 2.4441228503855545, 2.2317778756403346, 2.1568172580005784, 4.264441623396673, 3.096918687934272, 2.633946421000078, 2.633946421000078, 2.3002485027495285, 2.299902824430435, 1.5032697350907458, 1.503269368712029, 1.503267445223767, 1.7205607999679826, 1.4994366809578843, 1.4987720699660079, 1.3797195958802702, 1.3797195958802702, 1.3797195958802702, 1.3797195958802702, 1.3797195958802702, 1.0430913806545128, 1.0430913806545128, 1.0430879000567055, 1.0430874420833096, 1.0428404112336556, 1.0430870757045931, 1.3357455399908138, 0.582877579077451, 0.582877579077451, 0.582877350090753, 0.582877350090753, 0.582877350090753, 0.582877350090753, 4.452676016614051, 1.3798486527831855, 1.3797195958802702, 1.3797195958802702, 4.264552636147797, 3.6378028544640983, 2.6775348632903335, 3.554730510645434, 3.728664776175973, 4.511706589050727, 3.3916480163212825, 1.5032626823004516, 2.2986012640397844, 2.020923017933055, 1.4299845575227659, 1.390331755406014], \"Total\": [24.0, 24.0, 23.0, 22.0, 22.0, 23.0, 21.0, 23.0, 75.0, 16.0, 22.0, 29.0, 22.0, 83.0, 9.0, 34.0, 10.0, 35.0, 12.0, 42.0, 8.0, 4.0, 9.0, 7.0, 35.0, 47.0, 13.0, 10.0, 11.0, 5.0, 7.609447359136589, 7.609447359136589, 6.195997264421829, 6.042261482543499, 22.230291856392675, 4.6265410354399386, 4.475071184217438, 4.472357475034695, 4.468888727825857, 3.9013454875706346, 3.9013576818909925, 3.9012074603297435, 3.4815929773013243, 3.4815565848783825, 12.912105588018878, 3.061684489160758, 2.9078999155075023, 2.9078996428573096, 2.907901145697154, 2.907891990726775, 2.9078790687312064, 2.907677080949969, 2.9079261431493437, 2.9079287864551895, 7.169244943361292, 2.907952473767932, 2.9079596536390735, 2.9079953150748854, 2.903171760480151, 2.901403256349696, 3.421136842259521, 83.99380404537052, 35.609820422122965, 6.5808633115436725, 34.7811809374127, 47.4593262928031, 35.47658592839814, 4.09559004464159, 9.942545067459475, 6.782812461325195, 42.076967581979446, 10.57601328351603, 10.921559454114814, 29.77369898078879, 22.894445287427153, 9.982516689338645, 15.108861025825098, 75.03006512604493, 11.944467639247819, 13.564687796074695, 14.556527961451451, 22.505605217965694, 14.570289108467382, 10.264731157158575, 8.537602280643867, 7.35982509602685, 6.493825624499403, 6.340611811154348, 5.320668343712746, 4.731670519436479, 4.7316705406335275, 4.571048478324926, 7.390662719422259, 4.142777068592804, 4.141748511421093, 7.501810840878358, 3.5534737627089945, 3.122841847028377, 3.1228416786845177, 2.9648526097444203, 2.96461876015657, 7.961297372235786, 2.962149294258905, 2.9620625889695194, 2.9638786272499105, 2.5338983549422824, 2.5338981473257847, 2.5338973731782044, 2.3758970415850684, 2.3758374070287336, 2.3758374070287336, 12.408949577902893, 1.944958272168832, 1.944949393296033, 10.990474063262772, 5.681230020356173, 6.774972653798948, 11.944467639247819, 75.03006512604493, 15.108861025825098, 14.570289108467382, 3.5356768478505676, 7.742535475471696, 22.894445287427153, 42.076967581979446, 83.99380404537052, 14.556527961451451, 47.4593262928031, 13.564687796074695, 34.7811809374127, 5.8662048461321685, 3.469412245679205, 3.4701969102020107, 3.051464816136379, 3.0514825478974887, 3.0514596033785772, 3.0515066199394902, 3.049761934097506, 5.621654938944228, 3.035261693046635, 2.327315686612059, 2.3273134900733075, 2.327313596382924, 2.327313639046323, 2.327364851398662, 2.327364851398662, 2.3273648613656057, 2.327694659037545, 2.3268664759609266, 2.3266558746504513, 4.062184057415971, 22.505605217965694, 1.9092029758730218, 1.9092016252140298, 1.9092016252140298, 1.9092016252140298, 1.9092016252140298, 1.9091939753698135, 1.9091939753698135, 1.9092044282905465, 6.8804899359436105, 29.77369898078879, 6.105341552038759, 7.032442296416303, 6.888701584431049, 12.161416909319394, 6.443230750938276, 2.7875266006240036, 34.7811809374127, 42.076967581979446, 35.609820422122965, 35.47658592839814, 14.556527961451451, 83.99380404537052, 75.03006512604493, 47.4593262928031, 10.264731157158575, 4.711145053518455, 6.032139112087258, 22.894445287427153, 10.990474063262772, 9.465314586801288, 24.347135556477816, 23.077132530763908, 24.48036319885148, 22.273253461096008, 22.27339449033954, 21.808940855317566, 23.32656512829366, 23.949698767954413, 5.498272140379215, 2.4982690942972274, 2.4941313689391786, 2.034832492285948, 1.6955784032397194, 3.0980570926777644, 3.645214888949053, 1.2313859317323481, 1.231209499563988, 1.231209575487912, 1.2315396332271693, 1.2315398963487407, 1.2315399604165158, 1.2315400325955994, 1.231540131289919, 1.2315402004084468, 1.2315402248382468, 1.2315403371149063, 1.2315409542050806, 1.2318949268217156, 1.2318897213972382, 1.2318793958146967, 4.010073699985779, 3.1885776396948318, 75.03006512604493, 12.408949577902893, 10.264731157158575, 22.505605217965694, 4.515725195579716, 3.366969428849208, 7.390662719422259, 2.3937753356040816, 4.928784467192955, 4.92878053591818, 3.913271987074492, 3.9132722615713753, 3.913272322504495, 3.9132739230544025, 3.9132741894399437, 3.914974243849746, 3.170567712399674, 16.441250125705025, 2.798075143633205, 2.798075143633205, 2.798075143633205, 2.798075143633205, 2.798075143633205, 2.798075143633205, 2.798075143633205, 2.7981099879776044, 2.7981099879776044, 2.7981099879776044, 2.7981099879776044, 2.8007313494451376, 5.958481045922031, 2.1559809263192005, 2.1555445068486017, 2.1569322336143135, 2.5591026162294708, 3.366969428849208, 1.8822772221580806, 1.7825676016023886, 4.819179378329347, 3.965674030269, 7.801089255633439, 5.8217294904874075, 6.701316107689055, 35.47658592839814, 83.99380404537052, 47.4593262928031, 42.076967581979446, 10.57601328351603, 22.894445287427153, 5.133192790437155, 7.00088555102978, 14.570289108467382, 9.942545067459475, 4.908959133286452, 3.74178377393619, 3.282310599154238, 3.282310599154238, 2.9447266680061217, 2.94478367772662, 2.1477277953891813, 2.147727531967148, 2.147727545417748, 2.462017416273975, 2.1486430123965192, 2.148797078823533, 2.024312022715982, 2.024312022715982, 2.024312022715982, 2.024312022715982, 2.024312022715982, 1.687520972361417, 1.687520972361417, 1.6875196538696848, 1.6875195917614703, 1.6875671441133422, 2.1055369827365573, 2.762095330839375, 1.2273071326848932, 1.2273071707843553, 1.22730691230396, 1.227306913665139, 1.2273069230294642, 1.2273069232249485, 9.982516689338645, 3.0396965260067024, 3.0397356684697074, 3.0397356684697074, 10.921559454114814, 9.465314586801288, 7.746245720746506, 13.564687796074695, 29.77369898078879, 83.99380404537052, 47.4593262928031, 5.681230020356173, 75.03006512604493, 35.609820422122965, 4.819179378329347, 6.443230750938276], \"Category\": [\"Default\", \"Default\", \"Default\", \"Default\", \"Default\", \"Default\", \"Default\", \"Default\", \"Default\", \"Default\", \"Default\", \"Default\", \"Default\", \"Default\", \"Default\", \"Default\", \"Default\", \"Default\", \"Default\", \"Default\", \"Default\", \"Default\", \"Default\", \"Default\", \"Default\", \"Default\", \"Default\", \"Default\", \"Default\", \"Default\", \"Topic1\", \"Topic1\", \"Topic1\", \"Topic1\", \"Topic1\", \"Topic1\", \"Topic1\", \"Topic1\", \"Topic1\", \"Topic1\", \"Topic1\", \"Topic1\", \"Topic1\", \"Topic1\", \"Topic1\", \"Topic1\", \"Topic1\", \"Topic1\", \"Topic1\", \"Topic1\", \"Topic1\", \"Topic1\", \"Topic1\", \"Topic1\", \"Topic1\", \"Topic1\", \"Topic1\", \"Topic1\", \"Topic1\", \"Topic1\", \"Topic1\", \"Topic1\", \"Topic1\", \"Topic1\", \"Topic1\", \"Topic1\", \"Topic1\", \"Topic1\", \"Topic1\", \"Topic1\", \"Topic1\", \"Topic1\", \"Topic1\", \"Topic1\", \"Topic1\", \"Topic1\", \"Topic1\", \"Topic1\", \"Topic1\", \"Topic1\", \"Topic1\", \"Topic1\", \"Topic1\", \"Topic1\", \"Topic2\", \"Topic2\", \"Topic2\", \"Topic2\", \"Topic2\", \"Topic2\", \"Topic2\", \"Topic2\", \"Topic2\", \"Topic2\", \"Topic2\", \"Topic2\", \"Topic2\", \"Topic2\", \"Topic2\", \"Topic2\", \"Topic2\", \"Topic2\", \"Topic2\", \"Topic2\", \"Topic2\", \"Topic2\", \"Topic2\", \"Topic2\", \"Topic2\", \"Topic2\", \"Topic2\", \"Topic2\", \"Topic2\", \"Topic2\", \"Topic2\", \"Topic2\", \"Topic2\", \"Topic2\", \"Topic2\", \"Topic2\", \"Topic2\", \"Topic2\", \"Topic2\", \"Topic2\", \"Topic2\", \"Topic2\", \"Topic2\", \"Topic2\", \"Topic2\", \"Topic2\", \"Topic3\", \"Topic3\", \"Topic3\", \"Topic3\", \"Topic3\", \"Topic3\", \"Topic3\", \"Topic3\", \"Topic3\", \"Topic3\", \"Topic3\", \"Topic3\", \"Topic3\", \"Topic3\", \"Topic3\", \"Topic3\", \"Topic3\", \"Topic3\", \"Topic3\", \"Topic3\", \"Topic3\", \"Topic3\", \"Topic3\", \"Topic3\", \"Topic3\", \"Topic3\", \"Topic3\", \"Topic3\", \"Topic3\", \"Topic3\", \"Topic3\", \"Topic3\", \"Topic3\", \"Topic3\", \"Topic3\", \"Topic3\", \"Topic3\", \"Topic3\", \"Topic3\", \"Topic3\", \"Topic3\", \"Topic3\", \"Topic3\", \"Topic3\", \"Topic3\", \"Topic3\", \"Topic3\", \"Topic3\", \"Topic3\", \"Topic3\", \"Topic3\", \"Topic3\", \"Topic4\", \"Topic4\", \"Topic4\", \"Topic4\", \"Topic4\", \"Topic4\", \"Topic4\", \"Topic4\", \"Topic4\", \"Topic4\", \"Topic4\", \"Topic4\", \"Topic4\", \"Topic4\", \"Topic4\", \"Topic4\", \"Topic4\", \"Topic4\", \"Topic4\", \"Topic4\", \"Topic4\", \"Topic4\", \"Topic4\", \"Topic4\", \"Topic4\", \"Topic4\", \"Topic4\", \"Topic4\", \"Topic4\", \"Topic4\", \"Topic4\", \"Topic4\", \"Topic4\", \"Topic4\", \"Topic4\", \"Topic4\", \"Topic4\", \"Topic4\", \"Topic4\", \"Topic4\", \"Topic5\", \"Topic5\", \"Topic5\", \"Topic5\", \"Topic5\", \"Topic5\", \"Topic5\", \"Topic5\", \"Topic5\", \"Topic5\", \"Topic5\", \"Topic5\", \"Topic5\", \"Topic5\", \"Topic5\", \"Topic5\", \"Topic5\", \"Topic5\", \"Topic5\", \"Topic5\", \"Topic5\", \"Topic5\", \"Topic5\", \"Topic5\", \"Topic5\", \"Topic5\", \"Topic5\", \"Topic5\", \"Topic5\", \"Topic5\", \"Topic5\", \"Topic5\", \"Topic5\", \"Topic5\", \"Topic5\", \"Topic5\", \"Topic5\", \"Topic5\", \"Topic5\", \"Topic5\", \"Topic5\", \"Topic5\", \"Topic5\", \"Topic5\", \"Topic5\", \"Topic6\", \"Topic6\", \"Topic6\", \"Topic6\", \"Topic6\", \"Topic6\", \"Topic6\", \"Topic6\", \"Topic6\", \"Topic6\", \"Topic6\", \"Topic6\", \"Topic6\", \"Topic6\", \"Topic6\", \"Topic6\", \"Topic6\", \"Topic6\", \"Topic6\", \"Topic6\", \"Topic6\", \"Topic6\", \"Topic6\", \"Topic6\", \"Topic6\", \"Topic6\", \"Topic6\", \"Topic6\", \"Topic6\", \"Topic6\", \"Topic6\", \"Topic6\", \"Topic6\", \"Topic6\", \"Topic6\", \"Topic6\", \"Topic6\", \"Topic6\", \"Topic6\", \"Topic6\", \"Topic6\", \"Topic6\", \"Topic6\", \"Topic6\", \"Topic6\", \"Topic6\"], \"logprob\": [30.0, 29.0, 28.0, 27.0, 26.0, 25.0, 24.0, 23.0, 22.0, 21.0, 20.0, 19.0, 18.0, 17.0, 16.0, 15.0, 14.0, 13.0, 12.0, 11.0, 10.0, 9.0, 8.0, 7.0, 6.0, 5.0, 4.0, 3.0, 2.0, 1.0, -4.5841, -4.5841, -4.81, -4.8378, -3.5696, -5.1416, -5.1784, -5.1809, -5.183, -5.3395, -5.3395, -5.3395, -5.4759, -5.479, -4.1709, -5.6344, -5.6991, -5.6992, -5.6992, -5.6992, -5.6995, -5.6996, -5.6997, -5.6998, -4.7976, -5.7002, -5.7003, -5.7009, -5.7048, -5.7092, -5.5566, -2.6771, -3.538, -5.0123, -3.6231, -3.4113, -3.663, -5.4237, -4.7632, -5.0561, -3.703, -4.7478, -4.8179, -4.1854, -4.3997, -4.9132, -4.7068, -3.9013, -4.9419, -4.9197, -4.9482, -4.9724, -5.1014, -5.1487, -3.9614, -4.1221, -4.2597, -4.2843, -4.4803, -4.6139, -4.6139, -4.6559, -4.1889, -4.768, -4.7715, -4.1871, -4.9518, -5.1087, -5.1087, -5.1737, -5.1752, -4.1877, -5.1774, -5.1775, -5.1804, -5.3758, -5.3758, -5.3758, -5.4615, -5.4621, -5.4621, -3.8718, -5.7413, -5.7413, -4.0414, -4.7246, -4.5952, -4.1442, -2.9155, -4.1887, -4.259, -5.1774, -4.7244, -4.1244, -3.8737, -3.6926, -4.53, -4.1362, -4.7475, -4.5896, -4.2052, -4.8212, -4.8217, -4.9821, -4.9821, -4.9821, -4.9822, -4.9888, -4.4012, -5.0444, -5.3418, -5.3418, -5.3418, -5.3418, -5.3419, -5.3419, -5.3419, -5.3424, -5.3442, -5.3458, -4.8244, -3.141, -5.6296, -5.6296, -5.6296, -5.6296, -5.6296, -5.6296, -5.6296, -5.6296, -4.3668, -3.2198, -4.6221, -4.5559, -4.5783, -4.1648, -4.6825, -5.3419, -3.4825, -3.5485, -3.6565, -3.7415, -4.2737, -3.4028, -3.5472, -3.8785, -4.6412, -5.0355, -4.9371, -4.7628, -4.8965, -4.9564, -2.6085, -2.6635, -2.605, -2.6997, -2.6998, -2.7214, -2.6785, -2.7214, -4.1973, -5.1593, -5.1711, -5.4451, -5.7233, -5.1753, -5.1585, -6.3047, -6.306, -6.306, -6.3062, -6.3062, -6.3062, -6.3062, -6.3062, -6.3062, -6.3062, -6.3062, -6.3062, -6.3124, -6.3125, -6.3127, -5.1349, -5.3659, -2.5433, -4.5952, -4.8462, -5.1766, -6.1765, -6.2635, -6.2856, -6.3047, -4.2399, -4.2399, -4.5121, -4.5121, -4.5121, -4.5121, -4.5121, -4.5168, -4.7734, -3.1287, -4.9332, -4.9332, -4.9332, -4.9332, -4.9332, -4.9332, -4.9332, -4.9334, -4.9334, -4.9334, -4.9334, -4.9384, -4.1956, -5.2952, -5.2955, -5.2983, -5.1433, -4.8964, -5.4952, -5.5809, -4.6565, -4.951, -4.4966, -4.7274, -4.6801, -3.7819, -3.3589, -3.678, -3.8554, -4.4647, -4.1848, -4.828, -4.7956, -4.8865, -4.9207, -3.8314, -4.1513, -4.3132, -4.3132, -4.4487, -4.4488, -4.874, -4.874, -4.874, -4.739, -4.8766, -4.877, -4.9598, -4.9598, -4.9598, -4.9598, -4.9598, -5.2395, -5.2395, -5.2395, -5.2395, -5.2397, -5.2395, -4.9922, -5.8214, -5.8214, -5.8214, -5.8214, -5.8214, -5.8214, -3.7882, -4.9597, -4.9598, -4.9598, -3.8313, -3.9903, -4.2968, -4.0134, -3.9656, -3.775, -4.0604, -4.874, -4.4494, -4.5781, -4.924, -4.9521], \"loglift\": [30.0, 29.0, 28.0, 27.0, 26.0, 25.0, 24.0, 23.0, 22.0, 21.0, 20.0, 19.0, 18.0, 17.0, 16.0, 15.0, 14.0, 13.0, 12.0, 11.0, 10.0, 9.0, 8.0, 7.0, 6.0, 5.0, 4.0, 3.0, 2.0, 1.0, 1.1114, 1.1114, 1.091, 1.0883, 1.0538, 1.0515, 1.0479, 1.0461, 1.0448, 1.0241, 1.0241, 1.0241, 1.0015, 0.9985, 0.9958, 0.9715, 0.9583, 0.9583, 0.9582, 0.9582, 0.9579, 0.9579, 0.9577, 0.9577, 0.9575, 0.9573, 0.9572, 0.9566, 0.9543, 0.9505, 0.9383, 0.617, 0.6143, 0.8284, 0.5527, 0.4537, 0.4931, 0.8913, 0.6648, 0.7544, 0.2824, 0.6185, 0.5162, 0.1459, 0.1943, 0.5108, 0.3029, -0.4943, 0.3027, 0.1977, 0.0987, -0.3613, -0.0555, 0.2474, 1.619, 1.6067, 1.5943, 1.5936, 1.573, 1.5567, 1.5567, 1.5493, 1.5358, 1.5355, 1.5323, 1.5226, 1.5051, 1.4774, 1.4774, 1.4644, 1.463, 1.4626, 1.4615, 1.4615, 1.458, 1.4193, 1.4193, 1.4193, 1.398, 1.3974, 1.3974, 1.3346, 1.3184, 1.3184, 1.2864, 1.2631, 1.2164, 1.1004, 0.4915, 0.8209, 0.7869, 1.2845, 0.9537, 0.4696, 0.1117, -0.3985, 0.5169, -0.2712, 0.3699, -0.4137, 1.7505, 1.6598, 1.6589, 1.6272, 1.6272, 1.6272, 1.6271, 1.621, 1.5971, 1.5702, 1.5384, 1.5384, 1.5384, 1.5384, 1.5383, 1.5383, 1.5383, 1.5376, 1.5362, 1.5347, 1.4987, 1.4702, 1.4486, 1.4486, 1.4486, 1.4486, 1.4486, 1.4486, 1.4486, 1.4486, 1.4294, 1.1115, 1.2936, 1.2185, 1.2167, 1.0618, 1.1793, 1.3579, 0.6933, 0.4369, 0.4958, 0.4145, 0.7731, -0.1087, -0.1402, -0.0135, 0.755, 1.1394, 0.9907, -0.1688, 0.4314, 0.5208, 1.924, 1.9226, 1.922, 1.9218, 1.9217, 1.9211, 1.8968, 1.8275, 1.8232, 1.65, 1.6399, 1.5694, 1.4736, 1.4188, 1.273, 1.212, 1.2108, 1.2108, 1.2104, 1.2104, 1.2104, 1.2104, 1.2104, 1.2104, 1.2104, 1.2104, 1.2104, 1.204, 1.2038, 1.2037, 1.2011, 1.1995, 0.8637, 0.6113, 0.55, -0.5654, 0.0408, 0.2474, -0.561, 0.5473, 1.8899, 1.8899, 1.8484, 1.8484, 1.8484, 1.8484, 1.8484, 1.8433, 1.7976, 1.7964, 1.7628, 1.7628, 1.7628, 1.7628, 1.7628, 1.7628, 1.7628, 1.7625, 1.7625, 1.7625, 1.7625, 1.7566, 1.7445, 1.6614, 1.6614, 1.6579, 1.642, 1.6144, 1.5972, 1.566, 1.4958, 1.3962, 1.174, 1.2359, 1.1424, 0.3741, -0.0647, 0.187, 0.1299, 0.9016, 0.4092, 1.2612, 0.9832, 0.1594, 0.5074, 2.3025, 2.2541, 2.2232, 2.2232, 2.1962, 2.1961, 2.0865, 2.0865, 2.0864, 2.0849, 2.0835, 2.083, 2.0599, 2.0599, 2.0599, 2.0599, 2.0599, 1.9621, 1.9621, 1.9621, 1.9621, 1.9619, 1.7408, 1.7167, 1.6986, 1.6986, 1.6986, 1.6986, 1.6986, 1.6986, 1.6359, 1.6534, 1.6533, 1.6533, 1.5028, 1.487, 1.3809, 1.104, 0.3656, -0.4808, -0.1953, 1.1137, -1.0424, -0.4258, 1.2283, 0.9097]}, \"token.table\": {\"Topic\": [3, 2, 4, 5, 6, 6, 1, 4, 1, 3, 4, 6, 2, 2, 3, 6, 4, 3, 4, 1, 5, 2, 2, 1, 2, 3, 5, 1, 5, 5, 3, 1, 2, 4, 1, 2, 3, 5, 6, 1, 3, 4, 4, 5, 4, 2, 6, 1, 2, 3, 6, 1, 2, 5, 3, 4, 2, 6, 6, 5, 1, 3, 5, 1, 6, 2, 6, 5, 1, 2, 3, 4, 5, 6, 4, 6, 5, 3, 4, 1, 5, 6, 3, 5, 2, 3, 6, 2, 5, 1, 5, 5, 6, 6, 2, 5, 1, 4, 5, 1, 5, 2, 1, 1, 5, 5, 6, 1, 2, 3, 5, 6, 1, 1, 2, 5, 5, 2, 4, 4, 6, 5, 1, 1, 3, 1, 1, 1, 2, 3, 1, 3, 1, 2, 3, 5, 6, 1, 2, 3, 6, 5, 4, 1, 2, 3, 3, 6, 2, 1, 4, 5, 6, 2, 6, 6, 1, 5, 4, 5, 4, 3, 2, 6, 1, 5, 1, 2, 6, 1, 1, 3, 4, 2, 6, 5, 6, 1, 6, 2, 3, 6, 2, 6, 4, 1, 2, 1, 3, 6, 1, 2, 3, 5, 1, 2, 3, 5, 1, 3, 1, 2, 4, 6, 4, 4, 1, 3, 2, 3, 1, 4, 1, 2, 2, 2, 4, 6, 4, 3, 4, 2, 4, 1, 2, 4, 6, 6, 3, 6, 3, 3, 1, 3, 5, 1, 2, 3, 5, 6, 3, 1, 4, 4, 1, 3, 3, 1, 3, 4, 6, 3, 2, 1, 2, 2, 5, 5, 1, 2, 5, 6, 4, 4, 3, 3, 3, 1, 2, 3, 1, 2, 3, 5, 6, 3, 1, 3, 1, 6, 1, 2, 1, 2, 3, 6, 1, 4, 1, 2, 3, 6, 4, 5, 3, 1, 5, 5, 2, 2, 2, 3, 3, 6, 2, 4, 2, 3, 5, 6, 1, 2, 3, 1, 3, 1, 5, 6, 3, 1, 1, 2, 6, 2, 3, 1, 1, 1, 6, 1, 3, 6, 1, 5, 2, 1, 2, 5, 6, 4, 2, 5, 6, 1, 2, 1, 1, 2, 1, 1, 2, 5, 6, 5, 5, 6, 2, 5, 6, 6], \"Freq\": [0.655424046179605, 0.0428695778611255, 0.943130712944761, 0.3289759732639613, 0.3289759732639613, 0.46537665648144877, 0.7689654785913611, 0.9877255130349297, 0.22216687583272002, 0.6665006274981601, 0.08886675033308801, 0.044433375166544005, 0.6751854148189977, 0.590408287147413, 0.2952041435737065, 0.14760207178685325, 0.81199173215365, 0.3136194607749011, 0.6272389215498022, 0.6877865113120606, 0.6308018567710327, 0.9657756836200426, 0.8417873186397461, 0.5073768946180202, 0.08456281576967004, 0.2255008420524534, 0.19731323679589674, 0.7597787346881013, 0.3039114938752405, 0.7147770868666051, 0.8523398229601046, 0.6643451206766511, 0.2214483735588837, 0.2214483735588837, 0.1281872270949682, 0.1281872270949682, 0.1281872270949682, 0.3845616812849046, 0.1281872270949682, 0.3896838542342552, 0.2922628906756914, 0.2922628906756914, 0.8119914037657846, 0.7666218984800897, 0.8119913420865666, 0.8418084478690135, 0.9139902850062448, 0.2581895891378023, 0.12909479456890116, 0.2581895891378023, 0.38728438370670354, 0.38962105684514436, 0.19481052842257218, 0.38962105684514436, 0.5237791476779702, 0.9877317670912653, 0.5141498479989987, 0.5925852279042548, 0.49399499127526714, 0.5609885420901167, 0.4354957118160281, 0.5806609490880374, 0.7147681858801926, 0.5008756965405341, 0.40070055723242726, 0.9462809234662266, 0.49399499127526714, 0.7666214670302341, 0.1865918678929712, 0.30654378296702406, 0.13327990563783657, 0.3331997640945914, 0.013327990563783657, 0.026655981127567313, 0.8122094577357737, 0.5925852279042548, 0.7147681858801926, 0.523778378670206, 0.811757543786625, 0.6877674514834358, 0.3289759732639613, 0.3289759732639613, 0.8593599480820276, 0.46362142695801195, 0.24617299114607774, 0.7385189734382333, 0.9312167045999364, 0.8442443086206852, 0.7147770868666051, 0.5897258729778441, 0.29486293648892203, 0.7147770868666051, 0.5925857127123353, 0.8123419382738593, 0.5141521951403257, 0.7147681858801926, 0.8616835392048628, 0.811991516427768, 0.7666215192159176, 0.25216394296839567, 0.5043278859367913, 0.7892979491475812, 0.8616745321922668, 0.5153107860648526, 0.5153107860648526, 0.7815239558258742, 0.8147921119619674, 0.27453127183834936, 0.4117969077575241, 0.06863281795958734, 0.13726563591917468, 0.06863281795958734, 0.8943828891873116, 0.5673215264727126, 0.09455358774545211, 0.2836607632363563, 0.4638259957648375, 0.8118351801161656, 0.13530586335269426, 0.9533246806409769, 0.9312168188150751, 0.46391990368224706, 0.8275047371659332, 0.687781580560674, 0.8645042565683574, 0.6532351739967244, 0.6893216224332199, 0.3971179554662916, 0.3971179554662916, 0.1323726518220972, 0.4973360103696169, 0.4973360103696169, 0.4846255055982074, 0.1474947190951066, 0.1474947190951066, 0.1474947190951066, 0.0632120224693314, 0.3358669007318308, 0.03358669007318308, 0.4702136610245631, 0.13434676029273232, 0.5312713707779312, 0.8119914688379195, 0.32890904323284625, 0.24668178242463468, 0.41113630404105783, 0.4749382263047711, 0.4749382263047711, 0.8453673990124702, 0.27433224939128587, 0.5486644987825717, 0.3289802095190456, 0.3289802095190456, 0.7040728831023864, 0.3520364415511932, 0.9139902850062448, 0.16782800722079955, 0.6713120288831982, 0.29700299368081545, 0.5940059873616309, 0.49144094356218554, 0.8595250396454569, 0.9606634427723997, 0.6791801839300089, 0.687781645048381, 0.7147770868666051, 0.12560766835407985, 0.7536460101244791, 0.12560766835407985, 0.6877590172281611, 0.6877834549487982, 0.8593599088272289, 0.909376595472619, 0.9239545911679033, 0.8148366876548182, 0.6225126239314219, 0.20750420797714061, 0.3620439848092098, 0.3620439848092098, 0.42452524328588165, 0.42452524328588165, 0.8147919476107303, 0.9370312339492906, 0.4654100258770469, 0.9857422424222114, 0.41860383827996756, 0.5860453735919546, 0.3169466764668644, 0.21129778431124294, 0.4225955686224859, 0.4040215105063962, 0.2138937408563274, 0.237659712062586, 0.1425958272375516, 0.3494297371945206, 0.3057510200452055, 0.1310361514479452, 0.21839358574657536, 0.17788356113294362, 0.7115342445317745, 0.895077108340987, 0.2493719753837807, 0.4987439507675614, 0.2493719753837807, 0.9629078339620365, 0.8119908611934609, 0.2906769748404136, 0.5813539496808272, 0.9397315669766058, 0.5237791476779702, 0.08350835721892562, 0.8768377507987191, 0.8769014916160508, 0.67520517879934, 0.7892977080040695, 0.32278294753298536, 0.6455658950659707, 0.8017566436887221, 0.811767778077541, 0.5237812463797968, 0.8119913581938655, 0.7892976433324834, 0.8120930848975773, 0.41775014769614743, 0.41775014769614743, 0.41775014769614743, 0.9312168129831319, 0.8147921120917467, 0.859359137011386, 0.8147919729044274, 0.5237791476779702, 0.5237791476779702, 0.8369082166115679, 0.13948470276859465, 0.7147770868666051, 0.5616428210790638, 0.05616428210790638, 0.2527392694855787, 0.05616428210790638, 0.05616428210790638, 0.8593409833434893, 0.6877747520213626, 0.8018823807386913, 0.5897692481157539, 0.8645767906000297, 0.8646997783950842, 0.8596028410520627, 0.6878342898196174, 0.5237787771322374, 0.8122094076499635, 0.5925856909025504, 0.8592192245811827, 0.8750727582451306, 0.2828312775835062, 0.5656625551670124, 0.6746229993816724, 0.8115597703834144, 0.7147770868666051, 0.6034672168233001, 0.20115573894110003, 0.20115573894110003, 0.5925690148023153, 0.8117609739171917, 0.8119915586695906, 0.6554191179556397, 0.8593409796633602, 0.6554139476320909, 0.34348850311289775, 0.27479080249031823, 0.34348850311289775, 0.5595650838079942, 0.11905640081021153, 0.14286768097225383, 0.11905640081021153, 0.059528200405105765, 0.8593598930737808, 0.32758200060603315, 0.49137300090904973, 0.7324951880682027, 0.2441650626894009, 0.13330114837751814, 0.7998068902651088, 0.3686041341435727, 0.2948833073148581, 0.07372082682871453, 0.2948833073148581, 0.6877691496135536, 0.8119912680592102, 0.5175212432375501, 0.11500472071945558, 0.3162629819785029, 0.028751180179863896, 0.9803776114369896, 0.7662885661924518, 0.658921767629369, 0.6877753772088444, 0.7147681858801926, 0.8115591230707808, 0.9655359035186265, 0.9511095588098827, 0.8418084478690135, 0.6554229265314964, 0.7174819424332269, 0.35874097121661347, 0.7252829857594599, 0.2417609952531533, 0.6369152012649298, 0.27296365768496994, 0.09098788589498999, 0.8147921183085929, 0.28439621908013235, 0.14219810954006618, 0.5687924381602647, 0.7689630750661899, 0.8593409833434893, 0.4476732557889361, 0.4476732557889361, 0.14922441859631203, 0.65578889212277, 0.893840530203652, 0.5493720951854945, 0.09156201586424907, 0.3662480634569963, 0.96066349455914, 0.5237812463797968, 0.7689926850868961, 0.6889017133692508, 0.6877812895941862, 0.6791670352995182, 0.15520164319031693, 0.46560492957095073, 0.15520164319031693, 0.8519137273944601, 0.15489340498081094, 0.6745697892120197, 0.428517218019472, 0.14283907267315735, 0.2856781453463147, 0.14283907267315735, 0.8005542735830095, 0.8453673952253735, 0.7140991942680354, 0.49399499127526714, 0.5166266286634366, 0.5166266286634366, 0.9683671157269115, 0.8546896335297661, 0.08996732984523854, 0.9199091168684107, 0.9199091168684107, 0.1824678766555384, 0.7906941321739998, 0.060822625551846136, 0.7147770868666051, 0.7666218327683363, 0.49399499127526714, 0.6747914646746979, 0.7666218447053181, 0.8147921192122609, 0.49399499127526714], \"Term\": [\"00\", \"1\", \"1\", \"19\", \"19\", \"1949\", \"2\", \"4\", \"a\", \"a\", \"a\", \"a\", \"after\", \"against\", \"against\", \"against\", \"aggression\", \"ago\", \"ago\", \"air\", \"always\", \"an\", \"analysis\", \"and\", \"and\", \"and\", \"and\", \"are\", \"are\", \"area\", \"army\", \"around\", \"around\", \"around\", \"as\", \"as\", \"as\", \"as\", \"as\", \"at\", \"at\", \"at\", \"authoritarian\", \"availability\", \"backlash\", \"bad\", \"based\", \"be\", \"be\", \"be\", \"be\", \"been\", \"been\", \"been\", \"bike\", \"billion\", \"bottleneck\", \"brownie\", \"bump\", \"bunch\", \"but\", \"but\", \"buy\", \"by\", \"by\", \"caption\", \"chart\", \"check\", \"china\", \"china\", \"china\", \"china\", \"china\", \"china\", \"chips\", \"chocolate\", \"company\", \"conduct\", \"consistent\", \"control\", \"covid\", \"covid\", \"current\", \"dangerous\", \"day\", \"day\", \"defend\", \"democracy\", \"describe\", \"don\", \"don\", \"each\", \"economy\", \"en\", \"enjoy\", \"equity\", \"everything\", \"exactly\", \"excursion\", \"exercise\", \"exercise\", \"feel\", \"find\", \"fire\", \"fire\", \"follow\", \"food\", \"for\", \"for\", \"for\", \"for\", \"for\", \"foreign\", \"from\", \"from\", \"from\", \"front\", \"good\", \"good\", \"got\", \"happen\", \"have\", \"he\", \"here\", \"house\", \"how\", \"however\", \"i\", \"i\", \"i\", \"if\", \"if\", \"in\", \"in\", \"in\", \"in\", \"in\", \"is\", \"is\", \"is\", \"is\", \"isolated\", \"issue\", \"it\", \"it\", \"it\", \"join\", \"join\", \"king\", \"know\", \"know\", \"launch\", \"launch\", \"let\", \"let\", \"li\", \"live\", \"live\", \"long\", \"long\", \"losing\", \"lost\", \"love\", \"me\", \"mean\", \"media\", \"military\", \"military\", \"military\", \"mindlessly\", \"ministry\", \"mix\", \"more\", \"music\", \"must\", \"my\", \"my\", \"n\", \"n\", \"nancy\", \"nancy\", \"near\", \"need\", \"never\", \"new\", \"no\", \"no\", \"not\", \"not\", \"not\", \"of\", \"of\", \"of\", \"of\", \"on\", \"on\", \"on\", \"on\", \"our\", \"our\", \"out\", \"over\", \"over\", \"over\", \"panda\", \"paper\", \"part\", \"part\", \"peace\", \"perfect\", \"pink\", \"pink\", \"policy\", \"political\", \"positive\", \"post\", \"post\", \"president\", \"proclamation\", \"province\", \"provoking\", \"pure\", \"range\", \"read\", \"read\", \"read\", \"ready\", \"recipe\", \"regular\", \"return\", \"ride\", \"riverside\", \"roc\", \"roc\", \"role\", \"s\", \"s\", \"s\", \"s\", \"s\", \"said\", \"sang\", \"see\", \"semiconductor\", \"since\", \"situation\", \"small\", \"so\", \"soil\", \"source\", \"space\", \"speaker\", \"speech\", \"statement\", \"statement\", \"strait\", \"summer\", \"sura\", \"t\", \"t\", \"t\", \"take\", \"taking\", \"taunting\", \"territorial\", \"territory\", \"than\", \"that\", \"that\", \"that\", \"the\", \"the\", \"the\", \"the\", \"the\", \"then\", \"there\", \"there\", \"they\", \"they\", \"think\", \"think\", \"this\", \"this\", \"this\", \"this\", \"thought\", \"tiger\", \"to\", \"to\", \"to\", \"to\", \"today\", \"too\", \"top\", \"totalitarianism\", \"training\", \"travel\", \"true\", \"trump\", \"turns\", \"u\", \"united\", \"united\", \"us\", \"us\", \"via\", \"via\", \"via\", \"video\", \"visit\", \"visit\", \"visit\", \"wall\", \"wang\", \"war\", \"war\", \"war\", \"was\", \"watch\", \"we\", \"we\", \"we\", \"weekend\", \"welcome\", \"what\", \"when\", \"who\", \"why\", \"will\", \"will\", \"will\", \"with\", \"with\", \"work\", \"world\", \"world\", \"world\", \"world\", \"worldwar3\", \"x\", \"year\", \"yesterday\", \"you\", \"you\", \"\\u2018\", \"\\u2019\", \"\\u2019\", \"\\u201c\", \"\\u201d\", \"\\u2026\", \"\\u2026\", \"\\u2026\", \"\\ud83c\\udde8\\ud83c\\uddf3\", \"\\ud83c\\uddec\\ud83c\\uddf7\", \"\\ud83c\\uddf3\\ud83c\\uddeb\", \"\\ud83c\\uddf9\\ud83c\\uddfc\", \"\\ud83d\\udc49\", \"\\ud83d\\udd17\", \"\\ud83d\\ude22\"]}, \"R\": 30, \"lambda.step\": 0.01, \"plot.opts\": {\"xlab\": \"PC1\", \"ylab\": \"PC2\"}, \"topic.order\": [1, 3, 6, 2, 4, 5]};\n",
       "\n",
       "function LDAvis_load_lib(url, callback){\n",
       "  var s = document.createElement('script');\n",
       "  s.src = url;\n",
       "  s.async = true;\n",
       "  s.onreadystatechange = s.onload = callback;\n",
       "  s.onerror = function(){console.warn(\"failed to load library \" + url);};\n",
       "  document.getElementsByTagName(\"head\")[0].appendChild(s);\n",
       "}\n",
       "\n",
       "if(typeof(LDAvis) !== \"undefined\"){\n",
       "   // already loaded: just create the visualization\n",
       "   !function(LDAvis){\n",
       "       new LDAvis(\"#\" + \"ldavis_el394422095624053449967366061\", ldavis_el394422095624053449967366061_data);\n",
       "   }(LDAvis);\n",
       "}else if(typeof define === \"function\" && define.amd){\n",
       "   // require.js is available: use it to load d3/LDAvis\n",
       "   require.config({paths: {d3: \"https://d3js.org/d3.v5\"}});\n",
       "   require([\"d3\"], function(d3){\n",
       "      window.d3 = d3;\n",
       "      LDAvis_load_lib(\"https://cdn.jsdelivr.net/gh/bmabey/pyLDAvis@3.3.1/pyLDAvis/js/ldavis.v3.0.0.js\", function(){\n",
       "        new LDAvis(\"#\" + \"ldavis_el394422095624053449967366061\", ldavis_el394422095624053449967366061_data);\n",
       "      });\n",
       "    });\n",
       "}else{\n",
       "    // require.js not available: dynamically load d3 & LDAvis\n",
       "    LDAvis_load_lib(\"https://d3js.org/d3.v5.js\", function(){\n",
       "         LDAvis_load_lib(\"https://cdn.jsdelivr.net/gh/bmabey/pyLDAvis@3.3.1/pyLDAvis/js/ldavis.v3.0.0.js\", function(){\n",
       "                 new LDAvis(\"#\" + \"ldavis_el394422095624053449967366061\", ldavis_el394422095624053449967366061_data);\n",
       "            })\n",
       "         });\n",
       "}\n",
       "</script>"
      ],
      "text/plain": [
       "PreparedData(topic_coordinates=              x         y  topics  cluster       Freq\n",
       "topic                                                \n",
       "0      0.091180  0.061431       1        1  30.252790\n",
       "2      0.016530  0.032801       2        1  18.363640\n",
       "5      0.066367  0.128735       3        1  15.423073\n",
       "1     -0.298827 -0.015642       4        1  14.211826\n",
       "3      0.095106 -0.201880       5        1  13.060593\n",
       "4      0.029644 -0.005445       6        1   8.688077, topic_info=        Term       Freq      Total Category  logprob  loglift\n",
       "93     today  24.000000  24.000000  Default  30.0000  30.0000\n",
       "161      new  24.000000  24.000000  Default  29.0000  29.0000\n",
       "160      got  23.000000  23.000000  Default  28.0000  28.0000\n",
       "159  billion  22.000000  22.000000  Default  27.0000  27.0000\n",
       "113        4  22.000000  22.000000  Default  26.0000  26.0000\n",
       "..       ...        ...        ...      ...      ...      ...\n",
       "3        let   1.503263   5.681230   Topic6  -4.8740   1.1137\n",
       "11     china   2.298601  75.030065   Topic6  -4.4494  -1.0424\n",
       "131        s   2.020923  35.609820   Topic6  -4.5781  -0.4258\n",
       "373       my   1.429985   4.819179   Topic6  -4.9240   1.2283\n",
       "97      will   1.390332   6.443231   Topic6  -4.9521   0.9097\n",
       "\n",
       "[313 rows x 6 columns], token_table=      Topic      Freq Term\n",
       "term                      \n",
       "530       3  0.655424   00\n",
       "45        2  0.042870    1\n",
       "45        4  0.943131    1\n",
       "523       5  0.328976   19\n",
       "523       6  0.328976   19\n",
       "...     ...       ...  ...\n",
       "623       6  0.493995   🇳🇫\n",
       "453       2  0.674791   🇹🇼\n",
       "35        5  0.766622    👉\n",
       "426       6  0.814792    🔗\n",
       "624       6  0.493995    😢\n",
       "\n",
       "[360 rows x 3 columns], R=30, lambda_step=0.01, plot_opts={'xlab': 'PC1', 'ylab': 'PC2'}, topic_order=[1, 3, 6, 2, 4, 5])"
      ]
     },
     "execution_count": 100,
     "metadata": {},
     "output_type": "execute_result"
    }
   ],
   "source": [
    "import pyLDAvis.gensim_models as gensimvis\n",
    "import pickle \n",
    "import pyLDAvis\n",
    "# Visualize the topics\n",
    "pyLDAvis.enable_notebook()\n",
    "\n",
    "LDAvis_prepared = gensimvis.prepare(lda_model, corpus, id2word)\n",
    "LDAvis_prepared"
   ]
  },
  {
   "cell_type": "code",
   "execution_count": null,
   "id": "7d813dcb",
   "metadata": {},
   "outputs": [],
   "source": []
  },
  {
   "cell_type": "markdown",
   "id": "a261d72b",
   "metadata": {},
   "source": [
    "## Sentiment Analysis"
   ]
  },
  {
   "cell_type": "code",
   "execution_count": 97,
   "id": "6a5366eb",
   "metadata": {},
   "outputs": [],
   "source": [
    "# importing \n",
    "import numpy as np \n",
    "import matplotlib.pyplot as plt\n",
    "import seaborn as sns\n",
    "%matplotlib inline"
   ]
  },
  {
   "cell_type": "code",
   "execution_count": 41,
   "id": "f7d98b9b",
   "metadata": {},
   "outputs": [],
   "source": [
    "# adding sentiment columne "
   ]
  },
  {
   "cell_type": "code",
   "execution_count": 42,
   "id": "d53e4ba2",
   "metadata": {
    "scrolled": false
   },
   "outputs": [
    {
     "data": {
      "text/html": [
       "<div>\n",
       "<style scoped>\n",
       "    .dataframe tbody tr th:only-of-type {\n",
       "        vertical-align: middle;\n",
       "    }\n",
       "\n",
       "    .dataframe tbody tr th {\n",
       "        vertical-align: top;\n",
       "    }\n",
       "\n",
       "    .dataframe thead th {\n",
       "        text-align: right;\n",
       "    }\n",
       "</style>\n",
       "<table border=\"1\" class=\"dataframe\">\n",
       "  <thead>\n",
       "    <tr style=\"text-align: right;\">\n",
       "      <th></th>\n",
       "      <th>created_at</th>\n",
       "      <th>source</th>\n",
       "      <th>original_text</th>\n",
       "      <th>subjectivity</th>\n",
       "      <th>polarity</th>\n",
       "      <th>lang</th>\n",
       "      <th>favorite_count</th>\n",
       "      <th>retweet_count</th>\n",
       "      <th>original_author</th>\n",
       "      <th>followers_count</th>\n",
       "      <th>friends_count</th>\n",
       "      <th>possibly_sensitive</th>\n",
       "      <th>hashtags</th>\n",
       "      <th>user_mentions</th>\n",
       "      <th>place</th>\n",
       "      <th>clean_text</th>\n",
       "    </tr>\n",
       "  </thead>\n",
       "  <tbody>\n",
       "    <tr>\n",
       "      <th>5</th>\n",
       "      <td>2022-08-07 22:31:02+00:00</td>\n",
       "      <td>&lt;a href=\"http://twitter.com/download/android\" ...</td>\n",
       "      <td>RT @benedictrogers: We must not let this happe...</td>\n",
       "      <td>0.5</td>\n",
       "      <td>0.2</td>\n",
       "      <td>en</td>\n",
       "      <td>116</td>\n",
       "      <td>36</td>\n",
       "      <td>GraceCh15554845</td>\n",
       "      <td>207</td>\n",
       "      <td>54</td>\n",
       "      <td>False</td>\n",
       "      <td>Taiwan</td>\n",
       "      <td>benedictrogers</td>\n",
       "      <td>Melbourne, Victoria</td>\n",
       "      <td>we must not let this happen  we must be ready...</td>\n",
       "    </tr>\n",
       "  </tbody>\n",
       "</table>\n",
       "</div>"
      ],
      "text/plain": [
       "                 created_at  \\\n",
       "5 2022-08-07 22:31:02+00:00   \n",
       "\n",
       "                                              source  \\\n",
       "5  <a href=\"http://twitter.com/download/android\" ...   \n",
       "\n",
       "                                       original_text  subjectivity  polarity  \\\n",
       "5  RT @benedictrogers: We must not let this happe...           0.5       0.2   \n",
       "\n",
       "  lang  favorite_count  retweet_count  original_author  followers_count  \\\n",
       "5   en             116             36  GraceCh15554845              207   \n",
       "\n",
       "   friends_count possibly_sensitive hashtags   user_mentions  \\\n",
       "5             54              False   Taiwan  benedictrogers   \n",
       "\n",
       "                 place                                         clean_text  \n",
       "5  Melbourne, Victoria   we must not let this happen  we must be ready...  "
      ]
     },
     "execution_count": 42,
     "metadata": {},
     "output_type": "execute_result"
    }
   ],
   "source": [
    "tweets_df.head(1)"
   ]
  },
  {
   "cell_type": "code",
   "execution_count": 72,
   "id": "4523632c",
   "metadata": {},
   "outputs": [],
   "source": [
    "# adding sentiment \n",
    "tweets_df.insert(1,column = 'sentiment',value = \"\")\n",
    "#tweets_df.insert(4,column = 'sentiment',value = tweets_df[''])"
   ]
  },
  {
   "cell_type": "code",
   "execution_count": 78,
   "id": "21c3e86e",
   "metadata": {},
   "outputs": [],
   "source": [
    "def text_category (polarity):\n",
    "    if polarity > 0:\n",
    "        return 'positive'\n",
    "    if polarity < 0:\n",
    "        return 'negative'\n",
    "    else:\n",
    "        return 'neutral'"
   ]
  },
  {
   "cell_type": "code",
   "execution_count": 79,
   "id": "870cc9d5",
   "metadata": {},
   "outputs": [
    {
     "name": "stdout",
     "output_type": "stream",
     "text": [
      "sucees\n"
     ]
    }
   ],
   "source": [
    "score= pd.Series([text_category(row_value) for row_value in tweets_df['polarity']])\n",
    "print(\"sucees\")\n",
    "tweets_df = pd.concat([tweets_df, score.rename('sentiment')], axis=1)\n"
   ]
  },
  {
   "cell_type": "code",
   "execution_count": 87,
   "id": "2d56e4eb",
   "metadata": {},
   "outputs": [
    {
     "name": "stdout",
     "output_type": "stream",
     "text": [
      "<class 'pandas.core.frame.DataFrame'>\n",
      "Int64Index: 5494 entries, 5 to 3797\n",
      "Data columns (total 17 columns):\n",
      " #   Column              Non-Null Count  Dtype              \n",
      "---  ------              --------------  -----              \n",
      " 0   created_at          1976 non-null   datetime64[ns, UTC]\n",
      " 1   source              1976 non-null   object             \n",
      " 2   original_text       1976 non-null   object             \n",
      " 3   subjectivity        1976 non-null   float64            \n",
      " 4   polarity            1976 non-null   float64            \n",
      " 5   lang                1976 non-null   object             \n",
      " 6   favorite_count      1976 non-null   float64            \n",
      " 7   retweet_count       1976 non-null   float64            \n",
      " 8   original_author     1976 non-null   object             \n",
      " 9   followers_count     1976 non-null   float64            \n",
      " 10  friends_count       1976 non-null   float64            \n",
      " 11  possibly_sensitive  1976 non-null   object             \n",
      " 12  hashtags            1976 non-null   object             \n",
      " 13  user_mentions       1976 non-null   object             \n",
      " 14  place               1976 non-null   object             \n",
      " 15  clean_text          1976 non-null   object             \n",
      " 16  sentiment           3799 non-null   object             \n",
      "dtypes: datetime64[ns, UTC](1), float64(6), object(10)\n",
      "memory usage: 772.6+ KB\n"
     ]
    }
   ],
   "source": [
    "tweets_df.info()"
   ]
  },
  {
   "cell_type": "code",
   "execution_count": 118,
   "id": "77c1d717",
   "metadata": {},
   "outputs": [],
   "source": [
    "# droping null value \n",
    "tweets_df.dropna(inplace = True)\n"
   ]
  },
  {
   "cell_type": "code",
   "execution_count": 119,
   "id": "1606636d",
   "metadata": {},
   "outputs": [],
   "source": [
    "# Selecting the feature and the label\n",
    "features = tweets_df.iloc[:, 15].values\n",
    "labels = tweets_df.iloc[:, 16].values"
   ]
  },
  {
   "cell_type": "code",
   "execution_count": 72,
   "id": "d96c136f",
   "metadata": {},
   "outputs": [
    {
     "name": "stdout",
     "output_type": "stream",
     "text": [
      "['Melbourne, Victoria' 'Florida, USA' 'Hong Kong' 'Paris' 'Hong Kong'\n",
      " 'Turin, ITALY' 'London' 'Singapore' 'Singapore' 'SHITHOLE DEMOCRAT CITY'\n",
      " 'Singapore' 'Barcelona. España ' 'London' 'US' 'United States'\n",
      " 'Hargeisa- Rep of Somaliland' 'New York, NY' 'North West, England'\n",
      " 'United Kingdom' 'Pakistan' 'Washington, DC' 'North Carolina, USA '\n",
      " 'Beijing, China ' 'New York, NY' 'Chicago' 'India' 'United Kingdom'\n",
      " 'United Kingdom' 'United Kingdom' 'Taipei, Taiwan'\n",
      " \"Shanghai, People's Republic of China\" 'Orwell 1984 '\n",
      " ' GuangZhou，Shenzhen, Canada，' 'Karachi, Pakistan' 'London'\n",
      " 'Ft. Worth, Tx' 'India' 'Canada' 'Saltillo' 'Peshawar, Pakistan'\n",
      " 'Irvine, CA' 'The Netherlands' 'Sevilla, España' 'Venezuela'\n",
      " 'Buenos Aires & London' 'Paris' 'Quelque Part' 'Spokane, WA'\n",
      " 'London, England' 'London, England' 'BLACKO WIASE  - Sad Boys FC🧳'\n",
      " 'World' 'Hong Kong ' 'www.facebook.com/mariocavolo' 'Journalism/News'\n",
      " 'san juan' 'Wop wops' 'กรุงเทพมหานคร, ประเทศไทย' 'Berkeley, CA'\n",
      " 'West Haven, CT' 'Cupertino' 'Stranded in Mayberry' 'New York, USA'\n",
      " 'Brooklyn, NY' 'New Delhi, India' 'Adventureland (冒险岛)' 'Clydebank'\n",
      " 'Electric Ladyland' 'Sevilla' 'Unami, Lenapehoking ' 'Earth'\n",
      " 'London, England' 'La Serena, Chile' 'Hennessy in a TeaCup '\n",
      " 'Hennessy in a TeaCup ' 'Hennessy in a TeaCup ' '村里'\n",
      " 'South East, England' 'Virginia' '奈良県 奈良市 Nara, JAPAN' 'Bangkok.....'\n",
      " 'Everywhere🌍' 'Hidden Leaf Villiage' 'Bulgaria' '🇨🇳🇪🇺🇮🇪' 'Paris'\n",
      " 'Islamabad,Pakistan' 'Taipei, Taiwan 🇹🇼' 'Four Corners, FL'\n",
      " 'Deep inside the rabbit hole' 'England' 'California'\n",
      " 'Rethinking the World with You' 'Danbury, CT' 'Rize, Türkiye'\n",
      " 'Delhi Church of scientology ' 'Pindwara, India ' 'Los Angeles'\n",
      " 'Pale blue dot getting hotter' '#DO NOT COMPLY EVER💥'\n",
      " 'Frankfurt International School' 'Global citizen' 'Animal Farm'\n",
      " 'New Delhi, India' 'belvil' 'Mt Shasta, California USA' 'Sydney'\n",
      " 'This World' 'Bumblefeck Nowhere ' 'Los Angeles, CA' 'Simi Valley, CA'\n",
      " 'Simi Valley, CA' 'frontalier' 'Beograd, Srbija'\n",
      " 'Kolkata, India (Calcutta)' 'Asia Europe Sahara' 'Embu ' 'Shanghai'\n",
      " 'Pindwara, India ' '无产阶级文化大革命📕🇨🇳' 'Taiwan' 'Lausanne, Vaud, Suisse'\n",
      " 'Ottawa, Ontario' 'Berlin' 'Dhaka-uttara ' 'Hong Kong' 'Hong Kong'\n",
      " 'https://smartsway.fm/podcast/' 'India' 'Quebec, Canada' 'Oceania' '台灣'\n",
      " 'Paris' 'Paris' 'United States' 'California, USA' 'World' 'Maine, USA'\n",
      " 'Taiwan' 'Brisbane, Australia 🇦🇺 ' 'Stranded in Mayberry'\n",
      " 'London, England' 'Sevilla' 'un endroit ' 'Vancouver, BC'\n",
      " 'Washington, D.C.' 'Beach' '台灣' 'The Republic of Somaliland'\n",
      " 'Voice of America' 'London, England' 'Afghanistan' 'Houston, TX']\n"
     ]
    }
   ],
   "source": [
    "print(features)"
   ]
  },
  {
   "cell_type": "code",
   "execution_count": 122,
   "id": "8c4b23f2",
   "metadata": {},
   "outputs": [],
   "source": [
    "#Data Cleaning using regular expression\n",
    "processed_features = []\n",
    "\n",
    "for sentence in range(0, len(features)):\n",
    "    # Remove all the special characters\n",
    "    processed_feature = re.sub(r'\\W', ' ', str(features[sentence]))\n",
    "\n",
    "    # remove all single characters\n",
    "    processed_feature= re.sub(r'\\s+[a-zA-Z]\\s+', ' ', processed_feature)\n",
    "\n",
    "    # Remove single characters from the start\n",
    "    processed_feature = re.sub(r'\\^[a-zA-Z]\\s+', ' ', processed_feature) \n",
    "\n",
    "    # Substituting multiple spaces with single space\n",
    "    processed_feature = re.sub(r'\\s+', ' ', processed_feature, flags=re.I)\n",
    "\n",
    "    # Removing prefixed 'b'\n",
    "    processed_feature = re.sub(r'^b\\s+', '', processed_feature)\n",
    "\n",
    "    # Converting to Lowercase\n",
    "    processed_feature = processed_feature.lower()\n",
    "\n",
    "    processed_features.append(processed_feature)"
   ]
  },
  {
   "cell_type": "code",
   "execution_count": 70,
   "id": "dde2866a",
   "metadata": {
    "scrolled": true
   },
   "outputs": [
    {
     "name": "stderr",
     "output_type": "stream",
     "text": [
      "[nltk_data] Downloading package stopwords to\n",
      "[nltk_data]     C:\\Users\\Ekubay\\AppData\\Roaming\\nltk_data...\n",
      "[nltk_data]   Package stopwords is already up-to-date!\n"
     ]
    },
    {
     "data": {
      "text/plain": [
       "True"
      ]
     },
     "execution_count": 70,
     "metadata": {},
     "output_type": "execute_result"
    }
   ],
   "source": [
    "import nltk\n",
    "nltk.download('stopwords')"
   ]
  },
  {
   "cell_type": "code",
   "execution_count": 123,
   "id": "1c466be6",
   "metadata": {},
   "outputs": [],
   "source": [
    "from nltk.corpus import stopwords\n",
    "from sklearn.feature_extraction.text import TfidfVectorizer\n",
    "\n",
    "vectorizer = TfidfVectorizer (max_features=2500, min_df=7, max_df=0.8, stop_words=stopwords.words('english'))\n",
    "processed_features_vectorized = vectorizer.fit_transform(processed_features).toarray()"
   ]
  },
  {
   "cell_type": "code",
   "execution_count": 124,
   "id": "f01b36dd",
   "metadata": {},
   "outputs": [],
   "source": [
    "# split\n",
    "from sklearn.model_selection import train_test_split\n",
    "\n",
    "X_train, X_test, y_train, y_test = train_test_split(processed_features_vectorized, labels, test_size=0.2, random_state=0)"
   ]
  },
  {
   "cell_type": "code",
   "execution_count": 126,
   "id": "e5b50845",
   "metadata": {
    "scrolled": true
   },
   "outputs": [
    {
     "data": {
      "text/plain": [
       "RandomForestClassifier(n_estimators=200, random_state=0)"
      ]
     },
     "execution_count": 126,
     "metadata": {},
     "output_type": "execute_result"
    }
   ],
   "source": [
    "# training \n",
    "from sklearn.ensemble import RandomForestClassifier\n",
    "\n",
    "text_classifier = RandomForestClassifier(n_estimators=200, random_state=0)\n",
    "text_classifier.fit(X_train, y_train)"
   ]
  },
  {
   "cell_type": "code",
   "execution_count": 127,
   "id": "baa010c1",
   "metadata": {},
   "outputs": [],
   "source": [
    "#prediction\n",
    "predictions = text_classifier.predict(X_test)"
   ]
  },
  {
   "cell_type": "code",
   "execution_count": 128,
   "id": "6d9e024d",
   "metadata": {
    "scrolled": true
   },
   "outputs": [
    {
     "data": {
      "text/plain": [
       "array(['neutral', 'neutral', 'neutral', 'negative', 'neutral', 'neutral',\n",
       "       'neutral', 'positive', 'neutral', 'neutral'], dtype=object)"
      ]
     },
     "execution_count": 128,
     "metadata": {},
     "output_type": "execute_result"
    }
   ],
   "source": [
    "predictions[:10]"
   ]
  },
  {
   "cell_type": "code",
   "execution_count": 129,
   "id": "e069f636",
   "metadata": {},
   "outputs": [
    {
     "name": "stdout",
     "output_type": "stream",
     "text": [
      "0.6140350877192983\n"
     ]
    }
   ],
   "source": [
    "from sklearn.metrics import accuracy_score\n",
    "\n",
    "print(accuracy_score(y_test, predictions))"
   ]
  }
 ],
 "metadata": {
  "kernelspec": {
   "display_name": "Python 3 (ipykernel)",
   "language": "python",
   "name": "python3"
  },
  "language_info": {
   "codemirror_mode": {
    "name": "ipython",
    "version": 3
   },
   "file_extension": ".py",
   "mimetype": "text/x-python",
   "name": "python",
   "nbconvert_exporter": "python",
   "pygments_lexer": "ipython3",
   "version": "3.9.7"
  }
 },
 "nbformat": 4,
 "nbformat_minor": 5
}
