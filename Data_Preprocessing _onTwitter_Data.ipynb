{
 "cells": [
  {
   "cell_type": "markdown",
   "id": "57b3372e",
   "metadata": {},
   "source": [
    "## Data exploration and pre-processing\n",
    "Basically, for any data analysis or machine learning project the following has to be conducted\n",
    "- Data gtahering \n",
    "- Data assessing \n",
    "- Data ceaning "
   ]
  },
  {
   "cell_type": "markdown",
   "id": "c0b05ca8",
   "metadata": {},
   "source": [
    "## Data gathering has been allready done"
   ]
  },
  {
   "cell_type": "markdown",
   "id": "af3b01b3",
   "metadata": {},
   "source": [
    "## Data assessing \n",
    "- Assessing is the second and it is assessed to inspect data for two things:\n",
    " - **Data quality issues**: Data that has quality issues have issues with content like missing, duplicate, or incorrect data. \n",
    " - **Lack of tidiness**: Data that has specific structural issues\n",
    "\n",
    "You can search for these issues in two ways:\n",
    "- Visually by scrolling\n",
    "- Programmatically using code"
   ]
  },
  {
   "cell_type": "markdown",
   "id": "7afee765",
   "metadata": {},
   "source": [
    "for this project I used programmatic Assessment using the following methods \n",
    "- .head (DataFrame and Series)\n",
    "- .tail (DataFrame and Series)\n",
    "- .sample (DataFrame and Series)\n",
    "- .info (DataFrame only)\n",
    "- .describe (DataFrame and Series)\n",
    "- and other\n",
    "\n",
    "### some methods associated with quality issue\n",
    "- .value_counts \n",
    "- .duplicates \n",
    "- .sort_values \n",
    "- sum of .isnull "
   ]
  },
  {
   "cell_type": "code",
   "execution_count": 1,
   "id": "bb36f9d5",
   "metadata": {},
   "outputs": [],
   "source": [
    "# loding liberaries\n",
    "import matplotlib.pyplot as plt\n",
    "import pandas as pd\n",
    "%matplotlib inline"
   ]
  }
 ],
 "metadata": {
  "kernelspec": {
   "display_name": "Python 3 (ipykernel)",
   "language": "python",
   "name": "python3"
  },
  "language_info": {
   "codemirror_mode": {
    "name": "ipython",
    "version": 3
   },
   "file_extension": ".py",
   "mimetype": "text/x-python",
   "name": "python",
   "nbconvert_exporter": "python",
   "pygments_lexer": "ipython3",
   "version": "3.9.7"
  }
 },
 "nbformat": 4,
 "nbformat_minor": 5
}
